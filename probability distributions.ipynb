{
 "cells": [
  {
   "cell_type": "code",
   "execution_count": 1,
   "id": "f54104b2",
   "metadata": {},
   "outputs": [
    {
     "name": "stdout",
     "output_type": "stream",
     "text": [
      "1.9054722647301798\n"
     ]
    }
   ],
   "source": [
    "\n"
   ]
  },
  {
   "cell_type": "code",
   "execution_count": 12,
   "id": "b18bbb48",
   "metadata": {},
   "outputs": [
    {
     "name": "stdout",
     "output_type": "stream",
     "text": [
      "0.24197072451914337\n"
     ]
    }
   ],
   "source": [
    "import numpy as np\n",
    "\n",
    "def normal_dist(x, mean, sd):\n",
    "    prob_density = 1/np.sqrt(2*np.pi)*sd * np.exp(-0.5*((x-mean)/sd)**2)\n",
    "    return prob_density\n",
    "\n",
    "mean = 0\n",
    "sd = 1\n",
    "x = 1\n",
    "result = normal_dist(x, mean, sd)\n",
    "print(result)\n"
   ]
  },
  {
   "cell_type": "code",
   "execution_count": null,
   "id": "3f8786d2",
   "metadata": {},
   "outputs": [],
   "source": []
  },
  {
   "cell_type": "code",
   "execution_count": null,
   "id": "becb4969",
   "metadata": {},
   "outputs": [],
   "source": []
  },
  {
   "cell_type": "code",
   "execution_count": null,
   "id": "9733b849",
   "metadata": {},
   "outputs": [],
   "source": []
  },
  {
   "cell_type": "code",
   "execution_count": 13,
   "id": "222341b7",
   "metadata": {},
   "outputs": [
    {
     "data": {
      "image/png": "[encoded data removed]",
      "text/plain": [
       "<Figure size 432x288 with 1 Axes>"
      ]
     },
     "metadata": {
      "needs_background": "light"
     },
     "output_type": "display_data"
    }
   ],
   "source": [
    "import numpy as np\n",
    "import matplotlib.pyplot as plt\n",
    "\n",
    "# Mean of the distribution\n",
    "Mean = 100\n",
    "\n",
    "# satndard deviation of the distribution\n",
    "Standard_deviation = 5\n",
    "\n",
    "# size\n",
    "size = 100000\n",
    "\n",
    "# creating a normal distribution data\n",
    "values = np.random.normal(Mean, Standard_deviation, size)\n",
    "\n",
    "# plotting histograph\n",
    "plt.hist(values, 100)\n",
    "# plotting mean line\n",
    "plt.axvline(values.mean(), color='k', linestyle='dashed', linewidth=2)\n",
    "plt.show()\n"
   ]
  },
  {
   "cell_type": "code",
   "execution_count": 14,
   "id": "2d515d92",
   "metadata": {},
   "outputs": [
    {
     "name": "stdout",
     "output_type": "stream",
     "text": [
      "Percentage of students who got less than 60 marks: 23.58 %\n"
     ]
    }
   ],
   "source": [
    "# import required libraries\n",
    "from scipy.stats import norm\n",
    "import numpy as np\n",
    "\n",
    "# Given information\n",
    "mean = 78\n",
    "std_dev = 25\n",
    "total_students = 100\n",
    "score = 60\n",
    "\n",
    "# Calculate z-score for 60\n",
    "z_score = (score - mean) / std_dev\n",
    "\n",
    "# Calculate the probability of getting a score less than 60\n",
    "prob = norm.cdf(z_score)\n",
    "\n",
    "# Calculate the percentage of students who got less than 60 marks\n",
    "percent = prob * 100\n",
    "\n",
    "# Print the result\n",
    "print(\"Percentage of students who got less than 60 marks:\", round(percent, 2), \"%\")\n"
   ]
  },
  {
   "cell_type": "code",
   "execution_count": 4,
   "id": "b12c13c9",
   "metadata": {},
   "outputs": [
    {
     "name": "stdout",
     "output_type": "stream",
     "text": [
      "RV : \n",
      " <scipy.stats._distn_infrastructure.rv_frozen object at 0x0000025FE0888910>\n"
     ]
    }
   ],
   "source": [
    "# Uniform distribution\n",
    "\n",
    "# importing library\n",
    "\n",
    "from scipy.stats import uniform\n",
    "\t\n",
    "numargs = uniform .numargs\n",
    "a, b = 0.2, 0.8\n",
    "rv = uniform (a, b)\n",
    "\t\n",
    "print (\"RV : \\n\", rv)\n"
   ]
  },
  {
   "cell_type": "code",
   "execution_count": 7,
   "id": "eb8776eb",
   "metadata": {},
   "outputs": [
    {
     "name": "stdout",
     "output_type": "stream",
     "text": [
      "Random Variates : \n",
      " [0.7392311  0.57686834 0.94581003 0.2279134  0.24391134 0.65731572\n",
      " 0.43452859 0.50179508 0.89692929 0.65022274]\n"
     ]
    }
   ],
   "source": [
    "import numpy as np\n",
    "quantile = np.arange (0.01, 1, 0.1)\n",
    "\n",
    "# Random Variates\n",
    "R = uniform .rvs(a, b, size = 10)\n",
    "print (\"Random Variates : \\n\", R)\n",
    "\n",
    "# PDF\n",
    "x = np.linspace(uniform.ppf(0.01, a, b),\n",
    "\t\t\t\tuniform.ppf(0.99, a, b), 10)\n",
    "R = uniform.pdf(x, 1, 3)\n",
    "# print (\"\\nProbability Distribution : \\n\", R)\n"
   ]
  },
  {
   "cell_type": "code",
   "execution_count": 8,
   "id": "38717f05",
   "metadata": {},
   "outputs": [
    {
     "name": "stdout",
     "output_type": "stream",
     "text": [
      "Distribution : \n",
      " [0.         0.02040816 0.04081633 0.06122449 0.08163265 0.10204082\n",
      " 0.12244898 0.14285714 0.16326531 0.18367347 0.20408163 0.2244898\n",
      " 0.24489796 0.26530612 0.28571429 0.30612245 0.32653061 0.34693878\n",
      " 0.36734694 0.3877551  0.40816327 0.42857143 0.44897959 0.46938776\n",
      " 0.48979592 0.51020408 0.53061224 0.55102041 0.57142857 0.59183673\n",
      " 0.6122449  0.63265306 0.65306122 0.67346939 0.69387755 0.71428571\n",
      " 0.73469388 0.75510204 0.7755102  0.79591837 0.81632653 0.83673469\n",
      " 0.85714286 0.87755102 0.89795918 0.91836735 0.93877551 0.95918367\n",
      " 0.97959184 1.        ]\n"
     ]
    },
    {
     "data": {
      "image/png": "[encoded data removed]",
      "text/plain": [
       "<Figure size 432x288 with 1 Axes>"
      ]
     },
     "metadata": {
      "needs_background": "light"
     },
     "output_type": "display_data"
    }
   ],
   "source": [
    "import numpy as np\n",
    "import matplotlib.pyplot as plt\n",
    "\t\n",
    "distribution = np.linspace(0, np.minimum(rv.dist.b, 3))\n",
    "print(\"Distribution : \\n\", distribution)\n",
    "\t\n",
    "plot = plt.plot(distribution, rv.pdf(distribution))\n"
   ]
  },
  {
   "cell_type": "code",
   "execution_count": 9,
   "id": "4e0ff15b",
   "metadata": {},
   "outputs": [
    {
     "data": {
      "text/plain": [
       "[<matplotlib.lines.Line2D at 0x25fe2797f10>,\n",
       " <matplotlib.lines.Line2D at 0x25fe27a5070>]"
      ]
     },
     "execution_count": 9,
     "metadata": {},
     "output_type": "execute_result"
    },
    {
     "data": {
      "image/png": "[encoded data removed]",
      "text/plain": [
       "<Figure size 432x288 with 1 Axes>"
      ]
     },
     "metadata": {
      "needs_background": "light"
     },
     "output_type": "display_data"
    }
   ],
   "source": [
    "import matplotlib.pyplot as plt\n",
    "import numpy as np\n",
    "\n",
    "x = np.linspace(0, 5, 100)\n",
    "\t\n",
    "# Varying positional arguments\n",
    "y1 = uniform.pdf(x, a, b)\n",
    "y2 = uniform.pdf(x, a, b)\n",
    "plt.plot(x, y1, \"*\", x, y2, \"r--\")\n"
   ]
  },
  {
   "cell_type": "code",
   "execution_count": null,
   "id": "9f2c43cd",
   "metadata": {},
   "outputs": [],
   "source": []
  }
 ],
 "metadata": {
  "kernelspec": {
   "display_name": "Python 3 (ipykernel)",
   "language": "python",
   "name": "python3"
  },
  "language_info": {
   "codemirror_mode": {
    "name": "ipython",
    "version": 3
   },
   "file_extension": ".py",
   "mimetype": "text/x-python",
   "name": "python",
   "nbconvert_exporter": "python",
   "pygments_lexer": "ipython3",
   "version": "3.9.12"
  }
 },
 "nbformat": 4,
 "nbformat_minor": 5
}
