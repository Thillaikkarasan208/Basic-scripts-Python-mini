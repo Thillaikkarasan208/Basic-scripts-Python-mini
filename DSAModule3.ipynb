{
 "cells": [
  {
   "cell_type": "code",
   "execution_count": null,
   "id": "f8ba8d62",
   "metadata": {},
   "outputs": [],
   "source": [
    "y = ax2 + bx + c"
   ]
  },
  {
   "cell_type": "code",
   "execution_count": null,
   "id": "06981a45",
   "metadata": {},
   "outputs": [],
   "source": [
    "Algorithm -> y = ax2 + bx + c"
   ]
  },
  {
   "cell_type": "code",
   "execution_count": null,
   "id": "edd040fb",
   "metadata": {},
   "outputs": [],
   "source": [
    "thinking is like to assign number of variables"
   ]
  },
  {
   "cell_type": "code",
   "execution_count": 4,
   "id": "49b4fd08",
   "metadata": {},
   "outputs": [],
   "source": [
    "a = 5\n",
    "b = 6\n",
    "c = 10\n",
    "x = 2"
   ]
  },
  {
   "cell_type": "code",
   "execution_count": 2,
   "id": "ea731b59",
   "metadata": {},
   "outputs": [
    {
     "name": "stdout",
     "output_type": "stream",
     "text": [
      "5 6 10\n"
     ]
    }
   ],
   "source": [
    "print(a,b,c)"
   ]
  },
  {
   "cell_type": "code",
   "execution_count": 5,
   "id": "78d1da5e",
   "metadata": {},
   "outputs": [],
   "source": [
    "y = a * x ** 2 + b * x + c"
   ]
  },
  {
   "cell_type": "code",
   "execution_count": 6,
   "id": "ab00614f",
   "metadata": {},
   "outputs": [
    {
     "data": {
      "text/plain": [
       "int"
      ]
     },
     "execution_count": 6,
     "metadata": {},
     "output_type": "execute_result"
    }
   ],
   "source": [
    "type(a)  - assign a memory"
   ]
  },
  {
   "cell_type": "code",
   "execution_count": 7,
   "id": "18eab3a1",
   "metadata": {},
   "outputs": [
    {
     "data": {
      "text/plain": [
       "int"
      ]
     },
     "execution_count": 7,
     "metadata": {},
     "output_type": "execute_result"
    }
   ],
   "source": [
    "type(b)"
   ]
  },
  {
   "cell_type": "code",
   "execution_count": 8,
   "id": "710b40e8",
   "metadata": {},
   "outputs": [
    {
     "data": {
      "text/plain": [
       "int"
      ]
     },
     "execution_count": 8,
     "metadata": {},
     "output_type": "execute_result"
    }
   ],
   "source": [
    "type(y)"
   ]
  },
  {
   "cell_type": "code",
   "execution_count": null,
   "id": "ee79f9e4",
   "metadata": {},
   "outputs": [],
   "source": [
    "assign memory variable -> 8 digits"
   ]
  },
  {
   "cell_type": "code",
   "execution_count": 9,
   "id": "42933006",
   "metadata": {},
   "outputs": [
    {
     "data": {
      "text/plain": [
       "42"
      ]
     },
     "execution_count": 9,
     "metadata": {},
     "output_type": "execute_result"
    }
   ],
   "source": [
    "y -> algorithm"
   ]
  },
  {
   "cell_type": "code",
   "execution_count": 10,
   "id": "4183199b",
   "metadata": {},
   "outputs": [],
   "source": [
    "import numpy"
   ]
  },
  {
   "cell_type": "code",
   "execution_count": null,
   "id": "9f0f73b8",
   "metadata": {},
   "outputs": [],
   "source": [
    "Efficiently how can i make it"
   ]
  },
  {
   "cell_type": "code",
   "execution_count": 12,
   "id": "c7de7f36",
   "metadata": {},
   "outputs": [],
   "source": [
    "y = a * numpy.square(x) + b * x  + c"
   ]
  },
  {
   "cell_type": "code",
   "execution_count": 13,
   "id": "16b60ebd",
   "metadata": {},
   "outputs": [
    {
     "data": {
      "text/plain": [
       "42"
      ]
     },
     "execution_count": 13,
     "metadata": {},
     "output_type": "execute_result"
    }
   ],
   "source": [
    "y"
   ]
  },
  {
   "cell_type": "code",
   "execution_count": null,
   "id": "2c7fff44",
   "metadata": {},
   "outputs": [],
   "source": [
    "numpy - numeric python  = numpy"
   ]
  },
  {
   "cell_type": "code",
   "execution_count": null,
   "id": "d56f6571",
   "metadata": {},
   "outputs": [],
   "source": []
  },
  {
   "cell_type": "code",
   "execution_count": 14,
   "id": "057ac127",
   "metadata": {},
   "outputs": [],
   "source": [
    "def algorithm(x,a,b,c):   - storing any momery  , allocation any space , very less\n",
    "    \n",
    "    y = a*x**2 + b*x + c  -> parabola\n",
    "    \n",
    "    return y"
   ]
  },
  {
   "cell_type": "code",
   "execution_count": 15,
   "id": "9270eb4d",
   "metadata": {},
   "outputs": [
    {
     "data": {
      "text/plain": [
       "42"
      ]
     },
     "execution_count": 15,
     "metadata": {},
     "output_type": "execute_result"
    }
   ],
   "source": [
    "algorithm(2,5,6,10)"
   ]
  },
  {
   "cell_type": "code",
   "execution_count": null,
   "id": "e3202f31",
   "metadata": {},
   "outputs": [],
   "source": [
    "distance = sqrt ( x2 - x1) ^ 2 + ( y2 - y1) ^ 2 -> algorithm2"
   ]
  },
  {
   "cell_type": "code",
   "execution_count": null,
   "id": "7c6538f1",
   "metadata": {},
   "outputs": [],
   "source": []
  },
  {
   "cell_type": "code",
   "execution_count": null,
   "id": "8f159db7",
   "metadata": {},
   "outputs": [],
   "source": [
    "Eclidian distance  -> eclid's algorithm"
   ]
  },
  {
   "cell_type": "code",
   "execution_count": 17,
   "id": "926c9286",
   "metadata": {},
   "outputs": [],
   "source": [
    "# import math as m\n",
    "# distance = m.sqrt((x2 - x1)**2 + (y2 - y1)**2)"
   ]
  },
  {
   "cell_type": "code",
   "execution_count": null,
   "id": "bd24503c",
   "metadata": {},
   "outputs": [],
   "source": []
  },
  {
   "cell_type": "code",
   "execution_count": null,
   "id": "a5766a90",
   "metadata": {},
   "outputs": [],
   "source": [
    "output  - result\n",
    "input   - x1,x2,y1,y2"
   ]
  },
  {
   "cell_type": "code",
   "execution_count": 18,
   "id": "c7f0c0fc",
   "metadata": {},
   "outputs": [],
   "source": [
    "x1 = 5\n",
    "x2 = 10\n",
    "y1 = 6\n",
    "y2 = 12"
   ]
  },
  {
   "cell_type": "code",
   "execution_count": 23,
   "id": "88eef620",
   "metadata": {},
   "outputs": [],
   "source": [
    "result = ((x2-x1) ** 2 + (y2-y1) ** 2) ** 0.5"
   ]
  },
  {
   "cell_type": "code",
   "execution_count": 24,
   "id": "16c639cb",
   "metadata": {},
   "outputs": [
    {
     "name": "stdout",
     "output_type": "stream",
     "text": [
      "7.810249675906654\n"
     ]
    }
   ],
   "source": [
    "print(result)"
   ]
  },
  {
   "cell_type": "code",
   "execution_count": 25,
   "id": "a6c02f8d",
   "metadata": {},
   "outputs": [],
   "source": [
    "result = numpy.sqrt( numpy.square(x2-x1) + numpy.square(y2-y1) )"
   ]
  },
  {
   "cell_type": "code",
   "execution_count": 26,
   "id": "b03796f1",
   "metadata": {},
   "outputs": [
    {
     "name": "stdout",
     "output_type": "stream",
     "text": [
      "7.810249675906654\n"
     ]
    }
   ],
   "source": [
    "print(result)"
   ]
  },
  {
   "cell_type": "code",
   "execution_count": 27,
   "id": "155e0463",
   "metadata": {},
   "outputs": [],
   "source": [
    "def eclids(x1,x2,y1,y2):\n",
    "    result = ((x2-x1) ** 2 + (y2-y1) ** 2) ** 0.5\n",
    "    return result"
   ]
  },
  {
   "cell_type": "code",
   "execution_count": 28,
   "id": "cb25a7ac",
   "metadata": {},
   "outputs": [
    {
     "data": {
      "text/plain": [
       "7.810249675906654"
      ]
     },
     "execution_count": 28,
     "metadata": {},
     "output_type": "execute_result"
    }
   ],
   "source": [
    "eclids(x1,x2,y1,y2)"
   ]
  },
  {
   "cell_type": "code",
   "execution_count": null,
   "id": "d4f50063",
   "metadata": {},
   "outputs": [],
   "source": [
    "data structures  or data management or data ops\n",
    "\n",
    "pandas libraries\n",
    "\n"
   ]
  },
  {
   "cell_type": "code",
   "execution_count": 29,
   "id": "730fcea4",
   "metadata": {},
   "outputs": [],
   "source": [
    "import pandas     -  read & write files and data ops"
   ]
  },
  {
   "cell_type": "code",
   "execution_count": null,
   "id": "2cf75117",
   "metadata": {},
   "outputs": [],
   "source": [
    "pandas.TAB Button"
   ]
  },
  {
   "cell_type": "code",
   "execution_count": 30,
   "id": "adcf18a9",
   "metadata": {},
   "outputs": [],
   "source": [
    "data = pandas.read_csv(r'C:\\Users\\Admin\\Desktop\\project\\BA\\week 1\\store2.csv')"
   ]
  },
  {
   "cell_type": "code",
   "execution_count": 31,
   "id": "489ee88e",
   "metadata": {
    "collapsed": true
   },
   "outputs": [
    {
     "data": {
      "text/html": [
       "<div>\n",
       "<style scoped>\n",
       "    .dataframe tbody tr th:only-of-type {\n",
       "        vertical-align: middle;\n",
       "    }\n",
       "\n",
       "    .dataframe tbody tr th {\n",
       "        vertical-align: top;\n",
       "    }\n",
       "\n",
       "    .dataframe thead th {\n",
       "        text-align: right;\n",
       "    }\n",
       "</style>\n",
       "<table border=\"1\" class=\"dataframe\">\n",
       "  <thead>\n",
       "    <tr style=\"text-align: right;\">\n",
       "      <th></th>\n",
       "      <th>Row ID</th>\n",
       "      <th>Order ID</th>\n",
       "      <th>Order Date</th>\n",
       "      <th>Ship Date</th>\n",
       "      <th>Ship Mode</th>\n",
       "      <th>Customer ID</th>\n",
       "      <th>Customer Name</th>\n",
       "      <th>Segment</th>\n",
       "      <th>Country</th>\n",
       "      <th>City</th>\n",
       "      <th>...</th>\n",
       "      <th>Region</th>\n",
       "      <th>Product ID</th>\n",
       "      <th>Category</th>\n",
       "      <th>Sub-Category</th>\n",
       "      <th>Product Name</th>\n",
       "      <th>Sales</th>\n",
       "      <th>Quantity</th>\n",
       "      <th>Discount</th>\n",
       "      <th>Profit</th>\n",
       "      <th>rk</th>\n",
       "    </tr>\n",
       "  </thead>\n",
       "  <tbody>\n",
       "    <tr>\n",
       "      <th>0</th>\n",
       "      <td>9261</td>\n",
       "      <td>CA-2017-167976</td>\n",
       "      <td>11/11/2017</td>\n",
       "      <td>43053</td>\n",
       "      <td>Second Class</td>\n",
       "      <td>JL-15505</td>\n",
       "      <td>Jeremy Lonsdale</td>\n",
       "      <td>Consumer</td>\n",
       "      <td>United States</td>\n",
       "      <td>Aberdeen</td>\n",
       "      <td>...</td>\n",
       "      <td>Central</td>\n",
       "      <td>OFF-SU-10004661</td>\n",
       "      <td>Office Supplies</td>\n",
       "      <td>Supplies</td>\n",
       "      <td>Acme Titanium Bonded Scissors</td>\n",
       "      <td>25.500</td>\n",
       "      <td>3</td>\n",
       "      <td>0.0</td>\n",
       "      <td>6.6300</td>\n",
       "      <td>1</td>\n",
       "    </tr>\n",
       "    <tr>\n",
       "      <th>1</th>\n",
       "      <td>6990</td>\n",
       "      <td>CA-2017-165099</td>\n",
       "      <td>12/11/2017</td>\n",
       "      <td>43082</td>\n",
       "      <td>First Class</td>\n",
       "      <td>DK-13375</td>\n",
       "      <td>Dennis Kane</td>\n",
       "      <td>Consumer</td>\n",
       "      <td>United States</td>\n",
       "      <td>Abilene</td>\n",
       "      <td>...</td>\n",
       "      <td>Central</td>\n",
       "      <td>OFF-AP-10001634</td>\n",
       "      <td>Office Supplies</td>\n",
       "      <td>Appliances</td>\n",
       "      <td>Hoover Commercial Lightweight Upright Vacuum</td>\n",
       "      <td>1.392</td>\n",
       "      <td>2</td>\n",
       "      <td>0.8</td>\n",
       "      <td>-3.7584</td>\n",
       "      <td>1</td>\n",
       "    </tr>\n",
       "    <tr>\n",
       "      <th>2</th>\n",
       "      <td>4324</td>\n",
       "      <td>US-2015-147662</td>\n",
       "      <td>2/14/2015</td>\n",
       "      <td>42054</td>\n",
       "      <td>Standard Class</td>\n",
       "      <td>KB-16315</td>\n",
       "      <td>Karl Braun</td>\n",
       "      <td>Consumer</td>\n",
       "      <td>United States</td>\n",
       "      <td>Akron</td>\n",
       "      <td>...</td>\n",
       "      <td>East</td>\n",
       "      <td>OFF-BI-10002160</td>\n",
       "      <td>Office Supplies</td>\n",
       "      <td>Binders</td>\n",
       "      <td>Acco Hanging Data Binders</td>\n",
       "      <td>2.286</td>\n",
       "      <td>2</td>\n",
       "      <td>0.7</td>\n",
       "      <td>-1.6764</td>\n",
       "      <td>1</td>\n",
       "    </tr>\n",
       "    <tr>\n",
       "      <th>3</th>\n",
       "      <td>3563</td>\n",
       "      <td>CA-2017-109757</td>\n",
       "      <td>9/4/2017</td>\n",
       "      <td>42987</td>\n",
       "      <td>Second Class</td>\n",
       "      <td>MD-17350</td>\n",
       "      <td>Maribeth Dona</td>\n",
       "      <td>Consumer</td>\n",
       "      <td>United States</td>\n",
       "      <td>Akron</td>\n",
       "      <td>...</td>\n",
       "      <td>East</td>\n",
       "      <td>OFF-BI-10001634</td>\n",
       "      <td>Office Supplies</td>\n",
       "      <td>Binders</td>\n",
       "      <td>Wilson Jones Active Use Binders</td>\n",
       "      <td>4.368</td>\n",
       "      <td>2</td>\n",
       "      <td>0.7</td>\n",
       "      <td>-3.0576</td>\n",
       "      <td>2</td>\n",
       "    </tr>\n",
       "    <tr>\n",
       "      <th>4</th>\n",
       "      <td>9922</td>\n",
       "      <td>CA-2014-111360</td>\n",
       "      <td>11/24/2014</td>\n",
       "      <td>41973</td>\n",
       "      <td>Standard Class</td>\n",
       "      <td>AT-10435</td>\n",
       "      <td>Alyssa Tate</td>\n",
       "      <td>Home Office</td>\n",
       "      <td>United States</td>\n",
       "      <td>Akron</td>\n",
       "      <td>...</td>\n",
       "      <td>East</td>\n",
       "      <td>OFF-BI-10003350</td>\n",
       "      <td>Office Supplies</td>\n",
       "      <td>Binders</td>\n",
       "      <td>Acco Expandable Hanging Binders</td>\n",
       "      <td>5.742</td>\n",
       "      <td>3</td>\n",
       "      <td>0.7</td>\n",
       "      <td>-4.5936</td>\n",
       "      <td>3</td>\n",
       "    </tr>\n",
       "    <tr>\n",
       "      <th>...</th>\n",
       "      <td>...</td>\n",
       "      <td>...</td>\n",
       "      <td>...</td>\n",
       "      <td>...</td>\n",
       "      <td>...</td>\n",
       "      <td>...</td>\n",
       "      <td>...</td>\n",
       "      <td>...</td>\n",
       "      <td>...</td>\n",
       "      <td>...</td>\n",
       "      <td>...</td>\n",
       "      <td>...</td>\n",
       "      <td>...</td>\n",
       "      <td>...</td>\n",
       "      <td>...</td>\n",
       "      <td>...</td>\n",
       "      <td>...</td>\n",
       "      <td>...</td>\n",
       "      <td>...</td>\n",
       "      <td>...</td>\n",
       "      <td>...</td>\n",
       "    </tr>\n",
       "    <tr>\n",
       "      <th>9689</th>\n",
       "      <td>3348</td>\n",
       "      <td>CA-2015-112014</td>\n",
       "      <td>8/13/2015</td>\n",
       "      <td>42236</td>\n",
       "      <td>Standard Class</td>\n",
       "      <td>ON-18715</td>\n",
       "      <td>Odella Nelson</td>\n",
       "      <td>Corporate</td>\n",
       "      <td>United States</td>\n",
       "      <td>Yucaipa</td>\n",
       "      <td>...</td>\n",
       "      <td>West</td>\n",
       "      <td>OFF-AR-10003156</td>\n",
       "      <td>Office Supplies</td>\n",
       "      <td>Art</td>\n",
       "      <td>50 Colored Long Pencils</td>\n",
       "      <td>50.800</td>\n",
       "      <td>5</td>\n",
       "      <td>0.0</td>\n",
       "      <td>13.2080</td>\n",
       "      <td>1</td>\n",
       "    </tr>\n",
       "    <tr>\n",
       "      <th>9690</th>\n",
       "      <td>8088</td>\n",
       "      <td>CA-2016-106621</td>\n",
       "      <td>9/29/2016</td>\n",
       "      <td>42644</td>\n",
       "      <td>Second Class</td>\n",
       "      <td>DM-12955</td>\n",
       "      <td>Dario Medina</td>\n",
       "      <td>Corporate</td>\n",
       "      <td>United States</td>\n",
       "      <td>Yuma</td>\n",
       "      <td>...</td>\n",
       "      <td>West</td>\n",
       "      <td>OFF-AR-10002375</td>\n",
       "      <td>Office Supplies</td>\n",
       "      <td>Art</td>\n",
       "      <td>Newell 351</td>\n",
       "      <td>10.496</td>\n",
       "      <td>4</td>\n",
       "      <td>0.2</td>\n",
       "      <td>1.1808</td>\n",
       "      <td>1</td>\n",
       "    </tr>\n",
       "    <tr>\n",
       "      <th>9691</th>\n",
       "      <td>4823</td>\n",
       "      <td>CA-2016-134222</td>\n",
       "      <td>7/10/2016</td>\n",
       "      <td>42562</td>\n",
       "      <td>Same Day</td>\n",
       "      <td>NZ-18565</td>\n",
       "      <td>Nick Zandusky</td>\n",
       "      <td>Home Office</td>\n",
       "      <td>United States</td>\n",
       "      <td>Yuma</td>\n",
       "      <td>...</td>\n",
       "      <td>West</td>\n",
       "      <td>OFF-BI-10001658</td>\n",
       "      <td>Office Supplies</td>\n",
       "      <td>Binders</td>\n",
       "      <td>GBC Standard Therm-A-Bind Covers</td>\n",
       "      <td>44.856</td>\n",
       "      <td>6</td>\n",
       "      <td>0.7</td>\n",
       "      <td>-35.8848</td>\n",
       "      <td>2</td>\n",
       "    </tr>\n",
       "    <tr>\n",
       "      <th>9692</th>\n",
       "      <td>7280</td>\n",
       "      <td>CA-2016-108224</td>\n",
       "      <td>5/14/2016</td>\n",
       "      <td>42504</td>\n",
       "      <td>Same Day</td>\n",
       "      <td>TH-21235</td>\n",
       "      <td>Tiffany House</td>\n",
       "      <td>Corporate</td>\n",
       "      <td>United States</td>\n",
       "      <td>Yuma</td>\n",
       "      <td>...</td>\n",
       "      <td>West</td>\n",
       "      <td>TEC-AC-10003832</td>\n",
       "      <td>Technology</td>\n",
       "      <td>Accessories</td>\n",
       "      <td>Imation 16GB Mini TravelDrive USB 2.0 Flash Drive</td>\n",
       "      <td>185.528</td>\n",
       "      <td>7</td>\n",
       "      <td>0.2</td>\n",
       "      <td>48.7011</td>\n",
       "      <td>3</td>\n",
       "    </tr>\n",
       "    <tr>\n",
       "      <th>9693</th>\n",
       "      <td>7282</td>\n",
       "      <td>CA-2017-159282</td>\n",
       "      <td>10/16/2017</td>\n",
       "      <td>43029</td>\n",
       "      <td>Standard Class</td>\n",
       "      <td>GH-14410</td>\n",
       "      <td>Gary Hansen</td>\n",
       "      <td>Home Office</td>\n",
       "      <td>United States</td>\n",
       "      <td>Yuma</td>\n",
       "      <td>...</td>\n",
       "      <td>West</td>\n",
       "      <td>TEC-MA-10001148</td>\n",
       "      <td>Technology</td>\n",
       "      <td>Machines</td>\n",
       "      <td>Swingline SM12-08 MicroCut Jam Free Shredder</td>\n",
       "      <td>599.985</td>\n",
       "      <td>5</td>\n",
       "      <td>0.7</td>\n",
       "      <td>-479.9880</td>\n",
       "      <td>4</td>\n",
       "    </tr>\n",
       "  </tbody>\n",
       "</table>\n",
       "<p>9694 rows × 22 columns</p>\n",
       "</div>"
      ],
      "text/plain": [
       "      Row ID        Order ID  Order Date  Ship Date       Ship Mode  \\\n",
       "0       9261  CA-2017-167976  11/11/2017      43053    Second Class   \n",
       "1       6990  CA-2017-165099  12/11/2017      43082     First Class   \n",
       "2       4324  US-2015-147662   2/14/2015      42054  Standard Class   \n",
       "3       3563  CA-2017-109757    9/4/2017      42987    Second Class   \n",
       "4       9922  CA-2014-111360  11/24/2014      41973  Standard Class   \n",
       "...      ...             ...         ...        ...             ...   \n",
       "9689    3348  CA-2015-112014   8/13/2015      42236  Standard Class   \n",
       "9690    8088  CA-2016-106621   9/29/2016      42644    Second Class   \n",
       "9691    4823  CA-2016-134222   7/10/2016      42562        Same Day   \n",
       "9692    7280  CA-2016-108224   5/14/2016      42504        Same Day   \n",
       "9693    7282  CA-2017-159282  10/16/2017      43029  Standard Class   \n",
       "\n",
       "     Customer ID    Customer Name      Segment        Country      City  ...  \\\n",
       "0       JL-15505  Jeremy Lonsdale     Consumer  United States  Aberdeen  ...   \n",
       "1       DK-13375      Dennis Kane     Consumer  United States   Abilene  ...   \n",
       "2       KB-16315       Karl Braun     Consumer  United States     Akron  ...   \n",
       "3       MD-17350    Maribeth Dona     Consumer  United States     Akron  ...   \n",
       "4       AT-10435      Alyssa Tate  Home Office  United States     Akron  ...   \n",
       "...          ...              ...          ...            ...       ...  ...   \n",
       "9689    ON-18715    Odella Nelson    Corporate  United States   Yucaipa  ...   \n",
       "9690    DM-12955     Dario Medina    Corporate  United States      Yuma  ...   \n",
       "9691    NZ-18565    Nick Zandusky  Home Office  United States      Yuma  ...   \n",
       "9692    TH-21235    Tiffany House    Corporate  United States      Yuma  ...   \n",
       "9693    GH-14410      Gary Hansen  Home Office  United States      Yuma  ...   \n",
       "\n",
       "       Region       Product ID         Category Sub-Category  \\\n",
       "0     Central  OFF-SU-10004661  Office Supplies     Supplies   \n",
       "1     Central  OFF-AP-10001634  Office Supplies   Appliances   \n",
       "2        East  OFF-BI-10002160  Office Supplies      Binders   \n",
       "3        East  OFF-BI-10001634  Office Supplies      Binders   \n",
       "4        East  OFF-BI-10003350  Office Supplies      Binders   \n",
       "...       ...              ...              ...          ...   \n",
       "9689     West  OFF-AR-10003156  Office Supplies          Art   \n",
       "9690     West  OFF-AR-10002375  Office Supplies          Art   \n",
       "9691     West  OFF-BI-10001658  Office Supplies      Binders   \n",
       "9692     West  TEC-AC-10003832       Technology  Accessories   \n",
       "9693     West  TEC-MA-10001148       Technology     Machines   \n",
       "\n",
       "                                           Product Name    Sales Quantity  \\\n",
       "0                         Acme Titanium Bonded Scissors   25.500        3   \n",
       "1          Hoover Commercial Lightweight Upright Vacuum    1.392        2   \n",
       "2                             Acco Hanging Data Binders    2.286        2   \n",
       "3                       Wilson Jones Active Use Binders    4.368        2   \n",
       "4                       Acco Expandable Hanging Binders    5.742        3   \n",
       "...                                                 ...      ...      ...   \n",
       "9689                            50 Colored Long Pencils   50.800        5   \n",
       "9690                                         Newell 351   10.496        4   \n",
       "9691                   GBC Standard Therm-A-Bind Covers   44.856        6   \n",
       "9692  Imation 16GB Mini TravelDrive USB 2.0 Flash Drive  185.528        7   \n",
       "9693       Swingline SM12-08 MicroCut Jam Free Shredder  599.985        5   \n",
       "\n",
       "      Discount    Profit  rk  \n",
       "0          0.0    6.6300   1  \n",
       "1          0.8   -3.7584   1  \n",
       "2          0.7   -1.6764   1  \n",
       "3          0.7   -3.0576   2  \n",
       "4          0.7   -4.5936   3  \n",
       "...        ...       ...  ..  \n",
       "9689       0.0   13.2080   1  \n",
       "9690       0.2    1.1808   1  \n",
       "9691       0.7  -35.8848   2  \n",
       "9692       0.2   48.7011   3  \n",
       "9693       0.7 -479.9880   4  \n",
       "\n",
       "[9694 rows x 22 columns]"
      ]
     },
     "execution_count": 31,
     "metadata": {},
     "output_type": "execute_result"
    }
   ],
   "source": [
    "path - python\n",
    "\n",
    "1.C:\\\\Users\\\\Admin\\\\Desktop\\\\project\\\\BAweek\n",
    "2.C:/Users/Admin/Desktop/project/BA/week\n",
    "3.r'C:\\Users\\Admin\\Desktop\\project\\BA\\week 1\\'\n"
   ]
  },
  {
   "cell_type": "code",
   "execution_count": 32,
   "id": "588776e1",
   "metadata": {},
   "outputs": [
    {
     "data": {
      "text/plain": [
       "Index(['Row ID', 'Order ID', 'Order Date', 'Ship Date', 'Ship Mode',\n",
       "       'Customer ID', 'Customer Name', 'Segment', 'Country', 'City', 'State',\n",
       "       'Postal Code', 'Region', 'Product ID', 'Category', 'Sub-Category',\n",
       "       'Product Name', 'Sales', 'Quantity', 'Discount', 'Profit', 'rk'],\n",
       "      dtype='object')"
      ]
     },
     "execution_count": 32,
     "metadata": {},
     "output_type": "execute_result"
    }
   ],
   "source": [
    "data.columns"
   ]
  },
  {
   "cell_type": "code",
   "execution_count": 33,
   "id": "e6a72bf4",
   "metadata": {},
   "outputs": [],
   "source": [
    "import os\n",
    "os.chdir(r'C:\\Users\\Admin\\Desktop\\project\\BA\\week 1')"
   ]
  },
  {
   "cell_type": "code",
   "execution_count": 34,
   "id": "c5de8455",
   "metadata": {},
   "outputs": [],
   "source": [
    "data = pandas.read_csv('store2.csv')"
   ]
  },
  {
   "cell_type": "code",
   "execution_count": 36,
   "id": "311b801f",
   "metadata": {},
   "outputs": [
    {
     "data": {
      "text/plain": [
       "Index(['Row ID', 'Order ID', 'Order Date', 'Ship Date', 'Ship Mode',\n",
       "       'Customer ID', 'Customer Name', 'Segment', 'Country', 'City', 'State',\n",
       "       'Postal Code', 'Region', 'Product ID', 'Category', 'Sub-Category',\n",
       "       'Product Name', 'Sales', 'Quantity', 'Discount', 'Profit', 'rk'],\n",
       "      dtype='object')"
      ]
     },
     "execution_count": 36,
     "metadata": {},
     "output_type": "execute_result"
    }
   ],
   "source": [
    "data.columns"
   ]
  },
  {
   "cell_type": "code",
   "execution_count": 37,
   "id": "9a62416e",
   "metadata": {},
   "outputs": [
    {
     "data": {
      "text/plain": [
       "Row ID             int64\n",
       "Order ID          object\n",
       "Order Date        object\n",
       "Ship Date          int64\n",
       "Ship Mode         object\n",
       "Customer ID       object\n",
       "Customer Name     object\n",
       "Segment           object\n",
       "Country           object\n",
       "City              object\n",
       "State             object\n",
       "Postal Code        int64\n",
       "Region            object\n",
       "Product ID        object\n",
       "Category          object\n",
       "Sub-Category      object\n",
       "Product Name      object\n",
       "Sales            float64\n",
       "Quantity           int64\n",
       "Discount         float64\n",
       "Profit           float64\n",
       "rk                 int64\n",
       "dtype: object"
      ]
     },
     "execution_count": 37,
     "metadata": {},
     "output_type": "execute_result"
    }
   ],
   "source": [
    "data.dtypes - data struture and its types"
   ]
  },
  {
   "cell_type": "code",
   "execution_count": 39,
   "id": "d22001d7",
   "metadata": {},
   "outputs": [
    {
     "data": {
      "text/html": [
       "<div>\n",
       "<style scoped>\n",
       "    .dataframe tbody tr th:only-of-type {\n",
       "        vertical-align: middle;\n",
       "    }\n",
       "\n",
       "    .dataframe tbody tr th {\n",
       "        vertical-align: top;\n",
       "    }\n",
       "\n",
       "    .dataframe thead th {\n",
       "        text-align: right;\n",
       "    }\n",
       "</style>\n",
       "<table border=\"1\" class=\"dataframe\">\n",
       "  <thead>\n",
       "    <tr style=\"text-align: right;\">\n",
       "      <th></th>\n",
       "      <th>Row ID</th>\n",
       "      <th>Ship Date</th>\n",
       "      <th>Postal Code</th>\n",
       "      <th>Sales</th>\n",
       "      <th>Quantity</th>\n",
       "      <th>Discount</th>\n",
       "      <th>Profit</th>\n",
       "      <th>rk</th>\n",
       "    </tr>\n",
       "  </thead>\n",
       "  <tbody>\n",
       "    <tr>\n",
       "      <th>count</th>\n",
       "      <td>9694.000000</td>\n",
       "      <td>9694.000000</td>\n",
       "      <td>9694.000000</td>\n",
       "      <td>9694.000000</td>\n",
       "      <td>9694.000000</td>\n",
       "      <td>9694.000000</td>\n",
       "      <td>9694.000000</td>\n",
       "      <td>9694.000000</td>\n",
       "    </tr>\n",
       "    <tr>\n",
       "      <th>mean</th>\n",
       "      <td>4993.926140</td>\n",
       "      <td>42492.419228</td>\n",
       "      <td>55190.491025</td>\n",
       "      <td>234.418182</td>\n",
       "      <td>3.790902</td>\n",
       "      <td>0.155167</td>\n",
       "      <td>29.178642</td>\n",
       "      <td>130.193934</td>\n",
       "    </tr>\n",
       "    <tr>\n",
       "      <th>std</th>\n",
       "      <td>2885.273358</td>\n",
       "      <td>420.414436</td>\n",
       "      <td>32050.129070</td>\n",
       "      <td>631.789011</td>\n",
       "      <td>2.227335</td>\n",
       "      <td>0.204867</td>\n",
       "      <td>237.716782</td>\n",
       "      <td>189.372384</td>\n",
       "    </tr>\n",
       "    <tr>\n",
       "      <th>min</th>\n",
       "      <td>1.000000</td>\n",
       "      <td>41646.000000</td>\n",
       "      <td>1040.000000</td>\n",
       "      <td>0.444000</td>\n",
       "      <td>1.000000</td>\n",
       "      <td>0.000000</td>\n",
       "      <td>-6599.978000</td>\n",
       "      <td>1.000000</td>\n",
       "    </tr>\n",
       "    <tr>\n",
       "      <th>25%</th>\n",
       "      <td>2496.250000</td>\n",
       "      <td>42146.250000</td>\n",
       "      <td>23223.000000</td>\n",
       "      <td>17.480000</td>\n",
       "      <td>2.000000</td>\n",
       "      <td>0.000000</td>\n",
       "      <td>1.735200</td>\n",
       "      <td>7.000000</td>\n",
       "    </tr>\n",
       "    <tr>\n",
       "      <th>50%</th>\n",
       "      <td>4992.500000</td>\n",
       "      <td>42547.000000</td>\n",
       "      <td>56301.000000</td>\n",
       "      <td>55.928000</td>\n",
       "      <td>3.000000</td>\n",
       "      <td>0.200000</td>\n",
       "      <td>8.730750</td>\n",
       "      <td>32.000000</td>\n",
       "    </tr>\n",
       "    <tr>\n",
       "      <th>75%</th>\n",
       "      <td>7489.750000</td>\n",
       "      <td>42872.000000</td>\n",
       "      <td>90008.000000</td>\n",
       "      <td>214.850000</td>\n",
       "      <td>5.000000</td>\n",
       "      <td>0.200000</td>\n",
       "      <td>30.009300</td>\n",
       "      <td>187.000000</td>\n",
       "    </tr>\n",
       "    <tr>\n",
       "      <th>max</th>\n",
       "      <td>9994.000000</td>\n",
       "      <td>43105.000000</td>\n",
       "      <td>99301.000000</td>\n",
       "      <td>22638.480000</td>\n",
       "      <td>14.000000</td>\n",
       "      <td>0.800000</td>\n",
       "      <td>8399.976000</td>\n",
       "      <td>893.000000</td>\n",
       "    </tr>\n",
       "  </tbody>\n",
       "</table>\n",
       "</div>"
      ],
      "text/plain": [
       "            Row ID     Ship Date   Postal Code         Sales     Quantity  \\\n",
       "count  9694.000000   9694.000000   9694.000000   9694.000000  9694.000000   \n",
       "mean   4993.926140  42492.419228  55190.491025    234.418182     3.790902   \n",
       "std    2885.273358    420.414436  32050.129070    631.789011     2.227335   \n",
       "min       1.000000  41646.000000   1040.000000      0.444000     1.000000   \n",
       "25%    2496.250000  42146.250000  23223.000000     17.480000     2.000000   \n",
       "50%    4992.500000  42547.000000  56301.000000     55.928000     3.000000   \n",
       "75%    7489.750000  42872.000000  90008.000000    214.850000     5.000000   \n",
       "max    9994.000000  43105.000000  99301.000000  22638.480000    14.000000   \n",
       "\n",
       "          Discount       Profit           rk  \n",
       "count  9694.000000  9694.000000  9694.000000  \n",
       "mean      0.155167    29.178642   130.193934  \n",
       "std       0.204867   237.716782   189.372384  \n",
       "min       0.000000 -6599.978000     1.000000  \n",
       "25%       0.000000     1.735200     7.000000  \n",
       "50%       0.200000     8.730750    32.000000  \n",
       "75%       0.200000    30.009300   187.000000  \n",
       "max       0.800000  8399.976000   893.000000  "
      ]
     },
     "execution_count": 39,
     "metadata": {},
     "output_type": "execute_result"
    }
   ],
   "source": [
    "data.describe()"
   ]
  },
  {
   "cell_type": "code",
   "execution_count": 41,
   "id": "dc363b57",
   "metadata": {},
   "outputs": [
    {
     "data": {
      "text/plain": [
       "Index(['Row ID', 'Order ID', 'Order Date', 'Ship Date', 'Ship Mode',\n",
       "       'Customer ID', 'Customer Name', 'Segment', 'Country', 'City', 'State',\n",
       "       'Postal Code', 'Region', 'Product ID', 'Category', 'Sub-Category',\n",
       "       'Product Name', 'Sales', 'Quantity', 'Discount', 'Profit', 'rk'],\n",
       "      dtype='object')"
      ]
     },
     "execution_count": 41,
     "metadata": {},
     "output_type": "execute_result"
    }
   ],
   "source": [
    "data.columns"
   ]
  },
  {
   "cell_type": "code",
   "execution_count": null,
   "id": "ba9c5f4a",
   "metadata": {},
   "outputs": [],
   "source": [
    "data['column name']"
   ]
  },
  {
   "cell_type": "code",
   "execution_count": 44,
   "id": "b56d2fa7",
   "metadata": {},
   "outputs": [
    {
     "data": {
      "text/plain": [
       "'0       Aberdeen\\n1        Abilene\\n2          Akron\\n3          Akron\\n4          Akron\\n          ...   \\n9689     Yucaipa\\n9690        Yuma\\n9691        Yuma\\n9692        Yuma\\n9693        Yuma\\nName: City, Length: 9694, dtype: object'"
      ]
     },
     "execution_count": 44,
     "metadata": {},
     "output_type": "execute_result"
    }
   ],
   "source": [
    "str(data['City'])  data type to string"
   ]
  },
  {
   "cell_type": "code",
   "execution_count": 45,
   "id": "beebdd48",
   "metadata": {
    "collapsed": true
   },
   "outputs": [
    {
     "data": {
      "text/plain": [
       "0       Aberdeen\n",
       "1        Abilene\n",
       "2          Akron\n",
       "3          Akron\n",
       "4          Akron\n",
       "          ...   \n",
       "9689     Yucaipa\n",
       "9690        Yuma\n",
       "9691        Yuma\n",
       "9692        Yuma\n",
       "9693        Yuma\n",
       "Name: City, Length: 9694, dtype: object"
      ]
     },
     "execution_count": 45,
     "metadata": {},
     "output_type": "execute_result"
    }
   ],
   "source": [
    "data['City'].astype(str)"
   ]
  },
  {
   "cell_type": "code",
   "execution_count": 46,
   "id": "e592ceff",
   "metadata": {},
   "outputs": [
    {
     "data": {
      "text/plain": [
       "Index(['Row ID', 'Order ID', 'Order Date', 'Ship Date', 'Ship Mode',\n",
       "       'Customer ID', 'Customer Name', 'Segment', 'Country', 'City', 'State',\n",
       "       'Postal Code', 'Region', 'Product ID', 'Category', 'Sub-Category',\n",
       "       'Product Name', 'Sales', 'Quantity', 'Discount', 'Profit', 'rk'],\n",
       "      dtype='object')"
      ]
     },
     "execution_count": 46,
     "metadata": {},
     "output_type": "execute_result"
    }
   ],
   "source": [
    "data.columns"
   ]
  },
  {
   "cell_type": "code",
   "execution_count": 48,
   "id": "34a1a131",
   "metadata": {
    "collapsed": true
   },
   "outputs": [
    {
     "data": {
      "text/plain": [
       "0       9261.0\n",
       "1       6990.0\n",
       "2       4324.0\n",
       "3       3563.0\n",
       "4       9922.0\n",
       "         ...  \n",
       "9689    3348.0\n",
       "9690    8088.0\n",
       "9691    4823.0\n",
       "9692    7280.0\n",
       "9693    7282.0\n",
       "Name: Row ID, Length: 9694, dtype: float64"
      ]
     },
     "execution_count": 48,
     "metadata": {},
     "output_type": "execute_result"
    }
   ],
   "source": [
    "data['Row ID'].astype(float)"
   ]
  },
  {
   "cell_type": "code",
   "execution_count": 49,
   "id": "c53805bb",
   "metadata": {
    "collapsed": true
   },
   "outputs": [
    {
     "data": {
      "text/plain": [
       "0       9261\n",
       "1       6990\n",
       "2       4324\n",
       "3       3563\n",
       "4       9922\n",
       "        ... \n",
       "9689    3348\n",
       "9690    8088\n",
       "9691    4823\n",
       "9692    7280\n",
       "9693    7282\n",
       "Name: Row ID, Length: 9694, dtype: int32"
      ]
     },
     "execution_count": 49,
     "metadata": {},
     "output_type": "execute_result"
    }
   ],
   "source": [
    "data['Row ID'].astype(int)"
   ]
  },
  {
   "cell_type": "code",
   "execution_count": null,
   "id": "5bab553e",
   "metadata": {},
   "outputs": [],
   "source": [
    "binary search "
   ]
  },
  {
   "cell_type": "code",
   "execution_count": null,
   "id": "cceb8b97",
   "metadata": {},
   "outputs": [],
   "source": []
  },
  {
   "cell_type": "code",
   "execution_count": null,
   "id": "6420258e",
   "metadata": {},
   "outputs": [],
   "source": []
  },
  {
   "cell_type": "code",
   "execution_count": null,
   "id": "a324d7e5",
   "metadata": {},
   "outputs": [],
   "source": []
  },
  {
   "cell_type": "code",
   "execution_count": 40,
   "id": "ed5e7445",
   "metadata": {},
   "outputs": [
    {
     "name": "stdout",
     "output_type": "stream",
     "text": [
      "Element is present at index 3\n"
     ]
    }
   ],
   "source": [
    "import bisect\n",
    "\n",
    "def binary_search_bisect(arr, x):\n",
    "\n",
    "    i = bisect.bisect_left(arr, x)\n",
    "\n",
    "    if i != len(arr) and arr[i] == x:\n",
    "\n",
    "        return i\n",
    "\n",
    "    else:\n",
    "\n",
    "        return -1\n",
    "\n"
   ]
  },
  {
   "cell_type": "code",
   "execution_count": null,
   "id": "54ecf223",
   "metadata": {},
   "outputs": [],
   "source": [
    "# Test array\n",
    "arr = [2, 3, 4, 10, 40]\n",
    "\n",
    "x = 10\n",
    "\n",
    "  \n",
    "# Function call\n",
    "\n",
    "result = binary_search_bisect(arr, x)\n",
    " \n",
    "\n",
    "if result != -1:\n",
    "\n",
    "    print(\"Element is present at index\", str(result))\n",
    "\n",
    "else:\n",
    "\n",
    "    print(\"Element is not present in array\")"
   ]
  },
  {
   "cell_type": "code",
   "execution_count": null,
   "id": "00efdd2b",
   "metadata": {},
   "outputs": [],
   "source": []
  }
 ],
 "metadata": {
  "kernelspec": {
   "display_name": "Python 3 (ipykernel)",
   "language": "python",
   "name": "python3"
  },
  "language_info": {
   "codemirror_mode": {
    "name": "ipython",
    "version": 3
   },
   "file_extension": ".py",
   "mimetype": "text/x-python",
   "name": "python",
   "nbconvert_exporter": "python",
   "pygments_lexer": "ipython3",
   "version": "3.9.12"
  }
 },
 "nbformat": 4,
 "nbformat_minor": 5
}
