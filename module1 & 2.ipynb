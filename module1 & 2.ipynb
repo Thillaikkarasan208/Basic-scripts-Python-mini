{
 "cells": [
  {
   "cell_type": "code",
   "execution_count": null,
   "id": "9a6a26e8",
   "metadata": {},
   "outputs": [],
   "source": [
    "python installlation\n",
    "basic syntax\n",
    "library import\n",
    "python data types"
   ]
  },
  {
   "cell_type": "code",
   "execution_count": null,
   "id": "47650465",
   "metadata": {},
   "outputs": [],
   "source": [
    "string basics"
   ]
  },
  {
   "cell_type": "code",
   "execution_count": 1,
   "id": "355629ba",
   "metadata": {},
   "outputs": [],
   "source": [
    "name = \"thillai murali\""
   ]
  },
  {
   "cell_type": "code",
   "execution_count": 2,
   "id": "6e9f80eb",
   "metadata": {},
   "outputs": [
    {
     "data": {
      "text/plain": [
       "str"
      ]
     },
     "execution_count": 2,
     "metadata": {},
     "output_type": "execute_result"
    }
   ],
   "source": [
    "type(name)"
   ]
  },
  {
   "cell_type": "code",
   "execution_count": null,
   "id": "5abfd205",
   "metadata": {},
   "outputs": [],
   "source": [
    "name.TAB button press"
   ]
  },
  {
   "cell_type": "code",
   "execution_count": 22,
   "id": "1938e3d5",
   "metadata": {},
   "outputs": [],
   "source": [
    "desc = \"the metal iron rod is used in the manufacturing assembly line\"\n",
    "        01234"
   ]
  },
  {
   "cell_type": "code",
   "execution_count": 21,
   "id": "2da9d682",
   "metadata": {},
   "outputs": [
    {
     "data": {
      "text/plain": [
       "str"
      ]
     },
     "execution_count": 21,
     "metadata": {},
     "output_type": "execute_result"
    }
   ],
   "source": [
    "type(desc)"
   ]
  },
  {
   "cell_type": "code",
   "execution_count": 23,
   "id": "e041ca38",
   "metadata": {},
   "outputs": [
    {
     "data": {
      "text/plain": [
       "4"
      ]
     },
     "execution_count": 23,
     "metadata": {},
     "output_type": "execute_result"
    }
   ],
   "source": [
    "desc.find('metal')"
   ]
  },
  {
   "cell_type": "code",
   "execution_count": 24,
   "id": "89b52745",
   "metadata": {},
   "outputs": [
    {
     "data": {
      "text/plain": [
       "10"
      ]
     },
     "execution_count": 24,
     "metadata": {},
     "output_type": "execute_result"
    }
   ],
   "source": [
    "desc.find('iron')"
   ]
  },
  {
   "cell_type": "code",
   "execution_count": 3,
   "id": "0d284039",
   "metadata": {},
   "outputs": [
    {
     "data": {
      "text/plain": [
       "'Thillai murali'"
      ]
     },
     "execution_count": 3,
     "metadata": {},
     "output_type": "execute_result"
    }
   ],
   "source": [
    "name.capitalize()     "
   ]
  },
  {
   "cell_type": "code",
   "execution_count": 4,
   "id": "a3d4e17e",
   "metadata": {},
   "outputs": [
    {
     "data": {
      "text/plain": [
       "'thillai murali'"
      ]
     },
     "execution_count": 4,
     "metadata": {},
     "output_type": "execute_result"
    }
   ],
   "source": [
    "name"
   ]
  },
  {
   "cell_type": "code",
   "execution_count": 5,
   "id": "bf4da251",
   "metadata": {},
   "outputs": [
    {
     "data": {
      "text/plain": [
       "'thillai murali'"
      ]
     },
     "execution_count": 5,
     "metadata": {},
     "output_type": "execute_result"
    }
   ],
   "source": [
    "name.casefold()"
   ]
  },
  {
   "cell_type": "code",
   "execution_count": 8,
   "id": "11905deb",
   "metadata": {},
   "outputs": [
    {
     "data": {
      "text/plain": [
       "3"
      ]
     },
     "execution_count": 8,
     "metadata": {},
     "output_type": "execute_result"
    }
   ],
   "source": [
    "name.find('l')"
   ]
  },
  {
   "cell_type": "code",
   "execution_count": null,
   "id": "b1470551",
   "metadata": {},
   "outputs": [],
   "source": [
    "thillai murali\n",
    "0123"
   ]
  },
  {
   "cell_type": "code",
   "execution_count": 9,
   "id": "2ef109b8",
   "metadata": {},
   "outputs": [
    {
     "data": {
      "text/plain": [
       "'thillai murali'"
      ]
     },
     "execution_count": 9,
     "metadata": {},
     "output_type": "execute_result"
    }
   ],
   "source": [
    "name.casefold()"
   ]
  },
  {
   "cell_type": "code",
   "execution_count": 10,
   "id": "7dec1c43",
   "metadata": {},
   "outputs": [
    {
     "data": {
      "text/plain": [
       "True"
      ]
     },
     "execution_count": 10,
     "metadata": {},
     "output_type": "execute_result"
    }
   ],
   "source": [
    "name.islower()"
   ]
  },
  {
   "cell_type": "code",
   "execution_count": 11,
   "id": "78825a26",
   "metadata": {},
   "outputs": [
    {
     "data": {
      "text/plain": [
       "False"
      ]
     },
     "execution_count": 11,
     "metadata": {},
     "output_type": "execute_result"
    }
   ],
   "source": [
    "name.isnumeric()"
   ]
  },
  {
   "cell_type": "code",
   "execution_count": 28,
   "id": "108fe820",
   "metadata": {},
   "outputs": [
    {
     "data": {
      "text/plain": [
       "'thillai murali'"
      ]
     },
     "execution_count": 28,
     "metadata": {},
     "output_type": "execute_result"
    }
   ],
   "source": [
    "name\n",
    "# name.isupper()"
   ]
  },
  {
   "cell_type": "code",
   "execution_count": 25,
   "id": "acffd32f",
   "metadata": {},
   "outputs": [
    {
     "data": {
      "text/plain": [
       "'THILLAI MURALI'"
      ]
     },
     "execution_count": 25,
     "metadata": {},
     "output_type": "execute_result"
    }
   ],
   "source": [
    "name.upper()"
   ]
  },
  {
   "cell_type": "code",
   "execution_count": 44,
   "id": "ae806157",
   "metadata": {},
   "outputs": [
    {
     "data": {
      "text/plain": [
       "'TH'"
      ]
     },
     "execution_count": 44,
     "metadata": {},
     "output_type": "execute_result"
    }
   ],
   "source": [
    "name[0:2].upper()"
   ]
  },
  {
   "cell_type": "code",
   "execution_count": 15,
   "id": "edcf42d2",
   "metadata": {},
   "outputs": [],
   "source": [
    "fname = 'thillai'"
   ]
  },
  {
   "cell_type": "code",
   "execution_count": 16,
   "id": "a01f3343",
   "metadata": {},
   "outputs": [],
   "source": [
    "lname = 'murali'"
   ]
  },
  {
   "cell_type": "code",
   "execution_count": 39,
   "id": "f1e2d1eb",
   "metadata": {},
   "outputs": [
    {
     "data": {
      "text/plain": [
       "'thillaimurali'"
      ]
     },
     "execution_count": 39,
     "metadata": {},
     "output_type": "execute_result"
    }
   ],
   "source": [
    "fname + lname"
   ]
  },
  {
   "cell_type": "code",
   "execution_count": 40,
   "id": "da60647b",
   "metadata": {},
   "outputs": [
    {
     "data": {
      "text/plain": [
       "'thillai murali'"
      ]
     },
     "execution_count": 40,
     "metadata": {},
     "output_type": "execute_result"
    }
   ],
   "source": [
    "fname + ' ' + lname"
   ]
  },
  {
   "cell_type": "code",
   "execution_count": 19,
   "id": "e65a8957",
   "metadata": {},
   "outputs": [
    {
     "data": {
      "text/plain": [
       "'thillai@murali'"
      ]
     },
     "execution_count": 19,
     "metadata": {},
     "output_type": "execute_result"
    }
   ],
   "source": [
    "fname + '@' + lname"
   ]
  },
  {
   "cell_type": "code",
   "execution_count": 29,
   "id": "d2a5e2ca",
   "metadata": {},
   "outputs": [
    {
     "data": {
      "text/plain": [
       "14"
      ]
     },
     "execution_count": 29,
     "metadata": {},
     "output_type": "execute_result"
    }
   ],
   "source": [
    "len(name) - variable name"
   ]
  },
  {
   "cell_type": "code",
   "execution_count": 32,
   "id": "fe55bc51",
   "metadata": {},
   "outputs": [],
   "source": [
    "desc = 'the metal iron metal rod is used in the manufacturing assembly line'"
   ]
  },
  {
   "cell_type": "code",
   "execution_count": 33,
   "id": "316395ab",
   "metadata": {},
   "outputs": [
    {
     "data": {
      "text/plain": [
       "2"
      ]
     },
     "execution_count": 33,
     "metadata": {},
     "output_type": "execute_result"
    }
   ],
   "source": [
    "desc.count('metal')"
   ]
  },
  {
   "cell_type": "code",
   "execution_count": 36,
   "id": "2ecf2bf8",
   "metadata": {},
   "outputs": [
    {
     "data": {
      "text/plain": [
       "67"
      ]
     },
     "execution_count": 36,
     "metadata": {},
     "output_type": "execute_result"
    }
   ],
   "source": [
    "len(desc)"
   ]
  },
  {
   "cell_type": "code",
   "execution_count": 37,
   "id": "579c9faa",
   "metadata": {},
   "outputs": [
    {
     "data": {
      "text/plain": [
       "'the metal iron metal rod is used in the manufacturing assembly line'"
      ]
     },
     "execution_count": 37,
     "metadata": {},
     "output_type": "execute_result"
    }
   ],
   "source": [
    "desc"
   ]
  },
  {
   "cell_type": "code",
   "execution_count": 38,
   "id": "10505ac8",
   "metadata": {},
   "outputs": [
    {
     "data": {
      "text/plain": [
       "2"
      ]
     },
     "execution_count": 38,
     "metadata": {},
     "output_type": "execute_result"
    }
   ],
   "source": [
    "desc.count('metal')"
   ]
  },
  {
   "cell_type": "code",
   "execution_count": null,
   "id": "4beb6e48",
   "metadata": {},
   "outputs": [],
   "source": [
    "len - over all count\n",
    "count - parameter count"
   ]
  },
  {
   "cell_type": "code",
   "execution_count": null,
   "id": "43fd2c04",
   "metadata": {},
   "outputs": [],
   "source": [
    "python conditional sttatements\n",
    "\n",
    "a == b\n",
    "a != b\n",
    "a < b\n",
    "a > b\n",
    "a <= b\n",
    "\n"
   ]
  },
  {
   "cell_type": "code",
   "execution_count": null,
   "id": "dacdce03",
   "metadata": {},
   "outputs": [],
   "source": [
    "syntax\n",
    "\n",
    "if cond:\n",
    "    sttaement  - indent  , indentation ( 4 space)\n",
    "else:\n",
    "    sttatment\n",
    "    \n",
    "a = 5\n",
    "b = 10\n",
    "if cond:\n",
    "    a==b\n",
    "    "
   ]
  },
  {
   "cell_type": "code",
   "execution_count": 45,
   "id": "368fc712",
   "metadata": {},
   "outputs": [
    {
     "name": "stdout",
     "output_type": "stream",
     "text": [
      "a is greater\n"
     ]
    }
   ],
   "source": [
    "a = 10\n",
    "b = 5\n",
    "if a>b:\n",
    "    print(\"a is greater\")\n",
    "else:\n",
    "    print(\"b is greater\")"
   ]
  },
  {
   "cell_type": "code",
   "execution_count": 46,
   "id": "97376ce2",
   "metadata": {},
   "outputs": [
    {
     "name": "stdout",
     "output_type": "stream",
     "text": [
      "b is greater\n"
     ]
    }
   ],
   "source": [
    "a = 5\n",
    "b = 10\n",
    "if a>b:\n",
    "    print(\"a is greater\")\n",
    "else:\n",
    "    print(\"b is greater\")"
   ]
  },
  {
   "cell_type": "code",
   "execution_count": 47,
   "id": "9eed1e2a",
   "metadata": {},
   "outputs": [
    {
     "name": "stdout",
     "output_type": "stream",
     "text": [
      "a and b are same\n"
     ]
    }
   ],
   "source": [
    "a = 5\n",
    "b = 5\n",
    "\n",
    "if a>b:\n",
    "    print(\"a is greater than b\")\n",
    "elif a == b:\n",
    "    print(\"a and b are same\")\n",
    "elif a<b:\n",
    "    print(\"a < b\")\n",
    "    .\n",
    "    .\n",
    "    .\n",
    "    \n",
    "else:\n",
    "    print('b is greater')"
   ]
  },
  {
   "cell_type": "code",
   "execution_count": 52,
   "id": "52df6851",
   "metadata": {},
   "outputs": [
    {
     "name": "stdout",
     "output_type": "stream",
     "text": [
      "cond is failed\n"
     ]
    }
   ],
   "source": [
    "a = 200\n",
    "b = 33\n",
    "c = 500\n",
    "\n",
    "if a>b and c==a:\n",
    "    print(\"both cond are true\")\n",
    "else:\n",
    "    print('cond is failed')\n"
   ]
  },
  {
   "cell_type": "code",
   "execution_count": 50,
   "id": "6f421fb3",
   "metadata": {},
   "outputs": [
    {
     "name": "stdout",
     "output_type": "stream",
     "text": [
      "atleat one cond are true\n"
     ]
    }
   ],
   "source": [
    "if a>b or c==a:\n",
    "    print(\"atleat one cond are true\")\n",
    "else:\n",
    "    print('cond is failed')"
   ]
  },
  {
   "cell_type": "code",
   "execution_count": 53,
   "id": "979e1f88",
   "metadata": {},
   "outputs": [
    {
     "name": "stdout",
     "output_type": "stream",
     "text": [
      "enter ur namerajini\n"
     ]
    }
   ],
   "source": [
    "name = input(\"enter ur name\")"
   ]
  },
  {
   "cell_type": "code",
   "execution_count": 54,
   "id": "8b2b96af",
   "metadata": {},
   "outputs": [
    {
     "data": {
      "text/plain": [
       "'rajini'"
      ]
     },
     "execution_count": 54,
     "metadata": {},
     "output_type": "execute_result"
    }
   ],
   "source": [
    "name"
   ]
  },
  {
   "cell_type": "code",
   "execution_count": 55,
   "id": "4c723ddf",
   "metadata": {},
   "outputs": [
    {
     "data": {
      "text/plain": [
       "str"
      ]
     },
     "execution_count": 55,
     "metadata": {},
     "output_type": "execute_result"
    }
   ],
   "source": [
    "type(name)"
   ]
  },
  {
   "cell_type": "code",
   "execution_count": 59,
   "id": "7904fed2",
   "metadata": {},
   "outputs": [
    {
     "name": "stdout",
     "output_type": "stream",
     "text": [
      "12 14 16 18\n"
     ]
    }
   ],
   "source": [
    "x = input().split()\n"
   ]
  },
  {
   "cell_type": "code",
   "execution_count": 60,
   "id": "a4b55795",
   "metadata": {},
   "outputs": [
    {
     "data": {
      "text/plain": [
       "['12', '14', '16', '18']"
      ]
     },
     "execution_count": 60,
     "metadata": {},
     "output_type": "execute_result"
    }
   ],
   "source": [
    "x"
   ]
  },
  {
   "cell_type": "code",
   "execution_count": 65,
   "id": "a8edbfe4",
   "metadata": {},
   "outputs": [
    {
     "name": "stdout",
     "output_type": "stream",
     "text": [
      "12 14 16 18\n"
     ]
    }
   ],
   "source": [
    "print(' '.join(x))"
   ]
  },
  {
   "cell_type": "code",
   "execution_count": 61,
   "id": "4504e977",
   "metadata": {},
   "outputs": [
    {
     "data": {
      "text/plain": [
       "['12', '14', '16', '18']"
      ]
     },
     "execution_count": 61,
     "metadata": {},
     "output_type": "execute_result"
    }
   ],
   "source": [
    "x"
   ]
  },
  {
   "cell_type": "code",
   "execution_count": 64,
   "id": "4537fc01",
   "metadata": {},
   "outputs": [
    {
     "data": {
      "text/plain": [
       "'12%14%16%18'"
      ]
     },
     "execution_count": 64,
     "metadata": {},
     "output_type": "execute_result"
    }
   ],
   "source": [
    "'%'.join(x)"
   ]
  },
  {
   "cell_type": "code",
   "execution_count": null,
   "id": "4737405d",
   "metadata": {},
   "outputs": [],
   "source": [
    "# Python for loop\n",
    "\n",
    "syntax\n",
    "\n",
    "for i in (python data type):\n",
    "    sttatment\n"
   ]
  },
  {
   "cell_type": "code",
   "execution_count": 70,
   "id": "b73d79a6",
   "metadata": {},
   "outputs": [],
   "source": [
    "lis = ['Tree','wood','fruits',1,2,3]"
   ]
  },
  {
   "cell_type": "code",
   "execution_count": 71,
   "id": "25a519b9",
   "metadata": {},
   "outputs": [
    {
     "data": {
      "text/plain": [
       "['Tree', 'wood', 'fruits', 1, 2, 3]"
      ]
     },
     "execution_count": 71,
     "metadata": {},
     "output_type": "execute_result"
    }
   ],
   "source": [
    "lis"
   ]
  },
  {
   "cell_type": "code",
   "execution_count": 72,
   "id": "e1a4c07f",
   "metadata": {},
   "outputs": [
    {
     "data": {
      "text/plain": [
       "6"
      ]
     },
     "execution_count": 72,
     "metadata": {},
     "output_type": "execute_result"
    }
   ],
   "source": [
    "len(lis)"
   ]
  },
  {
   "cell_type": "code",
   "execution_count": 74,
   "id": "42fe9501",
   "metadata": {},
   "outputs": [
    {
     "name": "stdout",
     "output_type": "stream",
     "text": [
      "Tree\n",
      "wood\n",
      "fruits\n",
      "1\n",
      "2\n",
      "3\n"
     ]
    }
   ],
   "source": [
    "for i in lis:(0,1,2,3,4,5)\n",
    "    print(i)"
   ]
  },
  {
   "cell_type": "code",
   "execution_count": 75,
   "id": "61bd08b0",
   "metadata": {
    "collapsed": true
   },
   "outputs": [
    {
     "name": "stdout",
     "output_type": "stream",
     "text": [
      "0\n",
      "1\n",
      "2\n",
      "3\n",
      "4\n"
     ]
    }
   ],
   "source": [
    "for i in range(0,5):\n",
    "    print(i)"
   ]
  },
  {
   "cell_type": "code",
   "execution_count": 76,
   "id": "4a72e912",
   "metadata": {},
   "outputs": [
    {
     "name": "stdout",
     "output_type": "stream",
     "text": [
      "0\n",
      "1\n",
      "2\n",
      "3\n",
      "4\n"
     ]
    }
   ],
   "source": [
    "for i in range(5):\n",
    "    print(i)"
   ]
  },
  {
   "cell_type": "code",
   "execution_count": 77,
   "id": "1e3916d3",
   "metadata": {
    "collapsed": true
   },
   "outputs": [
    {
     "name": "stdout",
     "output_type": "stream",
     "text": [
      "2\n",
      "3\n",
      "4\n",
      "5\n",
      "6\n",
      "7\n",
      "8\n",
      "9\n",
      "10\n",
      "11\n",
      "12\n",
      "13\n",
      "14\n"
     ]
    }
   ],
   "source": [
    "for i in range(2,15):\n",
    "    print(i)"
   ]
  },
  {
   "cell_type": "code",
   "execution_count": 85,
   "id": "218e0796",
   "metadata": {},
   "outputs": [],
   "source": [
    "# nested loop \n",
    "\n",
    "legends = ['rajini','kamal','vikram']\n",
    "dependents = ['tamil movie1','hindi movie2','telugu']\n"
   ]
  },
  {
   "cell_type": "code",
   "execution_count": 86,
   "id": "3836af28",
   "metadata": {
    "collapsed": true
   },
   "outputs": [
    {
     "name": "stdout",
     "output_type": "stream",
     "text": [
      "rajini tamil movie1\n",
      "rajini hindi movie2\n",
      "rajini telugu\n",
      "kamal tamil movie1\n",
      "kamal hindi movie2\n",
      "kamal telugu\n",
      "vikram tamil movie1\n",
      "vikram hindi movie2\n",
      "vikram telugu\n"
     ]
    }
   ],
   "source": [
    "for x in legends:\n",
    "    for y in dependents:\n",
    "        print(x,y)"
   ]
  },
  {
   "cell_type": "code",
   "execution_count": 87,
   "id": "dce0f186",
   "metadata": {},
   "outputs": [
    {
     "data": {
      "text/plain": [
       "['Tree', 'wood', 'fruits', 1, 2, 3]"
      ]
     },
     "execution_count": 87,
     "metadata": {},
     "output_type": "execute_result"
    }
   ],
   "source": [
    "lis"
   ]
  },
  {
   "cell_type": "code",
   "execution_count": 88,
   "id": "d048f8a0",
   "metadata": {},
   "outputs": [
    {
     "name": "stdout",
     "output_type": "stream",
     "text": [
      "fruits is there in the list\n"
     ]
    }
   ],
   "source": [
    "for i  in lis:\n",
    "    if i == 'fruits':\n",
    "        print(\"fruits is there in the list\")"
   ]
  },
  {
   "cell_type": "code",
   "execution_count": 89,
   "id": "cb1e303d",
   "metadata": {
    "collapsed": true
   },
   "outputs": [
    {
     "name": "stdout",
     "output_type": "stream",
     "text": [
      "1\n",
      "2\n",
      "3\n",
      "4\n",
      "5\n"
     ]
    }
   ],
   "source": [
    "i = 1\n",
    "while i < 6:\n",
    "    print(i) \n",
    "    i = i+1"
   ]
  },
  {
   "cell_type": "code",
   "execution_count": null,
   "id": "139226a1",
   "metadata": {},
   "outputs": [],
   "source": [
    "task:\n",
    "    \n",
    "1.odd number print odd no , even number print(even numer)\n"
   ]
  },
  {
   "cell_type": "code",
   "execution_count": null,
   "id": "0760f3cc",
   "metadata": {},
   "outputs": [],
   "source": [
    "5 print(odd)  , 6 - print(even)   , input -> 1 - 30"
   ]
  },
  {
   "cell_type": "code",
   "execution_count": null,
   "id": "1cacceef",
   "metadata": {},
   "outputs": [],
   "source": [
    "two wheeler drive road\n",
    "\n",
    "1.red   print(stop)\n",
    "2.green  print(go)\n",
    "3.yellow print(ready)\n",
    "\n",
    "quitent , remider \n"
   ]
  },
  {
   "cell_type": "code",
   "execution_count": 90,
   "id": "4e661449",
   "metadata": {
    "collapsed": true
   },
   "outputs": [
    {
     "name": "stdout",
     "output_type": "stream",
     "text": [
      "1 odd\n",
      "2 even\n",
      "3 odd\n",
      "4 even\n",
      "5 odd\n",
      "6 even\n",
      "7 odd\n",
      "8 even\n",
      "9 odd\n",
      "10 even\n",
      "11 odd\n",
      "12 even\n",
      "13 odd\n",
      "14 even\n",
      "15 odd\n",
      "16 even\n",
      "17 odd\n",
      "18 even\n",
      "19 odd\n",
      "20 even\n",
      "21 odd\n",
      "22 even\n",
      "23 odd\n",
      "24 even\n",
      "25 odd\n",
      "26 even\n",
      "27 odd\n",
      "28 even\n",
      "29 odd\n",
      "30 even\n"
     ]
    }
   ],
   "source": [
    "for i in range(1,31):\n",
    "    if i % 2 == 0:                \n",
    "        print(i,\"even\")\n",
    "    else:\n",
    "        print(i,\"odd\")"
   ]
  },
  {
   "cell_type": "code",
   "execution_count": 95,
   "id": "8dedcb13",
   "metadata": {},
   "outputs": [
    {
     "name": "stdout",
     "output_type": "stream",
     "text": [
      "please enter (red, green, yellow): black\n",
      "ready\n"
     ]
    }
   ],
   "source": [
    "a= input(\"please enter (red, green, yellow): \")\n",
    "if a.lower()==\"red\":\n",
    "    print(\"stop\")\n",
    "elif a.lower()==\"green\":\n",
    "    print(\"go\")\n",
    "else:\n",
    "    print(\"ready\")"
   ]
  },
  {
   "cell_type": "code",
   "execution_count": 97,
   "id": "ac2e1f63",
   "metadata": {},
   "outputs": [
    {
     "name": "stdout",
     "output_type": "stream",
     "text": [
      "GreEN\n",
      "go\n"
     ]
    }
   ],
   "source": [
    "n = input()\n",
    "if n.lower() == 'red':\n",
    "    print('stop')\n",
    "elif n.lower() == 'green':\n",
    "    print('go')\n",
    "elif n.lower() == 'yellow':\n",
    "    print('wait')\n",
    "else:\n",
    "    print(\"Enter a valid input next time\")"
   ]
  },
  {
   "cell_type": "code",
   "execution_count": 98,
   "id": "7a809c61",
   "metadata": {},
   "outputs": [
    {
     "data": {
      "text/plain": [
       "0"
      ]
     },
     "execution_count": 98,
     "metadata": {},
     "output_type": "execute_result"
    }
   ],
   "source": [
    "4 % 2 Reminder even odd"
   ]
  },
  {
   "cell_type": "code",
   "execution_count": 104,
   "id": "0b36e1c0",
   "metadata": {},
   "outputs": [
    {
     "name": "stdout",
     "output_type": "stream",
     "text": [
      "even\n"
     ]
    }
   ],
   "source": [
    "n = 6\n",
    "if n % 2==0:\n",
    "    print(\"even\")\n",
    "else:\n",
    "    print(\"odd\")"
   ]
  },
  {
   "cell_type": "code",
   "execution_count": null,
   "id": "28790df0",
   "metadata": {},
   "outputs": [],
   "source": [
    "functions\n",
    "\n",
    "numeric function\n",
    "string funtion"
   ]
  },
  {
   "cell_type": "code",
   "execution_count": 108,
   "id": "a1b5f8d2",
   "metadata": {},
   "outputs": [],
   "source": [
    "name = \"MURALI\""
   ]
  },
  {
   "cell_type": "code",
   "execution_count": 106,
   "id": "0821a2c2",
   "metadata": {},
   "outputs": [
    {
     "data": {
      "text/plain": [
       "'       murali       '"
      ]
     },
     "execution_count": 106,
     "metadata": {},
     "output_type": "execute_result"
    }
   ],
   "source": [
    "name.center(20)"
   ]
  },
  {
   "cell_type": "code",
   "execution_count": 109,
   "id": "4a3901fd",
   "metadata": {},
   "outputs": [
    {
     "data": {
      "text/plain": [
       "'murali'"
      ]
     },
     "execution_count": 109,
     "metadata": {},
     "output_type": "execute_result"
    }
   ],
   "source": [
    "name.casefold() - lower case"
   ]
  },
  {
   "cell_type": "code",
   "execution_count": null,
   "id": "0a98d03d",
   "metadata": {},
   "outputs": [],
   "source": [
    "numeric function"
   ]
  },
  {
   "cell_type": "code",
   "execution_count": 110,
   "id": "e924ab51",
   "metadata": {},
   "outputs": [],
   "source": [
    "import math"
   ]
  },
  {
   "cell_type": "code",
   "execution_count": 111,
   "id": "9704defc",
   "metadata": {},
   "outputs": [
    {
     "data": {
      "text/plain": [
       "60"
      ]
     },
     "execution_count": 111,
     "metadata": {},
     "output_type": "execute_result"
    }
   ],
   "source": [
    "math.lcm(3,4,5)"
   ]
  },
  {
   "cell_type": "code",
   "execution_count": 112,
   "id": "a6a1f412",
   "metadata": {},
   "outputs": [
    {
     "data": {
      "text/plain": [
       "90"
      ]
     },
     "execution_count": 112,
     "metadata": {},
     "output_type": "execute_result"
    }
   ],
   "source": [
    "math.ceil(89.55)"
   ]
  },
  {
   "cell_type": "code",
   "execution_count": 113,
   "id": "d627e917",
   "metadata": {},
   "outputs": [
    {
     "data": {
      "text/plain": [
       "2980.9579870417283"
      ]
     },
     "execution_count": 113,
     "metadata": {},
     "output_type": "execute_result"
    }
   ],
   "source": [
    "math.exp(8)"
   ]
  },
  {
   "cell_type": "code",
   "execution_count": 114,
   "id": "d3c83676",
   "metadata": {},
   "outputs": [
    {
     "data": {
      "text/plain": [
       "4.356708826689592"
      ]
     },
     "execution_count": 114,
     "metadata": {},
     "output_type": "execute_result"
    }
   ],
   "source": [
    "math.log(78)"
   ]
  },
  {
   "cell_type": "code",
   "execution_count": null,
   "id": "0edfbdf3",
   "metadata": {},
   "outputs": [],
   "source": [
    "string fucntion  - lower, upper , casfold , capitl ,....\n",
    "numeric function - log, power, exp , sin , cos , tan , math.funciton, square,sqrt"
   ]
  },
  {
   "cell_type": "code",
   "execution_count": 115,
   "id": "8c9f549f",
   "metadata": {},
   "outputs": [],
   "source": [
    "name = \"abi\""
   ]
  },
  {
   "cell_type": "code",
   "execution_count": 116,
   "id": "35ac7285",
   "metadata": {},
   "outputs": [
    {
     "data": {
      "text/plain": [
       "'abi'"
      ]
     },
     "execution_count": 116,
     "metadata": {},
     "output_type": "execute_result"
    }
   ],
   "source": [
    "name.lower()"
   ]
  },
  {
   "cell_type": "code",
   "execution_count": null,
   "id": "d7c80851",
   "metadata": {},
   "outputs": [],
   "source": []
  },
  {
   "cell_type": "code",
   "execution_count": null,
   "id": "fa43589b",
   "metadata": {},
   "outputs": [],
   "source": []
  },
  {
   "cell_type": "code",
   "execution_count": 117,
   "id": "7874a625",
   "metadata": {},
   "outputs": [
    {
     "data": {
      "text/plain": [
       "'ABI'"
      ]
     },
     "execution_count": 117,
     "metadata": {},
     "output_type": "execute_result"
    }
   ],
   "source": [
    "name.upper()"
   ]
  },
  {
   "cell_type": "code",
   "execution_count": null,
   "id": "87663fa7",
   "metadata": {},
   "outputs": [],
   "source": [
    "customs functions - user willing to create"
   ]
  },
  {
   "cell_type": "code",
   "execution_count": null,
   "id": "088d8f5a",
   "metadata": {},
   "outputs": [],
   "source": [
    "syntax:\n",
    "    \n",
    "    def functionname(p1,p2,...):\n",
    "        statement\n",
    "        return Values\n",
    "    "
   ]
  },
  {
   "cell_type": "code",
   "execution_count": null,
   "id": "4a93ea06",
   "metadata": {},
   "outputs": [],
   "source": [
    "def project(patientid,date,disease):\n",
    "    rules1 - date > 8999 then pateinet next date\n",
    "    rule -> dieseae fever then next symptoms\n",
    "    rule 3-> fever convert jaundice\n",
    "    \n",
    "    return patientid, rules\n",
    "\n",
    "project(23jjfjf,02/04/23,'fever')"
   ]
  },
  {
   "cell_type": "code",
   "execution_count": 118,
   "id": "f99b79b6",
   "metadata": {},
   "outputs": [],
   "source": [
    "def rajini():\n",
    "    x = 3\n",
    "    y = 5\n",
    "    z = x+y\n",
    "    return z"
   ]
  },
  {
   "cell_type": "code",
   "execution_count": 119,
   "id": "e90e5cb6",
   "metadata": {},
   "outputs": [
    {
     "data": {
      "text/plain": [
       "8"
      ]
     },
     "execution_count": 119,
     "metadata": {},
     "output_type": "execute_result"
    }
   ],
   "source": [
    "rajini()"
   ]
  },
  {
   "cell_type": "code",
   "execution_count": 120,
   "id": "ab62e351",
   "metadata": {},
   "outputs": [],
   "source": [
    "def kamal(fname,lname,mname):\n",
    "    res = fname + lname + mname\n",
    "    \n",
    "    return res"
   ]
  },
  {
   "cell_type": "code",
   "execution_count": 121,
   "id": "1e3202ce",
   "metadata": {},
   "outputs": [
    {
     "data": {
      "text/plain": [
       "'guvipython'"
      ]
     },
     "execution_count": 121,
     "metadata": {},
     "output_type": "execute_result"
    }
   ],
   "source": [
    "kamal(\"guvi\",\"python\")"
   ]
  },
  {
   "cell_type": "code",
   "execution_count": 122,
   "id": "6a580986",
   "metadata": {},
   "outputs": [
    {
     "data": {
      "text/plain": [
       "'thillaimurali'"
      ]
     },
     "execution_count": 122,
     "metadata": {},
     "output_type": "execute_result"
    }
   ],
   "source": [
    "kamal(\"thillai\",\"murali\")"
   ]
  },
  {
   "cell_type": "code",
   "execution_count": 123,
   "id": "90cf7d1d",
   "metadata": {},
   "outputs": [
    {
     "data": {
      "text/plain": [
       "'59'"
      ]
     },
     "execution_count": 123,
     "metadata": {},
     "output_type": "execute_result"
    }
   ],
   "source": [
    "kamal(\"5\",\"9\")"
   ]
  },
  {
   "cell_type": "code",
   "execution_count": null,
   "id": "32b603e5",
   "metadata": {},
   "outputs": [],
   "source": [
    "y = a+bx\n",
    "\n",
    "y = 5 + 10x "
   ]
  },
  {
   "cell_type": "code",
   "execution_count": 128,
   "id": "e36f4c4b",
   "metadata": {},
   "outputs": [],
   "source": [
    "def line(a,b,x):\n",
    "    y = a + b * x\n",
    "    return y,a,b"
   ]
  },
  {
   "cell_type": "code",
   "execution_count": 129,
   "id": "0b6b4645",
   "metadata": {},
   "outputs": [
    {
     "data": {
      "text/plain": [
       "((7, 1, 2), (61, 7, 6))"
      ]
     },
     "execution_count": 129,
     "metadata": {},
     "output_type": "execute_result"
    }
   ],
   "source": [
    "line(1,2,3) , line(7,6,9)"
   ]
  },
  {
   "cell_type": "code",
   "execution_count": null,
   "id": "0845f540",
   "metadata": {},
   "outputs": [],
   "source": [
    "task1:\n",
    "\n",
    "    y = 5x2 + 16x + 20"
   ]
  },
  {
   "cell_type": "code",
   "execution_count": 1,
   "id": "0cfebb0f",
   "metadata": {},
   "outputs": [],
   "source": [
    "# import numpy\n",
    "def parabola(x):\n",
    "    y = 5*(x**2)+16*x+20\n",
    "    return y"
   ]
  },
  {
   "cell_type": "code",
   "execution_count": 2,
   "id": "8d8f673e",
   "metadata": {},
   "outputs": [
    {
     "data": {
      "text/plain": [
       "72"
      ]
     },
     "execution_count": 2,
     "metadata": {},
     "output_type": "execute_result"
    }
   ],
   "source": [
    "parabola(2)"
   ]
  },
  {
   "cell_type": "code",
   "execution_count": 143,
   "id": "55cb0a1f",
   "metadata": {},
   "outputs": [],
   "source": [
    "def para(a,x,b,c):\n",
    "    y = a*(x**2)+b*x+c\n",
    "    return y"
   ]
  },
  {
   "cell_type": "code",
   "execution_count": 144,
   "id": "3afda805",
   "metadata": {},
   "outputs": [
    {
     "data": {
      "text/plain": [
       "14"
      ]
     },
     "execution_count": 144,
     "metadata": {},
     "output_type": "execute_result"
    }
   ],
   "source": [
    "para(1,2,3,4)"
   ]
  },
  {
   "cell_type": "code",
   "execution_count": null,
   "id": "30003e15",
   "metadata": {},
   "outputs": [],
   "source": [
    "task 1:\n",
    "    fucntion  education details , 10th mark 300 > gradeb , >400 grade b , < 30 fail"
   ]
  },
  {
   "cell_type": "code",
   "execution_count": null,
   "id": "7d703a1b",
   "metadata": {},
   "outputs": [],
   "source": []
  },
  {
   "cell_type": "code",
   "execution_count": null,
   "id": "e6b4cc6d",
   "metadata": {},
   "outputs": [],
   "source": []
  },
  {
   "cell_type": "code",
   "execution_count": 145,
   "id": "6af46ca6",
   "metadata": {},
   "outputs": [],
   "source": [
    "# Common errors in python"
   ]
  },
  {
   "cell_type": "code",
   "execution_count": 146,
   "id": "76d857ea",
   "metadata": {},
   "outputs": [],
   "source": [
    "x = 8"
   ]
  },
  {
   "cell_type": "code",
   "execution_count": 147,
   "id": "f8a09363",
   "metadata": {},
   "outputs": [
    {
     "data": {
      "text/plain": [
       "8"
      ]
     },
     "execution_count": 147,
     "metadata": {},
     "output_type": "execute_result"
    }
   ],
   "source": [
    "x"
   ]
  },
  {
   "cell_type": "code",
   "execution_count": 149,
   "id": "53397186",
   "metadata": {},
   "outputs": [],
   "source": [
    "z = 9"
   ]
  },
  {
   "cell_type": "code",
   "execution_count": 150,
   "id": "2099a4cc",
   "metadata": {},
   "outputs": [
    {
     "data": {
      "text/plain": [
       "9"
      ]
     },
     "execution_count": 150,
     "metadata": {},
     "output_type": "execute_result"
    }
   ],
   "source": [
    "z"
   ]
  },
  {
   "cell_type": "code",
   "execution_count": 152,
   "id": "87b04dbb",
   "metadata": {},
   "outputs": [
    {
     "ename": "NameError",
     "evalue": "name 'salary' is not defined",
     "output_type": "error",
     "traceback": [
      "\u001b[1;31m---------------------------------------------------------------------------\u001b[0m",
      "\u001b[1;31mNameError\u001b[0m                                 Traceback (most recent call last)",
      "Input \u001b[1;32mIn [152]\u001b[0m, in \u001b[0;36m<cell line: 1>\u001b[1;34m()\u001b[0m\n\u001b[1;32m----> 1\u001b[0m \u001b[43msalary\u001b[49m\n",
      "\u001b[1;31mNameError\u001b[0m: name 'salary' is not defined"
     ]
    }
   ],
   "source": [
    "salary"
   ]
  },
  {
   "cell_type": "code",
   "execution_count": 153,
   "id": "4ab56618",
   "metadata": {},
   "outputs": [
    {
     "ename": "IndentationError",
     "evalue": "expected an indented block (3594652557.py, line 2)",
     "output_type": "error",
     "traceback": [
      "\u001b[1;36m  Input \u001b[1;32mIn [153]\u001b[1;36m\u001b[0m\n\u001b[1;33m    print(\"yes\")\u001b[0m\n\u001b[1;37m    ^\u001b[0m\n\u001b[1;31mIndentationError\u001b[0m\u001b[1;31m:\u001b[0m expected an indented block\n"
     ]
    }
   ],
   "source": [
    "if 2>4:\n",
    "print(\"yes\")"
   ]
  },
  {
   "cell_type": "code",
   "execution_count": 154,
   "id": "a8a06c7a",
   "metadata": {},
   "outputs": [
    {
     "ename": "TypeError",
     "evalue": "unsupported operand type(s) for /: 'str' and 'int'",
     "output_type": "error",
     "traceback": [
      "\u001b[1;31m---------------------------------------------------------------------------\u001b[0m",
      "\u001b[1;31mTypeError\u001b[0m                                 Traceback (most recent call last)",
      "Input \u001b[1;32mIn [154]\u001b[0m, in \u001b[0;36m<cell line: 1>\u001b[1;34m()\u001b[0m\n\u001b[1;32m----> 1\u001b[0m \u001b[38;5;28;01mif\u001b[39;00m \u001b[38;5;124;43m\"\u001b[39;49m\u001b[38;5;124;43mthillai\u001b[39;49m\u001b[38;5;124;43m\"\u001b[39;49m\u001b[38;5;241;43m/\u001b[39;49m\u001b[38;5;241;43m2\u001b[39;49m:\n\u001b[0;32m      2\u001b[0m     \u001b[38;5;28mprint\u001b[39m(\u001b[38;5;124m\"\u001b[39m\u001b[38;5;124myes\u001b[39m\u001b[38;5;124m\"\u001b[39m)\n",
      "\u001b[1;31mTypeError\u001b[0m: unsupported operand type(s) for /: 'str' and 'int'"
     ]
    }
   ],
   "source": [
    "if \"thillai\"/2:\n",
    "    print(\"yes\")"
   ]
  },
  {
   "cell_type": "code",
   "execution_count": 156,
   "id": "85d8c740",
   "metadata": {},
   "outputs": [
    {
     "ename": "SyntaxError",
     "evalue": "invalid syntax (588381360.py, line 1)",
     "output_type": "error",
     "traceback": [
      "\u001b[1;36m  Input \u001b[1;32mIn [156]\u001b[1;36m\u001b[0m\n\u001b[1;33m    iff 4+5:\u001b[0m\n\u001b[1;37m        ^\u001b[0m\n\u001b[1;31mSyntaxError\u001b[0m\u001b[1;31m:\u001b[0m invalid syntax\n"
     ]
    }
   ],
   "source": [
    "iff 4+5:\n",
    "    print(\"yes\")\n",
    "    "
   ]
  },
  {
   "cell_type": "code",
   "execution_count": 158,
   "id": "5929e74f",
   "metadata": {},
   "outputs": [
    {
     "name": "stdout",
     "output_type": "stream",
     "text": [
      "Thillai\n"
     ]
    },
    {
     "ename": "ValueError",
     "evalue": "invalid literal for int() with base 10: 'Thillai'",
     "output_type": "error",
     "traceback": [
      "\u001b[1;31m---------------------------------------------------------------------------\u001b[0m",
      "\u001b[1;31mValueError\u001b[0m                                Traceback (most recent call last)",
      "Input \u001b[1;32mIn [158]\u001b[0m, in \u001b[0;36m<cell line: 1>\u001b[1;34m()\u001b[0m\n\u001b[1;32m----> 1\u001b[0m x \u001b[38;5;241m=\u001b[39m \u001b[38;5;28;43mint\u001b[39;49m\u001b[43m(\u001b[49m\u001b[38;5;28;43minput\u001b[39;49m\u001b[43m(\u001b[49m\u001b[43m)\u001b[49m\u001b[43m)\u001b[49m\n",
      "\u001b[1;31mValueError\u001b[0m: invalid literal for int() with base 10: 'Thillai'"
     ]
    }
   ],
   "source": [
    "x = int(input())"
   ]
  },
  {
   "cell_type": "code",
   "execution_count": null,
   "id": "337ee235",
   "metadata": {},
   "outputs": [],
   "source": [
    "debugging - errors"
   ]
  },
  {
   "cell_type": "markdown",
   "id": "f37f6cd7",
   "metadata": {},
   "source": [
    "# list comprehension"
   ]
  },
  {
   "cell_type": "code",
   "execution_count": 159,
   "id": "e9394a9b",
   "metadata": {},
   "outputs": [],
   "source": [
    "lis = [\"apple\",\"orange\",\"mango\"]"
   ]
  },
  {
   "cell_type": "code",
   "execution_count": 160,
   "id": "d1bfddda",
   "metadata": {},
   "outputs": [
    {
     "data": {
      "text/plain": [
       "'apple'"
      ]
     },
     "execution_count": 160,
     "metadata": {},
     "output_type": "execute_result"
    }
   ],
   "source": [
    "lis[0]"
   ]
  },
  {
   "cell_type": "code",
   "execution_count": 162,
   "id": "9089fad2",
   "metadata": {},
   "outputs": [
    {
     "data": {
      "text/plain": [
       "'orange'"
      ]
     },
     "execution_count": 162,
     "metadata": {},
     "output_type": "execute_result"
    }
   ],
   "source": [
    "lis[1]"
   ]
  },
  {
   "cell_type": "code",
   "execution_count": 163,
   "id": "49b9c1af",
   "metadata": {},
   "outputs": [],
   "source": [
    "surya = [1,2,3,\"ljfsdlf3244\"]"
   ]
  },
  {
   "cell_type": "code",
   "execution_count": 167,
   "id": "9e076c5b",
   "metadata": {},
   "outputs": [
    {
     "data": {
      "text/plain": [
       "[1, 2]"
      ]
     },
     "execution_count": 167,
     "metadata": {},
     "output_type": "execute_result"
    }
   ],
   "source": [
    "surya[0:2]"
   ]
  },
  {
   "cell_type": "code",
   "execution_count": 171,
   "id": "47408c82",
   "metadata": {},
   "outputs": [],
   "source": [
    "surya.extend([6])"
   ]
  },
  {
   "cell_type": "code",
   "execution_count": 172,
   "id": "9a3cd5c0",
   "metadata": {},
   "outputs": [
    {
     "data": {
      "text/plain": [
       "[1, 2, 3, 'ljfsdlf3244', 5, 6]"
      ]
     },
     "execution_count": 172,
     "metadata": {},
     "output_type": "execute_result"
    }
   ],
   "source": [
    "surya"
   ]
  },
  {
   "cell_type": "code",
   "execution_count": 174,
   "id": "d18a9807",
   "metadata": {},
   "outputs": [],
   "source": [
    "surya.append('insert')"
   ]
  },
  {
   "cell_type": "code",
   "execution_count": 175,
   "id": "f48331f4",
   "metadata": {},
   "outputs": [
    {
     "data": {
      "text/plain": [
       "[1, 2, 3, 'ljfsdlf3244', 5, 6, 'insert']"
      ]
     },
     "execution_count": 175,
     "metadata": {},
     "output_type": "execute_result"
    }
   ],
   "source": [
    "surya"
   ]
  },
  {
   "cell_type": "code",
   "execution_count": 176,
   "id": "71135200",
   "metadata": {},
   "outputs": [
    {
     "data": {
      "text/plain": [
       "['apple', 'orange', 'mango']"
      ]
     },
     "execution_count": 176,
     "metadata": {},
     "output_type": "execute_result"
    }
   ],
   "source": [
    "lis"
   ]
  },
  {
   "cell_type": "code",
   "execution_count": 177,
   "id": "89f7779b",
   "metadata": {},
   "outputs": [
    {
     "data": {
      "text/plain": [
       "[1, 2, 3, 'ljfsdlf3244', 5, 6, 'insert']"
      ]
     },
     "execution_count": 177,
     "metadata": {},
     "output_type": "execute_result"
    }
   ],
   "source": [
    "surya"
   ]
  },
  {
   "cell_type": "code",
   "execution_count": 179,
   "id": "9f18bfe0",
   "metadata": {},
   "outputs": [],
   "source": [
    "lis.extend(surya)"
   ]
  },
  {
   "cell_type": "code",
   "execution_count": 180,
   "id": "736abbb0",
   "metadata": {},
   "outputs": [
    {
     "data": {
      "text/plain": [
       "['apple', 'orange', 'mango', 1, 2, 3, 'ljfsdlf3244', 5, 6, 'insert']"
      ]
     },
     "execution_count": 180,
     "metadata": {},
     "output_type": "execute_result"
    }
   ],
   "source": [
    "lis"
   ]
  },
  {
   "cell_type": "code",
   "execution_count": 182,
   "id": "a22d0b49",
   "metadata": {},
   "outputs": [],
   "source": [
    "v = [ \"wheet\",\"rice\",\"grams\" ]"
   ]
  },
  {
   "cell_type": "code",
   "execution_count": 183,
   "id": "c589dedc",
   "metadata": {},
   "outputs": [
    {
     "data": {
      "text/plain": [
       "list"
      ]
     },
     "execution_count": 183,
     "metadata": {},
     "output_type": "execute_result"
    }
   ],
   "source": [
    "type(v)  [    ]"
   ]
  },
  {
   "cell_type": "code",
   "execution_count": null,
   "id": "367a34db",
   "metadata": {},
   "outputs": [],
   "source": [
    "Advantange:\n",
    "    1.more time efficient and space efficeint than loops\n",
    "    2.fewer line of code\n",
    "    3.iteration or looping"
   ]
  },
  {
   "cell_type": "code",
   "execution_count": null,
   "id": "ccf74e0f",
   "metadata": {},
   "outputs": [],
   "source": [
    "syntax of list comprehension:\n",
    "    \n",
    "    newlist = [  expression(element) for element in oldlist if condition  ]"
   ]
  },
  {
   "cell_type": "code",
   "execution_count": 186,
   "id": "1fd7644b",
   "metadata": {},
   "outputs": [],
   "source": [
    "# Even number \n",
    "\n",
    "even = [i for i in range(1,31) if i %2 == 0]\n"
   ]
  },
  {
   "cell_type": "code",
   "execution_count": 187,
   "id": "4ac3b017",
   "metadata": {},
   "outputs": [
    {
     "data": {
      "text/plain": [
       "[2, 4, 6, 8, 10, 12, 14, 16, 18, 20, 22, 24, 26, 28, 30]"
      ]
     },
     "execution_count": 187,
     "metadata": {},
     "output_type": "execute_result"
    }
   ],
   "source": [
    "even"
   ]
  },
  {
   "cell_type": "code",
   "execution_count": 188,
   "id": "1c4e37b1",
   "metadata": {},
   "outputs": [],
   "source": [
    "lis = [ \"even number\" if i %2 ==0 else \"odd number\" for i in range(8)  ]"
   ]
  },
  {
   "cell_type": "code",
   "execution_count": 189,
   "id": "8e60e453",
   "metadata": {},
   "outputs": [
    {
     "data": {
      "text/plain": [
       "['even number',\n",
       " 'odd number',\n",
       " 'even number',\n",
       " 'odd number',\n",
       " 'even number',\n",
       " 'odd number',\n",
       " 'even number',\n",
       " 'odd number']"
      ]
     },
     "execution_count": 189,
     "metadata": {},
     "output_type": "execute_result"
    }
   ],
   "source": [
    "lis"
   ]
  },
  {
   "cell_type": "code",
   "execution_count": 218,
   "id": "1201c0a3",
   "metadata": {},
   "outputs": [],
   "source": [
    "lis1 = [ j for j in range(100)  if j % 5 ==0  if j % 10 ==0 ]"
   ]
  },
  {
   "cell_type": "code",
   "execution_count": 219,
   "id": "3a3c0572",
   "metadata": {},
   "outputs": [
    {
     "data": {
      "text/plain": [
       "[0, 10, 20, 30, 40, 50, 60, 70, 80, 90]"
      ]
     },
     "execution_count": 219,
     "metadata": {},
     "output_type": "execute_result"
    }
   ],
   "source": [
    "lis1"
   ]
  },
  {
   "cell_type": "code",
   "execution_count": 222,
   "id": "36f72eab",
   "metadata": {},
   "outputs": [],
   "source": [
    "new = [ string[::-1]  for string in  ('malayalam','madam','geeks')  ]"
   ]
  },
  {
   "cell_type": "code",
   "execution_count": 224,
   "id": "372dae8f",
   "metadata": {},
   "outputs": [
    {
     "data": {
      "text/plain": [
       "['malayalam', 'madam', 'skeeg']"
      ]
     },
     "execution_count": 224,
     "metadata": {},
     "output_type": "execute_result"
    }
   ],
   "source": [
    "new"
   ]
  },
  {
   "cell_type": "code",
   "execution_count": 225,
   "id": "0e53a646",
   "metadata": {},
   "outputs": [],
   "source": [
    "def parabola(x):\n",
    "    y = 5*(x**2)+16*x+20\n",
    "    return y"
   ]
  },
  {
   "cell_type": "code",
   "execution_count": 226,
   "id": "c316ac16",
   "metadata": {},
   "outputs": [],
   "source": [
    "newlist = [ parabola(i) for i in range(10)]"
   ]
  },
  {
   "cell_type": "code",
   "execution_count": 227,
   "id": "b53df5d0",
   "metadata": {},
   "outputs": [
    {
     "data": {
      "text/plain": [
       "[20, 41, 72, 113, 164, 225, 296, 377, 468, 569]"
      ]
     },
     "execution_count": 227,
     "metadata": {},
     "output_type": "execute_result"
    }
   ],
   "source": [
    "newlist"
   ]
  },
  {
   "cell_type": "code",
   "execution_count": 228,
   "id": "d155da46",
   "metadata": {},
   "outputs": [
    {
     "name": "stdout",
     "output_type": "stream",
     "text": [
      "Time taken for_loop: 0.53\n",
      "Time taken for list_comprehension: 0.44\n"
     ]
    }
   ],
   "source": [
    "# Import required module\n",
    "import time\n",
    "# define function to implement for loop\n",
    "def for_loop(n):\n",
    "\tresult = []\n",
    "\tfor i in range(n):\n",
    "\t\tresult.append(i**2)\n",
    "\treturn result\n",
    "\n",
    "# define function to implement list comprehension\n",
    "def list_comprehension(n):\n",
    "\treturn [i**2 for i in range(n)]\n",
    "# Driver Code\n",
    "# Calculate time taken by for_loop()\n",
    "begin = time.time()\n",
    "for_loop(10**6)\n",
    "end = time.time()\n",
    "\n",
    "# Display time taken by for_loop()\n",
    "print('Time taken for_loop:', round(end-begin, 2))\n",
    "\n",
    "# Calculate time takens by list_comprehension()\n",
    "begin = time.time()\n",
    "list_comprehension(10**6)\n",
    "end = time.time()\n",
    "\n",
    "# Display time taken by for_loop()\n",
    "print('Time taken for list_comprehension:', round(end-begin, 2))\n"
   ]
  },
  {
   "cell_type": "code",
   "execution_count": null,
   "id": "3443873b",
   "metadata": {},
   "outputs": [],
   "source": [
    "def for_loop(n):\n",
    "\tresult = []\n",
    "\tfor i in range(n):\n",
    "\t\tresult.append(i**2)\n",
    "\treturn result\n",
    "\n",
    "def list_comprehension(n):\n",
    "\treturn [i**2 for i in range(n)]\n"
   ]
  },
  {
   "cell_type": "markdown",
   "id": "c237afee",
   "metadata": {},
   "source": [
    "# file handling"
   ]
  },
  {
   "cell_type": "code",
   "execution_count": null,
   "id": "c07ddb73",
   "metadata": {},
   "outputs": [],
   "source": [
    "file handling - how we can read , write , append"
   ]
  },
  {
   "cell_type": "code",
   "execution_count": null,
   "id": "b89930fe",
   "metadata": {},
   "outputs": [],
   "source": [
    "syntax:\n",
    "file = open(filename , mode)"
   ]
  },
  {
   "cell_type": "code",
   "execution_count": null,
   "id": "4ae72895",
   "metadata": {},
   "outputs": [],
   "source": [
    "r- open a existing file ( read)\n",
    "w - open existing file for write purpose (write)\n",
    "a  - open file for appending purpose ( append)"
   ]
  },
  {
   "cell_type": "code",
   "execution_count": 240,
   "id": "14d0cd9f",
   "metadata": {},
   "outputs": [],
   "source": [
    "file = open('sample.txt','r')"
   ]
  },
  {
   "cell_type": "code",
   "execution_count": 242,
   "id": "750f1667",
   "metadata": {},
   "outputs": [
    {
     "data": {
      "text/plain": [
       "<_io.TextIOWrapper name='sample.txt' mode='r' encoding='cp1252'>"
      ]
     },
     "execution_count": 242,
     "metadata": {},
     "output_type": "execute_result"
    }
   ],
   "source": [
    "file"
   ]
  },
  {
   "cell_type": "code",
   "execution_count": 241,
   "id": "8ef7b6c9",
   "metadata": {},
   "outputs": [
    {
     "name": "stdout",
     "output_type": "stream",
     "text": [
      "Name\tage\tmobile no\tcity\tmarks\tsalary\n",
      "A\t50\t9900763290\tBangalore\t285\t10818\n",
      "B\t23\t9709303020\tMumbai\t434\t12344\n",
      "C\t22\t9796840335\tpune\t416\t11506\n",
      "D\t47\t9433821160\tchennai\t189\t15249\n",
      "E\t33\t9840448035\tBangalore\t117\t13072\n",
      "F\t59\t9626621256\tchennai\t326\t18206\n",
      "G\t21\t9775317986\thydrabad\t467\t13755\n",
      "H\t28\t9798357363\tcalcatta\t401\t15539\n",
      "I\t37\t9338865840\tpune\t487\t11339\n",
      "J\t50\t9427086263\tMumbai\t265\t19676\n",
      "\n"
     ]
    }
   ],
   "source": [
    "print(file.read())"
   ]
  },
  {
   "cell_type": "code",
   "execution_count": 238,
   "id": "ee8ff2a5",
   "metadata": {},
   "outputs": [],
   "source": [
    "import os\n",
    "os.chdir('C:\\\\Users\\\\Admin\\\\Desktop\\\\project\\\\BA\\\\week 1')"
   ]
  },
  {
   "cell_type": "code",
   "execution_count": 239,
   "id": "855a5e3b",
   "metadata": {},
   "outputs": [
    {
     "data": {
      "text/plain": [
       "'C:\\\\Users\\\\Admin\\\\Desktop\\\\project\\\\BA\\\\week 1'"
      ]
     },
     "execution_count": 239,
     "metadata": {},
     "output_type": "execute_result"
    }
   ],
   "source": [
    "os.getcwd()"
   ]
  },
  {
   "cell_type": "code",
   "execution_count": null,
   "id": "b75879fa",
   "metadata": {},
   "outputs": [],
   "source": [
    "path define\n",
    "\n",
    "1.r'C:\\Users\\Admin\\Desktop\\project\\BA\\week 1'\n",
    "2.C:\\\\Users\\\\Admin\\\\Desktop\\\\project\\\\BA\\\\week 1\n",
    "3.C:/Users/Admin/Desktop/project/BA/week 1"
   ]
  },
  {
   "cell_type": "code",
   "execution_count": 237,
   "id": "ea956d83",
   "metadata": {},
   "outputs": [
    {
     "name": "stdout",
     "output_type": "stream",
     "text": [
      "Name\tage\tmobile no\tcity\tmarks\tsalary\n",
      "A\t50\t9900763290\tBangalore\t285\t10818\n",
      "B\t23\t9709303020\tMumbai\t434\t12344\n",
      "C\t22\t9796840335\tpune\t416\t11506\n",
      "D\t47\t9433821160\tchennai\t189\t15249\n",
      "E\t33\t9840448035\tBangalore\t117\t13072\n",
      "F\t59\t9626621256\tchennai\t326\t18206\n",
      "G\t21\t9775317986\thydrabad\t467\t13755\n",
      "H\t28\t9798357363\tcalcatta\t401\t15539\n",
      "I\t37\t9338865840\tpune\t487\t11339\n",
      "J\t50\t9427086263\tMumbai\t265\t19676\n",
      "\n"
     ]
    }
   ],
   "source": [
    "print(file.read())"
   ]
  },
  {
   "cell_type": "code",
   "execution_count": null,
   "id": "ffdd5ba9",
   "metadata": {},
   "outputs": [],
   "source": [
    "class and objects"
   ]
  },
  {
   "cell_type": "code",
   "execution_count": null,
   "id": "d816f2ff",
   "metadata": {},
   "outputs": [],
   "source": [
    "syntax:\n",
    "    class classname:\n",
    "        sttatment"
   ]
  },
  {
   "cell_type": "code",
   "execution_count": null,
   "id": "f2906839",
   "metadata": {},
   "outputs": [],
   "source": [
    "steps \n",
    "\n",
    "1.line eqn\n",
    "2.parabola eqn\n",
    "3.string combine"
   ]
  },
  {
   "cell_type": "code",
   "execution_count": null,
   "id": "c1bddc19",
   "metadata": {},
   "outputs": [],
   "source": [
    "class - we can create multiple objects"
   ]
  },
  {
   "cell_type": "code",
   "execution_count": 3,
   "id": "da59b395",
   "metadata": {},
   "outputs": [],
   "source": [
    "# Example\n",
    "\n",
    "class msdhoni:\n",
    "    \n",
    "    def line(a,b,x):\n",
    "        y = a + b*x \n",
    "        return y\n",
    "    def parabola(a,x,b,c):\n",
    "        z = a*(x**2)+b*x+c\n",
    "        return z\n",
    "    def combine(fname,lname):\n",
    "        cc = fname + lname\n",
    "        return cc\n",
    "    \n"
   ]
  },
  {
   "cell_type": "code",
   "execution_count": 8,
   "id": "059fff89",
   "metadata": {},
   "outputs": [
    {
     "data": {
      "text/plain": [
       "7"
      ]
     },
     "execution_count": 8,
     "metadata": {},
     "output_type": "execute_result"
    }
   ],
   "source": [
    "msdhoni.line(1,2,3)"
   ]
  },
  {
   "cell_type": "code",
   "execution_count": 4,
   "id": "c50b740e",
   "metadata": {},
   "outputs": [],
   "source": [
    "rajini = msdhoni"
   ]
  },
  {
   "cell_type": "code",
   "execution_count": 5,
   "id": "5783d723",
   "metadata": {},
   "outputs": [
    {
     "data": {
      "text/plain": [
       "7"
      ]
     },
     "execution_count": 5,
     "metadata": {},
     "output_type": "execute_result"
    }
   ],
   "source": [
    "rajini.line(1,2,3)"
   ]
  },
  {
   "cell_type": "code",
   "execution_count": 6,
   "id": "aff3f846",
   "metadata": {},
   "outputs": [
    {
     "data": {
      "text/plain": [
       "14"
      ]
     },
     "execution_count": 6,
     "metadata": {},
     "output_type": "execute_result"
    }
   ],
   "source": [
    "rajini.parabola(1,2,3,4)"
   ]
  },
  {
   "cell_type": "code",
   "execution_count": 7,
   "id": "e82c7996",
   "metadata": {},
   "outputs": [
    {
     "data": {
      "text/plain": [
       "'thillaimurali'"
      ]
     },
     "execution_count": 7,
     "metadata": {},
     "output_type": "execute_result"
    }
   ],
   "source": [
    "rajini.combine(\"thillai\",\"murali\")"
   ]
  },
  {
   "cell_type": "code",
   "execution_count": null,
   "id": "8a5e32fe",
   "metadata": {},
   "outputs": [],
   "source": []
  },
  {
   "cell_type": "code",
   "execution_count": null,
   "id": "00003bc6",
   "metadata": {},
   "outputs": [],
   "source": [
    "steps \n",
    "\n",
    "1.line eqn   - y = a+bx\n",
    "2.parabola eqn  -> y = ax2+bx+c\n",
    "3.string combine -> fname + lname"
   ]
  },
  {
   "cell_type": "code",
   "execution_count": 15,
   "id": "cd06a4c6",
   "metadata": {},
   "outputs": [],
   "source": [
    "class google:\n",
    "    \n",
    "    def __init__(self,name,age):\n",
    "        self.name = name\n",
    "        self.age = age\n",
    "        \n",
    "    def hello(self):\n",
    "        print(\"myname is \",self.name,self.age)"
   ]
  },
  {
   "cell_type": "code",
   "execution_count": 16,
   "id": "e2a4a4c9",
   "metadata": {},
   "outputs": [],
   "source": [
    "p = google(\"sachin\",24)"
   ]
  },
  {
   "cell_type": "code",
   "execution_count": 17,
   "id": "86533453",
   "metadata": {},
   "outputs": [
    {
     "name": "stdout",
     "output_type": "stream",
     "text": [
      "myname is  sachin 24\n"
     ]
    }
   ],
   "source": [
    "p.hello()"
   ]
  },
  {
   "cell_type": "code",
   "execution_count": null,
   "id": "e17bb27a",
   "metadata": {},
   "outputs": [],
   "source": [
    "Task 1 :\n",
    "    prime numers 1 to 100 , using for loop or list comprehnsion\n",
    "    create class with your family detail , education , work exp.."
   ]
  },
  {
   "cell_type": "code",
   "execution_count": 15,
   "id": "b156474e",
   "metadata": {},
   "outputs": [],
   "source": [
    "import pickle  (pickling)"
   ]
  },
  {
   "cell_type": "code",
   "execution_count": null,
   "id": "9c99b857",
   "metadata": {},
   "outputs": [],
   "source": []
  },
  {
   "cell_type": "code",
   "execution_count": null,
   "id": "7aece12e",
   "metadata": {},
   "outputs": [],
   "source": [
    "csv , .xlsx - excel document"
   ]
  },
  {
   "cell_type": "code",
   "execution_count": null,
   "id": "b80f86bf",
   "metadata": {},
   "outputs": [],
   "source": [
    ".pkl ( storing a large volume of file in our local )"
   ]
  },
  {
   "cell_type": "code",
   "execution_count": null,
   "id": "3be3040a",
   "metadata": {},
   "outputs": [],
   "source": [
    "50 lakhs records .pkl compress save , excel , csv .txt"
   ]
  },
  {
   "cell_type": "code",
   "execution_count": null,
   "id": "4cc5d155",
   "metadata": {},
   "outputs": [],
   "source": [
    "upper , lower , capilize , casefold ,  ..."
   ]
  },
  {
   "cell_type": "code",
   "execution_count": null,
   "id": "bfd9075a",
   "metadata": {},
   "outputs": [],
   "source": [
    "custom funciton\n",
    "\n",
    "def funcname(p1,..)\n",
    "    sttt\n",
    "    return true"
   ]
  },
  {
   "cell_type": "code",
   "execution_count": null,
   "id": "0128edb8",
   "metadata": {},
   "outputs": [],
   "source": []
  },
  {
   "cell_type": "code",
   "execution_count": null,
   "id": "341194c8",
   "metadata": {},
   "outputs": [],
   "source": []
  },
  {
   "cell_type": "markdown",
   "id": "452b7078",
   "metadata": {},
   "source": [
    "# python lambda fucntion "
   ]
  },
  {
   "cell_type": "code",
   "execution_count": null,
   "id": "4cf46209",
   "metadata": {},
   "outputs": [],
   "source": [
    "lambda - anonymoous function , opeartion - 1"
   ]
  },
  {
   "cell_type": "code",
   "execution_count": 16,
   "id": "5448cf3a",
   "metadata": {},
   "outputs": [],
   "source": [
    "string = \"python\""
   ]
  },
  {
   "cell_type": "code",
   "execution_count": 18,
   "id": "8c0760da",
   "metadata": {},
   "outputs": [],
   "source": []
  },
  {
   "cell_type": "code",
   "execution_count": 19,
   "id": "b67e537e",
   "metadata": {},
   "outputs": [
    {
     "data": {
      "text/plain": [
       "'PYTHON'"
      ]
     },
     "execution_count": 19,
     "metadata": {},
     "output_type": "execute_result"
    }
   ],
   "source": [
    "upp(string)"
   ]
  },
  {
   "cell_type": "code",
   "execution_count": 20,
   "id": "2e3131de",
   "metadata": {},
   "outputs": [],
   "source": [
    "name = \"thillai\"\n",
    "name22 = \"murali\""
   ]
  },
  {
   "cell_type": "code",
   "execution_count": null,
   "id": "90457e69",
   "metadata": {},
   "outputs": [],
   "source": [
    "upp = lambda x: x.upper() "
   ]
  },
  {
   "cell_type": "code",
   "execution_count": 21,
   "id": "a9ba9ff9",
   "metadata": {},
   "outputs": [
    {
     "data": {
      "text/plain": [
       "'THILLAI'"
      ]
     },
     "execution_count": 21,
     "metadata": {},
     "output_type": "execute_result"
    }
   ],
   "source": [
    "upp(name)"
   ]
  },
  {
   "cell_type": "code",
   "execution_count": 23,
   "id": "21809b1b",
   "metadata": {},
   "outputs": [
    {
     "data": {
      "text/plain": [
       "'MURALI'"
      ]
     },
     "execution_count": 23,
     "metadata": {},
     "output_type": "execute_result"
    }
   ],
   "source": [
    "upp(name22)"
   ]
  },
  {
   "cell_type": "code",
   "execution_count": 24,
   "id": "d0a86f69",
   "metadata": {},
   "outputs": [],
   "source": [
    "max1 = lambda a,b : a if a>b else b"
   ]
  },
  {
   "cell_type": "code",
   "execution_count": 25,
   "id": "fb18e6fe",
   "metadata": {},
   "outputs": [
    {
     "data": {
      "text/plain": [
       "2"
      ]
     },
     "execution_count": 25,
     "metadata": {},
     "output_type": "execute_result"
    }
   ],
   "source": [
    "max1(1,2)"
   ]
  },
  {
   "cell_type": "code",
   "execution_count": 26,
   "id": "25623be3",
   "metadata": {},
   "outputs": [
    {
     "data": {
      "text/plain": [
       "9"
      ]
     },
     "execution_count": 26,
     "metadata": {},
     "output_type": "execute_result"
    }
   ],
   "source": [
    "max1(9,4)"
   ]
  },
  {
   "cell_type": "code",
   "execution_count": null,
   "id": "bf51c808",
   "metadata": {},
   "outputs": [],
   "source": [
    "syntax:\n",
    "    lamba expressio : operation"
   ]
  },
  {
   "cell_type": "code",
   "execution_count": 27,
   "id": "05d2cd1a",
   "metadata": {},
   "outputs": [],
   "source": [
    "li = [5,6,7,88,99]"
   ]
  },
  {
   "cell_type": "code",
   "execution_count": 18,
   "id": "9eb2ea53",
   "metadata": {},
   "outputs": [
    {
     "ename": "NameError",
     "evalue": "name 'li' is not defined",
     "output_type": "error",
     "traceback": [
      "\u001b[1;31m---------------------------------------------------------------------------\u001b[0m",
      "\u001b[1;31mNameError\u001b[0m                                 Traceback (most recent call last)",
      "Input \u001b[1;32mIn [18]\u001b[0m, in \u001b[0;36m<cell line: 1>\u001b[1;34m()\u001b[0m\n\u001b[1;32m----> 1\u001b[0m xx \u001b[38;5;241m=\u001b[39m \u001b[38;5;28mlist\u001b[39m((\u001b[38;5;28;01mlambda\u001b[39;00m x:x \u001b[38;5;241m%\u001b[39m \u001b[38;5;241m2\u001b[39m \u001b[38;5;241m==\u001b[39m\u001b[38;5;241m0\u001b[39m,\u001b[43mli\u001b[49m))\n",
      "\u001b[1;31mNameError\u001b[0m: name 'li' is not defined"
     ]
    }
   ],
   "source": [
    "xx = list(filter(lambda x:x % 2 ==0,li))"
   ]
  },
  {
   "cell_type": "code",
   "execution_count": 31,
   "id": "f6825e6b",
   "metadata": {},
   "outputs": [
    {
     "data": {
      "text/plain": [
       "[6, 88]"
      ]
     },
     "execution_count": 31,
     "metadata": {},
     "output_type": "execute_result"
    }
   ],
   "source": [
    "xx"
   ]
  },
  {
   "cell_type": "code",
   "execution_count": 32,
   "id": "69527bdb",
   "metadata": {},
   "outputs": [
    {
     "data": {
      "text/plain": [
       "[10, 12, 14, 176, 198]"
      ]
     },
     "execution_count": 32,
     "metadata": {},
     "output_type": "execute_result"
    }
   ],
   "source": [
    "list(map(lambda x:x*2,li))"
   ]
  },
  {
   "cell_type": "code",
   "execution_count": 14,
   "id": "f678d462",
   "metadata": {},
   "outputs": [
    {
     "data": {
      "text/plain": [
       "<map at 0x29de34bf430>"
      ]
     },
     "execution_count": 14,
     "metadata": {},
     "output_type": "execute_result"
    }
   ],
   "source": [
    "# map(str.lower,\"thillai\")"
   ]
  },
  {
   "cell_type": "code",
   "execution_count": 19,
   "id": "74165f86",
   "metadata": {},
   "outputs": [],
   "source": [
    "import json"
   ]
  },
  {
   "cell_type": "code",
   "execution_count": 20,
   "id": "82ba936c",
   "metadata": {},
   "outputs": [],
   "source": [
    "x =  '{ \"name\":\"John\", \"age\":30, \"city\":\"New York\"}'"
   ]
  },
  {
   "cell_type": "code",
   "execution_count": 21,
   "id": "15b8c444",
   "metadata": {},
   "outputs": [],
   "source": [
    "y = json.loads(x)"
   ]
  },
  {
   "cell_type": "code",
   "execution_count": 23,
   "id": "9202a656",
   "metadata": {},
   "outputs": [
    {
     "data": {
      "text/plain": [
       "30"
      ]
     },
     "execution_count": 23,
     "metadata": {},
     "output_type": "execute_result"
    }
   ],
   "source": [
    "# json to python\n",
    "\n",
    "y['age']"
   ]
  },
  {
   "cell_type": "code",
   "execution_count": 24,
   "id": "22715f4a",
   "metadata": {},
   "outputs": [
    {
     "data": {
      "text/plain": [
       "'New York'"
      ]
     },
     "execution_count": 24,
     "metadata": {},
     "output_type": "execute_result"
    }
   ],
   "source": [
    "y['city']"
   ]
  },
  {
   "cell_type": "code",
   "execution_count": 25,
   "id": "5d048c37",
   "metadata": {},
   "outputs": [
    {
     "data": {
      "text/plain": [
       "'John'"
      ]
     },
     "execution_count": 25,
     "metadata": {},
     "output_type": "execute_result"
    }
   ],
   "source": [
    "y['name']"
   ]
  },
  {
   "cell_type": "code",
   "execution_count": 9,
   "id": "119b767e",
   "metadata": {},
   "outputs": [
    {
     "name": "stdout",
     "output_type": "stream",
     "text": [
      "30\n"
     ]
    }
   ],
   "source": [
    "# convert json to python\n",
    "\n",
    "import json\n",
    "\n",
    "# some JSON:\n",
    "x =  '{ \"name\":\"John\", \"age\":30, \"city\":\"New York\"}'\n",
    "\n",
    "# parse x:\n",
    "y = json.loads(x)\n",
    "\n",
    "# the result is a Python dictionary:\n",
    "print(y[\"age\"])"
   ]
  },
  {
   "cell_type": "code",
   "execution_count": 26,
   "id": "7034dd4e",
   "metadata": {},
   "outputs": [],
   "source": [
    "x = {\n",
    "  \"name\": \"John\",\n",
    "  \"age\": 30,\n",
    "  \"city\": \"New York\"\n",
    "}"
   ]
  },
  {
   "cell_type": "code",
   "execution_count": 27,
   "id": "c7828693",
   "metadata": {},
   "outputs": [
    {
     "data": {
      "text/plain": [
       "dict"
      ]
     },
     "execution_count": 27,
     "metadata": {},
     "output_type": "execute_result"
    }
   ],
   "source": [
    "type(x)"
   ]
  },
  {
   "cell_type": "code",
   "execution_count": null,
   "id": "966681a8",
   "metadata": {},
   "outputs": [],
   "source": []
  },
  {
   "cell_type": "code",
   "execution_count": 28,
   "id": "b3746264",
   "metadata": {},
   "outputs": [
    {
     "name": "stdout",
     "output_type": "stream",
     "text": [
      "{\"name\": \"John\", \"age\": 30, \"city\": \"New York\"}\n"
     ]
    }
   ],
   "source": [
    "# convert python to json\n",
    "import json\n",
    "\n",
    "# a Python object (dict):\n",
    "x = {\n",
    "  \"name\": \"John\",\n",
    "  \"age\": 30,\n",
    "  \"city\": \"New York\"\n",
    "}\n",
    "\n",
    "# convert into JSON:\n",
    "y = json.dumps(x)\n",
    "\n",
    "# the result is a JSON string:\n",
    "print(y)"
   ]
  },
  {
   "cell_type": "code",
   "execution_count": null,
   "id": "adbb0659",
   "metadata": {},
   "outputs": [],
   "source": []
  },
  {
   "cell_type": "code",
   "execution_count": null,
   "id": "2ed48a47",
   "metadata": {},
   "outputs": [],
   "source": []
  },
  {
   "cell_type": "code",
   "execution_count": 29,
   "id": "0f5677fb",
   "metadata": {},
   "outputs": [
    {
     "name": "stdout",
     "output_type": "stream",
     "text": [
      "{\"name\": \"John\", \"age\": 30}\n",
      "[\"apple\", \"bananas\"]\n",
      "[\"apple\", \"bananas\"]\n",
      "\"hello\"\n",
      "42\n",
      "31.76\n",
      "true\n",
      "false\n",
      "null\n"
     ]
    }
   ],
   "source": [
    "import json\n",
    "\n",
    "print(json.dumps({\"name\": \"John\", \"age\": 30}))\n",
    "print(json.dumps([\"apple\", \"bananas\"]))\n",
    "print(json.dumps((\"apple\", \"bananas\")))\n",
    "print(json.dumps(\"hello\"))\n",
    "print(json.dumps(42))\n",
    "print(json.dumps(31.76))\n",
    "print(json.dumps(True))\n",
    "print(json.dumps(False))\n",
    "print(json.dumps(None))"
   ]
  },
  {
   "cell_type": "code",
   "execution_count": null,
   "id": "53a76098",
   "metadata": {},
   "outputs": [],
   "source": [
    "json , load , dump \n",
    "\n",
    "convert to python\n",
    "python to json"
   ]
  },
  {
   "cell_type": "code",
   "execution_count": 32,
   "id": "9971e318",
   "metadata": {},
   "outputs": [],
   "source": [
    "# # import json\n",
    "# json.loads('df.json')"
   ]
  },
  {
   "cell_type": "code",
   "execution_count": 33,
   "id": "687d630f",
   "metadata": {},
   "outputs": [],
   "source": [
    "tup = (\"apple\",\"orange\",\"mango\")"
   ]
  },
  {
   "cell_type": "code",
   "execution_count": 34,
   "id": "00a9911f",
   "metadata": {},
   "outputs": [
    {
     "data": {
      "text/plain": [
       "('apple', 'orange', 'mango')"
      ]
     },
     "execution_count": 34,
     "metadata": {},
     "output_type": "execute_result"
    }
   ],
   "source": [
    "tup"
   ]
  },
  {
   "cell_type": "code",
   "execution_count": 48,
   "id": "82913340",
   "metadata": {},
   "outputs": [
    {
     "data": {
      "text/plain": [
       "<tuple_iterator at 0x29de3b38b80>"
      ]
     },
     "execution_count": 48,
     "metadata": {},
     "output_type": "execute_result"
    }
   ],
   "source": [
    "iter1 = iter(tup)\n",
    "iter1"
   ]
  },
  {
   "cell_type": "code",
   "execution_count": 47,
   "id": "cc0fe75e",
   "metadata": {},
   "outputs": [
    {
     "name": "stdout",
     "output_type": "stream",
     "text": [
      "mango\n"
     ]
    }
   ],
   "source": [
    "print(next(iter1))"
   ]
  },
  {
   "cell_type": "code",
   "execution_count": 49,
   "id": "ed1735d6",
   "metadata": {},
   "outputs": [
    {
     "name": "stdout",
     "output_type": "stream",
     "text": [
      "apple\n",
      "orange\n",
      "mango\n"
     ]
    }
   ],
   "source": [
    "print(next(iter1))\n",
    "print(next(iter1))\n",
    "print(next(iter1))"
   ]
  },
  {
   "cell_type": "code",
   "execution_count": 35,
   "id": "53a2e964",
   "metadata": {},
   "outputs": [
    {
     "data": {
      "text/plain": [
       "tuple"
      ]
     },
     "execution_count": 35,
     "metadata": {},
     "output_type": "execute_result"
    }
   ],
   "source": [
    "type(tup)"
   ]
  },
  {
   "cell_type": "code",
   "execution_count": 37,
   "id": "b74bac46",
   "metadata": {},
   "outputs": [],
   "source": [
    "iter1 = iter(tup)"
   ]
  },
  {
   "cell_type": "code",
   "execution_count": 36,
   "id": "bb4ead99",
   "metadata": {},
   "outputs": [
    {
     "name": "stdout",
     "output_type": "stream",
     "text": [
      "apple\n",
      "orange\n",
      "mango\n"
     ]
    }
   ],
   "source": [
    "for i in tup:\n",
    "    print(i)"
   ]
  },
  {
   "cell_type": "code",
   "execution_count": null,
   "id": "0fef1210",
   "metadata": {},
   "outputs": [],
   "source": []
  },
  {
   "cell_type": "code",
   "execution_count": null,
   "id": "af5ab8fa",
   "metadata": {},
   "outputs": [],
   "source": []
  },
  {
   "cell_type": "code",
   "execution_count": null,
   "id": "91325ecc",
   "metadata": {},
   "outputs": [],
   "source": []
  },
  {
   "cell_type": "code",
   "execution_count": 1,
   "id": "abd9b33c",
   "metadata": {},
   "outputs": [],
   "source": [
    "# Python 3 program for recursive binary search.\n",
    "\n",
    "def binary_search(arr, low, high, x):\n",
    "\n",
    "# Check base case\n",
    "    if high >= low:\n",
    "\n",
    "        mid = (high + low) // 2\n",
    "\n",
    "\n",
    "\t\tif arr[mid] == x:\n",
    "\t\t\treturn mid\n",
    "\n",
    "\t\t# If element is smaller than mid, then it can only\n",
    "\t\t# be present in left subarray\n",
    "\t\telif arr[mid] > x:\n",
    "\t\t\treturn binary_search(arr, low, mid - 1, x)\n",
    "\n",
    "\t\t# Else the element can only be present in right subarray\n",
    "\t\telse:\n",
    "\t\t\treturn binary_search(arr, mid + 1, high, x)\n",
    "\n",
    "\telse:\n",
    "\t\t# Element is not present in the array\n",
    "\t\treturn -1\n"
   ]
  },
  {
   "cell_type": "code",
   "execution_count": 6,
   "id": "4d299689",
   "metadata": {},
   "outputs": [
    {
     "name": "stdout",
     "output_type": "stream",
     "text": [
      "Element is not present in array\n"
     ]
    }
   ],
   "source": [
    "# Test array\n",
    "arr = [ 2, 3, 4, 10, 40 ]\n",
    "x = 20\n",
    "\n",
    "# Function call\n",
    "result = binary_search(arr, 0, len(arr)-1, x)\n",
    "\n",
    "if result != -1:\n",
    "\tprint(\"Element is present at index\", str(result))\n",
    "else:\n",
    "\tprint(\"Element is not present in array\")"
   ]
  },
  {
   "cell_type": "code",
   "execution_count": 7,
   "id": "03d7edae",
   "metadata": {},
   "outputs": [
    {
     "data": {
      "text/plain": [
       "4"
      ]
     },
     "execution_count": 7,
     "metadata": {},
     "output_type": "execute_result"
    }
   ],
   "source": [
    "len(arr)-1"
   ]
  },
  {
   "cell_type": "code",
   "execution_count": null,
   "id": "316783cf",
   "metadata": {},
   "outputs": [],
   "source": [
    "Task1:\n",
    "    \n",
    "1.creat list with grocerry details\n",
    "2.conditonal statmetn , pythogrss , AC^2 = AB^2 + BC^2\n",
    "\n",
    "A and C gt AC^2 print\n",
    "B or C gt AB^2 print\n",
    "C gt , print(C)\n",
    "\n",
    "3.looping prime numbers upto 100 , print(even) & odd\n",
    "4.taks 3 need to do with list comprehension\n",
    "5.ab = log(x) + sin(y) + tan(z)  - function\n",
    "6.tan(y) = sin(x) / cos(z) - function\n",
    "7.1 / 1- r^2  function\n",
    "8.distance  = sqrt (  x1-x2 ^2 + y1-y2 ^2 ) function\n",
    "9.class object ( task 5-8)\n",
    "10.lambda b^2 - 4ac / 2a\n",
    "11.string phone fetch - regex exp\n",
    "\n",
    "\n",
    "\n",
    "\n"
   ]
  },
  {
   "cell_type": "code",
   "execution_count": null,
   "id": "5ba3dc56",
   "metadata": {},
   "outputs": [],
   "source": [
    "class & objects - regular routine ( brush , bath , food , work , education , sleeping)"
   ]
  },
  {
   "cell_type": "code",
   "execution_count": null,
   "id": "4c3b58ce",
   "metadata": {},
   "outputs": [],
   "source": [
    "class bsc  -100\n",
    "\n",
    "maths\n",
    "science\n",
    "social\n",
    "economicas\n",
    "\n",
    "\n",
    "\n",
    "class be   - 200\n",
    "\n",
    "eee,ece,mech,IT,...\n",
    "\n",
    "\n",
    "class ba  \n",
    "\n",
    "engilis, tamil , history,..."
   ]
  },
  {
   "cell_type": "code",
   "execution_count": null,
   "id": "6ecabfcb",
   "metadata": {},
   "outputs": [],
   "source": [
    "class name(p1,p2,...):\n",
    "    \n",
    "    def maths\n",
    "    best\n",
    "    \n",
    "    def science\n",
    "    avergae\n",
    "    \n",
    "    def social\n",
    "    excellent\n",
    "    ..."
   ]
  },
  {
   "cell_type": "code",
   "execution_count": null,
   "id": "608c491f",
   "metadata": {},
   "outputs": [],
   "source": [
    "class maths:\n",
    "        \n",
    "        def sqrt(x,y,z):\n",
    "            x = y * z\n",
    "            return x\n",
    "        \n",
    "        \n",
    "        def cube(a,b)\n",
    "        \n",
    "            v = a^3\n",
    "            return v\n",
    "            \n"
   ]
  },
  {
   "cell_type": "code",
   "execution_count": null,
   "id": "b8b370e3",
   "metadata": {},
   "outputs": [],
   "source": [
    "cc = maths\n",
    "cc.cube(1,4)\n",
    "cc.sqrt(8,9)"
   ]
  },
  {
   "cell_type": "code",
   "execution_count": null,
   "id": "c9781fc0",
   "metadata": {},
   "outputs": [],
   "source": [
    "lambda : anonyms , small operation we will use lambda"
   ]
  },
  {
   "cell_type": "code",
   "execution_count": 1,
   "id": "d530d0aa",
   "metadata": {},
   "outputs": [],
   "source": [
    "suma = lambda a,b : a+b "
   ]
  },
  {
   "cell_type": "code",
   "execution_count": 2,
   "id": "d80c285f",
   "metadata": {},
   "outputs": [
    {
     "data": {
      "text/plain": [
       "3"
      ]
     },
     "execution_count": 2,
     "metadata": {},
     "output_type": "execute_result"
    }
   ],
   "source": [
    "suma(1,2)"
   ]
  },
  {
   "cell_type": "code",
   "execution_count": 3,
   "id": "d4f5f880",
   "metadata": {},
   "outputs": [
    {
     "data": {
      "text/plain": [
       "9"
      ]
     },
     "execution_count": 3,
     "metadata": {},
     "output_type": "execute_result"
    }
   ],
   "source": [
    "suma(4,5)"
   ]
  },
  {
   "cell_type": "code",
   "execution_count": null,
   "id": "c36f6cf9",
   "metadata": {},
   "outputs": [],
   "source": [
    "lambda  arguments : calculation ( if else , condition , string function)"
   ]
  },
  {
   "cell_type": "code",
   "execution_count": 9,
   "id": "72e23cf6",
   "metadata": {},
   "outputs": [],
   "source": [
    "import numpy\n",
    "y = lambda x: numpy.sqrt(x)"
   ]
  },
  {
   "cell_type": "code",
   "execution_count": 11,
   "id": "5d94061a",
   "metadata": {},
   "outputs": [
    {
     "data": {
      "text/plain": [
       "3.0"
      ]
     },
     "execution_count": 11,
     "metadata": {},
     "output_type": "execute_result"
    }
   ],
   "source": [
    "y(9)"
   ]
  },
  {
   "cell_type": "code",
   "execution_count": 13,
   "id": "56606f77",
   "metadata": {},
   "outputs": [],
   "source": [
    "list1 = [1,2,3,4,5,6,7,89,10]"
   ]
  },
  {
   "cell_type": "code",
   "execution_count": null,
   "id": "88fba785",
   "metadata": {},
   "outputs": [],
   "source": [
    "filter , map - lambda apply to object"
   ]
  },
  {
   "cell_type": "code",
   "execution_count": null,
   "id": "5836b0ca",
   "metadata": {},
   "outputs": [],
   "source": [
    "list(map(function , object))"
   ]
  },
  {
   "cell_type": "code",
   "execution_count": 16,
   "id": "2cd3b603",
   "metadata": {},
   "outputs": [
    {
     "data": {
      "text/plain": [
       "[1.0,\n",
       " 1.4142135623730951,\n",
       " 1.7320508075688772,\n",
       " 2.0,\n",
       " 2.23606797749979,\n",
       " 2.449489742783178,\n",
       " 2.6457513110645907,\n",
       " 9.433981132056603,\n",
       " 3.1622776601683795]"
      ]
     },
     "execution_count": 16,
     "metadata": {},
     "output_type": "execute_result"
    }
   ],
   "source": [
    "list(map(lambda x:numpy.sqrt(x),list1))"
   ]
  },
  {
   "cell_type": "code",
   "execution_count": 17,
   "id": "b7e40469",
   "metadata": {},
   "outputs": [],
   "source": [
    "min1 = lambda x,y : x if (x>y) else y"
   ]
  },
  {
   "cell_type": "code",
   "execution_count": 18,
   "id": "53a68ffe",
   "metadata": {},
   "outputs": [
    {
     "data": {
      "text/plain": [
       "4"
      ]
     },
     "execution_count": 18,
     "metadata": {},
     "output_type": "execute_result"
    }
   ],
   "source": [
    "min1(3,4)"
   ]
  },
  {
   "cell_type": "code",
   "execution_count": null,
   "id": "f479ea8b",
   "metadata": {},
   "outputs": [],
   "source": [
    "import json\n",
    "\n",
    "object to json format\n",
    "python to json\n",
    "json to python"
   ]
  },
  {
   "cell_type": "code",
   "execution_count": null,
   "id": "3cf79fd6",
   "metadata": {},
   "outputs": [],
   "source": [
    "json.dump()"
   ]
  },
  {
   "cell_type": "code",
   "execution_count": null,
   "id": "22a2267c",
   "metadata": {},
   "outputs": [],
   "source": [
    "json.loads()"
   ]
  },
  {
   "cell_type": "code",
   "execution_count": null,
   "id": "4942cd9b",
   "metadata": {},
   "outputs": [],
   "source": [
    "shuffle - reverse "
   ]
  },
  {
   "cell_type": "code",
   "execution_count": null,
   "id": "c6ddd570",
   "metadata": {},
   "outputs": [],
   "source": [
    "truncate "
   ]
  },
  {
   "cell_type": "code",
   "execution_count": 22,
   "id": "307ae95a",
   "metadata": {},
   "outputs": [],
   "source": [
    "x = '    thillai     '"
   ]
  },
  {
   "cell_type": "code",
   "execution_count": 23,
   "id": "1a0e0871",
   "metadata": {},
   "outputs": [
    {
     "data": {
      "text/plain": [
       "'thillai'"
      ]
     },
     "execution_count": 23,
     "metadata": {},
     "output_type": "execute_result"
    }
   ],
   "source": [
    "x.strip()"
   ]
  },
  {
   "cell_type": "code",
   "execution_count": 24,
   "id": "f4237481",
   "metadata": {},
   "outputs": [
    {
     "data": {
      "text/plain": [
       "'    thillai     '"
      ]
     },
     "execution_count": 24,
     "metadata": {},
     "output_type": "execute_result"
    }
   ],
   "source": [
    "x.casefold() - upper to lower case"
   ]
  },
  {
   "cell_type": "code",
   "execution_count": 25,
   "id": "96007914",
   "metadata": {},
   "outputs": [],
   "source": [
    "x = [1,2,3,4,\"a\",\"b\",\"c\"]"
   ]
  },
  {
   "cell_type": "code",
   "execution_count": 26,
   "id": "8bff4b49",
   "metadata": {},
   "outputs": [
    {
     "data": {
      "text/plain": [
       "1"
      ]
     },
     "execution_count": 26,
     "metadata": {},
     "output_type": "execute_result"
    }
   ],
   "source": [
    "x[0]"
   ]
  },
  {
   "cell_type": "code",
   "execution_count": 27,
   "id": "13e251b2",
   "metadata": {},
   "outputs": [
    {
     "data": {
      "text/plain": [
       "['a']"
      ]
     },
     "execution_count": 27,
     "metadata": {},
     "output_type": "execute_result"
    }
   ],
   "source": [
    "x[4:5]"
   ]
  },
  {
   "cell_type": "code",
   "execution_count": 28,
   "id": "238e44f1",
   "metadata": {},
   "outputs": [
    {
     "data": {
      "text/plain": [
       "[2, 3, 4]"
      ]
     },
     "execution_count": 28,
     "metadata": {},
     "output_type": "execute_result"
    }
   ],
   "source": [
    "x[1:4]"
   ]
  },
  {
   "cell_type": "code",
   "execution_count": 29,
   "id": "cc0c576c",
   "metadata": {},
   "outputs": [],
   "source": [
    "y = [\"x\",\"y\"]"
   ]
  },
  {
   "cell_type": "code",
   "execution_count": 30,
   "id": "a7a5cf2f",
   "metadata": {},
   "outputs": [],
   "source": [
    "x.extend(y)"
   ]
  },
  {
   "cell_type": "code",
   "execution_count": 31,
   "id": "95b1d5ca",
   "metadata": {},
   "outputs": [
    {
     "data": {
      "text/plain": [
       "[1, 2, 3, 4, 'a', 'b', 'c', 'x', 'y']"
      ]
     },
     "execution_count": 31,
     "metadata": {},
     "output_type": "execute_result"
    }
   ],
   "source": [
    "x"
   ]
  },
  {
   "cell_type": "code",
   "execution_count": 32,
   "id": "5b411b9d",
   "metadata": {},
   "outputs": [],
   "source": [
    "x.append(y)"
   ]
  },
  {
   "cell_type": "code",
   "execution_count": 33,
   "id": "66e119fa",
   "metadata": {},
   "outputs": [
    {
     "data": {
      "text/plain": [
       "[1, 2, 3, 4, 'a', 'b', 'c', 'x', 'y', ['x', 'y']]"
      ]
     },
     "execution_count": 33,
     "metadata": {},
     "output_type": "execute_result"
    }
   ],
   "source": [
    "x"
   ]
  },
  {
   "cell_type": "code",
   "execution_count": 35,
   "id": "25d2980d",
   "metadata": {},
   "outputs": [],
   "source": [
    "x.remove('a')"
   ]
  },
  {
   "cell_type": "code",
   "execution_count": 36,
   "id": "d15dff7a",
   "metadata": {},
   "outputs": [
    {
     "data": {
      "text/plain": [
       "[1, 2, 3, 4, 'b', 'c', 'x', 'y', ['x', 'y']]"
      ]
     },
     "execution_count": 36,
     "metadata": {},
     "output_type": "execute_result"
    }
   ],
   "source": [
    "x"
   ]
  },
  {
   "cell_type": "code",
   "execution_count": 40,
   "id": "2c077e95",
   "metadata": {},
   "outputs": [
    {
     "data": {
      "text/plain": [
       "range(0, 6, 2)"
      ]
     },
     "execution_count": 40,
     "metadata": {},
     "output_type": "execute_result"
    }
   ],
   "source": [
    "range(0,6,2)"
   ]
  },
  {
   "cell_type": "code",
   "execution_count": 42,
   "id": "e62282f2",
   "metadata": {},
   "outputs": [
    {
     "name": "stdout",
     "output_type": "stream",
     "text": [
      "0\n",
      "9\n",
      "18\n",
      "27\n",
      "36\n",
      "45\n",
      "54\n",
      "63\n",
      "72\n",
      "81\n"
     ]
    }
   ],
   "source": [
    "for i in range(0,10):\n",
    "    print(9*i)"
   ]
  },
  {
   "cell_type": "code",
   "execution_count": 43,
   "id": "964462c6",
   "metadata": {},
   "outputs": [],
   "source": [
    "import pandas"
   ]
  },
  {
   "cell_type": "code",
   "execution_count": 44,
   "id": "124d81a3",
   "metadata": {},
   "outputs": [],
   "source": [
    "data = pandas.read_csv(r'C:\\Users\\Admin\\Desktop\\project\\BA\\week 1\\store2.csv')"
   ]
  },
  {
   "cell_type": "code",
   "execution_count": 46,
   "id": "27334054",
   "metadata": {},
   "outputs": [],
   "source": [
    "data = pandas.read_csv(r'C:\\Users\\Admin\\Desktop\\project\\BA\\week 1\\store2.csv',sep=\",\")"
   ]
  },
  {
   "cell_type": "code",
   "execution_count": 58,
   "id": "9eac78cd",
   "metadata": {},
   "outputs": [],
   "source": [
    "text = pandas.read_csv(r\"C:\\Users\\Admin\\Desktop\\project\\BA\\week 1\\sample 3.txt\",sep=\"@\")"
   ]
  },
  {
   "cell_type": "code",
   "execution_count": 59,
   "id": "2be39405",
   "metadata": {},
   "outputs": [
    {
     "data": {
      "text/html": [
       "<div>\n",
       "<style scoped>\n",
       "    .dataframe tbody tr th:only-of-type {\n",
       "        vertical-align: middle;\n",
       "    }\n",
       "\n",
       "    .dataframe tbody tr th {\n",
       "        vertical-align: top;\n",
       "    }\n",
       "\n",
       "    .dataframe thead th {\n",
       "        text-align: right;\n",
       "    }\n",
       "</style>\n",
       "<table border=\"1\" class=\"dataframe\">\n",
       "  <thead>\n",
       "    <tr style=\"text-align: right;\">\n",
       "      <th></th>\n",
       "      <th>Name</th>\n",
       "      <th>age</th>\n",
       "      <th>mobile no</th>\n",
       "      <th>city</th>\n",
       "      <th>marks</th>\n",
       "      <th>salary</th>\n",
       "    </tr>\n",
       "  </thead>\n",
       "  <tbody>\n",
       "    <tr>\n",
       "      <th>0</th>\n",
       "      <td>A</td>\n",
       "      <td>50</td>\n",
       "      <td>9900763290</td>\n",
       "      <td>Bangalore</td>\n",
       "      <td>285</td>\n",
       "      <td>10818</td>\n",
       "    </tr>\n",
       "    <tr>\n",
       "      <th>1</th>\n",
       "      <td>B</td>\n",
       "      <td>23</td>\n",
       "      <td>9709303020</td>\n",
       "      <td>Mumbai</td>\n",
       "      <td>434</td>\n",
       "      <td>12344</td>\n",
       "    </tr>\n",
       "    <tr>\n",
       "      <th>2</th>\n",
       "      <td>C</td>\n",
       "      <td>22</td>\n",
       "      <td>9796840335</td>\n",
       "      <td>pune</td>\n",
       "      <td>416</td>\n",
       "      <td>11506</td>\n",
       "    </tr>\n",
       "    <tr>\n",
       "      <th>3</th>\n",
       "      <td>D</td>\n",
       "      <td>47</td>\n",
       "      <td>9433821160</td>\n",
       "      <td>chennai</td>\n",
       "      <td>189</td>\n",
       "      <td>15249</td>\n",
       "    </tr>\n",
       "    <tr>\n",
       "      <th>4</th>\n",
       "      <td>E</td>\n",
       "      <td>33</td>\n",
       "      <td>9840448035</td>\n",
       "      <td>Bangalore</td>\n",
       "      <td>117</td>\n",
       "      <td>13072</td>\n",
       "    </tr>\n",
       "    <tr>\n",
       "      <th>5</th>\n",
       "      <td>F</td>\n",
       "      <td>59</td>\n",
       "      <td>9626621256</td>\n",
       "      <td>chennai</td>\n",
       "      <td>326</td>\n",
       "      <td>18206</td>\n",
       "    </tr>\n",
       "    <tr>\n",
       "      <th>6</th>\n",
       "      <td>G</td>\n",
       "      <td>21</td>\n",
       "      <td>9775317986</td>\n",
       "      <td>hydrabad</td>\n",
       "      <td>467</td>\n",
       "      <td>13755</td>\n",
       "    </tr>\n",
       "    <tr>\n",
       "      <th>7</th>\n",
       "      <td>H</td>\n",
       "      <td>28</td>\n",
       "      <td>9798357363</td>\n",
       "      <td>calcatta</td>\n",
       "      <td>401</td>\n",
       "      <td>15539</td>\n",
       "    </tr>\n",
       "    <tr>\n",
       "      <th>8</th>\n",
       "      <td>I</td>\n",
       "      <td>37</td>\n",
       "      <td>9338865840</td>\n",
       "      <td>pune</td>\n",
       "      <td>487</td>\n",
       "      <td>11339</td>\n",
       "    </tr>\n",
       "    <tr>\n",
       "      <th>9</th>\n",
       "      <td>J</td>\n",
       "      <td>50</td>\n",
       "      <td>9427086263</td>\n",
       "      <td>Mumbai</td>\n",
       "      <td>265</td>\n",
       "      <td>19676</td>\n",
       "    </tr>\n",
       "  </tbody>\n",
       "</table>\n",
       "</div>"
      ],
      "text/plain": [
       "  Name  age   mobile no       city  marks  salary\n",
       "0    A   50  9900763290  Bangalore    285   10818\n",
       "1    B   23  9709303020     Mumbai    434   12344\n",
       "2    C   22  9796840335       pune    416   11506\n",
       "3    D   47  9433821160    chennai    189   15249\n",
       "4    E   33  9840448035  Bangalore    117   13072\n",
       "5    F   59  9626621256    chennai    326   18206\n",
       "6    G   21  9775317986   hydrabad    467   13755\n",
       "7    H   28  9798357363   calcatta    401   15539\n",
       "8    I   37  9338865840       pune    487   11339\n",
       "9    J   50  9427086263     Mumbai    265   19676"
      ]
     },
     "execution_count": 59,
     "metadata": {},
     "output_type": "execute_result"
    }
   ],
   "source": [
    "text"
   ]
  },
  {
   "cell_type": "code",
   "execution_count": null,
   "id": "2bff2c7a",
   "metadata": {},
   "outputs": [],
   "source": []
  },
  {
   "cell_type": "code",
   "execution_count": 48,
   "id": "eb0f3ded",
   "metadata": {
    "collapsed": true
   },
   "outputs": [
    {
     "data": {
      "text/html": [
       "<div>\n",
       "<style scoped>\n",
       "    .dataframe tbody tr th:only-of-type {\n",
       "        vertical-align: middle;\n",
       "    }\n",
       "\n",
       "    .dataframe tbody tr th {\n",
       "        vertical-align: top;\n",
       "    }\n",
       "\n",
       "    .dataframe thead th {\n",
       "        text-align: right;\n",
       "    }\n",
       "</style>\n",
       "<table border=\"1\" class=\"dataframe\">\n",
       "  <thead>\n",
       "    <tr style=\"text-align: right;\">\n",
       "      <th></th>\n",
       "      <th>Row ID</th>\n",
       "      <th>Order ID</th>\n",
       "      <th>Order Date</th>\n",
       "      <th>Ship Date</th>\n",
       "      <th>Ship Mode</th>\n",
       "      <th>Customer ID</th>\n",
       "      <th>Customer Name</th>\n",
       "      <th>Segment</th>\n",
       "      <th>Country</th>\n",
       "      <th>City</th>\n",
       "      <th>...</th>\n",
       "      <th>Region</th>\n",
       "      <th>Product ID</th>\n",
       "      <th>Category</th>\n",
       "      <th>Sub-Category</th>\n",
       "      <th>Product Name</th>\n",
       "      <th>Sales</th>\n",
       "      <th>Quantity</th>\n",
       "      <th>Discount</th>\n",
       "      <th>Profit</th>\n",
       "      <th>rk</th>\n",
       "    </tr>\n",
       "  </thead>\n",
       "  <tbody>\n",
       "    <tr>\n",
       "      <th>9689</th>\n",
       "      <td>3348</td>\n",
       "      <td>CA-2015-112014</td>\n",
       "      <td>8/13/2015</td>\n",
       "      <td>42236</td>\n",
       "      <td>Standard Class</td>\n",
       "      <td>ON-18715</td>\n",
       "      <td>Odella Nelson</td>\n",
       "      <td>Corporate</td>\n",
       "      <td>United States</td>\n",
       "      <td>Yucaipa</td>\n",
       "      <td>...</td>\n",
       "      <td>West</td>\n",
       "      <td>OFF-AR-10003156</td>\n",
       "      <td>Office Supplies</td>\n",
       "      <td>Art</td>\n",
       "      <td>50 Colored Long Pencils</td>\n",
       "      <td>50.800</td>\n",
       "      <td>5</td>\n",
       "      <td>0.0</td>\n",
       "      <td>13.2080</td>\n",
       "      <td>1</td>\n",
       "    </tr>\n",
       "    <tr>\n",
       "      <th>9690</th>\n",
       "      <td>8088</td>\n",
       "      <td>CA-2016-106621</td>\n",
       "      <td>9/29/2016</td>\n",
       "      <td>42644</td>\n",
       "      <td>Second Class</td>\n",
       "      <td>DM-12955</td>\n",
       "      <td>Dario Medina</td>\n",
       "      <td>Corporate</td>\n",
       "      <td>United States</td>\n",
       "      <td>Yuma</td>\n",
       "      <td>...</td>\n",
       "      <td>West</td>\n",
       "      <td>OFF-AR-10002375</td>\n",
       "      <td>Office Supplies</td>\n",
       "      <td>Art</td>\n",
       "      <td>Newell 351</td>\n",
       "      <td>10.496</td>\n",
       "      <td>4</td>\n",
       "      <td>0.2</td>\n",
       "      <td>1.1808</td>\n",
       "      <td>1</td>\n",
       "    </tr>\n",
       "    <tr>\n",
       "      <th>9691</th>\n",
       "      <td>4823</td>\n",
       "      <td>CA-2016-134222</td>\n",
       "      <td>7/10/2016</td>\n",
       "      <td>42562</td>\n",
       "      <td>Same Day</td>\n",
       "      <td>NZ-18565</td>\n",
       "      <td>Nick Zandusky</td>\n",
       "      <td>Home Office</td>\n",
       "      <td>United States</td>\n",
       "      <td>Yuma</td>\n",
       "      <td>...</td>\n",
       "      <td>West</td>\n",
       "      <td>OFF-BI-10001658</td>\n",
       "      <td>Office Supplies</td>\n",
       "      <td>Binders</td>\n",
       "      <td>GBC Standard Therm-A-Bind Covers</td>\n",
       "      <td>44.856</td>\n",
       "      <td>6</td>\n",
       "      <td>0.7</td>\n",
       "      <td>-35.8848</td>\n",
       "      <td>2</td>\n",
       "    </tr>\n",
       "    <tr>\n",
       "      <th>9692</th>\n",
       "      <td>7280</td>\n",
       "      <td>CA-2016-108224</td>\n",
       "      <td>5/14/2016</td>\n",
       "      <td>42504</td>\n",
       "      <td>Same Day</td>\n",
       "      <td>TH-21235</td>\n",
       "      <td>Tiffany House</td>\n",
       "      <td>Corporate</td>\n",
       "      <td>United States</td>\n",
       "      <td>Yuma</td>\n",
       "      <td>...</td>\n",
       "      <td>West</td>\n",
       "      <td>TEC-AC-10003832</td>\n",
       "      <td>Technology</td>\n",
       "      <td>Accessories</td>\n",
       "      <td>Imation 16GB Mini TravelDrive USB 2.0 Flash Drive</td>\n",
       "      <td>185.528</td>\n",
       "      <td>7</td>\n",
       "      <td>0.2</td>\n",
       "      <td>48.7011</td>\n",
       "      <td>3</td>\n",
       "    </tr>\n",
       "    <tr>\n",
       "      <th>9693</th>\n",
       "      <td>7282</td>\n",
       "      <td>CA-2017-159282</td>\n",
       "      <td>10/16/2017</td>\n",
       "      <td>43029</td>\n",
       "      <td>Standard Class</td>\n",
       "      <td>GH-14410</td>\n",
       "      <td>Gary Hansen</td>\n",
       "      <td>Home Office</td>\n",
       "      <td>United States</td>\n",
       "      <td>Yuma</td>\n",
       "      <td>...</td>\n",
       "      <td>West</td>\n",
       "      <td>TEC-MA-10001148</td>\n",
       "      <td>Technology</td>\n",
       "      <td>Machines</td>\n",
       "      <td>Swingline SM12-08 MicroCut Jam Free Shredder</td>\n",
       "      <td>599.985</td>\n",
       "      <td>5</td>\n",
       "      <td>0.7</td>\n",
       "      <td>-479.9880</td>\n",
       "      <td>4</td>\n",
       "    </tr>\n",
       "  </tbody>\n",
       "</table>\n",
       "<p>5 rows × 22 columns</p>\n",
       "</div>"
      ],
      "text/plain": [
       "      Row ID        Order ID  Order Date  Ship Date       Ship Mode  \\\n",
       "9689    3348  CA-2015-112014   8/13/2015      42236  Standard Class   \n",
       "9690    8088  CA-2016-106621   9/29/2016      42644    Second Class   \n",
       "9691    4823  CA-2016-134222   7/10/2016      42562        Same Day   \n",
       "9692    7280  CA-2016-108224   5/14/2016      42504        Same Day   \n",
       "9693    7282  CA-2017-159282  10/16/2017      43029  Standard Class   \n",
       "\n",
       "     Customer ID  Customer Name      Segment        Country     City  ...  \\\n",
       "9689    ON-18715  Odella Nelson    Corporate  United States  Yucaipa  ...   \n",
       "9690    DM-12955   Dario Medina    Corporate  United States     Yuma  ...   \n",
       "9691    NZ-18565  Nick Zandusky  Home Office  United States     Yuma  ...   \n",
       "9692    TH-21235  Tiffany House    Corporate  United States     Yuma  ...   \n",
       "9693    GH-14410    Gary Hansen  Home Office  United States     Yuma  ...   \n",
       "\n",
       "     Region       Product ID         Category Sub-Category  \\\n",
       "9689   West  OFF-AR-10003156  Office Supplies          Art   \n",
       "9690   West  OFF-AR-10002375  Office Supplies          Art   \n",
       "9691   West  OFF-BI-10001658  Office Supplies      Binders   \n",
       "9692   West  TEC-AC-10003832       Technology  Accessories   \n",
       "9693   West  TEC-MA-10001148       Technology     Machines   \n",
       "\n",
       "                                           Product Name    Sales Quantity  \\\n",
       "9689                            50 Colored Long Pencils   50.800        5   \n",
       "9690                                         Newell 351   10.496        4   \n",
       "9691                   GBC Standard Therm-A-Bind Covers   44.856        6   \n",
       "9692  Imation 16GB Mini TravelDrive USB 2.0 Flash Drive  185.528        7   \n",
       "9693       Swingline SM12-08 MicroCut Jam Free Shredder  599.985        5   \n",
       "\n",
       "      Discount    Profit  rk  \n",
       "9689       0.0   13.2080   1  \n",
       "9690       0.2    1.1808   1  \n",
       "9691       0.7  -35.8848   2  \n",
       "9692       0.2   48.7011   3  \n",
       "9693       0.7 -479.9880   4  \n",
       "\n",
       "[5 rows x 22 columns]"
      ]
     },
     "execution_count": 48,
     "metadata": {},
     "output_type": "execute_result"
    }
   ],
   "source": [
    "pandas.read_json(\"filname.json\")"
   ]
  },
  {
   "cell_type": "code",
   "execution_count": 49,
   "id": "a624a9ae",
   "metadata": {},
   "outputs": [],
   "source": [
    "data.to_excel(\"output.xlsx\")"
   ]
  },
  {
   "cell_type": "code",
   "execution_count": 55,
   "id": "4e78b6af",
   "metadata": {},
   "outputs": [],
   "source": [
    "data.to_json(\"file.json\")"
   ]
  },
  {
   "cell_type": "code",
   "execution_count": 63,
   "id": "ed39489b",
   "metadata": {},
   "outputs": [],
   "source": [
    "import pandas as pd\n",
    "df1 = pd.DataFrame({'Race100':[1,2,3] ,  'Race200':[4,5,6] , 'Race300':[7,8,9]\n",
    "                    })\n"
   ]
  },
  {
   "cell_type": "code",
   "execution_count": 64,
   "id": "0f12e8fc",
   "metadata": {},
   "outputs": [
    {
     "data": {
      "text/html": [
       "<div>\n",
       "<style scoped>\n",
       "    .dataframe tbody tr th:only-of-type {\n",
       "        vertical-align: middle;\n",
       "    }\n",
       "\n",
       "    .dataframe tbody tr th {\n",
       "        vertical-align: top;\n",
       "    }\n",
       "\n",
       "    .dataframe thead th {\n",
       "        text-align: right;\n",
       "    }\n",
       "</style>\n",
       "<table border=\"1\" class=\"dataframe\">\n",
       "  <thead>\n",
       "    <tr style=\"text-align: right;\">\n",
       "      <th></th>\n",
       "      <th>Race100</th>\n",
       "      <th>Race200</th>\n",
       "      <th>Race300</th>\n",
       "    </tr>\n",
       "  </thead>\n",
       "  <tbody>\n",
       "    <tr>\n",
       "      <th>0</th>\n",
       "      <td>1</td>\n",
       "      <td>4</td>\n",
       "      <td>7</td>\n",
       "    </tr>\n",
       "    <tr>\n",
       "      <th>1</th>\n",
       "      <td>2</td>\n",
       "      <td>5</td>\n",
       "      <td>8</td>\n",
       "    </tr>\n",
       "    <tr>\n",
       "      <th>2</th>\n",
       "      <td>3</td>\n",
       "      <td>6</td>\n",
       "      <td>9</td>\n",
       "    </tr>\n",
       "  </tbody>\n",
       "</table>\n",
       "</div>"
      ],
      "text/plain": [
       "   Race100  Race200  Race300\n",
       "0        1        4        7\n",
       "1        2        5        8\n",
       "2        3        6        9"
      ]
     },
     "execution_count": 64,
     "metadata": {},
     "output_type": "execute_result"
    }
   ],
   "source": [
    "def avgspped(x,y,z):\n",
    "    if x+y+z / 3"
   ]
  },
  {
   "cell_type": "code",
   "execution_count": 80,
   "id": "d976e7a0",
   "metadata": {},
   "outputs": [],
   "source": [
    "def average_speed_calculator(x,y,z):\n",
    "        # Get the value of spinbox using get() method\n",
    "        # Hours\n",
    "    hrs = int(x)\n",
    "    # minutes\n",
    "    mins = int(y)\n",
    "    # distance\n",
    "    dist = int(z)\n",
    " \n",
    "    # Formula Used\n",
    "    value = dist/(hrs+(mins/60))\n",
    "    return value\n",
    " \n",
    "    import pandas as pd\n",
    "df1 = pd.DataFrame({'Race100':[100] ,  'Race200':[200] , 'Race300':[300]\n",
    "                    })\n"
   ]
  },
  {
   "cell_type": "code",
   "execution_count": 81,
   "id": "1818c088",
   "metadata": {},
   "outputs": [
    {
     "data": {
      "text/plain": [
       "(0    100\n",
       " Name: Race100, dtype: int64,\n",
       " 0    200\n",
       " Name: Race200, dtype: int64,\n",
       " 0    300\n",
       " Name: Race300, dtype: int64)"
      ]
     },
     "execution_count": 81,
     "metadata": {},
     "output_type": "execute_result"
    }
   ],
   "source": [
    "df1['Race100'],df1['Race200'],df1['Race300']"
   ]
  },
  {
   "cell_type": "code",
   "execution_count": 82,
   "id": "35414ee6",
   "metadata": {},
   "outputs": [
    {
     "data": {
      "text/plain": [
       "2.903225806451613"
      ]
     },
     "execution_count": 82,
     "metadata": {},
     "output_type": "execute_result"
    }
   ],
   "source": [
    "average_speed_calculator(df1['Race100'],df1['Race200'],df1['Race300'])"
   ]
  },
  {
   "cell_type": "code",
   "execution_count": 83,
   "id": "1d71afe8",
   "metadata": {},
   "outputs": [],
   "source": [
    "def expression(string):\n",
    "    if string in '+':\n",
    "        print(\"yes\")\n",
    "        "
   ]
  },
  {
   "cell_type": "code",
   "execution_count": 84,
   "id": "78461b90",
   "metadata": {},
   "outputs": [],
   "source": [
    "expression(\"4+5\")"
   ]
  },
  {
   "cell_type": "code",
   "execution_count": 86,
   "id": "2b20398a",
   "metadata": {},
   "outputs": [],
   "source": [
    "string = \"4+5\"\n",
    "if string in '4':\n",
    "    print(\"yes\")"
   ]
  },
  {
   "cell_type": "code",
   "execution_count": 93,
   "id": "3f5e516f",
   "metadata": {},
   "outputs": [],
   "source": [
    "string = \"4+5\""
   ]
  },
  {
   "cell_type": "code",
   "execution_count": 94,
   "id": "38307c39",
   "metadata": {},
   "outputs": [
    {
     "data": {
      "text/plain": [
       "'4+5'"
      ]
     },
     "execution_count": 94,
     "metadata": {},
     "output_type": "execute_result"
    }
   ],
   "source": [
    "string"
   ]
  },
  {
   "cell_type": "code",
   "execution_count": 96,
   "id": "7b27299c",
   "metadata": {},
   "outputs": [
    {
     "data": {
      "text/plain": [
       "False"
      ]
     },
     "execution_count": 96,
     "metadata": {},
     "output_type": "execute_result"
    }
   ],
   "source": [
    "string in "
   ]
  },
  {
   "cell_type": "code",
   "execution_count": 97,
   "id": "bbb8916c",
   "metadata": {},
   "outputs": [],
   "source": [
    "name = \"thillai\""
   ]
  },
  {
   "cell_type": "code",
   "execution_count": 102,
   "id": "dd697fee",
   "metadata": {},
   "outputs": [],
   "source": [
    "s= 'x11y3'"
   ]
  },
  {
   "cell_type": "code",
   "execution_count": 105,
   "id": "e324fc92",
   "metadata": {},
   "outputs": [],
   "source": [
    "split = re.findall(\"\\d+\",s)"
   ]
  },
  {
   "cell_type": "code",
   "execution_count": 115,
   "id": "e66520e2",
   "metadata": {},
   "outputs": [
    {
     "data": {
      "text/plain": [
       "'xxxxxxxxxxxyyy'"
      ]
     },
     "execution_count": 115,
     "metadata": {},
     "output_type": "execute_result"
    }
   ],
   "source": [
    "int(split[0]) * s[0] + int(split[1]) * s[3]"
   ]
  },
  {
   "cell_type": "code",
   "execution_count": 112,
   "id": "fbac6352",
   "metadata": {},
   "outputs": [
    {
     "data": {
      "text/plain": [
       "'x'"
      ]
     },
     "execution_count": 112,
     "metadata": {},
     "output_type": "execute_result"
    }
   ],
   "source": [
    "s[0]"
   ]
  },
  {
   "cell_type": "code",
   "execution_count": 128,
   "id": "bcbc1587",
   "metadata": {},
   "outputs": [
    {
     "data": {
      "text/plain": [
       "'5'"
      ]
     },
     "execution_count": 128,
     "metadata": {},
     "output_type": "execute_result"
    }
   ],
   "source": [
    "s = '4+5'"
   ]
  },
  {
   "cell_type": "code",
   "execution_count": 125,
   "id": "ba730d71",
   "metadata": {},
   "outputs": [
    {
     "data": {
      "text/plain": [
       "9"
      ]
     },
     "execution_count": 125,
     "metadata": {},
     "output_type": "execute_result"
    }
   ],
   "source": [
    "int(s[0]) + int(s[2])"
   ]
  },
  {
   "cell_type": "code",
   "execution_count": 134,
   "id": "63ee9b49",
   "metadata": {},
   "outputs": [],
   "source": [
    "x = (s.replace(s,'-'))"
   ]
  },
  {
   "cell_type": "code",
   "execution_count": 171,
   "id": "8ed12d0e",
   "metadata": {},
   "outputs": [],
   "source": [
    "def operations(string):\n",
    "    a = (string.replace('-',''))\n",
    "    s = (string.replace('+',''))\n",
    "    m = (string.replace('*',''))\n",
    "    d = (string.replace('/',''))\n",
    "    \n",
    "    if int(a) > 0:\n",
    "        print(int(string[0]) - int(string[2]))\n",
    "    if int(s) > 0:\n",
    "        print(int(string[0]) + int(string[2]))\n",
    "    if int(m) >0:\n",
    "        print(int(string[0]) * int(string[2]))\n",
    "    if int(d) >0:\n",
    "        print(int(string[0]) / int(string[2]))\n"
   ]
  },
  {
   "cell_type": "code",
   "execution_count": 177,
   "id": "c504b7ac",
   "metadata": {},
   "outputs": [
    {
     "data": {
      "text/plain": [
       "625"
      ]
     },
     "execution_count": 177,
     "metadata": {},
     "output_type": "execute_result"
    }
   ],
   "source": [
    "import numpy as np\n",
    "np.exp(625)\n",
    "\n",
    "\n",
    "5**4 = 625"
   ]
  },
  {
   "cell_type": "code",
   "execution_count": 190,
   "id": "d2357da7",
   "metadata": {},
   "outputs": [
    {
     "name": "stdout",
     "output_type": "stream",
     "text": [
      "2\n"
     ]
    }
   ],
   "source": [
    "x = 625\n",
    "y = 5\n",
    "for i in range(0,9):\n",
    "    if x / y ** i == 1:\n",
    "        print(i)"
   ]
  },
  {
   "cell_type": "code",
   "execution_count": 170,
   "id": "b6d57620",
   "metadata": {},
   "outputs": [
    {
     "name": "stdout",
     "output_type": "stream",
     "text": [
      "8\n"
     ]
    }
   ],
   "source": [
    "a = (string.replace('-',''))\n",
    "string\n",
    "if int(a)  > 0:\n",
    "    print(int(string[0]) - int(string[2]))"
   ]
  },
  {
   "cell_type": "code",
   "execution_count": 169,
   "id": "4eb0c9cc",
   "metadata": {},
   "outputs": [
    {
     "data": {
      "text/plain": [
       "8"
      ]
     },
     "execution_count": 169,
     "metadata": {},
     "output_type": "execute_result"
    }
   ],
   "source": [
    "int(string[0]) - int(string[2])"
   ]
  },
  {
   "cell_type": "code",
   "execution_count": 155,
   "id": "f12bd706",
   "metadata": {},
   "outputs": [],
   "source": [
    "string = '8-0'"
   ]
  },
  {
   "cell_type": "code",
   "execution_count": 212,
   "id": "85fd9602",
   "metadata": {},
   "outputs": [
    {
     "data": {
      "text/html": [
       "<div>\n",
       "<style scoped>\n",
       "    .dataframe tbody tr th:only-of-type {\n",
       "        vertical-align: middle;\n",
       "    }\n",
       "\n",
       "    .dataframe tbody tr th {\n",
       "        vertical-align: top;\n",
       "    }\n",
       "\n",
       "    .dataframe thead th {\n",
       "        text-align: right;\n",
       "    }\n",
       "</style>\n",
       "<table border=\"1\" class=\"dataframe\">\n",
       "  <thead>\n",
       "    <tr style=\"text-align: right;\">\n",
       "      <th></th>\n",
       "      <th>Row ID</th>\n",
       "      <th>Order ID</th>\n",
       "      <th>Order Date</th>\n",
       "      <th>Ship Date</th>\n",
       "      <th>Ship Mode</th>\n",
       "      <th>Customer ID</th>\n",
       "      <th>Customer Name</th>\n",
       "      <th>Segment</th>\n",
       "      <th>Country</th>\n",
       "      <th>City</th>\n",
       "      <th>...</th>\n",
       "      <th>Region</th>\n",
       "      <th>Product ID</th>\n",
       "      <th>Category</th>\n",
       "      <th>Sub-Category</th>\n",
       "      <th>Product Name</th>\n",
       "      <th>Sales</th>\n",
       "      <th>Quantity</th>\n",
       "      <th>Discount</th>\n",
       "      <th>Profit</th>\n",
       "      <th>rk</th>\n",
       "    </tr>\n",
       "  </thead>\n",
       "  <tbody>\n",
       "    <tr>\n",
       "      <th>0</th>\n",
       "      <td>9261</td>\n",
       "      <td>CA-2017-167976</td>\n",
       "      <td>11/11/2017</td>\n",
       "      <td>43053</td>\n",
       "      <td>Second Class</td>\n",
       "      <td>JL-15505</td>\n",
       "      <td>Jeremy Lonsdale</td>\n",
       "      <td>Consumer</td>\n",
       "      <td>United States</td>\n",
       "      <td>Aberdeen</td>\n",
       "      <td>...</td>\n",
       "      <td>Central</td>\n",
       "      <td>OFF-SU-10004661</td>\n",
       "      <td>Office Supplies</td>\n",
       "      <td>Supplies</td>\n",
       "      <td>Acme Titanium Bonded Scissors</td>\n",
       "      <td>25.500</td>\n",
       "      <td>3</td>\n",
       "      <td>0.0</td>\n",
       "      <td>6.6300</td>\n",
       "      <td>1</td>\n",
       "    </tr>\n",
       "    <tr>\n",
       "      <th>1</th>\n",
       "      <td>6990</td>\n",
       "      <td>CA-2017-165099</td>\n",
       "      <td>12/11/2017</td>\n",
       "      <td>43082</td>\n",
       "      <td>First Class</td>\n",
       "      <td>DK-13375</td>\n",
       "      <td>Dennis Kane</td>\n",
       "      <td>Consumer</td>\n",
       "      <td>United States</td>\n",
       "      <td>Abilene</td>\n",
       "      <td>...</td>\n",
       "      <td>Central</td>\n",
       "      <td>OFF-AP-10001634</td>\n",
       "      <td>Office Supplies</td>\n",
       "      <td>Appliances</td>\n",
       "      <td>Hoover Commercial Lightweight Upright Vacuum</td>\n",
       "      <td>1.392</td>\n",
       "      <td>2</td>\n",
       "      <td>0.8</td>\n",
       "      <td>-3.7584</td>\n",
       "      <td>1</td>\n",
       "    </tr>\n",
       "  </tbody>\n",
       "</table>\n",
       "<p>2 rows × 22 columns</p>\n",
       "</div>"
      ],
      "text/plain": [
       "   Row ID        Order ID  Order Date  Ship Date     Ship Mode Customer ID  \\\n",
       "0    9261  CA-2017-167976  11/11/2017      43053  Second Class    JL-15505   \n",
       "1    6990  CA-2017-165099  12/11/2017      43082   First Class    DK-13375   \n",
       "\n",
       "     Customer Name   Segment        Country      City  ...   Region  \\\n",
       "0  Jeremy Lonsdale  Consumer  United States  Aberdeen  ...  Central   \n",
       "1      Dennis Kane  Consumer  United States   Abilene  ...  Central   \n",
       "\n",
       "        Product ID         Category Sub-Category  \\\n",
       "0  OFF-SU-10004661  Office Supplies     Supplies   \n",
       "1  OFF-AP-10001634  Office Supplies   Appliances   \n",
       "\n",
       "                                   Product Name   Sales Quantity  Discount  \\\n",
       "0                 Acme Titanium Bonded Scissors  25.500        3       0.0   \n",
       "1  Hoover Commercial Lightweight Upright Vacuum   1.392        2       0.8   \n",
       "\n",
       "   Profit  rk  \n",
       "0  6.6300   1  \n",
       "1 -3.7584   1  \n",
       "\n",
       "[2 rows x 22 columns]"
      ]
     },
     "execution_count": 212,
     "metadata": {},
     "output_type": "execute_result"
    }
   ],
   "source": [
    "data[:2]"
   ]
  },
  {
   "cell_type": "code",
   "execution_count": null,
   "id": "64bfb891",
   "metadata": {},
   "outputs": [],
   "source": [
    "import pandas\n",
    "data = pandas.read_csv(\"store.csv\")"
   ]
  },
  {
   "cell_type": "code",
   "execution_count": 213,
   "id": "fe3260de",
   "metadata": {
    "collapsed": true
   },
   "outputs": [
    {
     "data": {
      "text/html": [
       "<div>\n",
       "<style scoped>\n",
       "    .dataframe tbody tr th:only-of-type {\n",
       "        vertical-align: middle;\n",
       "    }\n",
       "\n",
       "    .dataframe tbody tr th {\n",
       "        vertical-align: top;\n",
       "    }\n",
       "\n",
       "    .dataframe thead th {\n",
       "        text-align: right;\n",
       "    }\n",
       "</style>\n",
       "<table border=\"1\" class=\"dataframe\">\n",
       "  <thead>\n",
       "    <tr style=\"text-align: right;\">\n",
       "      <th></th>\n",
       "      <th>Row ID</th>\n",
       "      <th>Order ID</th>\n",
       "      <th>Order Date</th>\n",
       "      <th>Ship Date</th>\n",
       "      <th>Ship Mode</th>\n",
       "      <th>Customer ID</th>\n",
       "      <th>Customer Name</th>\n",
       "      <th>Segment</th>\n",
       "      <th>Country</th>\n",
       "      <th>City</th>\n",
       "      <th>...</th>\n",
       "      <th>Region</th>\n",
       "      <th>Product ID</th>\n",
       "      <th>Category</th>\n",
       "      <th>Sub-Category</th>\n",
       "      <th>Product Name</th>\n",
       "      <th>Sales</th>\n",
       "      <th>Quantity</th>\n",
       "      <th>Discount</th>\n",
       "      <th>Profit</th>\n",
       "      <th>rk</th>\n",
       "    </tr>\n",
       "  </thead>\n",
       "  <tbody>\n",
       "    <tr>\n",
       "      <th>0</th>\n",
       "      <td>9261</td>\n",
       "      <td>CA-2017-167976</td>\n",
       "      <td>11/11/2017</td>\n",
       "      <td>43053</td>\n",
       "      <td>Second Class</td>\n",
       "      <td>JL-15505</td>\n",
       "      <td>Jeremy Lonsdale</td>\n",
       "      <td>Consumer</td>\n",
       "      <td>United States</td>\n",
       "      <td>Aberdeen</td>\n",
       "      <td>...</td>\n",
       "      <td>Central</td>\n",
       "      <td>OFF-SU-10004661</td>\n",
       "      <td>Office Supplies</td>\n",
       "      <td>Supplies</td>\n",
       "      <td>Acme Titanium Bonded Scissors</td>\n",
       "      <td>25.500</td>\n",
       "      <td>3</td>\n",
       "      <td>0.0</td>\n",
       "      <td>6.6300</td>\n",
       "      <td>1</td>\n",
       "    </tr>\n",
       "    <tr>\n",
       "      <th>1</th>\n",
       "      <td>6990</td>\n",
       "      <td>CA-2017-165099</td>\n",
       "      <td>12/11/2017</td>\n",
       "      <td>43082</td>\n",
       "      <td>First Class</td>\n",
       "      <td>DK-13375</td>\n",
       "      <td>Dennis Kane</td>\n",
       "      <td>Consumer</td>\n",
       "      <td>United States</td>\n",
       "      <td>Abilene</td>\n",
       "      <td>...</td>\n",
       "      <td>Central</td>\n",
       "      <td>OFF-AP-10001634</td>\n",
       "      <td>Office Supplies</td>\n",
       "      <td>Appliances</td>\n",
       "      <td>Hoover Commercial Lightweight Upright Vacuum</td>\n",
       "      <td>1.392</td>\n",
       "      <td>2</td>\n",
       "      <td>0.8</td>\n",
       "      <td>-3.7584</td>\n",
       "      <td>1</td>\n",
       "    </tr>\n",
       "    <tr>\n",
       "      <th>2</th>\n",
       "      <td>4324</td>\n",
       "      <td>US-2015-147662</td>\n",
       "      <td>2/14/2015</td>\n",
       "      <td>42054</td>\n",
       "      <td>Standard Class</td>\n",
       "      <td>KB-16315</td>\n",
       "      <td>Karl Braun</td>\n",
       "      <td>Consumer</td>\n",
       "      <td>United States</td>\n",
       "      <td>Akron</td>\n",
       "      <td>...</td>\n",
       "      <td>East</td>\n",
       "      <td>OFF-BI-10002160</td>\n",
       "      <td>Office Supplies</td>\n",
       "      <td>Binders</td>\n",
       "      <td>Acco Hanging Data Binders</td>\n",
       "      <td>2.286</td>\n",
       "      <td>2</td>\n",
       "      <td>0.7</td>\n",
       "      <td>-1.6764</td>\n",
       "      <td>1</td>\n",
       "    </tr>\n",
       "    <tr>\n",
       "      <th>3</th>\n",
       "      <td>3563</td>\n",
       "      <td>CA-2017-109757</td>\n",
       "      <td>9/4/2017</td>\n",
       "      <td>42987</td>\n",
       "      <td>Second Class</td>\n",
       "      <td>MD-17350</td>\n",
       "      <td>Maribeth Dona</td>\n",
       "      <td>Consumer</td>\n",
       "      <td>United States</td>\n",
       "      <td>Akron</td>\n",
       "      <td>...</td>\n",
       "      <td>East</td>\n",
       "      <td>OFF-BI-10001634</td>\n",
       "      <td>Office Supplies</td>\n",
       "      <td>Binders</td>\n",
       "      <td>Wilson Jones Active Use Binders</td>\n",
       "      <td>4.368</td>\n",
       "      <td>2</td>\n",
       "      <td>0.7</td>\n",
       "      <td>-3.0576</td>\n",
       "      <td>2</td>\n",
       "    </tr>\n",
       "    <tr>\n",
       "      <th>4</th>\n",
       "      <td>9922</td>\n",
       "      <td>CA-2014-111360</td>\n",
       "      <td>11/24/2014</td>\n",
       "      <td>41973</td>\n",
       "      <td>Standard Class</td>\n",
       "      <td>AT-10435</td>\n",
       "      <td>Alyssa Tate</td>\n",
       "      <td>Home Office</td>\n",
       "      <td>United States</td>\n",
       "      <td>Akron</td>\n",
       "      <td>...</td>\n",
       "      <td>East</td>\n",
       "      <td>OFF-BI-10003350</td>\n",
       "      <td>Office Supplies</td>\n",
       "      <td>Binders</td>\n",
       "      <td>Acco Expandable Hanging Binders</td>\n",
       "      <td>5.742</td>\n",
       "      <td>3</td>\n",
       "      <td>0.7</td>\n",
       "      <td>-4.5936</td>\n",
       "      <td>3</td>\n",
       "    </tr>\n",
       "    <tr>\n",
       "      <th>...</th>\n",
       "      <td>...</td>\n",
       "      <td>...</td>\n",
       "      <td>...</td>\n",
       "      <td>...</td>\n",
       "      <td>...</td>\n",
       "      <td>...</td>\n",
       "      <td>...</td>\n",
       "      <td>...</td>\n",
       "      <td>...</td>\n",
       "      <td>...</td>\n",
       "      <td>...</td>\n",
       "      <td>...</td>\n",
       "      <td>...</td>\n",
       "      <td>...</td>\n",
       "      <td>...</td>\n",
       "      <td>...</td>\n",
       "      <td>...</td>\n",
       "      <td>...</td>\n",
       "      <td>...</td>\n",
       "      <td>...</td>\n",
       "      <td>...</td>\n",
       "    </tr>\n",
       "    <tr>\n",
       "      <th>9689</th>\n",
       "      <td>3348</td>\n",
       "      <td>CA-2015-112014</td>\n",
       "      <td>8/13/2015</td>\n",
       "      <td>42236</td>\n",
       "      <td>Standard Class</td>\n",
       "      <td>ON-18715</td>\n",
       "      <td>Odella Nelson</td>\n",
       "      <td>Corporate</td>\n",
       "      <td>United States</td>\n",
       "      <td>Yucaipa</td>\n",
       "      <td>...</td>\n",
       "      <td>West</td>\n",
       "      <td>OFF-AR-10003156</td>\n",
       "      <td>Office Supplies</td>\n",
       "      <td>Art</td>\n",
       "      <td>50 Colored Long Pencils</td>\n",
       "      <td>50.800</td>\n",
       "      <td>5</td>\n",
       "      <td>0.0</td>\n",
       "      <td>13.2080</td>\n",
       "      <td>1</td>\n",
       "    </tr>\n",
       "    <tr>\n",
       "      <th>9690</th>\n",
       "      <td>8088</td>\n",
       "      <td>CA-2016-106621</td>\n",
       "      <td>9/29/2016</td>\n",
       "      <td>42644</td>\n",
       "      <td>Second Class</td>\n",
       "      <td>DM-12955</td>\n",
       "      <td>Dario Medina</td>\n",
       "      <td>Corporate</td>\n",
       "      <td>United States</td>\n",
       "      <td>Yuma</td>\n",
       "      <td>...</td>\n",
       "      <td>West</td>\n",
       "      <td>OFF-AR-10002375</td>\n",
       "      <td>Office Supplies</td>\n",
       "      <td>Art</td>\n",
       "      <td>Newell 351</td>\n",
       "      <td>10.496</td>\n",
       "      <td>4</td>\n",
       "      <td>0.2</td>\n",
       "      <td>1.1808</td>\n",
       "      <td>1</td>\n",
       "    </tr>\n",
       "    <tr>\n",
       "      <th>9691</th>\n",
       "      <td>4823</td>\n",
       "      <td>CA-2016-134222</td>\n",
       "      <td>7/10/2016</td>\n",
       "      <td>42562</td>\n",
       "      <td>Same Day</td>\n",
       "      <td>NZ-18565</td>\n",
       "      <td>Nick Zandusky</td>\n",
       "      <td>Home Office</td>\n",
       "      <td>United States</td>\n",
       "      <td>Yuma</td>\n",
       "      <td>...</td>\n",
       "      <td>West</td>\n",
       "      <td>OFF-BI-10001658</td>\n",
       "      <td>Office Supplies</td>\n",
       "      <td>Binders</td>\n",
       "      <td>GBC Standard Therm-A-Bind Covers</td>\n",
       "      <td>44.856</td>\n",
       "      <td>6</td>\n",
       "      <td>0.7</td>\n",
       "      <td>-35.8848</td>\n",
       "      <td>2</td>\n",
       "    </tr>\n",
       "    <tr>\n",
       "      <th>9692</th>\n",
       "      <td>7280</td>\n",
       "      <td>CA-2016-108224</td>\n",
       "      <td>5/14/2016</td>\n",
       "      <td>42504</td>\n",
       "      <td>Same Day</td>\n",
       "      <td>TH-21235</td>\n",
       "      <td>Tiffany House</td>\n",
       "      <td>Corporate</td>\n",
       "      <td>United States</td>\n",
       "      <td>Yuma</td>\n",
       "      <td>...</td>\n",
       "      <td>West</td>\n",
       "      <td>TEC-AC-10003832</td>\n",
       "      <td>Technology</td>\n",
       "      <td>Accessories</td>\n",
       "      <td>Imation 16GB Mini TravelDrive USB 2.0 Flash Drive</td>\n",
       "      <td>185.528</td>\n",
       "      <td>7</td>\n",
       "      <td>0.2</td>\n",
       "      <td>48.7011</td>\n",
       "      <td>3</td>\n",
       "    </tr>\n",
       "    <tr>\n",
       "      <th>9693</th>\n",
       "      <td>7282</td>\n",
       "      <td>CA-2017-159282</td>\n",
       "      <td>10/16/2017</td>\n",
       "      <td>43029</td>\n",
       "      <td>Standard Class</td>\n",
       "      <td>GH-14410</td>\n",
       "      <td>Gary Hansen</td>\n",
       "      <td>Home Office</td>\n",
       "      <td>United States</td>\n",
       "      <td>Yuma</td>\n",
       "      <td>...</td>\n",
       "      <td>West</td>\n",
       "      <td>TEC-MA-10001148</td>\n",
       "      <td>Technology</td>\n",
       "      <td>Machines</td>\n",
       "      <td>Swingline SM12-08 MicroCut Jam Free Shredder</td>\n",
       "      <td>599.985</td>\n",
       "      <td>5</td>\n",
       "      <td>0.7</td>\n",
       "      <td>-479.9880</td>\n",
       "      <td>4</td>\n",
       "    </tr>\n",
       "  </tbody>\n",
       "</table>\n",
       "<p>9694 rows × 22 columns</p>\n",
       "</div>"
      ],
      "text/plain": [
       "      Row ID        Order ID  Order Date  Ship Date       Ship Mode  \\\n",
       "0       9261  CA-2017-167976  11/11/2017      43053    Second Class   \n",
       "1       6990  CA-2017-165099  12/11/2017      43082     First Class   \n",
       "2       4324  US-2015-147662   2/14/2015      42054  Standard Class   \n",
       "3       3563  CA-2017-109757    9/4/2017      42987    Second Class   \n",
       "4       9922  CA-2014-111360  11/24/2014      41973  Standard Class   \n",
       "...      ...             ...         ...        ...             ...   \n",
       "9689    3348  CA-2015-112014   8/13/2015      42236  Standard Class   \n",
       "9690    8088  CA-2016-106621   9/29/2016      42644    Second Class   \n",
       "9691    4823  CA-2016-134222   7/10/2016      42562        Same Day   \n",
       "9692    7280  CA-2016-108224   5/14/2016      42504        Same Day   \n",
       "9693    7282  CA-2017-159282  10/16/2017      43029  Standard Class   \n",
       "\n",
       "     Customer ID    Customer Name      Segment        Country      City  ...  \\\n",
       "0       JL-15505  Jeremy Lonsdale     Consumer  United States  Aberdeen  ...   \n",
       "1       DK-13375      Dennis Kane     Consumer  United States   Abilene  ...   \n",
       "2       KB-16315       Karl Braun     Consumer  United States     Akron  ...   \n",
       "3       MD-17350    Maribeth Dona     Consumer  United States     Akron  ...   \n",
       "4       AT-10435      Alyssa Tate  Home Office  United States     Akron  ...   \n",
       "...          ...              ...          ...            ...       ...  ...   \n",
       "9689    ON-18715    Odella Nelson    Corporate  United States   Yucaipa  ...   \n",
       "9690    DM-12955     Dario Medina    Corporate  United States      Yuma  ...   \n",
       "9691    NZ-18565    Nick Zandusky  Home Office  United States      Yuma  ...   \n",
       "9692    TH-21235    Tiffany House    Corporate  United States      Yuma  ...   \n",
       "9693    GH-14410      Gary Hansen  Home Office  United States      Yuma  ...   \n",
       "\n",
       "       Region       Product ID         Category Sub-Category  \\\n",
       "0     Central  OFF-SU-10004661  Office Supplies     Supplies   \n",
       "1     Central  OFF-AP-10001634  Office Supplies   Appliances   \n",
       "2        East  OFF-BI-10002160  Office Supplies      Binders   \n",
       "3        East  OFF-BI-10001634  Office Supplies      Binders   \n",
       "4        East  OFF-BI-10003350  Office Supplies      Binders   \n",
       "...       ...              ...              ...          ...   \n",
       "9689     West  OFF-AR-10003156  Office Supplies          Art   \n",
       "9690     West  OFF-AR-10002375  Office Supplies          Art   \n",
       "9691     West  OFF-BI-10001658  Office Supplies      Binders   \n",
       "9692     West  TEC-AC-10003832       Technology  Accessories   \n",
       "9693     West  TEC-MA-10001148       Technology     Machines   \n",
       "\n",
       "                                           Product Name    Sales Quantity  \\\n",
       "0                         Acme Titanium Bonded Scissors   25.500        3   \n",
       "1          Hoover Commercial Lightweight Upright Vacuum    1.392        2   \n",
       "2                             Acco Hanging Data Binders    2.286        2   \n",
       "3                       Wilson Jones Active Use Binders    4.368        2   \n",
       "4                       Acco Expandable Hanging Binders    5.742        3   \n",
       "...                                                 ...      ...      ...   \n",
       "9689                            50 Colored Long Pencils   50.800        5   \n",
       "9690                                         Newell 351   10.496        4   \n",
       "9691                   GBC Standard Therm-A-Bind Covers   44.856        6   \n",
       "9692  Imation 16GB Mini TravelDrive USB 2.0 Flash Drive  185.528        7   \n",
       "9693       Swingline SM12-08 MicroCut Jam Free Shredder  599.985        5   \n",
       "\n",
       "      Discount    Profit  rk  \n",
       "0          0.0    6.6300   1  \n",
       "1          0.8   -3.7584   1  \n",
       "2          0.7   -1.6764   1  \n",
       "3          0.7   -3.0576   2  \n",
       "4          0.7   -4.5936   3  \n",
       "...        ...       ...  ..  \n",
       "9689       0.0   13.2080   1  \n",
       "9690       0.2    1.1808   1  \n",
       "9691       0.7  -35.8848   2  \n",
       "9692       0.2   48.7011   3  \n",
       "9693       0.7 -479.9880   4  \n",
       "\n",
       "[9694 rows x 22 columns]"
      ]
     },
     "execution_count": 213,
     "metadata": {},
     "output_type": "execute_result"
    }
   ],
   "source": [
    "data"
   ]
  },
  {
   "cell_type": "code",
   "execution_count": 214,
   "id": "b5c9ee9d",
   "metadata": {},
   "outputs": [],
   "source": [
    "import pandas as pd"
   ]
  },
  {
   "cell_type": "code",
   "execution_count": 215,
   "id": "528ea7e8",
   "metadata": {},
   "outputs": [],
   "source": [
    "s = pd.Series([1, 3, 5, np.nan, 6, 8])"
   ]
  },
  {
   "cell_type": "code",
   "execution_count": 216,
   "id": "60f4b3cd",
   "metadata": {},
   "outputs": [
    {
     "data": {
      "text/plain": [
       "0    1.0\n",
       "1    3.0\n",
       "2    5.0\n",
       "3    NaN\n",
       "4    6.0\n",
       "5    8.0\n",
       "dtype: float64"
      ]
     },
     "execution_count": 216,
     "metadata": {},
     "output_type": "execute_result"
    }
   ],
   "source": [
    "s , NaN  - Not a number , string - blanks , date - NaT  - Not a time"
   ]
  },
  {
   "cell_type": "code",
   "execution_count": 191,
   "id": "a742fd1f",
   "metadata": {},
   "outputs": [],
   "source": []
  },
  {
   "cell_type": "code",
   "execution_count": 195,
   "id": "07c98f1c",
   "metadata": {},
   "outputs": [
    {
     "data": {
      "text/plain": [
       "DatetimeIndex(['2013-01-01', '2013-01-02', '2013-01-03', '2013-01-04',\n",
       "               '2013-01-05', '2013-01-06'],\n",
       "              dtype='datetime64[ns]', freq='D')"
      ]
     },
     "execution_count": 195,
     "metadata": {},
     "output_type": "execute_result"
    }
   ],
   "source": [
    "dates = pd.date_range(\"20130101\", periods=6)\n",
    "dates"
   ]
  },
  {
   "cell_type": "code",
   "execution_count": 219,
   "id": "39b4b598",
   "metadata": {},
   "outputs": [],
   "source": [
    "df2 = pd.DataFrame(\n",
    "    {\n",
    "        \"A\": 1.0,\n",
    "        \"B\": pd.Timestamp(\"20130102\"),\n",
    "        \"C\": pd.Series(1, index=list(range(4)), dtype=\"float\"),\n",
    "        \"D\": np.array([3] * 4, dtype=\"int\"),\n",
    "        \"E\": pd.Categorical([\"test\", \"train\", \"test\", \"train\"]),\n",
    "        \"F\": \"sample\",\n",
    "    }\n",
    ")"
   ]
  },
  {
   "cell_type": "code",
   "execution_count": 220,
   "id": "505edbca",
   "metadata": {},
   "outputs": [
    {
     "data": {
      "text/html": [
       "<div>\n",
       "<style scoped>\n",
       "    .dataframe tbody tr th:only-of-type {\n",
       "        vertical-align: middle;\n",
       "    }\n",
       "\n",
       "    .dataframe tbody tr th {\n",
       "        vertical-align: top;\n",
       "    }\n",
       "\n",
       "    .dataframe thead th {\n",
       "        text-align: right;\n",
       "    }\n",
       "</style>\n",
       "<table border=\"1\" class=\"dataframe\">\n",
       "  <thead>\n",
       "    <tr style=\"text-align: right;\">\n",
       "      <th></th>\n",
       "      <th>A</th>\n",
       "      <th>B</th>\n",
       "      <th>C</th>\n",
       "      <th>D</th>\n",
       "      <th>E</th>\n",
       "      <th>F</th>\n",
       "    </tr>\n",
       "  </thead>\n",
       "  <tbody>\n",
       "    <tr>\n",
       "      <th>0</th>\n",
       "      <td>1.0</td>\n",
       "      <td>2013-01-02</td>\n",
       "      <td>1.0</td>\n",
       "      <td>3</td>\n",
       "      <td>test</td>\n",
       "      <td>sample</td>\n",
       "    </tr>\n",
       "    <tr>\n",
       "      <th>1</th>\n",
       "      <td>1.0</td>\n",
       "      <td>2013-01-02</td>\n",
       "      <td>1.0</td>\n",
       "      <td>3</td>\n",
       "      <td>train</td>\n",
       "      <td>sample</td>\n",
       "    </tr>\n",
       "    <tr>\n",
       "      <th>2</th>\n",
       "      <td>1.0</td>\n",
       "      <td>2013-01-02</td>\n",
       "      <td>1.0</td>\n",
       "      <td>3</td>\n",
       "      <td>test</td>\n",
       "      <td>sample</td>\n",
       "    </tr>\n",
       "    <tr>\n",
       "      <th>3</th>\n",
       "      <td>1.0</td>\n",
       "      <td>2013-01-02</td>\n",
       "      <td>1.0</td>\n",
       "      <td>3</td>\n",
       "      <td>train</td>\n",
       "      <td>sample</td>\n",
       "    </tr>\n",
       "  </tbody>\n",
       "</table>\n",
       "</div>"
      ],
      "text/plain": [
       "     A          B    C  D      E       F\n",
       "0  1.0 2013-01-02  1.0  3   test  sample\n",
       "1  1.0 2013-01-02  1.0  3  train  sample\n",
       "2  1.0 2013-01-02  1.0  3   test  sample\n",
       "3  1.0 2013-01-02  1.0  3  train  sample"
      ]
     },
     "execution_count": 220,
     "metadata": {},
     "output_type": "execute_result"
    }
   ],
   "source": [
    "df2  - mixing of all the values , number , string , date , categorical - multi - dimension\n",
    "\n",
    "A,B,C,D,...\n",
    "0,1,2 - index"
   ]
  },
  {
   "cell_type": "code",
   "execution_count": 224,
   "id": "e328801a",
   "metadata": {},
   "outputs": [
    {
     "data": {
      "text/plain": [
       "A           float64\n",
       "B    datetime64[ns]\n",
       "C           float32\n",
       "D             int32\n",
       "E          category\n",
       "F            object\n",
       "dtype: object"
      ]
     },
     "execution_count": 224,
     "metadata": {},
     "output_type": "execute_result"
    }
   ],
   "source": [
    "df2.dtypes"
   ]
  },
  {
   "cell_type": "code",
   "execution_count": 197,
   "id": "78c27e8d",
   "metadata": {},
   "outputs": [
    {
     "data": {
      "text/plain": [
       "'a'"
      ]
     },
     "execution_count": 197,
     "metadata": {},
     "output_type": "execute_result"
    }
   ],
   "source": [
    "df2.TAB button"
   ]
  },
  {
   "cell_type": "code",
   "execution_count": 225,
   "id": "bd58f9d0",
   "metadata": {},
   "outputs": [
    {
     "data": {
      "text/html": [
       "<div>\n",
       "<style scoped>\n",
       "    .dataframe tbody tr th:only-of-type {\n",
       "        vertical-align: middle;\n",
       "    }\n",
       "\n",
       "    .dataframe tbody tr th {\n",
       "        vertical-align: top;\n",
       "    }\n",
       "\n",
       "    .dataframe thead th {\n",
       "        text-align: right;\n",
       "    }\n",
       "</style>\n",
       "<table border=\"1\" class=\"dataframe\">\n",
       "  <thead>\n",
       "    <tr style=\"text-align: right;\">\n",
       "      <th></th>\n",
       "      <th>A</th>\n",
       "      <th>C</th>\n",
       "      <th>D</th>\n",
       "    </tr>\n",
       "  </thead>\n",
       "  <tbody>\n",
       "    <tr>\n",
       "      <th>count</th>\n",
       "      <td>4.0</td>\n",
       "      <td>4.0</td>\n",
       "      <td>4.0</td>\n",
       "    </tr>\n",
       "    <tr>\n",
       "      <th>mean</th>\n",
       "      <td>1.0</td>\n",
       "      <td>1.0</td>\n",
       "      <td>3.0</td>\n",
       "    </tr>\n",
       "    <tr>\n",
       "      <th>std</th>\n",
       "      <td>0.0</td>\n",
       "      <td>0.0</td>\n",
       "      <td>0.0</td>\n",
       "    </tr>\n",
       "    <tr>\n",
       "      <th>min</th>\n",
       "      <td>1.0</td>\n",
       "      <td>1.0</td>\n",
       "      <td>3.0</td>\n",
       "    </tr>\n",
       "    <tr>\n",
       "      <th>25%</th>\n",
       "      <td>1.0</td>\n",
       "      <td>1.0</td>\n",
       "      <td>3.0</td>\n",
       "    </tr>\n",
       "    <tr>\n",
       "      <th>50%</th>\n",
       "      <td>1.0</td>\n",
       "      <td>1.0</td>\n",
       "      <td>3.0</td>\n",
       "    </tr>\n",
       "    <tr>\n",
       "      <th>75%</th>\n",
       "      <td>1.0</td>\n",
       "      <td>1.0</td>\n",
       "      <td>3.0</td>\n",
       "    </tr>\n",
       "    <tr>\n",
       "      <th>max</th>\n",
       "      <td>1.0</td>\n",
       "      <td>1.0</td>\n",
       "      <td>3.0</td>\n",
       "    </tr>\n",
       "  </tbody>\n",
       "</table>\n",
       "</div>"
      ],
      "text/plain": [
       "         A    C    D\n",
       "count  4.0  4.0  4.0\n",
       "mean   1.0  1.0  3.0\n",
       "std    0.0  0.0  0.0\n",
       "min    1.0  1.0  3.0\n",
       "25%    1.0  1.0  3.0\n",
       "50%    1.0  1.0  3.0\n",
       "75%    1.0  1.0  3.0\n",
       "max    1.0  1.0  3.0"
      ]
     },
     "execution_count": 225,
     "metadata": {},
     "output_type": "execute_result"
    }
   ],
   "source": [
    "df2.describe()"
   ]
  },
  {
   "cell_type": "code",
   "execution_count": 200,
   "id": "1a780cc0",
   "metadata": {},
   "outputs": [
    {
     "data": {
      "text/plain": [
       "4"
      ]
     },
     "execution_count": 200,
     "metadata": {},
     "output_type": "execute_result"
    }
   ],
   "source": [
    "list1[4] * 2"
   ]
  },
  {
   "cell_type": "code",
   "execution_count": 205,
   "id": "65097e03",
   "metadata": {},
   "outputs": [
    {
     "name": "stdout",
     "output_type": "stream",
     "text": [
      "[2, 3, 5, 7, 11, 13, 17, 19, 23, 29, 31, 37, 41, 43, 47, 53, 59, 61, 67, 71, 73, 79, 83, 89, 97]\n"
     ]
    }
   ],
   "source": [
    "prime = [i for i in range(2, 101) if all(i % j != 0 for j in range(2, i))]\n",
    "print(prime)\n",
    "\n",
    "# if all(i % j != 0 for j in range(2, i))] - this in particula"
   ]
  },
  {
   "cell_type": "code",
   "execution_count": null,
   "id": "538460e1",
   "metadata": {},
   "outputs": [],
   "source": []
  },
  {
   "cell_type": "code",
   "execution_count": null,
   "id": "2927b514",
   "metadata": {},
   "outputs": [],
   "source": [
    "import pandas as pd"
   ]
  },
  {
   "cell_type": "code",
   "execution_count": 226,
   "id": "74e139fa",
   "metadata": {},
   "outputs": [
    {
     "data": {
      "text/plain": [
       "0     1\n",
       "1    23\n",
       "2     5\n",
       "3     6\n",
       "dtype: int64"
      ]
     },
     "execution_count": 226,
     "metadata": {},
     "output_type": "execute_result"
    }
   ],
   "source": [
    "pd.Series([1,23,5,6])"
   ]
  },
  {
   "cell_type": "code",
   "execution_count": 229,
   "id": "6d86f381",
   "metadata": {},
   "outputs": [
    {
     "ename": "SyntaxError",
     "evalue": "invalid syntax (4119468934.py, line 1)",
     "output_type": "error",
     "traceback": [
      "\u001b[1;36m  Input \u001b[1;32mIn [229]\u001b[1;36m\u001b[0m\n\u001b[1;33m    pd.DataFrame( { \"name\" : \"thillai\" , \"salary\" : 455 , index = 0})\u001b[0m\n\u001b[1;37m                                                                ^\u001b[0m\n\u001b[1;31mSyntaxError\u001b[0m\u001b[1;31m:\u001b[0m invalid syntax\n"
     ]
    }
   ],
   "source": [
    "pd.DataFrame( { \"name\" : \"thillai\" , \"salary\" : 455 , index = 0})"
   ]
  },
  {
   "cell_type": "code",
   "execution_count": null,
   "id": "3c72dd34",
   "metadata": {},
   "outputs": [],
   "source": [
    "df2 = pd.DataFrame(\n",
    "    {\n",
    "        \"A\": 1.0,\n",
    "        \"B\": pd.Timestamp(\"20130102\"),\n",
    "        \"C\": pd.Series(1, index=list(range(4)), dtype=\"float\"),\n",
    "        \"D\": np.array([3] * 4, dtype=\"int\"),\n",
    "        \"E\": pd.Categorical([\"test\", \"train\", \"test\", \"train\"]),\n",
    "        \"F\": \"sample\",\n",
    "    }\n",
    ")"
   ]
  },
  {
   "cell_type": "code",
   "execution_count": 230,
   "id": "e1e9b9fb",
   "metadata": {},
   "outputs": [],
   "source": [
    "df3 = pd.DataFrame( { \"name\": \"thillai\" , \"salary\" : [100] } )"
   ]
  },
  {
   "cell_type": "code",
   "execution_count": 231,
   "id": "f32073c2",
   "metadata": {},
   "outputs": [
    {
     "data": {
      "text/html": [
       "<div>\n",
       "<style scoped>\n",
       "    .dataframe tbody tr th:only-of-type {\n",
       "        vertical-align: middle;\n",
       "    }\n",
       "\n",
       "    .dataframe tbody tr th {\n",
       "        vertical-align: top;\n",
       "    }\n",
       "\n",
       "    .dataframe thead th {\n",
       "        text-align: right;\n",
       "    }\n",
       "</style>\n",
       "<table border=\"1\" class=\"dataframe\">\n",
       "  <thead>\n",
       "    <tr style=\"text-align: right;\">\n",
       "      <th></th>\n",
       "      <th>name</th>\n",
       "      <th>salary</th>\n",
       "    </tr>\n",
       "  </thead>\n",
       "  <tbody>\n",
       "    <tr>\n",
       "      <th>0</th>\n",
       "      <td>thillai</td>\n",
       "      <td>100</td>\n",
       "    </tr>\n",
       "  </tbody>\n",
       "</table>\n",
       "</div>"
      ],
      "text/plain": [
       "      name  salary\n",
       "0  thillai     100"
      ]
     },
     "execution_count": 231,
     "metadata": {},
     "output_type": "execute_result"
    }
   ],
   "source": [
    "df3"
   ]
  },
  {
   "cell_type": "code",
   "execution_count": 236,
   "id": "08a6bd7a",
   "metadata": {},
   "outputs": [
    {
     "data": {
      "text/html": [
       "<div>\n",
       "<style scoped>\n",
       "    .dataframe tbody tr th:only-of-type {\n",
       "        vertical-align: middle;\n",
       "    }\n",
       "\n",
       "    .dataframe tbody tr th {\n",
       "        vertical-align: top;\n",
       "    }\n",
       "\n",
       "    .dataframe thead th {\n",
       "        text-align: right;\n",
       "    }\n",
       "</style>\n",
       "<table border=\"1\" class=\"dataframe\">\n",
       "  <thead>\n",
       "    <tr style=\"text-align: right;\">\n",
       "      <th></th>\n",
       "      <th>Row ID</th>\n",
       "      <th>Order ID</th>\n",
       "      <th>Order Date</th>\n",
       "      <th>Ship Date</th>\n",
       "      <th>Ship Mode</th>\n",
       "      <th>Customer ID</th>\n",
       "      <th>Customer Name</th>\n",
       "      <th>Segment</th>\n",
       "      <th>Country</th>\n",
       "      <th>City</th>\n",
       "      <th>...</th>\n",
       "      <th>Region</th>\n",
       "      <th>Product ID</th>\n",
       "      <th>Category</th>\n",
       "      <th>Sub-Category</th>\n",
       "      <th>Product Name</th>\n",
       "      <th>Sales</th>\n",
       "      <th>Quantity</th>\n",
       "      <th>Discount</th>\n",
       "      <th>Profit</th>\n",
       "      <th>rk</th>\n",
       "    </tr>\n",
       "  </thead>\n",
       "  <tbody>\n",
       "    <tr>\n",
       "      <th>0</th>\n",
       "      <td>9261</td>\n",
       "      <td>CA-2017-167976</td>\n",
       "      <td>11/11/2017</td>\n",
       "      <td>43053</td>\n",
       "      <td>Second Class</td>\n",
       "      <td>JL-15505</td>\n",
       "      <td>Jeremy Lonsdale</td>\n",
       "      <td>Consumer</td>\n",
       "      <td>United States</td>\n",
       "      <td>Aberdeen</td>\n",
       "      <td>...</td>\n",
       "      <td>Central</td>\n",
       "      <td>OFF-SU-10004661</td>\n",
       "      <td>Office Supplies</td>\n",
       "      <td>Supplies</td>\n",
       "      <td>Acme Titanium Bonded Scissors</td>\n",
       "      <td>25.500</td>\n",
       "      <td>3</td>\n",
       "      <td>0.0</td>\n",
       "      <td>6.6300</td>\n",
       "      <td>1</td>\n",
       "    </tr>\n",
       "    <tr>\n",
       "      <th>1</th>\n",
       "      <td>6990</td>\n",
       "      <td>CA-2017-165099</td>\n",
       "      <td>12/11/2017</td>\n",
       "      <td>43082</td>\n",
       "      <td>First Class</td>\n",
       "      <td>DK-13375</td>\n",
       "      <td>Dennis Kane</td>\n",
       "      <td>Consumer</td>\n",
       "      <td>United States</td>\n",
       "      <td>Abilene</td>\n",
       "      <td>...</td>\n",
       "      <td>Central</td>\n",
       "      <td>OFF-AP-10001634</td>\n",
       "      <td>Office Supplies</td>\n",
       "      <td>Appliances</td>\n",
       "      <td>Hoover Commercial Lightweight Upright Vacuum</td>\n",
       "      <td>1.392</td>\n",
       "      <td>2</td>\n",
       "      <td>0.8</td>\n",
       "      <td>-3.7584</td>\n",
       "      <td>1</td>\n",
       "    </tr>\n",
       "    <tr>\n",
       "      <th>2</th>\n",
       "      <td>4324</td>\n",
       "      <td>US-2015-147662</td>\n",
       "      <td>2/14/2015</td>\n",
       "      <td>42054</td>\n",
       "      <td>Standard Class</td>\n",
       "      <td>KB-16315</td>\n",
       "      <td>Karl Braun</td>\n",
       "      <td>Consumer</td>\n",
       "      <td>United States</td>\n",
       "      <td>Akron</td>\n",
       "      <td>...</td>\n",
       "      <td>East</td>\n",
       "      <td>OFF-BI-10002160</td>\n",
       "      <td>Office Supplies</td>\n",
       "      <td>Binders</td>\n",
       "      <td>Acco Hanging Data Binders</td>\n",
       "      <td>2.286</td>\n",
       "      <td>2</td>\n",
       "      <td>0.7</td>\n",
       "      <td>-1.6764</td>\n",
       "      <td>1</td>\n",
       "    </tr>\n",
       "    <tr>\n",
       "      <th>3</th>\n",
       "      <td>3563</td>\n",
       "      <td>CA-2017-109757</td>\n",
       "      <td>9/4/2017</td>\n",
       "      <td>42987</td>\n",
       "      <td>Second Class</td>\n",
       "      <td>MD-17350</td>\n",
       "      <td>Maribeth Dona</td>\n",
       "      <td>Consumer</td>\n",
       "      <td>United States</td>\n",
       "      <td>Akron</td>\n",
       "      <td>...</td>\n",
       "      <td>East</td>\n",
       "      <td>OFF-BI-10001634</td>\n",
       "      <td>Office Supplies</td>\n",
       "      <td>Binders</td>\n",
       "      <td>Wilson Jones Active Use Binders</td>\n",
       "      <td>4.368</td>\n",
       "      <td>2</td>\n",
       "      <td>0.7</td>\n",
       "      <td>-3.0576</td>\n",
       "      <td>2</td>\n",
       "    </tr>\n",
       "    <tr>\n",
       "      <th>4</th>\n",
       "      <td>9922</td>\n",
       "      <td>CA-2014-111360</td>\n",
       "      <td>11/24/2014</td>\n",
       "      <td>41973</td>\n",
       "      <td>Standard Class</td>\n",
       "      <td>AT-10435</td>\n",
       "      <td>Alyssa Tate</td>\n",
       "      <td>Home Office</td>\n",
       "      <td>United States</td>\n",
       "      <td>Akron</td>\n",
       "      <td>...</td>\n",
       "      <td>East</td>\n",
       "      <td>OFF-BI-10003350</td>\n",
       "      <td>Office Supplies</td>\n",
       "      <td>Binders</td>\n",
       "      <td>Acco Expandable Hanging Binders</td>\n",
       "      <td>5.742</td>\n",
       "      <td>3</td>\n",
       "      <td>0.7</td>\n",
       "      <td>-4.5936</td>\n",
       "      <td>3</td>\n",
       "    </tr>\n",
       "  </tbody>\n",
       "</table>\n",
       "<p>5 rows × 22 columns</p>\n",
       "</div>"
      ],
      "text/plain": [
       "   Row ID        Order ID  Order Date  Ship Date       Ship Mode Customer ID  \\\n",
       "0    9261  CA-2017-167976  11/11/2017      43053    Second Class    JL-15505   \n",
       "1    6990  CA-2017-165099  12/11/2017      43082     First Class    DK-13375   \n",
       "2    4324  US-2015-147662   2/14/2015      42054  Standard Class    KB-16315   \n",
       "3    3563  CA-2017-109757    9/4/2017      42987    Second Class    MD-17350   \n",
       "4    9922  CA-2014-111360  11/24/2014      41973  Standard Class    AT-10435   \n",
       "\n",
       "     Customer Name      Segment        Country      City  ...   Region  \\\n",
       "0  Jeremy Lonsdale     Consumer  United States  Aberdeen  ...  Central   \n",
       "1      Dennis Kane     Consumer  United States   Abilene  ...  Central   \n",
       "2       Karl Braun     Consumer  United States     Akron  ...     East   \n",
       "3    Maribeth Dona     Consumer  United States     Akron  ...     East   \n",
       "4      Alyssa Tate  Home Office  United States     Akron  ...     East   \n",
       "\n",
       "        Product ID         Category Sub-Category  \\\n",
       "0  OFF-SU-10004661  Office Supplies     Supplies   \n",
       "1  OFF-AP-10001634  Office Supplies   Appliances   \n",
       "2  OFF-BI-10002160  Office Supplies      Binders   \n",
       "3  OFF-BI-10001634  Office Supplies      Binders   \n",
       "4  OFF-BI-10003350  Office Supplies      Binders   \n",
       "\n",
       "                                   Product Name   Sales Quantity  Discount  \\\n",
       "0                 Acme Titanium Bonded Scissors  25.500        3       0.0   \n",
       "1  Hoover Commercial Lightweight Upright Vacuum   1.392        2       0.8   \n",
       "2                     Acco Hanging Data Binders   2.286        2       0.7   \n",
       "3               Wilson Jones Active Use Binders   4.368        2       0.7   \n",
       "4               Acco Expandable Hanging Binders   5.742        3       0.7   \n",
       "\n",
       "   Profit  rk  \n",
       "0  6.6300   1  \n",
       "1 -3.7584   1  \n",
       "2 -1.6764   1  \n",
       "3 -3.0576   2  \n",
       "4 -4.5936   3  \n",
       "\n",
       "[5 rows x 22 columns]"
      ]
     },
     "execution_count": 236,
     "metadata": {},
     "output_type": "execute_result"
    }
   ],
   "source": [
    "# data frame ops\n",
    "\n",
    "data.head() \n",
    "\n",
    "# data struture"
   ]
  },
  {
   "cell_type": "code",
   "execution_count": 234,
   "id": "5374cbe1",
   "metadata": {},
   "outputs": [
    {
     "data": {
      "text/plain": [
       "Index(['Row ID', 'Order ID', 'Order Date', 'Ship Date', 'Ship Mode',\n",
       "       'Customer ID', 'Customer Name', 'Segment', 'Country', 'City', 'State',\n",
       "       'Postal Code', 'Region', 'Product ID', 'Category', 'Sub-Category',\n",
       "       'Product Name', 'Sales', 'Quantity', 'Discount', 'Profit', 'rk'],\n",
       "      dtype='object')"
      ]
     },
     "execution_count": 234,
     "metadata": {},
     "output_type": "execute_result"
    }
   ],
   "source": [
    "data.columns"
   ]
  },
  {
   "cell_type": "code",
   "execution_count": 237,
   "id": "cc24264f",
   "metadata": {},
   "outputs": [
    {
     "data": {
      "text/plain": [
       "RangeIndex(start=0, stop=9694, step=1)"
      ]
     },
     "execution_count": 237,
     "metadata": {},
     "output_type": "execute_result"
    }
   ],
   "source": [
    "data.index"
   ]
  },
  {
   "cell_type": "code",
   "execution_count": 238,
   "id": "44597d9b",
   "metadata": {},
   "outputs": [
    {
     "data": {
      "text/html": [
       "<div>\n",
       "<style scoped>\n",
       "    .dataframe tbody tr th:only-of-type {\n",
       "        vertical-align: middle;\n",
       "    }\n",
       "\n",
       "    .dataframe tbody tr th {\n",
       "        vertical-align: top;\n",
       "    }\n",
       "\n",
       "    .dataframe thead th {\n",
       "        text-align: right;\n",
       "    }\n",
       "</style>\n",
       "<table border=\"1\" class=\"dataframe\">\n",
       "  <thead>\n",
       "    <tr style=\"text-align: right;\">\n",
       "      <th></th>\n",
       "      <th>Row ID</th>\n",
       "      <th>Order ID</th>\n",
       "      <th>Order Date</th>\n",
       "      <th>Ship Date</th>\n",
       "      <th>Ship Mode</th>\n",
       "      <th>Customer ID</th>\n",
       "      <th>Customer Name</th>\n",
       "      <th>Segment</th>\n",
       "      <th>Country</th>\n",
       "      <th>City</th>\n",
       "      <th>...</th>\n",
       "      <th>Region</th>\n",
       "      <th>Product ID</th>\n",
       "      <th>Category</th>\n",
       "      <th>Sub-Category</th>\n",
       "      <th>Product Name</th>\n",
       "      <th>Sales</th>\n",
       "      <th>Quantity</th>\n",
       "      <th>Discount</th>\n",
       "      <th>Profit</th>\n",
       "      <th>rk</th>\n",
       "    </tr>\n",
       "  </thead>\n",
       "  <tbody>\n",
       "    <tr>\n",
       "      <th>0</th>\n",
       "      <td>9261</td>\n",
       "      <td>CA-2017-167976</td>\n",
       "      <td>11/11/2017</td>\n",
       "      <td>43053</td>\n",
       "      <td>Second Class</td>\n",
       "      <td>JL-15505</td>\n",
       "      <td>Jeremy Lonsdale</td>\n",
       "      <td>Consumer</td>\n",
       "      <td>United States</td>\n",
       "      <td>Aberdeen</td>\n",
       "      <td>...</td>\n",
       "      <td>Central</td>\n",
       "      <td>OFF-SU-10004661</td>\n",
       "      <td>Office Supplies</td>\n",
       "      <td>Supplies</td>\n",
       "      <td>Acme Titanium Bonded Scissors</td>\n",
       "      <td>25.5</td>\n",
       "      <td>3</td>\n",
       "      <td>0.0</td>\n",
       "      <td>6.63</td>\n",
       "      <td>1</td>\n",
       "    </tr>\n",
       "  </tbody>\n",
       "</table>\n",
       "<p>1 rows × 22 columns</p>\n",
       "</div>"
      ],
      "text/plain": [
       "   Row ID        Order ID  Order Date  Ship Date     Ship Mode Customer ID  \\\n",
       "0    9261  CA-2017-167976  11/11/2017      43053  Second Class    JL-15505   \n",
       "\n",
       "     Customer Name   Segment        Country      City  ...   Region  \\\n",
       "0  Jeremy Lonsdale  Consumer  United States  Aberdeen  ...  Central   \n",
       "\n",
       "        Product ID         Category Sub-Category  \\\n",
       "0  OFF-SU-10004661  Office Supplies     Supplies   \n",
       "\n",
       "                    Product Name Sales Quantity  Discount  Profit  rk  \n",
       "0  Acme Titanium Bonded Scissors  25.5        3       0.0    6.63   1  \n",
       "\n",
       "[1 rows x 22 columns]"
      ]
     },
     "execution_count": 238,
     "metadata": {},
     "output_type": "execute_result"
    }
   ],
   "source": [
    "data[0:1]"
   ]
  },
  {
   "cell_type": "code",
   "execution_count": 241,
   "id": "eb81b77c",
   "metadata": {},
   "outputs": [
    {
     "data": {
      "text/plain": [
       "pandas.core.frame.DataFrame"
      ]
     },
     "execution_count": 241,
     "metadata": {},
     "output_type": "execute_result"
    }
   ],
   "source": [
    "type(data)"
   ]
  },
  {
   "cell_type": "code",
   "execution_count": 242,
   "id": "139686cd",
   "metadata": {
    "collapsed": true
   },
   "outputs": [
    {
     "data": {
      "text/plain": [
       "Row ID             int64\n",
       "Order ID          object\n",
       "Order Date        object\n",
       "Ship Date          int64\n",
       "Ship Mode         object\n",
       "Customer ID       object\n",
       "Customer Name     object\n",
       "Segment           object\n",
       "Country           object\n",
       "City              object\n",
       "State             object\n",
       "Postal Code        int64\n",
       "Region            object\n",
       "Product ID        object\n",
       "Category          object\n",
       "Sub-Category      object\n",
       "Product Name      object\n",
       "Sales            float64\n",
       "Quantity           int64\n",
       "Discount         float64\n",
       "Profit           float64\n",
       "rk                 int64\n",
       "dtype: object"
      ]
     },
     "execution_count": 242,
     "metadata": {},
     "output_type": "execute_result"
    }
   ],
   "source": [
    "data.dtypes\n",
    "\n",
    "data structure  - data columns , data types"
   ]
  },
  {
   "cell_type": "code",
   "execution_count": null,
   "id": "46ee9e73",
   "metadata": {},
   "outputs": [],
   "source": [
    "import pandas as pd\n",
    "sample = pd.read_csv(\"file.csv\")\n",
    "sample.head()  - first few records\n",
    "sample.tail()   - last few records\n",
    "sample.columns - list columns\n",
    "sample[index pass ] - rows - start value , e.v\n",
    "pd.series() - create\n",
    "pd.Dataframe ( input ) - create\n",
    "sample.dtypes - data structre\n",
    "sample.to_csv(\"sample.csv\")"
   ]
  },
  {
   "cell_type": "code",
   "execution_count": null,
   "id": "e845e2ff",
   "metadata": {},
   "outputs": [],
   "source": [
    "1 D - one input , seires"
   ]
  },
  {
   "cell_type": "code",
   "execution_count": null,
   "id": "84ce8e3d",
   "metadata": {},
   "outputs": [],
   "source": [
    "2 D or multi dimension - data frame"
   ]
  },
  {
   "cell_type": "code",
   "execution_count": 244,
   "id": "5f607e0b",
   "metadata": {
    "collapsed": true
   },
   "outputs": [
    {
     "data": {
      "text/html": [
       "<div>\n",
       "<style scoped>\n",
       "    .dataframe tbody tr th:only-of-type {\n",
       "        vertical-align: middle;\n",
       "    }\n",
       "\n",
       "    .dataframe tbody tr th {\n",
       "        vertical-align: top;\n",
       "    }\n",
       "\n",
       "    .dataframe thead th {\n",
       "        text-align: right;\n",
       "    }\n",
       "</style>\n",
       "<table border=\"1\" class=\"dataframe\">\n",
       "  <thead>\n",
       "    <tr style=\"text-align: right;\">\n",
       "      <th></th>\n",
       "      <th>Row ID</th>\n",
       "      <th>Order ID</th>\n",
       "      <th>Order Date</th>\n",
       "      <th>Ship Date</th>\n",
       "      <th>Ship Mode</th>\n",
       "      <th>Customer ID</th>\n",
       "      <th>Customer Name</th>\n",
       "      <th>Segment</th>\n",
       "      <th>Country</th>\n",
       "      <th>City</th>\n",
       "      <th>...</th>\n",
       "      <th>Region</th>\n",
       "      <th>Product ID</th>\n",
       "      <th>Category</th>\n",
       "      <th>Sub-Category</th>\n",
       "      <th>Product Name</th>\n",
       "      <th>Sales</th>\n",
       "      <th>Quantity</th>\n",
       "      <th>Discount</th>\n",
       "      <th>Profit</th>\n",
       "      <th>rk</th>\n",
       "    </tr>\n",
       "  </thead>\n",
       "  <tbody>\n",
       "    <tr>\n",
       "      <th>0</th>\n",
       "      <td>9261</td>\n",
       "      <td>CA-2017-167976</td>\n",
       "      <td>11/11/2017</td>\n",
       "      <td>43053</td>\n",
       "      <td>Second Class</td>\n",
       "      <td>JL-15505</td>\n",
       "      <td>Jeremy Lonsdale</td>\n",
       "      <td>Consumer</td>\n",
       "      <td>United States</td>\n",
       "      <td>Aberdeen</td>\n",
       "      <td>...</td>\n",
       "      <td>Central</td>\n",
       "      <td>OFF-SU-10004661</td>\n",
       "      <td>Office Supplies</td>\n",
       "      <td>Supplies</td>\n",
       "      <td>Acme Titanium Bonded Scissors</td>\n",
       "      <td>25.500</td>\n",
       "      <td>3</td>\n",
       "      <td>0.0</td>\n",
       "      <td>6.6300</td>\n",
       "      <td>1</td>\n",
       "    </tr>\n",
       "    <tr>\n",
       "      <th>1</th>\n",
       "      <td>6990</td>\n",
       "      <td>CA-2017-165099</td>\n",
       "      <td>12/11/2017</td>\n",
       "      <td>43082</td>\n",
       "      <td>First Class</td>\n",
       "      <td>DK-13375</td>\n",
       "      <td>Dennis Kane</td>\n",
       "      <td>Consumer</td>\n",
       "      <td>United States</td>\n",
       "      <td>Abilene</td>\n",
       "      <td>...</td>\n",
       "      <td>Central</td>\n",
       "      <td>OFF-AP-10001634</td>\n",
       "      <td>Office Supplies</td>\n",
       "      <td>Appliances</td>\n",
       "      <td>Hoover Commercial Lightweight Upright Vacuum</td>\n",
       "      <td>1.392</td>\n",
       "      <td>2</td>\n",
       "      <td>0.8</td>\n",
       "      <td>-3.7584</td>\n",
       "      <td>1</td>\n",
       "    </tr>\n",
       "    <tr>\n",
       "      <th>2</th>\n",
       "      <td>4324</td>\n",
       "      <td>US-2015-147662</td>\n",
       "      <td>2/14/2015</td>\n",
       "      <td>42054</td>\n",
       "      <td>Standard Class</td>\n",
       "      <td>KB-16315</td>\n",
       "      <td>Karl Braun</td>\n",
       "      <td>Consumer</td>\n",
       "      <td>United States</td>\n",
       "      <td>Akron</td>\n",
       "      <td>...</td>\n",
       "      <td>East</td>\n",
       "      <td>OFF-BI-10002160</td>\n",
       "      <td>Office Supplies</td>\n",
       "      <td>Binders</td>\n",
       "      <td>Acco Hanging Data Binders</td>\n",
       "      <td>2.286</td>\n",
       "      <td>2</td>\n",
       "      <td>0.7</td>\n",
       "      <td>-1.6764</td>\n",
       "      <td>1</td>\n",
       "    </tr>\n",
       "    <tr>\n",
       "      <th>3</th>\n",
       "      <td>3563</td>\n",
       "      <td>CA-2017-109757</td>\n",
       "      <td>9/4/2017</td>\n",
       "      <td>42987</td>\n",
       "      <td>Second Class</td>\n",
       "      <td>MD-17350</td>\n",
       "      <td>Maribeth Dona</td>\n",
       "      <td>Consumer</td>\n",
       "      <td>United States</td>\n",
       "      <td>Akron</td>\n",
       "      <td>...</td>\n",
       "      <td>East</td>\n",
       "      <td>OFF-BI-10001634</td>\n",
       "      <td>Office Supplies</td>\n",
       "      <td>Binders</td>\n",
       "      <td>Wilson Jones Active Use Binders</td>\n",
       "      <td>4.368</td>\n",
       "      <td>2</td>\n",
       "      <td>0.7</td>\n",
       "      <td>-3.0576</td>\n",
       "      <td>2</td>\n",
       "    </tr>\n",
       "    <tr>\n",
       "      <th>4</th>\n",
       "      <td>9922</td>\n",
       "      <td>CA-2014-111360</td>\n",
       "      <td>11/24/2014</td>\n",
       "      <td>41973</td>\n",
       "      <td>Standard Class</td>\n",
       "      <td>AT-10435</td>\n",
       "      <td>Alyssa Tate</td>\n",
       "      <td>Home Office</td>\n",
       "      <td>United States</td>\n",
       "      <td>Akron</td>\n",
       "      <td>...</td>\n",
       "      <td>East</td>\n",
       "      <td>OFF-BI-10003350</td>\n",
       "      <td>Office Supplies</td>\n",
       "      <td>Binders</td>\n",
       "      <td>Acco Expandable Hanging Binders</td>\n",
       "      <td>5.742</td>\n",
       "      <td>3</td>\n",
       "      <td>0.7</td>\n",
       "      <td>-4.5936</td>\n",
       "      <td>3</td>\n",
       "    </tr>\n",
       "    <tr>\n",
       "      <th>...</th>\n",
       "      <td>...</td>\n",
       "      <td>...</td>\n",
       "      <td>...</td>\n",
       "      <td>...</td>\n",
       "      <td>...</td>\n",
       "      <td>...</td>\n",
       "      <td>...</td>\n",
       "      <td>...</td>\n",
       "      <td>...</td>\n",
       "      <td>...</td>\n",
       "      <td>...</td>\n",
       "      <td>...</td>\n",
       "      <td>...</td>\n",
       "      <td>...</td>\n",
       "      <td>...</td>\n",
       "      <td>...</td>\n",
       "      <td>...</td>\n",
       "      <td>...</td>\n",
       "      <td>...</td>\n",
       "      <td>...</td>\n",
       "      <td>...</td>\n",
       "    </tr>\n",
       "    <tr>\n",
       "      <th>9689</th>\n",
       "      <td>3348</td>\n",
       "      <td>CA-2015-112014</td>\n",
       "      <td>8/13/2015</td>\n",
       "      <td>42236</td>\n",
       "      <td>Standard Class</td>\n",
       "      <td>ON-18715</td>\n",
       "      <td>Odella Nelson</td>\n",
       "      <td>Corporate</td>\n",
       "      <td>United States</td>\n",
       "      <td>Yucaipa</td>\n",
       "      <td>...</td>\n",
       "      <td>West</td>\n",
       "      <td>OFF-AR-10003156</td>\n",
       "      <td>Office Supplies</td>\n",
       "      <td>Art</td>\n",
       "      <td>50 Colored Long Pencils</td>\n",
       "      <td>50.800</td>\n",
       "      <td>5</td>\n",
       "      <td>0.0</td>\n",
       "      <td>13.2080</td>\n",
       "      <td>1</td>\n",
       "    </tr>\n",
       "    <tr>\n",
       "      <th>9690</th>\n",
       "      <td>8088</td>\n",
       "      <td>CA-2016-106621</td>\n",
       "      <td>9/29/2016</td>\n",
       "      <td>42644</td>\n",
       "      <td>Second Class</td>\n",
       "      <td>DM-12955</td>\n",
       "      <td>Dario Medina</td>\n",
       "      <td>Corporate</td>\n",
       "      <td>United States</td>\n",
       "      <td>Yuma</td>\n",
       "      <td>...</td>\n",
       "      <td>West</td>\n",
       "      <td>OFF-AR-10002375</td>\n",
       "      <td>Office Supplies</td>\n",
       "      <td>Art</td>\n",
       "      <td>Newell 351</td>\n",
       "      <td>10.496</td>\n",
       "      <td>4</td>\n",
       "      <td>0.2</td>\n",
       "      <td>1.1808</td>\n",
       "      <td>1</td>\n",
       "    </tr>\n",
       "    <tr>\n",
       "      <th>9691</th>\n",
       "      <td>4823</td>\n",
       "      <td>CA-2016-134222</td>\n",
       "      <td>7/10/2016</td>\n",
       "      <td>42562</td>\n",
       "      <td>Same Day</td>\n",
       "      <td>NZ-18565</td>\n",
       "      <td>Nick Zandusky</td>\n",
       "      <td>Home Office</td>\n",
       "      <td>United States</td>\n",
       "      <td>Yuma</td>\n",
       "      <td>...</td>\n",
       "      <td>West</td>\n",
       "      <td>OFF-BI-10001658</td>\n",
       "      <td>Office Supplies</td>\n",
       "      <td>Binders</td>\n",
       "      <td>GBC Standard Therm-A-Bind Covers</td>\n",
       "      <td>44.856</td>\n",
       "      <td>6</td>\n",
       "      <td>0.7</td>\n",
       "      <td>-35.8848</td>\n",
       "      <td>2</td>\n",
       "    </tr>\n",
       "    <tr>\n",
       "      <th>9692</th>\n",
       "      <td>7280</td>\n",
       "      <td>CA-2016-108224</td>\n",
       "      <td>5/14/2016</td>\n",
       "      <td>42504</td>\n",
       "      <td>Same Day</td>\n",
       "      <td>TH-21235</td>\n",
       "      <td>Tiffany House</td>\n",
       "      <td>Corporate</td>\n",
       "      <td>United States</td>\n",
       "      <td>Yuma</td>\n",
       "      <td>...</td>\n",
       "      <td>West</td>\n",
       "      <td>TEC-AC-10003832</td>\n",
       "      <td>Technology</td>\n",
       "      <td>Accessories</td>\n",
       "      <td>Imation 16GB Mini TravelDrive USB 2.0 Flash Drive</td>\n",
       "      <td>185.528</td>\n",
       "      <td>7</td>\n",
       "      <td>0.2</td>\n",
       "      <td>48.7011</td>\n",
       "      <td>3</td>\n",
       "    </tr>\n",
       "    <tr>\n",
       "      <th>9693</th>\n",
       "      <td>7282</td>\n",
       "      <td>CA-2017-159282</td>\n",
       "      <td>10/16/2017</td>\n",
       "      <td>43029</td>\n",
       "      <td>Standard Class</td>\n",
       "      <td>GH-14410</td>\n",
       "      <td>Gary Hansen</td>\n",
       "      <td>Home Office</td>\n",
       "      <td>United States</td>\n",
       "      <td>Yuma</td>\n",
       "      <td>...</td>\n",
       "      <td>West</td>\n",
       "      <td>TEC-MA-10001148</td>\n",
       "      <td>Technology</td>\n",
       "      <td>Machines</td>\n",
       "      <td>Swingline SM12-08 MicroCut Jam Free Shredder</td>\n",
       "      <td>599.985</td>\n",
       "      <td>5</td>\n",
       "      <td>0.7</td>\n",
       "      <td>-479.9880</td>\n",
       "      <td>4</td>\n",
       "    </tr>\n",
       "  </tbody>\n",
       "</table>\n",
       "<p>9694 rows × 22 columns</p>\n",
       "</div>"
      ],
      "text/plain": [
       "      Row ID        Order ID  Order Date  Ship Date       Ship Mode  \\\n",
       "0       9261  CA-2017-167976  11/11/2017      43053    Second Class   \n",
       "1       6990  CA-2017-165099  12/11/2017      43082     First Class   \n",
       "2       4324  US-2015-147662   2/14/2015      42054  Standard Class   \n",
       "3       3563  CA-2017-109757    9/4/2017      42987    Second Class   \n",
       "4       9922  CA-2014-111360  11/24/2014      41973  Standard Class   \n",
       "...      ...             ...         ...        ...             ...   \n",
       "9689    3348  CA-2015-112014   8/13/2015      42236  Standard Class   \n",
       "9690    8088  CA-2016-106621   9/29/2016      42644    Second Class   \n",
       "9691    4823  CA-2016-134222   7/10/2016      42562        Same Day   \n",
       "9692    7280  CA-2016-108224   5/14/2016      42504        Same Day   \n",
       "9693    7282  CA-2017-159282  10/16/2017      43029  Standard Class   \n",
       "\n",
       "     Customer ID    Customer Name      Segment        Country      City  ...  \\\n",
       "0       JL-15505  Jeremy Lonsdale     Consumer  United States  Aberdeen  ...   \n",
       "1       DK-13375      Dennis Kane     Consumer  United States   Abilene  ...   \n",
       "2       KB-16315       Karl Braun     Consumer  United States     Akron  ...   \n",
       "3       MD-17350    Maribeth Dona     Consumer  United States     Akron  ...   \n",
       "4       AT-10435      Alyssa Tate  Home Office  United States     Akron  ...   \n",
       "...          ...              ...          ...            ...       ...  ...   \n",
       "9689    ON-18715    Odella Nelson    Corporate  United States   Yucaipa  ...   \n",
       "9690    DM-12955     Dario Medina    Corporate  United States      Yuma  ...   \n",
       "9691    NZ-18565    Nick Zandusky  Home Office  United States      Yuma  ...   \n",
       "9692    TH-21235    Tiffany House    Corporate  United States      Yuma  ...   \n",
       "9693    GH-14410      Gary Hansen  Home Office  United States      Yuma  ...   \n",
       "\n",
       "       Region       Product ID         Category Sub-Category  \\\n",
       "0     Central  OFF-SU-10004661  Office Supplies     Supplies   \n",
       "1     Central  OFF-AP-10001634  Office Supplies   Appliances   \n",
       "2        East  OFF-BI-10002160  Office Supplies      Binders   \n",
       "3        East  OFF-BI-10001634  Office Supplies      Binders   \n",
       "4        East  OFF-BI-10003350  Office Supplies      Binders   \n",
       "...       ...              ...              ...          ...   \n",
       "9689     West  OFF-AR-10003156  Office Supplies          Art   \n",
       "9690     West  OFF-AR-10002375  Office Supplies          Art   \n",
       "9691     West  OFF-BI-10001658  Office Supplies      Binders   \n",
       "9692     West  TEC-AC-10003832       Technology  Accessories   \n",
       "9693     West  TEC-MA-10001148       Technology     Machines   \n",
       "\n",
       "                                           Product Name    Sales Quantity  \\\n",
       "0                         Acme Titanium Bonded Scissors   25.500        3   \n",
       "1          Hoover Commercial Lightweight Upright Vacuum    1.392        2   \n",
       "2                             Acco Hanging Data Binders    2.286        2   \n",
       "3                       Wilson Jones Active Use Binders    4.368        2   \n",
       "4                       Acco Expandable Hanging Binders    5.742        3   \n",
       "...                                                 ...      ...      ...   \n",
       "9689                            50 Colored Long Pencils   50.800        5   \n",
       "9690                                         Newell 351   10.496        4   \n",
       "9691                   GBC Standard Therm-A-Bind Covers   44.856        6   \n",
       "9692  Imation 16GB Mini TravelDrive USB 2.0 Flash Drive  185.528        7   \n",
       "9693       Swingline SM12-08 MicroCut Jam Free Shredder  599.985        5   \n",
       "\n",
       "      Discount    Profit  rk  \n",
       "0          0.0    6.6300   1  \n",
       "1          0.8   -3.7584   1  \n",
       "2          0.7   -1.6764   1  \n",
       "3          0.7   -3.0576   2  \n",
       "4          0.7   -4.5936   3  \n",
       "...        ...       ...  ..  \n",
       "9689       0.0   13.2080   1  \n",
       "9690       0.2    1.1808   1  \n",
       "9691       0.7  -35.8848   2  \n",
       "9692       0.2   48.7011   3  \n",
       "9693       0.7 -479.9880   4  \n",
       "\n",
       "[9694 rows x 22 columns]"
      ]
     },
     "execution_count": 244,
     "metadata": {},
     "output_type": "execute_result"
    }
   ],
   "source": [
    "data"
   ]
  },
  {
   "cell_type": "code",
   "execution_count": 27,
   "id": "9dd5d030",
   "metadata": {},
   "outputs": [],
   "source": [
    "university = pd.read_csv(\"Universities.csv\")"
   ]
  },
  {
   "cell_type": "code",
   "execution_count": 247,
   "id": "d4118515",
   "metadata": {},
   "outputs": [
    {
     "data": {
      "text/html": [
       "<div>\n",
       "<style scoped>\n",
       "    .dataframe tbody tr th:only-of-type {\n",
       "        vertical-align: middle;\n",
       "    }\n",
       "\n",
       "    .dataframe tbody tr th {\n",
       "        vertical-align: top;\n",
       "    }\n",
       "\n",
       "    .dataframe thead th {\n",
       "        text-align: right;\n",
       "    }\n",
       "</style>\n",
       "<table border=\"1\" class=\"dataframe\">\n",
       "  <thead>\n",
       "    <tr style=\"text-align: right;\">\n",
       "      <th></th>\n",
       "      <th>Univ</th>\n",
       "      <th>SAT</th>\n",
       "      <th>Top10</th>\n",
       "      <th>Accept</th>\n",
       "      <th>SFRatio</th>\n",
       "      <th>Expenses</th>\n",
       "      <th>GradRate</th>\n",
       "    </tr>\n",
       "  </thead>\n",
       "  <tbody>\n",
       "    <tr>\n",
       "      <th>0</th>\n",
       "      <td>Brown</td>\n",
       "      <td>1310</td>\n",
       "      <td>89</td>\n",
       "      <td>22</td>\n",
       "      <td>13</td>\n",
       "      <td>22704</td>\n",
       "      <td>94</td>\n",
       "    </tr>\n",
       "    <tr>\n",
       "      <th>1</th>\n",
       "      <td>CalTech</td>\n",
       "      <td>1415</td>\n",
       "      <td>100</td>\n",
       "      <td>25</td>\n",
       "      <td>6</td>\n",
       "      <td>63575</td>\n",
       "      <td>81</td>\n",
       "    </tr>\n",
       "  </tbody>\n",
       "</table>\n",
       "</div>"
      ],
      "text/plain": [
       "      Univ   SAT  Top10  Accept  SFRatio  Expenses  GradRate\n",
       "0    Brown  1310     89      22       13     22704        94\n",
       "1  CalTech  1415    100      25        6     63575        81"
      ]
     },
     "execution_count": 247,
     "metadata": {},
     "output_type": "execute_result"
    }
   ],
   "source": [
    "university[0:2]"
   ]
  },
  {
   "cell_type": "code",
   "execution_count": 248,
   "id": "f3978654",
   "metadata": {},
   "outputs": [
    {
     "data": {
      "text/plain": [
       "RangeIndex(start=0, stop=25, step=1)"
      ]
     },
     "execution_count": 248,
     "metadata": {},
     "output_type": "execute_result"
    }
   ],
   "source": [
    "university.index"
   ]
  },
  {
   "cell_type": "code",
   "execution_count": 249,
   "id": "bc0cf976",
   "metadata": {
    "collapsed": true
   },
   "outputs": [
    {
     "data": {
      "text/html": [
       "<div>\n",
       "<style scoped>\n",
       "    .dataframe tbody tr th:only-of-type {\n",
       "        vertical-align: middle;\n",
       "    }\n",
       "\n",
       "    .dataframe tbody tr th {\n",
       "        vertical-align: top;\n",
       "    }\n",
       "\n",
       "    .dataframe thead th {\n",
       "        text-align: right;\n",
       "    }\n",
       "</style>\n",
       "<table border=\"1\" class=\"dataframe\">\n",
       "  <thead>\n",
       "    <tr style=\"text-align: right;\">\n",
       "      <th></th>\n",
       "      <th>Univ</th>\n",
       "      <th>SAT</th>\n",
       "      <th>Top10</th>\n",
       "      <th>Accept</th>\n",
       "      <th>SFRatio</th>\n",
       "      <th>Expenses</th>\n",
       "      <th>GradRate</th>\n",
       "    </tr>\n",
       "  </thead>\n",
       "  <tbody>\n",
       "    <tr>\n",
       "      <th>0</th>\n",
       "      <td>Brown</td>\n",
       "      <td>1310</td>\n",
       "      <td>89</td>\n",
       "      <td>22</td>\n",
       "      <td>13</td>\n",
       "      <td>22704</td>\n",
       "      <td>94</td>\n",
       "    </tr>\n",
       "    <tr>\n",
       "      <th>1</th>\n",
       "      <td>CalTech</td>\n",
       "      <td>1415</td>\n",
       "      <td>100</td>\n",
       "      <td>25</td>\n",
       "      <td>6</td>\n",
       "      <td>63575</td>\n",
       "      <td>81</td>\n",
       "    </tr>\n",
       "    <tr>\n",
       "      <th>2</th>\n",
       "      <td>CMU</td>\n",
       "      <td>1260</td>\n",
       "      <td>62</td>\n",
       "      <td>59</td>\n",
       "      <td>9</td>\n",
       "      <td>25026</td>\n",
       "      <td>72</td>\n",
       "    </tr>\n",
       "    <tr>\n",
       "      <th>3</th>\n",
       "      <td>Columbia</td>\n",
       "      <td>1310</td>\n",
       "      <td>76</td>\n",
       "      <td>24</td>\n",
       "      <td>12</td>\n",
       "      <td>31510</td>\n",
       "      <td>88</td>\n",
       "    </tr>\n",
       "    <tr>\n",
       "      <th>4</th>\n",
       "      <td>Cornell</td>\n",
       "      <td>1280</td>\n",
       "      <td>83</td>\n",
       "      <td>33</td>\n",
       "      <td>13</td>\n",
       "      <td>21864</td>\n",
       "      <td>90</td>\n",
       "    </tr>\n",
       "    <tr>\n",
       "      <th>5</th>\n",
       "      <td>Dartmouth</td>\n",
       "      <td>1340</td>\n",
       "      <td>89</td>\n",
       "      <td>23</td>\n",
       "      <td>10</td>\n",
       "      <td>32162</td>\n",
       "      <td>95</td>\n",
       "    </tr>\n",
       "    <tr>\n",
       "      <th>6</th>\n",
       "      <td>Duke</td>\n",
       "      <td>1315</td>\n",
       "      <td>90</td>\n",
       "      <td>30</td>\n",
       "      <td>12</td>\n",
       "      <td>31585</td>\n",
       "      <td>95</td>\n",
       "    </tr>\n",
       "    <tr>\n",
       "      <th>7</th>\n",
       "      <td>Georgetown</td>\n",
       "      <td>1255</td>\n",
       "      <td>74</td>\n",
       "      <td>24</td>\n",
       "      <td>12</td>\n",
       "      <td>20126</td>\n",
       "      <td>92</td>\n",
       "    </tr>\n",
       "    <tr>\n",
       "      <th>8</th>\n",
       "      <td>Harvard</td>\n",
       "      <td>1400</td>\n",
       "      <td>91</td>\n",
       "      <td>14</td>\n",
       "      <td>11</td>\n",
       "      <td>39525</td>\n",
       "      <td>97</td>\n",
       "    </tr>\n",
       "    <tr>\n",
       "      <th>9</th>\n",
       "      <td>JohnsHopkins</td>\n",
       "      <td>1305</td>\n",
       "      <td>75</td>\n",
       "      <td>44</td>\n",
       "      <td>7</td>\n",
       "      <td>58691</td>\n",
       "      <td>87</td>\n",
       "    </tr>\n",
       "  </tbody>\n",
       "</table>\n",
       "</div>"
      ],
      "text/plain": [
       "           Univ   SAT  Top10  Accept  SFRatio  Expenses  GradRate\n",
       "0         Brown  1310     89      22       13     22704        94\n",
       "1       CalTech  1415    100      25        6     63575        81\n",
       "2           CMU  1260     62      59        9     25026        72\n",
       "3      Columbia  1310     76      24       12     31510        88\n",
       "4       Cornell  1280     83      33       13     21864        90\n",
       "5     Dartmouth  1340     89      23       10     32162        95\n",
       "6          Duke  1315     90      30       12     31585        95\n",
       "7    Georgetown  1255     74      24       12     20126        92\n",
       "8       Harvard  1400     91      14       11     39525        97\n",
       "9  JohnsHopkins  1305     75      44        7     58691        87"
      ]
     },
     "execution_count": 249,
     "metadata": {},
     "output_type": "execute_result"
    }
   ],
   "source": [
    "university[0:10]"
   ]
  },
  {
   "cell_type": "code",
   "execution_count": 250,
   "id": "b80165f9",
   "metadata": {},
   "outputs": [
    {
     "data": {
      "text/plain": [
       "Index(['Univ', 'SAT', 'Top10', 'Accept', 'SFRatio', 'Expenses', 'GradRate'], dtype='object')"
      ]
     },
     "execution_count": 250,
     "metadata": {},
     "output_type": "execute_result"
    }
   ],
   "source": [
    "university.columns"
   ]
  },
  {
   "cell_type": "code",
   "execution_count": 252,
   "id": "3cb9c5c7",
   "metadata": {
    "collapsed": true
   },
   "outputs": [
    {
     "data": {
      "text/plain": [
       "0    1310\n",
       "1    1415\n",
       "2    1260\n",
       "3    1310\n",
       "4    1280\n",
       "Name: SAT, dtype: int64"
      ]
     },
     "execution_count": 252,
     "metadata": {},
     "output_type": "execute_result"
    }
   ],
   "source": [
    "university[\"SAT\"] - one square "
   ]
  },
  {
   "cell_type": "code",
   "execution_count": 254,
   "id": "bbc2dec3",
   "metadata": {
    "collapsed": true
   },
   "outputs": [
    {
     "data": {
      "text/html": [
       "<div>\n",
       "<style scoped>\n",
       "    .dataframe tbody tr th:only-of-type {\n",
       "        vertical-align: middle;\n",
       "    }\n",
       "\n",
       "    .dataframe tbody tr th {\n",
       "        vertical-align: top;\n",
       "    }\n",
       "\n",
       "    .dataframe thead th {\n",
       "        text-align: right;\n",
       "    }\n",
       "</style>\n",
       "<table border=\"1\" class=\"dataframe\">\n",
       "  <thead>\n",
       "    <tr style=\"text-align: right;\">\n",
       "      <th></th>\n",
       "      <th>Top10</th>\n",
       "      <th>Accept</th>\n",
       "      <th>SFRatio</th>\n",
       "    </tr>\n",
       "  </thead>\n",
       "  <tbody>\n",
       "    <tr>\n",
       "      <th>0</th>\n",
       "      <td>89</td>\n",
       "      <td>22</td>\n",
       "      <td>13</td>\n",
       "    </tr>\n",
       "    <tr>\n",
       "      <th>1</th>\n",
       "      <td>100</td>\n",
       "      <td>25</td>\n",
       "      <td>6</td>\n",
       "    </tr>\n",
       "    <tr>\n",
       "      <th>2</th>\n",
       "      <td>62</td>\n",
       "      <td>59</td>\n",
       "      <td>9</td>\n",
       "    </tr>\n",
       "    <tr>\n",
       "      <th>3</th>\n",
       "      <td>76</td>\n",
       "      <td>24</td>\n",
       "      <td>12</td>\n",
       "    </tr>\n",
       "    <tr>\n",
       "      <th>4</th>\n",
       "      <td>83</td>\n",
       "      <td>33</td>\n",
       "      <td>13</td>\n",
       "    </tr>\n",
       "  </tbody>\n",
       "</table>\n",
       "</div>"
      ],
      "text/plain": [
       "   Top10  Accept  SFRatio\n",
       "0     89      22       13\n",
       "1    100      25        6\n",
       "2     62      59        9\n",
       "3     76      24       12\n",
       "4     83      33       13"
      ]
     },
     "execution_count": 254,
     "metadata": {},
     "output_type": "execute_result"
    }
   ],
   "source": [
    "university[[ 'Top10', 'Accept', 'SFRatio'  ]][0:4]  - double sqaure"
   ]
  },
  {
   "cell_type": "code",
   "execution_count": 255,
   "id": "32becfd3",
   "metadata": {},
   "outputs": [
    {
     "data": {
      "text/html": [
       "<div>\n",
       "<style scoped>\n",
       "    .dataframe tbody tr th:only-of-type {\n",
       "        vertical-align: middle;\n",
       "    }\n",
       "\n",
       "    .dataframe tbody tr th {\n",
       "        vertical-align: top;\n",
       "    }\n",
       "\n",
       "    .dataframe thead th {\n",
       "        text-align: right;\n",
       "    }\n",
       "</style>\n",
       "<table border=\"1\" class=\"dataframe\">\n",
       "  <thead>\n",
       "    <tr style=\"text-align: right;\">\n",
       "      <th></th>\n",
       "      <th>Univ</th>\n",
       "      <th>SAT</th>\n",
       "      <th>Top10</th>\n",
       "      <th>Accept</th>\n",
       "      <th>SFRatio</th>\n",
       "      <th>Expenses</th>\n",
       "      <th>GradRate</th>\n",
       "    </tr>\n",
       "  </thead>\n",
       "  <tbody>\n",
       "    <tr>\n",
       "      <th>0</th>\n",
       "      <td>Brown</td>\n",
       "      <td>1310</td>\n",
       "      <td>89</td>\n",
       "      <td>22</td>\n",
       "      <td>13</td>\n",
       "      <td>22704</td>\n",
       "      <td>94</td>\n",
       "    </tr>\n",
       "    <tr>\n",
       "      <th>1</th>\n",
       "      <td>CalTech</td>\n",
       "      <td>1415</td>\n",
       "      <td>100</td>\n",
       "      <td>25</td>\n",
       "      <td>6</td>\n",
       "      <td>63575</td>\n",
       "      <td>81</td>\n",
       "    </tr>\n",
       "    <tr>\n",
       "      <th>2</th>\n",
       "      <td>CMU</td>\n",
       "      <td>1260</td>\n",
       "      <td>62</td>\n",
       "      <td>59</td>\n",
       "      <td>9</td>\n",
       "      <td>25026</td>\n",
       "      <td>72</td>\n",
       "    </tr>\n",
       "    <tr>\n",
       "      <th>3</th>\n",
       "      <td>Columbia</td>\n",
       "      <td>1310</td>\n",
       "      <td>76</td>\n",
       "      <td>24</td>\n",
       "      <td>12</td>\n",
       "      <td>31510</td>\n",
       "      <td>88</td>\n",
       "    </tr>\n",
       "    <tr>\n",
       "      <th>4</th>\n",
       "      <td>Cornell</td>\n",
       "      <td>1280</td>\n",
       "      <td>83</td>\n",
       "      <td>33</td>\n",
       "      <td>13</td>\n",
       "      <td>21864</td>\n",
       "      <td>90</td>\n",
       "    </tr>\n",
       "  </tbody>\n",
       "</table>\n",
       "</div>"
      ],
      "text/plain": [
       "       Univ   SAT  Top10  Accept  SFRatio  Expenses  GradRate\n",
       "0     Brown  1310     89      22       13     22704        94\n",
       "1   CalTech  1415    100      25        6     63575        81\n",
       "2       CMU  1260     62      59        9     25026        72\n",
       "3  Columbia  1310     76      24       12     31510        88\n",
       "4   Cornell  1280     83      33       13     21864        90"
      ]
     },
     "execution_count": 255,
     "metadata": {},
     "output_type": "execute_result"
    }
   ],
   "source": [
    "university[0:5]"
   ]
  },
  {
   "cell_type": "code",
   "execution_count": 258,
   "id": "0a7c7f03",
   "metadata": {},
   "outputs": [],
   "source": [
    "# create column\n",
    "\n",
    "university[\"new\"] = 'US'"
   ]
  },
  {
   "cell_type": "code",
   "execution_count": 259,
   "id": "8de305f0",
   "metadata": {},
   "outputs": [
    {
     "data": {
      "text/html": [
       "<div>\n",
       "<style scoped>\n",
       "    .dataframe tbody tr th:only-of-type {\n",
       "        vertical-align: middle;\n",
       "    }\n",
       "\n",
       "    .dataframe tbody tr th {\n",
       "        vertical-align: top;\n",
       "    }\n",
       "\n",
       "    .dataframe thead th {\n",
       "        text-align: right;\n",
       "    }\n",
       "</style>\n",
       "<table border=\"1\" class=\"dataframe\">\n",
       "  <thead>\n",
       "    <tr style=\"text-align: right;\">\n",
       "      <th></th>\n",
       "      <th>Univ</th>\n",
       "      <th>SAT</th>\n",
       "      <th>Top10</th>\n",
       "      <th>Accept</th>\n",
       "      <th>SFRatio</th>\n",
       "      <th>Expenses</th>\n",
       "      <th>GradRate</th>\n",
       "      <th>new</th>\n",
       "    </tr>\n",
       "  </thead>\n",
       "  <tbody>\n",
       "    <tr>\n",
       "      <th>0</th>\n",
       "      <td>Brown</td>\n",
       "      <td>1310</td>\n",
       "      <td>89</td>\n",
       "      <td>22</td>\n",
       "      <td>13</td>\n",
       "      <td>22704</td>\n",
       "      <td>94</td>\n",
       "      <td>US</td>\n",
       "    </tr>\n",
       "    <tr>\n",
       "      <th>1</th>\n",
       "      <td>CalTech</td>\n",
       "      <td>1415</td>\n",
       "      <td>100</td>\n",
       "      <td>25</td>\n",
       "      <td>6</td>\n",
       "      <td>63575</td>\n",
       "      <td>81</td>\n",
       "      <td>US</td>\n",
       "    </tr>\n",
       "    <tr>\n",
       "      <th>2</th>\n",
       "      <td>CMU</td>\n",
       "      <td>1260</td>\n",
       "      <td>62</td>\n",
       "      <td>59</td>\n",
       "      <td>9</td>\n",
       "      <td>25026</td>\n",
       "      <td>72</td>\n",
       "      <td>US</td>\n",
       "    </tr>\n",
       "  </tbody>\n",
       "</table>\n",
       "</div>"
      ],
      "text/plain": [
       "      Univ   SAT  Top10  Accept  SFRatio  Expenses  GradRate new\n",
       "0    Brown  1310     89      22       13     22704        94  US\n",
       "1  CalTech  1415    100      25        6     63575        81  US\n",
       "2      CMU  1260     62      59        9     25026        72  US"
      ]
     },
     "execution_count": 259,
     "metadata": {},
     "output_type": "execute_result"
    }
   ],
   "source": [
    "university[0:3]"
   ]
  },
  {
   "cell_type": "code",
   "execution_count": 260,
   "id": "c22736ba",
   "metadata": {},
   "outputs": [],
   "source": [
    "university['old'] = [\"IN\",\"US\",\"OP\",....]"
   ]
  },
  {
   "cell_type": "code",
   "execution_count": 262,
   "id": "7e583984",
   "metadata": {},
   "outputs": [
    {
     "data": {
      "text/html": [
       "<div>\n",
       "<style scoped>\n",
       "    .dataframe tbody tr th:only-of-type {\n",
       "        vertical-align: middle;\n",
       "    }\n",
       "\n",
       "    .dataframe tbody tr th {\n",
       "        vertical-align: top;\n",
       "    }\n",
       "\n",
       "    .dataframe thead th {\n",
       "        text-align: right;\n",
       "    }\n",
       "</style>\n",
       "<table border=\"1\" class=\"dataframe\">\n",
       "  <thead>\n",
       "    <tr style=\"text-align: right;\">\n",
       "      <th></th>\n",
       "      <th>Univ</th>\n",
       "      <th>SAT</th>\n",
       "      <th>Top10</th>\n",
       "      <th>Accept</th>\n",
       "      <th>SFRatio</th>\n",
       "      <th>Expenses</th>\n",
       "      <th>GradRate</th>\n",
       "      <th>new</th>\n",
       "      <th>old</th>\n",
       "    </tr>\n",
       "  </thead>\n",
       "  <tbody>\n",
       "    <tr>\n",
       "      <th>0</th>\n",
       "      <td>Brown</td>\n",
       "      <td>1310</td>\n",
       "      <td>89</td>\n",
       "      <td>22</td>\n",
       "      <td>13</td>\n",
       "      <td>22704</td>\n",
       "      <td>94</td>\n",
       "      <td>US</td>\n",
       "      <td>IN</td>\n",
       "    </tr>\n",
       "    <tr>\n",
       "      <th>1</th>\n",
       "      <td>CalTech</td>\n",
       "      <td>1415</td>\n",
       "      <td>100</td>\n",
       "      <td>25</td>\n",
       "      <td>6</td>\n",
       "      <td>63575</td>\n",
       "      <td>81</td>\n",
       "      <td>US</td>\n",
       "      <td>IN</td>\n",
       "    </tr>\n",
       "    <tr>\n",
       "      <th>2</th>\n",
       "      <td>CMU</td>\n",
       "      <td>1260</td>\n",
       "      <td>62</td>\n",
       "      <td>59</td>\n",
       "      <td>9</td>\n",
       "      <td>25026</td>\n",
       "      <td>72</td>\n",
       "      <td>US</td>\n",
       "      <td>IN</td>\n",
       "    </tr>\n",
       "  </tbody>\n",
       "</table>\n",
       "</div>"
      ],
      "text/plain": [
       "      Univ   SAT  Top10  Accept  SFRatio  Expenses  GradRate new old\n",
       "0    Brown  1310     89      22       13     22704        94  US  IN\n",
       "1  CalTech  1415    100      25        6     63575        81  US  IN\n",
       "2      CMU  1260     62      59        9     25026        72  US  IN"
      ]
     },
     "execution_count": 262,
     "metadata": {},
     "output_type": "execute_result"
    }
   ],
   "source": [
    "university[0:3]"
   ]
  },
  {
   "cell_type": "code",
   "execution_count": 264,
   "id": "811e343e",
   "metadata": {},
   "outputs": [
    {
     "data": {
      "text/plain": [
       "Index(['Univ', 'SAT', 'Top10', 'Accept', 'SFRatio', 'Expenses', 'GradRate',\n",
       "       'new', 'old'],\n",
       "      dtype='object')"
      ]
     },
     "execution_count": 264,
     "metadata": {},
     "output_type": "execute_result"
    }
   ],
   "source": [
    "university.columns"
   ]
  },
  {
   "cell_type": "code",
   "execution_count": 267,
   "id": "cca32a94",
   "metadata": {},
   "outputs": [],
   "source": [
    "x = university[['new','Univ', 'SAT', 'Top10', 'Accept', 'SFRatio', 'Expenses', 'GradRate']][0:3]"
   ]
  },
  {
   "cell_type": "code",
   "execution_count": 268,
   "id": "fcc6cf5f",
   "metadata": {},
   "outputs": [
    {
     "data": {
      "text/plain": [
       "Index(['new', 'Univ', 'SAT', 'Top10', 'Accept', 'SFRatio', 'Expenses',\n",
       "       'GradRate'],\n",
       "      dtype='object')"
      ]
     },
     "execution_count": 268,
     "metadata": {},
     "output_type": "execute_result"
    }
   ],
   "source": [
    "x.columns"
   ]
  },
  {
   "cell_type": "code",
   "execution_count": 269,
   "id": "9d360b3a",
   "metadata": {},
   "outputs": [
    {
     "data": {
      "text/html": [
       "<div>\n",
       "<style scoped>\n",
       "    .dataframe tbody tr th:only-of-type {\n",
       "        vertical-align: middle;\n",
       "    }\n",
       "\n",
       "    .dataframe tbody tr th {\n",
       "        vertical-align: top;\n",
       "    }\n",
       "\n",
       "    .dataframe thead th {\n",
       "        text-align: right;\n",
       "    }\n",
       "</style>\n",
       "<table border=\"1\" class=\"dataframe\">\n",
       "  <thead>\n",
       "    <tr style=\"text-align: right;\">\n",
       "      <th></th>\n",
       "      <th>0</th>\n",
       "      <th>1</th>\n",
       "      <th>2</th>\n",
       "      <th>3</th>\n",
       "      <th>4</th>\n",
       "      <th>5</th>\n",
       "      <th>6</th>\n",
       "      <th>7</th>\n",
       "      <th>8</th>\n",
       "      <th>9</th>\n",
       "      <th>...</th>\n",
       "      <th>15</th>\n",
       "      <th>16</th>\n",
       "      <th>17</th>\n",
       "      <th>18</th>\n",
       "      <th>19</th>\n",
       "      <th>20</th>\n",
       "      <th>21</th>\n",
       "      <th>22</th>\n",
       "      <th>23</th>\n",
       "      <th>24</th>\n",
       "    </tr>\n",
       "  </thead>\n",
       "  <tbody>\n",
       "    <tr>\n",
       "      <th>Univ</th>\n",
       "      <td>Brown</td>\n",
       "      <td>CalTech</td>\n",
       "      <td>CMU</td>\n",
       "      <td>Columbia</td>\n",
       "      <td>Cornell</td>\n",
       "      <td>Dartmouth</td>\n",
       "      <td>Duke</td>\n",
       "      <td>Georgetown</td>\n",
       "      <td>Harvard</td>\n",
       "      <td>JohnsHopkins</td>\n",
       "      <td>...</td>\n",
       "      <td>Purdue</td>\n",
       "      <td>Stanford</td>\n",
       "      <td>TexasA&amp;M</td>\n",
       "      <td>UCBerkeley</td>\n",
       "      <td>UChicago</td>\n",
       "      <td>UMichigan</td>\n",
       "      <td>UPenn</td>\n",
       "      <td>UVA</td>\n",
       "      <td>UWisconsin</td>\n",
       "      <td>Yale</td>\n",
       "    </tr>\n",
       "    <tr>\n",
       "      <th>SAT</th>\n",
       "      <td>1310</td>\n",
       "      <td>1415</td>\n",
       "      <td>1260</td>\n",
       "      <td>1310</td>\n",
       "      <td>1280</td>\n",
       "      <td>1340</td>\n",
       "      <td>1315</td>\n",
       "      <td>1255</td>\n",
       "      <td>1400</td>\n",
       "      <td>1305</td>\n",
       "      <td>...</td>\n",
       "      <td>1005</td>\n",
       "      <td>1360</td>\n",
       "      <td>1075</td>\n",
       "      <td>1240</td>\n",
       "      <td>1290</td>\n",
       "      <td>1180</td>\n",
       "      <td>1285</td>\n",
       "      <td>1225</td>\n",
       "      <td>1085</td>\n",
       "      <td>1375</td>\n",
       "    </tr>\n",
       "    <tr>\n",
       "      <th>Top10</th>\n",
       "      <td>89</td>\n",
       "      <td>100</td>\n",
       "      <td>62</td>\n",
       "      <td>76</td>\n",
       "      <td>83</td>\n",
       "      <td>89</td>\n",
       "      <td>90</td>\n",
       "      <td>74</td>\n",
       "      <td>91</td>\n",
       "      <td>75</td>\n",
       "      <td>...</td>\n",
       "      <td>28</td>\n",
       "      <td>90</td>\n",
       "      <td>49</td>\n",
       "      <td>95</td>\n",
       "      <td>75</td>\n",
       "      <td>65</td>\n",
       "      <td>80</td>\n",
       "      <td>77</td>\n",
       "      <td>40</td>\n",
       "      <td>95</td>\n",
       "    </tr>\n",
       "    <tr>\n",
       "      <th>Accept</th>\n",
       "      <td>22</td>\n",
       "      <td>25</td>\n",
       "      <td>59</td>\n",
       "      <td>24</td>\n",
       "      <td>33</td>\n",
       "      <td>23</td>\n",
       "      <td>30</td>\n",
       "      <td>24</td>\n",
       "      <td>14</td>\n",
       "      <td>44</td>\n",
       "      <td>...</td>\n",
       "      <td>90</td>\n",
       "      <td>20</td>\n",
       "      <td>67</td>\n",
       "      <td>40</td>\n",
       "      <td>50</td>\n",
       "      <td>68</td>\n",
       "      <td>36</td>\n",
       "      <td>44</td>\n",
       "      <td>69</td>\n",
       "      <td>19</td>\n",
       "    </tr>\n",
       "    <tr>\n",
       "      <th>SFRatio</th>\n",
       "      <td>13</td>\n",
       "      <td>6</td>\n",
       "      <td>9</td>\n",
       "      <td>12</td>\n",
       "      <td>13</td>\n",
       "      <td>10</td>\n",
       "      <td>12</td>\n",
       "      <td>12</td>\n",
       "      <td>11</td>\n",
       "      <td>7</td>\n",
       "      <td>...</td>\n",
       "      <td>19</td>\n",
       "      <td>12</td>\n",
       "      <td>25</td>\n",
       "      <td>17</td>\n",
       "      <td>13</td>\n",
       "      <td>16</td>\n",
       "      <td>11</td>\n",
       "      <td>14</td>\n",
       "      <td>15</td>\n",
       "      <td>11</td>\n",
       "    </tr>\n",
       "    <tr>\n",
       "      <th>Expenses</th>\n",
       "      <td>22704</td>\n",
       "      <td>63575</td>\n",
       "      <td>25026</td>\n",
       "      <td>31510</td>\n",
       "      <td>21864</td>\n",
       "      <td>32162</td>\n",
       "      <td>31585</td>\n",
       "      <td>20126</td>\n",
       "      <td>39525</td>\n",
       "      <td>58691</td>\n",
       "      <td>...</td>\n",
       "      <td>9066</td>\n",
       "      <td>36450</td>\n",
       "      <td>8704</td>\n",
       "      <td>15140</td>\n",
       "      <td>38380</td>\n",
       "      <td>15470</td>\n",
       "      <td>27553</td>\n",
       "      <td>13349</td>\n",
       "      <td>11857</td>\n",
       "      <td>43514</td>\n",
       "    </tr>\n",
       "    <tr>\n",
       "      <th>GradRate</th>\n",
       "      <td>94</td>\n",
       "      <td>81</td>\n",
       "      <td>72</td>\n",
       "      <td>88</td>\n",
       "      <td>90</td>\n",
       "      <td>95</td>\n",
       "      <td>95</td>\n",
       "      <td>92</td>\n",
       "      <td>97</td>\n",
       "      <td>87</td>\n",
       "      <td>...</td>\n",
       "      <td>69</td>\n",
       "      <td>93</td>\n",
       "      <td>67</td>\n",
       "      <td>78</td>\n",
       "      <td>87</td>\n",
       "      <td>85</td>\n",
       "      <td>90</td>\n",
       "      <td>92</td>\n",
       "      <td>71</td>\n",
       "      <td>96</td>\n",
       "    </tr>\n",
       "    <tr>\n",
       "      <th>new</th>\n",
       "      <td>US</td>\n",
       "      <td>US</td>\n",
       "      <td>US</td>\n",
       "      <td>US</td>\n",
       "      <td>US</td>\n",
       "      <td>US</td>\n",
       "      <td>US</td>\n",
       "      <td>US</td>\n",
       "      <td>US</td>\n",
       "      <td>US</td>\n",
       "      <td>...</td>\n",
       "      <td>US</td>\n",
       "      <td>US</td>\n",
       "      <td>US</td>\n",
       "      <td>US</td>\n",
       "      <td>US</td>\n",
       "      <td>US</td>\n",
       "      <td>US</td>\n",
       "      <td>US</td>\n",
       "      <td>US</td>\n",
       "      <td>US</td>\n",
       "    </tr>\n",
       "    <tr>\n",
       "      <th>old</th>\n",
       "      <td>IN</td>\n",
       "      <td>IN</td>\n",
       "      <td>IN</td>\n",
       "      <td>IN</td>\n",
       "      <td>IN</td>\n",
       "      <td>IN</td>\n",
       "      <td>IN</td>\n",
       "      <td>IN</td>\n",
       "      <td>IN</td>\n",
       "      <td>IN</td>\n",
       "      <td>...</td>\n",
       "      <td>IN</td>\n",
       "      <td>IN</td>\n",
       "      <td>IN</td>\n",
       "      <td>IN</td>\n",
       "      <td>IN</td>\n",
       "      <td>IN</td>\n",
       "      <td>IN</td>\n",
       "      <td>IN</td>\n",
       "      <td>IN</td>\n",
       "      <td>IN</td>\n",
       "    </tr>\n",
       "  </tbody>\n",
       "</table>\n",
       "<p>9 rows × 25 columns</p>\n",
       "</div>"
      ],
      "text/plain": [
       "             0        1      2         3        4          5      6   \\\n",
       "Univ      Brown  CalTech    CMU  Columbia  Cornell  Dartmouth   Duke   \n",
       "SAT        1310     1415   1260      1310     1280       1340   1315   \n",
       "Top10        89      100     62        76       83         89     90   \n",
       "Accept       22       25     59        24       33         23     30   \n",
       "SFRatio      13        6      9        12       13         10     12   \n",
       "Expenses  22704    63575  25026     31510    21864      32162  31585   \n",
       "GradRate     94       81     72        88       90         95     95   \n",
       "new          US       US     US        US       US         US     US   \n",
       "old          IN       IN     IN        IN       IN         IN     IN   \n",
       "\n",
       "                  7        8             9   ...      15        16        17  \\\n",
       "Univ      Georgetown  Harvard  JohnsHopkins  ...  Purdue  Stanford  TexasA&M   \n",
       "SAT             1255     1400          1305  ...    1005      1360      1075   \n",
       "Top10             74       91            75  ...      28        90        49   \n",
       "Accept            24       14            44  ...      90        20        67   \n",
       "SFRatio           12       11             7  ...      19        12        25   \n",
       "Expenses       20126    39525         58691  ...    9066     36450      8704   \n",
       "GradRate          92       97            87  ...      69        93        67   \n",
       "new               US       US            US  ...      US        US        US   \n",
       "old               IN       IN            IN  ...      IN        IN        IN   \n",
       "\n",
       "                  18        19         20     21     22          23     24  \n",
       "Univ      UCBerkeley  UChicago  UMichigan  UPenn    UVA  UWisconsin   Yale  \n",
       "SAT             1240      1290       1180   1285   1225        1085   1375  \n",
       "Top10             95        75         65     80     77          40     95  \n",
       "Accept            40        50         68     36     44          69     19  \n",
       "SFRatio           17        13         16     11     14          15     11  \n",
       "Expenses       15140     38380      15470  27553  13349       11857  43514  \n",
       "GradRate          78        87         85     90     92          71     96  \n",
       "new               US        US         US     US     US          US     US  \n",
       "old               IN        IN         IN     IN     IN          IN     IN  \n",
       "\n",
       "[9 rows x 25 columns]"
      ]
     },
     "execution_count": 269,
     "metadata": {},
     "output_type": "execute_result"
    }
   ],
   "source": [
    "university.T"
   ]
  },
  {
   "cell_type": "code",
   "execution_count": 270,
   "id": "1ff11afb",
   "metadata": {},
   "outputs": [
    {
     "data": {
      "text/plain": [
       "Index(['Univ', 'SAT', 'Top10', 'Accept', 'SFRatio', 'Expenses', 'GradRate',\n",
       "       'new', 'old'],\n",
       "      dtype='object')"
      ]
     },
     "execution_count": 270,
     "metadata": {},
     "output_type": "execute_result"
    }
   ],
   "source": [
    "university.columns"
   ]
  },
  {
   "cell_type": "code",
   "execution_count": 271,
   "id": "8f575709",
   "metadata": {},
   "outputs": [
    {
     "data": {
      "text/html": [
       "<div>\n",
       "<style scoped>\n",
       "    .dataframe tbody tr th:only-of-type {\n",
       "        vertical-align: middle;\n",
       "    }\n",
       "\n",
       "    .dataframe tbody tr th {\n",
       "        vertical-align: top;\n",
       "    }\n",
       "\n",
       "    .dataframe thead th {\n",
       "        text-align: right;\n",
       "    }\n",
       "</style>\n",
       "<table border=\"1\" class=\"dataframe\">\n",
       "  <thead>\n",
       "    <tr style=\"text-align: right;\">\n",
       "      <th></th>\n",
       "      <th>Univ</th>\n",
       "      <th>SAT</th>\n",
       "      <th>Top10</th>\n",
       "      <th>Accept</th>\n",
       "      <th>SFRatio</th>\n",
       "      <th>Expenses</th>\n",
       "      <th>GradRate</th>\n",
       "      <th>new</th>\n",
       "      <th>old</th>\n",
       "    </tr>\n",
       "  </thead>\n",
       "  <tbody>\n",
       "    <tr>\n",
       "      <th>0</th>\n",
       "      <td>Brown</td>\n",
       "      <td>1310</td>\n",
       "      <td>89</td>\n",
       "      <td>22</td>\n",
       "      <td>13</td>\n",
       "      <td>22704</td>\n",
       "      <td>94</td>\n",
       "      <td>US</td>\n",
       "      <td>IN</td>\n",
       "    </tr>\n",
       "    <tr>\n",
       "      <th>1</th>\n",
       "      <td>CalTech</td>\n",
       "      <td>1415</td>\n",
       "      <td>100</td>\n",
       "      <td>25</td>\n",
       "      <td>6</td>\n",
       "      <td>63575</td>\n",
       "      <td>81</td>\n",
       "      <td>US</td>\n",
       "      <td>IN</td>\n",
       "    </tr>\n",
       "    <tr>\n",
       "      <th>2</th>\n",
       "      <td>CMU</td>\n",
       "      <td>1260</td>\n",
       "      <td>62</td>\n",
       "      <td>59</td>\n",
       "      <td>9</td>\n",
       "      <td>25026</td>\n",
       "      <td>72</td>\n",
       "      <td>US</td>\n",
       "      <td>IN</td>\n",
       "    </tr>\n",
       "  </tbody>\n",
       "</table>\n",
       "</div>"
      ],
      "text/plain": [
       "      Univ   SAT  Top10  Accept  SFRatio  Expenses  GradRate new old\n",
       "0    Brown  1310     89      22       13     22704        94  US  IN\n",
       "1  CalTech  1415    100      25        6     63575        81  US  IN\n",
       "2      CMU  1260     62      59        9     25026        72  US  IN"
      ]
     },
     "execution_count": 271,
     "metadata": {},
     "output_type": "execute_result"
    }
   ],
   "source": [
    "university[0:3]"
   ]
  },
  {
   "cell_type": "code",
   "execution_count": 275,
   "id": "78c5c9b2",
   "metadata": {},
   "outputs": [
    {
     "data": {
      "text/html": [
       "<div>\n",
       "<style scoped>\n",
       "    .dataframe tbody tr th:only-of-type {\n",
       "        vertical-align: middle;\n",
       "    }\n",
       "\n",
       "    .dataframe tbody tr th {\n",
       "        vertical-align: top;\n",
       "    }\n",
       "\n",
       "    .dataframe thead th {\n",
       "        text-align: right;\n",
       "    }\n",
       "</style>\n",
       "<table border=\"1\" class=\"dataframe\">\n",
       "  <thead>\n",
       "    <tr style=\"text-align: right;\">\n",
       "      <th></th>\n",
       "      <th>Univ</th>\n",
       "      <th>SAT</th>\n",
       "      <th>Top10</th>\n",
       "      <th>Accept</th>\n",
       "      <th>SFRatio</th>\n",
       "      <th>Expenses</th>\n",
       "      <th>GradRate</th>\n",
       "      <th>new</th>\n",
       "      <th>old</th>\n",
       "    </tr>\n",
       "  </thead>\n",
       "  <tbody>\n",
       "    <tr>\n",
       "      <th>24</th>\n",
       "      <td>Yale</td>\n",
       "      <td>1375</td>\n",
       "      <td>95</td>\n",
       "      <td>19</td>\n",
       "      <td>11</td>\n",
       "      <td>43514</td>\n",
       "      <td>96</td>\n",
       "      <td>US</td>\n",
       "      <td>IN</td>\n",
       "    </tr>\n",
       "    <tr>\n",
       "      <th>23</th>\n",
       "      <td>UWisconsin</td>\n",
       "      <td>1085</td>\n",
       "      <td>40</td>\n",
       "      <td>69</td>\n",
       "      <td>15</td>\n",
       "      <td>11857</td>\n",
       "      <td>71</td>\n",
       "      <td>US</td>\n",
       "      <td>IN</td>\n",
       "    </tr>\n",
       "    <tr>\n",
       "      <th>22</th>\n",
       "      <td>UVA</td>\n",
       "      <td>1225</td>\n",
       "      <td>77</td>\n",
       "      <td>44</td>\n",
       "      <td>14</td>\n",
       "      <td>13349</td>\n",
       "      <td>92</td>\n",
       "      <td>US</td>\n",
       "      <td>IN</td>\n",
       "    </tr>\n",
       "  </tbody>\n",
       "</table>\n",
       "</div>"
      ],
      "text/plain": [
       "          Univ   SAT  Top10  Accept  SFRatio  Expenses  GradRate new old\n",
       "24        Yale  1375     95      19       11     43514        96  US  IN\n",
       "23  UWisconsin  1085     40      69       15     11857        71  US  IN\n",
       "22         UVA  1225     77      44       14     13349        92  US  IN"
      ]
     },
     "execution_count": 275,
     "metadata": {},
     "output_type": "execute_result"
    }
   ],
   "source": [
    "university.sort_values(['Univ'],ascending = False)[0:3]"
   ]
  },
  {
   "cell_type": "code",
   "execution_count": 276,
   "id": "f6abc48f",
   "metadata": {},
   "outputs": [
    {
     "data": {
      "text/html": [
       "<div>\n",
       "<style scoped>\n",
       "    .dataframe tbody tr th:only-of-type {\n",
       "        vertical-align: middle;\n",
       "    }\n",
       "\n",
       "    .dataframe tbody tr th {\n",
       "        vertical-align: top;\n",
       "    }\n",
       "\n",
       "    .dataframe thead th {\n",
       "        text-align: right;\n",
       "    }\n",
       "</style>\n",
       "<table border=\"1\" class=\"dataframe\">\n",
       "  <thead>\n",
       "    <tr style=\"text-align: right;\">\n",
       "      <th></th>\n",
       "      <th>Univ</th>\n",
       "      <th>SAT</th>\n",
       "      <th>Top10</th>\n",
       "      <th>Accept</th>\n",
       "      <th>SFRatio</th>\n",
       "      <th>Expenses</th>\n",
       "      <th>GradRate</th>\n",
       "      <th>new</th>\n",
       "      <th>old</th>\n",
       "    </tr>\n",
       "  </thead>\n",
       "  <tbody>\n",
       "    <tr>\n",
       "      <th>0</th>\n",
       "      <td>Brown</td>\n",
       "      <td>1310</td>\n",
       "      <td>89</td>\n",
       "      <td>22</td>\n",
       "      <td>13</td>\n",
       "      <td>22704</td>\n",
       "      <td>94</td>\n",
       "      <td>US</td>\n",
       "      <td>IN</td>\n",
       "    </tr>\n",
       "    <tr>\n",
       "      <th>2</th>\n",
       "      <td>CMU</td>\n",
       "      <td>1260</td>\n",
       "      <td>62</td>\n",
       "      <td>59</td>\n",
       "      <td>9</td>\n",
       "      <td>25026</td>\n",
       "      <td>72</td>\n",
       "      <td>US</td>\n",
       "      <td>IN</td>\n",
       "    </tr>\n",
       "    <tr>\n",
       "      <th>1</th>\n",
       "      <td>CalTech</td>\n",
       "      <td>1415</td>\n",
       "      <td>100</td>\n",
       "      <td>25</td>\n",
       "      <td>6</td>\n",
       "      <td>63575</td>\n",
       "      <td>81</td>\n",
       "      <td>US</td>\n",
       "      <td>IN</td>\n",
       "    </tr>\n",
       "  </tbody>\n",
       "</table>\n",
       "</div>"
      ],
      "text/plain": [
       "      Univ   SAT  Top10  Accept  SFRatio  Expenses  GradRate new old\n",
       "0    Brown  1310     89      22       13     22704        94  US  IN\n",
       "2      CMU  1260     62      59        9     25026        72  US  IN\n",
       "1  CalTech  1415    100      25        6     63575        81  US  IN"
      ]
     },
     "execution_count": 276,
     "metadata": {},
     "output_type": "execute_result"
    }
   ],
   "source": [
    "university.sort_values(['Univ','SAT'],ascending = True)[0:3]"
   ]
  },
  {
   "cell_type": "code",
   "execution_count": 279,
   "id": "6e261e84",
   "metadata": {},
   "outputs": [
    {
     "data": {
      "text/plain": [
       "0       Brown\n",
       "1     CalTech\n",
       "2         CMU\n",
       "3    Columbia\n",
       "Name: Univ, dtype: object"
      ]
     },
     "execution_count": 279,
     "metadata": {},
     "output_type": "execute_result"
    }
   ],
   "source": [
    "university[\"Univ\"][0:4]"
   ]
  },
  {
   "cell_type": "code",
   "execution_count": 280,
   "id": "acf2aa81",
   "metadata": {
    "collapsed": true
   },
   "outputs": [
    {
     "data": {
      "text/plain": [
       "0            Brown\n",
       "1          CalTech\n",
       "2              CMU\n",
       "3         Columbia\n",
       "4          Cornell\n",
       "5        Dartmouth\n",
       "6             Duke\n",
       "7       Georgetown\n",
       "8          Harvard\n",
       "9     JohnsHopkins\n",
       "10             MIT\n",
       "11    Northwestern\n",
       "12       NotreDame\n",
       "13       PennState\n",
       "14       Princeton\n",
       "15          Purdue\n",
       "16        Stanford\n",
       "17        TexasA&M\n",
       "18      UCBerkeley\n",
       "19        UChicago\n",
       "20       UMichigan\n",
       "21           UPenn\n",
       "22             UVA\n",
       "23      UWisconsin\n",
       "24            Yale\n",
       "Name: Univ, dtype: object"
      ]
     },
     "execution_count": 280,
     "metadata": {},
     "output_type": "execute_result"
    }
   ],
   "source": [
    "university.loc[:,\"Univ\"]  - selection by label"
   ]
  },
  {
   "cell_type": "code",
   "execution_count": 282,
   "id": "861de5cb",
   "metadata": {},
   "outputs": [],
   "source": [
    "university.loc[:,[\"Univ\",\"SAT\"]]"
   ]
  },
  {
   "cell_type": "code",
   "execution_count": 285,
   "id": "c42558a1",
   "metadata": {},
   "outputs": [
    {
     "data": {
      "text/html": [
       "<div>\n",
       "<style scoped>\n",
       "    .dataframe tbody tr th:only-of-type {\n",
       "        vertical-align: middle;\n",
       "    }\n",
       "\n",
       "    .dataframe tbody tr th {\n",
       "        vertical-align: top;\n",
       "    }\n",
       "\n",
       "    .dataframe thead th {\n",
       "        text-align: right;\n",
       "    }\n",
       "</style>\n",
       "<table border=\"1\" class=\"dataframe\">\n",
       "  <thead>\n",
       "    <tr style=\"text-align: right;\">\n",
       "      <th></th>\n",
       "      <th>Univ</th>\n",
       "      <th>SAT</th>\n",
       "      <th>Top10</th>\n",
       "      <th>Accept</th>\n",
       "      <th>SFRatio</th>\n",
       "      <th>Expenses</th>\n",
       "      <th>GradRate</th>\n",
       "      <th>new</th>\n",
       "      <th>old</th>\n",
       "    </tr>\n",
       "  </thead>\n",
       "  <tbody>\n",
       "    <tr>\n",
       "      <th>3</th>\n",
       "      <td>Columbia</td>\n",
       "      <td>1310</td>\n",
       "      <td>76</td>\n",
       "      <td>24</td>\n",
       "      <td>12</td>\n",
       "      <td>31510</td>\n",
       "      <td>88</td>\n",
       "      <td>US</td>\n",
       "      <td>IN</td>\n",
       "    </tr>\n",
       "    <tr>\n",
       "      <th>4</th>\n",
       "      <td>Cornell</td>\n",
       "      <td>1280</td>\n",
       "      <td>83</td>\n",
       "      <td>33</td>\n",
       "      <td>13</td>\n",
       "      <td>21864</td>\n",
       "      <td>90</td>\n",
       "      <td>US</td>\n",
       "      <td>IN</td>\n",
       "    </tr>\n",
       "  </tbody>\n",
       "</table>\n",
       "</div>"
      ],
      "text/plain": [
       "       Univ   SAT  Top10  Accept  SFRatio  Expenses  GradRate new old\n",
       "3  Columbia  1310     76      24       12     31510        88  US  IN\n",
       "4   Cornell  1280     83      33       13     21864        90  US  IN"
      ]
     },
     "execution_count": 285,
     "metadata": {},
     "output_type": "execute_result"
    }
   ],
   "source": [
    "# selection by position\n",
    "\n",
    "\n",
    "university.iloc[3:5]"
   ]
  },
  {
   "cell_type": "code",
   "execution_count": 286,
   "id": "be6770d0",
   "metadata": {},
   "outputs": [
    {
     "data": {
      "text/html": [
       "<div>\n",
       "<style scoped>\n",
       "    .dataframe tbody tr th:only-of-type {\n",
       "        vertical-align: middle;\n",
       "    }\n",
       "\n",
       "    .dataframe tbody tr th {\n",
       "        vertical-align: top;\n",
       "    }\n",
       "\n",
       "    .dataframe thead th {\n",
       "        text-align: right;\n",
       "    }\n",
       "</style>\n",
       "<table border=\"1\" class=\"dataframe\">\n",
       "  <thead>\n",
       "    <tr style=\"text-align: right;\">\n",
       "      <th></th>\n",
       "      <th>Univ</th>\n",
       "      <th>SAT</th>\n",
       "    </tr>\n",
       "  </thead>\n",
       "  <tbody>\n",
       "    <tr>\n",
       "      <th>3</th>\n",
       "      <td>Columbia</td>\n",
       "      <td>1310</td>\n",
       "    </tr>\n",
       "    <tr>\n",
       "      <th>4</th>\n",
       "      <td>Cornell</td>\n",
       "      <td>1280</td>\n",
       "    </tr>\n",
       "  </tbody>\n",
       "</table>\n",
       "</div>"
      ],
      "text/plain": [
       "       Univ   SAT\n",
       "3  Columbia  1310\n",
       "4   Cornell  1280"
      ]
     },
     "execution_count": 286,
     "metadata": {},
     "output_type": "execute_result"
    }
   ],
   "source": [
    "university.iloc[3:5,0:2]"
   ]
  },
  {
   "cell_type": "code",
   "execution_count": 26,
   "id": "881f1462",
   "metadata": {},
   "outputs": [
    {
     "ename": "NameError",
     "evalue": "name 'university' is not defined",
     "output_type": "error",
     "traceback": [
      "\u001b[1;31m---------------------------------------------------------------------------\u001b[0m",
      "\u001b[1;31mNameError\u001b[0m                                 Traceback (most recent call last)",
      "Input \u001b[1;32mIn [26]\u001b[0m, in \u001b[0;36m<cell line: 1>\u001b[1;34m()\u001b[0m\n\u001b[1;32m----> 1\u001b[0m \u001b[43muniversity\u001b[49m[\u001b[38;5;241m0\u001b[39m:\u001b[38;5;241m4\u001b[39m]\n",
      "\u001b[1;31mNameError\u001b[0m: name 'university' is not defined"
     ]
    }
   ],
   "source": [
    "university[0:4]"
   ]
  },
  {
   "cell_type": "code",
   "execution_count": 288,
   "id": "2315a712",
   "metadata": {},
   "outputs": [],
   "source": [
    "df = university.copy()"
   ]
  },
  {
   "cell_type": "code",
   "execution_count": 289,
   "id": "cdd421c1",
   "metadata": {},
   "outputs": [
    {
     "data": {
      "text/html": [
       "<div>\n",
       "<style scoped>\n",
       "    .dataframe tbody tr th:only-of-type {\n",
       "        vertical-align: middle;\n",
       "    }\n",
       "\n",
       "    .dataframe tbody tr th {\n",
       "        vertical-align: top;\n",
       "    }\n",
       "\n",
       "    .dataframe thead th {\n",
       "        text-align: right;\n",
       "    }\n",
       "</style>\n",
       "<table border=\"1\" class=\"dataframe\">\n",
       "  <thead>\n",
       "    <tr style=\"text-align: right;\">\n",
       "      <th></th>\n",
       "      <th>Univ</th>\n",
       "      <th>SAT</th>\n",
       "      <th>Top10</th>\n",
       "      <th>Accept</th>\n",
       "      <th>SFRatio</th>\n",
       "      <th>Expenses</th>\n",
       "      <th>GradRate</th>\n",
       "      <th>new</th>\n",
       "      <th>old</th>\n",
       "    </tr>\n",
       "  </thead>\n",
       "  <tbody>\n",
       "    <tr>\n",
       "      <th>0</th>\n",
       "      <td>Brown</td>\n",
       "      <td>1310</td>\n",
       "      <td>89</td>\n",
       "      <td>22</td>\n",
       "      <td>13</td>\n",
       "      <td>22704</td>\n",
       "      <td>94</td>\n",
       "      <td>US</td>\n",
       "      <td>IN</td>\n",
       "    </tr>\n",
       "    <tr>\n",
       "      <th>1</th>\n",
       "      <td>CalTech</td>\n",
       "      <td>1415</td>\n",
       "      <td>100</td>\n",
       "      <td>25</td>\n",
       "      <td>6</td>\n",
       "      <td>63575</td>\n",
       "      <td>81</td>\n",
       "      <td>US</td>\n",
       "      <td>IN</td>\n",
       "    </tr>\n",
       "    <tr>\n",
       "      <th>2</th>\n",
       "      <td>CMU</td>\n",
       "      <td>1260</td>\n",
       "      <td>62</td>\n",
       "      <td>59</td>\n",
       "      <td>9</td>\n",
       "      <td>25026</td>\n",
       "      <td>72</td>\n",
       "      <td>US</td>\n",
       "      <td>IN</td>\n",
       "    </tr>\n",
       "  </tbody>\n",
       "</table>\n",
       "</div>"
      ],
      "text/plain": [
       "      Univ   SAT  Top10  Accept  SFRatio  Expenses  GradRate new old\n",
       "0    Brown  1310     89      22       13     22704        94  US  IN\n",
       "1  CalTech  1415    100      25        6     63575        81  US  IN\n",
       "2      CMU  1260     62      59        9     25026        72  US  IN"
      ]
     },
     "execution_count": 289,
     "metadata": {},
     "output_type": "execute_result"
    }
   ],
   "source": [
    "df[0:3]"
   ]
  },
  {
   "cell_type": "code",
   "execution_count": 291,
   "id": "79271492",
   "metadata": {},
   "outputs": [
    {
     "data": {
      "text/html": [
       "<div>\n",
       "<style scoped>\n",
       "    .dataframe tbody tr th:only-of-type {\n",
       "        vertical-align: middle;\n",
       "    }\n",
       "\n",
       "    .dataframe tbody tr th {\n",
       "        vertical-align: top;\n",
       "    }\n",
       "\n",
       "    .dataframe thead th {\n",
       "        text-align: right;\n",
       "    }\n",
       "</style>\n",
       "<table border=\"1\" class=\"dataframe\">\n",
       "  <thead>\n",
       "    <tr style=\"text-align: right;\">\n",
       "      <th></th>\n",
       "      <th>Univ</th>\n",
       "      <th>SAT</th>\n",
       "      <th>Top10</th>\n",
       "      <th>Accept</th>\n",
       "      <th>SFRatio</th>\n",
       "      <th>Expenses</th>\n",
       "      <th>GradRate</th>\n",
       "      <th>new</th>\n",
       "      <th>old</th>\n",
       "    </tr>\n",
       "  </thead>\n",
       "  <tbody>\n",
       "    <tr>\n",
       "      <th>0</th>\n",
       "      <td>Brown</td>\n",
       "      <td>1310</td>\n",
       "      <td>89</td>\n",
       "      <td>22</td>\n",
       "      <td>13</td>\n",
       "      <td>22704</td>\n",
       "      <td>94</td>\n",
       "      <td>US</td>\n",
       "      <td>IN</td>\n",
       "    </tr>\n",
       "    <tr>\n",
       "      <th>1</th>\n",
       "      <td>CalTech</td>\n",
       "      <td>1415</td>\n",
       "      <td>100</td>\n",
       "      <td>25</td>\n",
       "      <td>6</td>\n",
       "      <td>63575</td>\n",
       "      <td>81</td>\n",
       "      <td>US</td>\n",
       "      <td>IN</td>\n",
       "    </tr>\n",
       "    <tr>\n",
       "      <th>2</th>\n",
       "      <td>CMU</td>\n",
       "      <td>1260</td>\n",
       "      <td>62</td>\n",
       "      <td>59</td>\n",
       "      <td>9</td>\n",
       "      <td>25026</td>\n",
       "      <td>72</td>\n",
       "      <td>US</td>\n",
       "      <td>IN</td>\n",
       "    </tr>\n",
       "    <tr>\n",
       "      <th>3</th>\n",
       "      <td>Columbia</td>\n",
       "      <td>1310</td>\n",
       "      <td>76</td>\n",
       "      <td>24</td>\n",
       "      <td>12</td>\n",
       "      <td>31510</td>\n",
       "      <td>88</td>\n",
       "      <td>US</td>\n",
       "      <td>IN</td>\n",
       "    </tr>\n",
       "  </tbody>\n",
       "</table>\n",
       "</div>"
      ],
      "text/plain": [
       "       Univ   SAT  Top10  Accept  SFRatio  Expenses  GradRate new old\n",
       "0     Brown  1310     89      22       13     22704        94  US  IN\n",
       "1   CalTech  1415    100      25        6     63575        81  US  IN\n",
       "2       CMU  1260     62      59        9     25026        72  US  IN\n",
       "3  Columbia  1310     76      24       12     31510        88  US  IN"
      ]
     },
     "execution_count": 291,
     "metadata": {},
     "output_type": "execute_result"
    }
   ],
   "source": [
    "# data operation or data querying \n",
    "\n",
    "\n",
    "df[0:4]"
   ]
  },
  {
   "cell_type": "code",
   "execution_count": null,
   "id": "724c45d2",
   "metadata": {},
   "outputs": [],
   "source": [
    "# filter or cond apply or query \n",
    "\n",
    "sytax:\n",
    "df[  condition  ]"
   ]
  },
  {
   "cell_type": "code",
   "execution_count": 293,
   "id": "7bbd42db",
   "metadata": {},
   "outputs": [
    {
     "data": {
      "text/html": [
       "<div>\n",
       "<style scoped>\n",
       "    .dataframe tbody tr th:only-of-type {\n",
       "        vertical-align: middle;\n",
       "    }\n",
       "\n",
       "    .dataframe tbody tr th {\n",
       "        vertical-align: top;\n",
       "    }\n",
       "\n",
       "    .dataframe thead th {\n",
       "        text-align: right;\n",
       "    }\n",
       "</style>\n",
       "<table border=\"1\" class=\"dataframe\">\n",
       "  <thead>\n",
       "    <tr style=\"text-align: right;\">\n",
       "      <th></th>\n",
       "      <th>Univ</th>\n",
       "      <th>SAT</th>\n",
       "      <th>Top10</th>\n",
       "      <th>Accept</th>\n",
       "      <th>SFRatio</th>\n",
       "      <th>Expenses</th>\n",
       "      <th>GradRate</th>\n",
       "      <th>new</th>\n",
       "      <th>old</th>\n",
       "    </tr>\n",
       "  </thead>\n",
       "  <tbody>\n",
       "    <tr>\n",
       "      <th>1</th>\n",
       "      <td>CalTech</td>\n",
       "      <td>1415</td>\n",
       "      <td>100</td>\n",
       "      <td>25</td>\n",
       "      <td>6</td>\n",
       "      <td>63575</td>\n",
       "      <td>81</td>\n",
       "      <td>US</td>\n",
       "      <td>IN</td>\n",
       "    </tr>\n",
       "    <tr>\n",
       "      <th>3</th>\n",
       "      <td>Columbia</td>\n",
       "      <td>1310</td>\n",
       "      <td>76</td>\n",
       "      <td>24</td>\n",
       "      <td>12</td>\n",
       "      <td>31510</td>\n",
       "      <td>88</td>\n",
       "      <td>US</td>\n",
       "      <td>IN</td>\n",
       "    </tr>\n",
       "    <tr>\n",
       "      <th>5</th>\n",
       "      <td>Dartmouth</td>\n",
       "      <td>1340</td>\n",
       "      <td>89</td>\n",
       "      <td>23</td>\n",
       "      <td>10</td>\n",
       "      <td>32162</td>\n",
       "      <td>95</td>\n",
       "      <td>US</td>\n",
       "      <td>IN</td>\n",
       "    </tr>\n",
       "    <tr>\n",
       "      <th>6</th>\n",
       "      <td>Duke</td>\n",
       "      <td>1315</td>\n",
       "      <td>90</td>\n",
       "      <td>30</td>\n",
       "      <td>12</td>\n",
       "      <td>31585</td>\n",
       "      <td>95</td>\n",
       "      <td>US</td>\n",
       "      <td>IN</td>\n",
       "    </tr>\n",
       "  </tbody>\n",
       "</table>\n",
       "</div>"
      ],
      "text/plain": [
       "        Univ   SAT  Top10  Accept  SFRatio  Expenses  GradRate new old\n",
       "1    CalTech  1415    100      25        6     63575        81  US  IN\n",
       "3   Columbia  1310     76      24       12     31510        88  US  IN\n",
       "5  Dartmouth  1340     89      23       10     32162        95  US  IN\n",
       "6       Duke  1315     90      30       12     31585        95  US  IN"
      ]
     },
     "execution_count": 293,
     "metadata": {},
     "output_type": "execute_result"
    }
   ],
   "source": [
    "df[ df[\"Expenses\"] > 30000  ][0:4]"
   ]
  },
  {
   "cell_type": "code",
   "execution_count": 294,
   "id": "1c8f6099",
   "metadata": {},
   "outputs": [
    {
     "data": {
      "text/html": [
       "<div>\n",
       "<style scoped>\n",
       "    .dataframe tbody tr th:only-of-type {\n",
       "        vertical-align: middle;\n",
       "    }\n",
       "\n",
       "    .dataframe tbody tr th {\n",
       "        vertical-align: top;\n",
       "    }\n",
       "\n",
       "    .dataframe thead th {\n",
       "        text-align: right;\n",
       "    }\n",
       "</style>\n",
       "<table border=\"1\" class=\"dataframe\">\n",
       "  <thead>\n",
       "    <tr style=\"text-align: right;\">\n",
       "      <th></th>\n",
       "      <th>Univ</th>\n",
       "      <th>SAT</th>\n",
       "      <th>Top10</th>\n",
       "      <th>Accept</th>\n",
       "      <th>SFRatio</th>\n",
       "      <th>Expenses</th>\n",
       "      <th>GradRate</th>\n",
       "      <th>new</th>\n",
       "      <th>old</th>\n",
       "    </tr>\n",
       "  </thead>\n",
       "  <tbody>\n",
       "    <tr>\n",
       "      <th>0</th>\n",
       "      <td>Brown</td>\n",
       "      <td>1310</td>\n",
       "      <td>89</td>\n",
       "      <td>22</td>\n",
       "      <td>13</td>\n",
       "      <td>22704</td>\n",
       "      <td>94</td>\n",
       "      <td>US</td>\n",
       "      <td>IN</td>\n",
       "    </tr>\n",
       "    <tr>\n",
       "      <th>3</th>\n",
       "      <td>Columbia</td>\n",
       "      <td>1310</td>\n",
       "      <td>76</td>\n",
       "      <td>24</td>\n",
       "      <td>12</td>\n",
       "      <td>31510</td>\n",
       "      <td>88</td>\n",
       "      <td>US</td>\n",
       "      <td>IN</td>\n",
       "    </tr>\n",
       "  </tbody>\n",
       "</table>\n",
       "</div>"
      ],
      "text/plain": [
       "       Univ   SAT  Top10  Accept  SFRatio  Expenses  GradRate new old\n",
       "0     Brown  1310     89      22       13     22704        94  US  IN\n",
       "3  Columbia  1310     76      24       12     31510        88  US  IN"
      ]
     },
     "execution_count": 294,
     "metadata": {},
     "output_type": "execute_result"
    }
   ],
   "source": [
    "df[ df[\"SAT\"] == 1310 ]"
   ]
  },
  {
   "cell_type": "code",
   "execution_count": 295,
   "id": "a4cc98cf",
   "metadata": {},
   "outputs": [
    {
     "data": {
      "text/plain": [
       "0       Brown\n",
       "3    Columbia\n",
       "Name: Univ, dtype: object"
      ]
     },
     "execution_count": 295,
     "metadata": {},
     "output_type": "execute_result"
    }
   ],
   "source": [
    "df[ df[\"SAT\"] == 1310 ][\"Univ\"]"
   ]
  },
  {
   "cell_type": "code",
   "execution_count": 301,
   "id": "ae434333",
   "metadata": {},
   "outputs": [
    {
     "data": {
      "text/html": [
       "<div>\n",
       "<style scoped>\n",
       "    .dataframe tbody tr th:only-of-type {\n",
       "        vertical-align: middle;\n",
       "    }\n",
       "\n",
       "    .dataframe tbody tr th {\n",
       "        vertical-align: top;\n",
       "    }\n",
       "\n",
       "    .dataframe thead th {\n",
       "        text-align: right;\n",
       "    }\n",
       "</style>\n",
       "<table border=\"1\" class=\"dataframe\">\n",
       "  <thead>\n",
       "    <tr style=\"text-align: right;\">\n",
       "      <th></th>\n",
       "      <th>Univ</th>\n",
       "      <th>SAT</th>\n",
       "    </tr>\n",
       "  </thead>\n",
       "  <tbody>\n",
       "    <tr>\n",
       "      <th>0</th>\n",
       "      <td>Brown</td>\n",
       "      <td>1310</td>\n",
       "    </tr>\n",
       "    <tr>\n",
       "      <th>1</th>\n",
       "      <td>CalTech</td>\n",
       "      <td>1415</td>\n",
       "    </tr>\n",
       "    <tr>\n",
       "      <th>4</th>\n",
       "      <td>Cornell</td>\n",
       "      <td>1280</td>\n",
       "    </tr>\n",
       "    <tr>\n",
       "      <th>5</th>\n",
       "      <td>Dartmouth</td>\n",
       "      <td>1340</td>\n",
       "    </tr>\n",
       "    <tr>\n",
       "      <th>6</th>\n",
       "      <td>Duke</td>\n",
       "      <td>1315</td>\n",
       "    </tr>\n",
       "    <tr>\n",
       "      <th>8</th>\n",
       "      <td>Harvard</td>\n",
       "      <td>1400</td>\n",
       "    </tr>\n",
       "  </tbody>\n",
       "</table>\n",
       "</div>"
      ],
      "text/plain": [
       "        Univ   SAT\n",
       "0      Brown  1310\n",
       "1    CalTech  1415\n",
       "4    Cornell  1280\n",
       "5  Dartmouth  1340\n",
       "6       Duke  1315\n",
       "8    Harvard  1400"
      ]
     },
     "execution_count": 301,
     "metadata": {},
     "output_type": "execute_result"
    }
   ],
   "source": [
    "university[ (university['Top10'] > 80)  ][[\"Univ\",\"SAT\"]][0:6]"
   ]
  },
  {
   "cell_type": "code",
   "execution_count": 303,
   "id": "0a1ba92d",
   "metadata": {},
   "outputs": [
    {
     "data": {
      "text/plain": [
       "array(['Brown', 'CalTech', 'CMU', 'Columbia', 'Cornell', 'Dartmouth',\n",
       "       'Duke', 'Georgetown', 'Harvard', 'JohnsHopkins', 'MIT',\n",
       "       'Northwestern', 'NotreDame', 'PennState', 'Princeton', 'Purdue',\n",
       "       'Stanford', 'TexasA&M', 'UCBerkeley', 'UChicago', 'UMichigan',\n",
       "       'UPenn', 'UVA', 'UWisconsin', 'Yale'], dtype=object)"
      ]
     },
     "execution_count": 303,
     "metadata": {},
     "output_type": "execute_result"
    }
   ],
   "source": [
    "university[\"Univ\"].unique()"
   ]
  },
  {
   "cell_type": "code",
   "execution_count": 305,
   "id": "90c4dba0",
   "metadata": {},
   "outputs": [],
   "source": [
    "sam = university[  university[\"Univ\"].isin([\"Yale\",\"MIT\"])  ]"
   ]
  },
  {
   "cell_type": "code",
   "execution_count": 306,
   "id": "bfe89e30",
   "metadata": {},
   "outputs": [
    {
     "data": {
      "text/html": [
       "<div>\n",
       "<style scoped>\n",
       "    .dataframe tbody tr th:only-of-type {\n",
       "        vertical-align: middle;\n",
       "    }\n",
       "\n",
       "    .dataframe tbody tr th {\n",
       "        vertical-align: top;\n",
       "    }\n",
       "\n",
       "    .dataframe thead th {\n",
       "        text-align: right;\n",
       "    }\n",
       "</style>\n",
       "<table border=\"1\" class=\"dataframe\">\n",
       "  <thead>\n",
       "    <tr style=\"text-align: right;\">\n",
       "      <th></th>\n",
       "      <th>Univ</th>\n",
       "      <th>SAT</th>\n",
       "      <th>Top10</th>\n",
       "      <th>Accept</th>\n",
       "      <th>SFRatio</th>\n",
       "      <th>Expenses</th>\n",
       "      <th>GradRate</th>\n",
       "      <th>new</th>\n",
       "      <th>old</th>\n",
       "    </tr>\n",
       "  </thead>\n",
       "  <tbody>\n",
       "    <tr>\n",
       "      <th>10</th>\n",
       "      <td>MIT</td>\n",
       "      <td>1380</td>\n",
       "      <td>94</td>\n",
       "      <td>30</td>\n",
       "      <td>10</td>\n",
       "      <td>34870</td>\n",
       "      <td>91</td>\n",
       "      <td>US</td>\n",
       "      <td>IN</td>\n",
       "    </tr>\n",
       "    <tr>\n",
       "      <th>24</th>\n",
       "      <td>Yale</td>\n",
       "      <td>1375</td>\n",
       "      <td>95</td>\n",
       "      <td>19</td>\n",
       "      <td>11</td>\n",
       "      <td>43514</td>\n",
       "      <td>96</td>\n",
       "      <td>US</td>\n",
       "      <td>IN</td>\n",
       "    </tr>\n",
       "  </tbody>\n",
       "</table>\n",
       "</div>"
      ],
      "text/plain": [
       "    Univ   SAT  Top10  Accept  SFRatio  Expenses  GradRate new old\n",
       "10   MIT  1380     94      30       10     34870        91  US  IN\n",
       "24  Yale  1375     95      19       11     43514        96  US  IN"
      ]
     },
     "execution_count": 306,
     "metadata": {},
     "output_type": "execute_result"
    }
   ],
   "source": [
    "sam"
   ]
  },
  {
   "cell_type": "code",
   "execution_count": 308,
   "id": "dea308f7",
   "metadata": {},
   "outputs": [
    {
     "data": {
      "text/plain": [
       "25"
      ]
     },
     "execution_count": 308,
     "metadata": {},
     "output_type": "execute_result"
    }
   ],
   "source": [
    "len(university)"
   ]
  },
  {
   "cell_type": "code",
   "execution_count": 9,
   "id": "7521498f",
   "metadata": {},
   "outputs": [],
   "source": [
    "# missing values\n",
    "import pandas as pd\n",
    "ad = pd.read_csv(\"Advertising.csv\")\n"
   ]
  },
  {
   "cell_type": "code",
   "execution_count": 10,
   "id": "24cd017a",
   "metadata": {},
   "outputs": [
    {
     "data": {
      "text/html": [
       "<div>\n",
       "<style scoped>\n",
       "    .dataframe tbody tr th:only-of-type {\n",
       "        vertical-align: middle;\n",
       "    }\n",
       "\n",
       "    .dataframe tbody tr th {\n",
       "        vertical-align: top;\n",
       "    }\n",
       "\n",
       "    .dataframe thead th {\n",
       "        text-align: right;\n",
       "    }\n",
       "</style>\n",
       "<table border=\"1\" class=\"dataframe\">\n",
       "  <thead>\n",
       "    <tr style=\"text-align: right;\">\n",
       "      <th></th>\n",
       "      <th>Name</th>\n",
       "      <th>age</th>\n",
       "      <th>mobile no</th>\n",
       "      <th>city</th>\n",
       "      <th>marks</th>\n",
       "      <th>salary</th>\n",
       "      <th>Unnamed: 6</th>\n",
       "      <th>Unnamed: 7</th>\n",
       "    </tr>\n",
       "  </thead>\n",
       "  <tbody>\n",
       "    <tr>\n",
       "      <th>0</th>\n",
       "      <td>A</td>\n",
       "      <td>50.0</td>\n",
       "      <td>9900763290</td>\n",
       "      <td>Bangalore</td>\n",
       "      <td>285</td>\n",
       "      <td>10818</td>\n",
       "      <td>2163.6</td>\n",
       "      <td>99007</td>\n",
       "    </tr>\n",
       "    <tr>\n",
       "      <th>1</th>\n",
       "      <td>B</td>\n",
       "      <td>23.0</td>\n",
       "      <td>9709303020</td>\n",
       "      <td>Mumbai</td>\n",
       "      <td>434</td>\n",
       "      <td>11506</td>\n",
       "      <td>2301.2</td>\n",
       "      <td>97093</td>\n",
       "    </tr>\n",
       "    <tr>\n",
       "      <th>2</th>\n",
       "      <td>C</td>\n",
       "      <td>22.0</td>\n",
       "      <td>9796840335</td>\n",
       "      <td>NaN</td>\n",
       "      <td>416</td>\n",
       "      <td>11506</td>\n",
       "      <td>2301.2</td>\n",
       "      <td>97968</td>\n",
       "    </tr>\n",
       "    <tr>\n",
       "      <th>3</th>\n",
       "      <td>D</td>\n",
       "      <td>47.0</td>\n",
       "      <td>9433821160</td>\n",
       "      <td>NaN</td>\n",
       "      <td>189</td>\n",
       "      <td>11506</td>\n",
       "      <td>2301.2</td>\n",
       "      <td>94338</td>\n",
       "    </tr>\n",
       "    <tr>\n",
       "      <th>4</th>\n",
       "      <td>E</td>\n",
       "      <td>33.0</td>\n",
       "      <td>9840448035</td>\n",
       "      <td>NaN</td>\n",
       "      <td>117</td>\n",
       "      <td>11506</td>\n",
       "      <td>2301.2</td>\n",
       "      <td>98404</td>\n",
       "    </tr>\n",
       "    <tr>\n",
       "      <th>5</th>\n",
       "      <td>F</td>\n",
       "      <td>NaN</td>\n",
       "      <td>9626621256</td>\n",
       "      <td>chennai</td>\n",
       "      <td>326</td>\n",
       "      <td>18206</td>\n",
       "      <td>3641.2</td>\n",
       "      <td>96266</td>\n",
       "    </tr>\n",
       "    <tr>\n",
       "      <th>6</th>\n",
       "      <td>G</td>\n",
       "      <td>NaN</td>\n",
       "      <td>9775317986</td>\n",
       "      <td>hydrabad</td>\n",
       "      <td>326</td>\n",
       "      <td>13755</td>\n",
       "      <td>2751.0</td>\n",
       "      <td>97753</td>\n",
       "    </tr>\n",
       "    <tr>\n",
       "      <th>7</th>\n",
       "      <td>H</td>\n",
       "      <td>NaN</td>\n",
       "      <td>9798357363</td>\n",
       "      <td>calcatta</td>\n",
       "      <td>326</td>\n",
       "      <td>11506</td>\n",
       "      <td>2301.2</td>\n",
       "      <td>97983</td>\n",
       "    </tr>\n",
       "    <tr>\n",
       "      <th>8</th>\n",
       "      <td>I</td>\n",
       "      <td>37.0</td>\n",
       "      <td>9338865840</td>\n",
       "      <td>pune</td>\n",
       "      <td>487</td>\n",
       "      <td>11339</td>\n",
       "      <td>2267.8</td>\n",
       "      <td>93388</td>\n",
       "    </tr>\n",
       "    <tr>\n",
       "      <th>9</th>\n",
       "      <td>J</td>\n",
       "      <td>50.0</td>\n",
       "      <td>9427086263</td>\n",
       "      <td>Mumbai</td>\n",
       "      <td>265</td>\n",
       "      <td>11506</td>\n",
       "      <td>2301.2</td>\n",
       "      <td>94270</td>\n",
       "    </tr>\n",
       "  </tbody>\n",
       "</table>\n",
       "</div>"
      ],
      "text/plain": [
       "  Name   age   mobile no       city  marks  salary  Unnamed: 6  Unnamed: 7\n",
       "0    A  50.0  9900763290  Bangalore    285   10818      2163.6       99007\n",
       "1    B  23.0  9709303020     Mumbai    434   11506      2301.2       97093\n",
       "2    C  22.0  9796840335        NaN    416   11506      2301.2       97968\n",
       "3    D  47.0  9433821160        NaN    189   11506      2301.2       94338\n",
       "4    E  33.0  9840448035        NaN    117   11506      2301.2       98404\n",
       "5    F   NaN  9626621256    chennai    326   18206      3641.2       96266\n",
       "6    G   NaN  9775317986   hydrabad    326   13755      2751.0       97753\n",
       "7    H   NaN  9798357363   calcatta    326   11506      2301.2       97983\n",
       "8    I  37.0  9338865840       pune    487   11339      2267.8       93388\n",
       "9    J  50.0  9427086263     Mumbai    265   11506      2301.2       94270"
      ]
     },
     "execution_count": 10,
     "metadata": {},
     "output_type": "execute_result"
    }
   ],
   "source": [
    "ad"
   ]
  },
  {
   "cell_type": "code",
   "execution_count": 11,
   "id": "bc103547",
   "metadata": {},
   "outputs": [
    {
     "data": {
      "text/plain": [
       "0    50.0\n",
       "1    23.0\n",
       "2    22.0\n",
       "3    47.0\n",
       "4    33.0\n",
       "5     NaN\n",
       "6     NaN\n",
       "7     NaN\n",
       "8    37.0\n",
       "9    50.0\n",
       "Name: age, dtype: float64"
      ]
     },
     "execution_count": 11,
     "metadata": {},
     "output_type": "execute_result"
    }
   ],
   "source": [
    "ad['age']"
   ]
  },
  {
   "cell_type": "code",
   "execution_count": 19,
   "id": "df4d009a",
   "metadata": {},
   "outputs": [
    {
     "data": {
      "text/plain": [
       "0    50.0\n",
       "1    23.0\n",
       "2    22.0\n",
       "3    47.0\n",
       "4    33.0\n",
       "5    37.0\n",
       "6    37.0\n",
       "7    37.0\n",
       "8    37.0\n",
       "9    50.0\n",
       "Name: age, dtype: float64"
      ]
     },
     "execution_count": 19,
     "metadata": {},
     "output_type": "execute_result"
    }
   ],
   "source": [
    "ad['age'].fillna(37)"
   ]
  },
  {
   "cell_type": "code",
   "execution_count": null,
   "id": "afec4a8a",
   "metadata": {},
   "outputs": [],
   "source": [
    "missing values   -> mean (avg) , max , min , previous , median , mode"
   ]
  },
  {
   "cell_type": "code",
   "execution_count": 18,
   "id": "b1539414",
   "metadata": {},
   "outputs": [
    {
     "data": {
      "text/plain": [
       "37.0"
      ]
     },
     "execution_count": 18,
     "metadata": {},
     "output_type": "execute_result"
    }
   ],
   "source": [
    "ad['age'].median() "
   ]
  },
  {
   "cell_type": "code",
   "execution_count": 21,
   "id": "a8cc12b2",
   "metadata": {},
   "outputs": [
    {
     "data": {
      "text/plain": [
       "0    50.0\n",
       "1    23.0\n",
       "2    22.0\n",
       "3    47.0\n",
       "4    33.0\n",
       "5    33.0\n",
       "6    33.0\n",
       "7    33.0\n",
       "8    37.0\n",
       "9    50.0\n",
       "Name: age, dtype: float64"
      ]
     },
     "execution_count": 21,
     "metadata": {},
     "output_type": "execute_result"
    }
   ],
   "source": [
    "ad['age'].fillna(33)"
   ]
  },
  {
   "cell_type": "code",
   "execution_count": 23,
   "id": "3ace020d",
   "metadata": {},
   "outputs": [
    {
     "data": {
      "text/plain": [
       "0    50.0\n",
       "1    23.0\n",
       "2    22.0\n",
       "3    47.0\n",
       "4    33.0\n",
       "8    37.0\n",
       "9    50.0\n",
       "Name: age, dtype: float64"
      ]
     },
     "execution_count": 23,
     "metadata": {},
     "output_type": "execute_result"
    }
   ],
   "source": [
    "# 100000 , 10000  - missing %   2% , 5%\n",
    "\n",
    "ad['age'].dropna()\n"
   ]
  },
  {
   "cell_type": "code",
   "execution_count": 32,
   "id": "13a4e0e7",
   "metadata": {},
   "outputs": [
    {
     "data": {
      "text/html": [
       "<div>\n",
       "<style scoped>\n",
       "    .dataframe tbody tr th:only-of-type {\n",
       "        vertical-align: middle;\n",
       "    }\n",
       "\n",
       "    .dataframe tbody tr th {\n",
       "        vertical-align: top;\n",
       "    }\n",
       "\n",
       "    .dataframe thead th {\n",
       "        text-align: right;\n",
       "    }\n",
       "</style>\n",
       "<table border=\"1\" class=\"dataframe\">\n",
       "  <thead>\n",
       "    <tr style=\"text-align: right;\">\n",
       "      <th></th>\n",
       "      <th>Univ</th>\n",
       "      <th>SAT</th>\n",
       "      <th>Top10</th>\n",
       "      <th>Accept</th>\n",
       "      <th>SFRatio</th>\n",
       "      <th>Expenses</th>\n",
       "      <th>GradRate</th>\n",
       "    </tr>\n",
       "  </thead>\n",
       "  <tbody>\n",
       "    <tr>\n",
       "      <th>0</th>\n",
       "      <td>Brown</td>\n",
       "      <td>1310</td>\n",
       "      <td>89</td>\n",
       "      <td>22</td>\n",
       "      <td>13</td>\n",
       "      <td>22704</td>\n",
       "      <td>94</td>\n",
       "    </tr>\n",
       "    <tr>\n",
       "      <th>1</th>\n",
       "      <td>CalTech</td>\n",
       "      <td>1415</td>\n",
       "      <td>100</td>\n",
       "      <td>25</td>\n",
       "      <td>6</td>\n",
       "      <td>63575</td>\n",
       "      <td>81</td>\n",
       "    </tr>\n",
       "    <tr>\n",
       "      <th>2</th>\n",
       "      <td>CMU</td>\n",
       "      <td>1260</td>\n",
       "      <td>62</td>\n",
       "      <td>59</td>\n",
       "      <td>9</td>\n",
       "      <td>25026</td>\n",
       "      <td>72</td>\n",
       "    </tr>\n",
       "    <tr>\n",
       "      <th>3</th>\n",
       "      <td>Columbia</td>\n",
       "      <td>1310</td>\n",
       "      <td>76</td>\n",
       "      <td>24</td>\n",
       "      <td>12</td>\n",
       "      <td>31510</td>\n",
       "      <td>88</td>\n",
       "    </tr>\n",
       "  </tbody>\n",
       "</table>\n",
       "</div>"
      ],
      "text/plain": [
       "       Univ   SAT  Top10  Accept  SFRatio  Expenses  GradRate\n",
       "0     Brown  1310     89      22       13     22704        94\n",
       "1   CalTech  1415    100      25        6     63575        81\n",
       "2       CMU  1260     62      59        9     25026        72\n",
       "3  Columbia  1310     76      24       12     31510        88"
      ]
     },
     "execution_count": 32,
     "metadata": {},
     "output_type": "execute_result"
    }
   ],
   "source": [
    "university[0:4]"
   ]
  },
  {
   "cell_type": "code",
   "execution_count": 28,
   "id": "722c2e37",
   "metadata": {},
   "outputs": [
    {
     "data": {
      "text/html": [
       "<div>\n",
       "<style scoped>\n",
       "    .dataframe tbody tr th:only-of-type {\n",
       "        vertical-align: middle;\n",
       "    }\n",
       "\n",
       "    .dataframe tbody tr th {\n",
       "        vertical-align: top;\n",
       "    }\n",
       "\n",
       "    .dataframe thead th {\n",
       "        text-align: right;\n",
       "    }\n",
       "</style>\n",
       "<table border=\"1\" class=\"dataframe\">\n",
       "  <thead>\n",
       "    <tr style=\"text-align: right;\">\n",
       "      <th></th>\n",
       "      <th>Name</th>\n",
       "      <th>age</th>\n",
       "      <th>mobile no</th>\n",
       "      <th>city</th>\n",
       "      <th>marks</th>\n",
       "      <th>salary</th>\n",
       "      <th>Unnamed: 6</th>\n",
       "      <th>Unnamed: 7</th>\n",
       "    </tr>\n",
       "  </thead>\n",
       "  <tbody>\n",
       "    <tr>\n",
       "      <th>0</th>\n",
       "      <td>A</td>\n",
       "      <td>50.0</td>\n",
       "      <td>9900763290</td>\n",
       "      <td>Bangalore</td>\n",
       "      <td>285</td>\n",
       "      <td>10818</td>\n",
       "      <td>2163.6</td>\n",
       "      <td>99007</td>\n",
       "    </tr>\n",
       "    <tr>\n",
       "      <th>1</th>\n",
       "      <td>B</td>\n",
       "      <td>23.0</td>\n",
       "      <td>9709303020</td>\n",
       "      <td>Mumbai</td>\n",
       "      <td>434</td>\n",
       "      <td>11506</td>\n",
       "      <td>2301.2</td>\n",
       "      <td>97093</td>\n",
       "    </tr>\n",
       "    <tr>\n",
       "      <th>2</th>\n",
       "      <td>C</td>\n",
       "      <td>22.0</td>\n",
       "      <td>9796840335</td>\n",
       "      <td>NaN</td>\n",
       "      <td>416</td>\n",
       "      <td>11506</td>\n",
       "      <td>2301.2</td>\n",
       "      <td>97968</td>\n",
       "    </tr>\n",
       "    <tr>\n",
       "      <th>3</th>\n",
       "      <td>D</td>\n",
       "      <td>47.0</td>\n",
       "      <td>9433821160</td>\n",
       "      <td>NaN</td>\n",
       "      <td>189</td>\n",
       "      <td>11506</td>\n",
       "      <td>2301.2</td>\n",
       "      <td>94338</td>\n",
       "    </tr>\n",
       "    <tr>\n",
       "      <th>4</th>\n",
       "      <td>E</td>\n",
       "      <td>33.0</td>\n",
       "      <td>9840448035</td>\n",
       "      <td>NaN</td>\n",
       "      <td>117</td>\n",
       "      <td>11506</td>\n",
       "      <td>2301.2</td>\n",
       "      <td>98404</td>\n",
       "    </tr>\n",
       "    <tr>\n",
       "      <th>5</th>\n",
       "      <td>F</td>\n",
       "      <td>NaN</td>\n",
       "      <td>9626621256</td>\n",
       "      <td>chennai</td>\n",
       "      <td>326</td>\n",
       "      <td>18206</td>\n",
       "      <td>3641.2</td>\n",
       "      <td>96266</td>\n",
       "    </tr>\n",
       "    <tr>\n",
       "      <th>6</th>\n",
       "      <td>G</td>\n",
       "      <td>NaN</td>\n",
       "      <td>9775317986</td>\n",
       "      <td>hydrabad</td>\n",
       "      <td>326</td>\n",
       "      <td>13755</td>\n",
       "      <td>2751.0</td>\n",
       "      <td>97753</td>\n",
       "    </tr>\n",
       "    <tr>\n",
       "      <th>7</th>\n",
       "      <td>H</td>\n",
       "      <td>NaN</td>\n",
       "      <td>9798357363</td>\n",
       "      <td>calcatta</td>\n",
       "      <td>326</td>\n",
       "      <td>11506</td>\n",
       "      <td>2301.2</td>\n",
       "      <td>97983</td>\n",
       "    </tr>\n",
       "    <tr>\n",
       "      <th>8</th>\n",
       "      <td>I</td>\n",
       "      <td>37.0</td>\n",
       "      <td>9338865840</td>\n",
       "      <td>pune</td>\n",
       "      <td>487</td>\n",
       "      <td>11339</td>\n",
       "      <td>2267.8</td>\n",
       "      <td>93388</td>\n",
       "    </tr>\n",
       "    <tr>\n",
       "      <th>9</th>\n",
       "      <td>J</td>\n",
       "      <td>50.0</td>\n",
       "      <td>9427086263</td>\n",
       "      <td>Mumbai</td>\n",
       "      <td>265</td>\n",
       "      <td>11506</td>\n",
       "      <td>2301.2</td>\n",
       "      <td>94270</td>\n",
       "    </tr>\n",
       "  </tbody>\n",
       "</table>\n",
       "</div>"
      ],
      "text/plain": [
       "  Name   age   mobile no       city  marks  salary  Unnamed: 6  Unnamed: 7\n",
       "0    A  50.0  9900763290  Bangalore    285   10818      2163.6       99007\n",
       "1    B  23.0  9709303020     Mumbai    434   11506      2301.2       97093\n",
       "2    C  22.0  9796840335        NaN    416   11506      2301.2       97968\n",
       "3    D  47.0  9433821160        NaN    189   11506      2301.2       94338\n",
       "4    E  33.0  9840448035        NaN    117   11506      2301.2       98404\n",
       "5    F   NaN  9626621256    chennai    326   18206      3641.2       96266\n",
       "6    G   NaN  9775317986   hydrabad    326   13755      2751.0       97753\n",
       "7    H   NaN  9798357363   calcatta    326   11506      2301.2       97983\n",
       "8    I  37.0  9338865840       pune    487   11339      2267.8       93388\n",
       "9    J  50.0  9427086263     Mumbai    265   11506      2301.2       94270"
      ]
     },
     "execution_count": 28,
     "metadata": {},
     "output_type": "execute_result"
    }
   ],
   "source": [
    "ad"
   ]
  },
  {
   "cell_type": "code",
   "execution_count": 33,
   "id": "7d010234",
   "metadata": {},
   "outputs": [],
   "source": [
    "ad['age'] = ad['age'].fillna('37')"
   ]
  },
  {
   "cell_type": "code",
   "execution_count": 34,
   "id": "5771376b",
   "metadata": {},
   "outputs": [],
   "source": [
    "ad['city'] = ad['city'].fillna('Bangalore')"
   ]
  },
  {
   "cell_type": "code",
   "execution_count": 35,
   "id": "4400681e",
   "metadata": {},
   "outputs": [
    {
     "data": {
      "text/html": [
       "<div>\n",
       "<style scoped>\n",
       "    .dataframe tbody tr th:only-of-type {\n",
       "        vertical-align: middle;\n",
       "    }\n",
       "\n",
       "    .dataframe tbody tr th {\n",
       "        vertical-align: top;\n",
       "    }\n",
       "\n",
       "    .dataframe thead th {\n",
       "        text-align: right;\n",
       "    }\n",
       "</style>\n",
       "<table border=\"1\" class=\"dataframe\">\n",
       "  <thead>\n",
       "    <tr style=\"text-align: right;\">\n",
       "      <th></th>\n",
       "      <th>Name</th>\n",
       "      <th>age</th>\n",
       "      <th>mobile no</th>\n",
       "      <th>city</th>\n",
       "      <th>marks</th>\n",
       "      <th>salary</th>\n",
       "      <th>Unnamed: 6</th>\n",
       "      <th>Unnamed: 7</th>\n",
       "    </tr>\n",
       "  </thead>\n",
       "  <tbody>\n",
       "    <tr>\n",
       "      <th>0</th>\n",
       "      <td>A</td>\n",
       "      <td>50.0</td>\n",
       "      <td>9900763290</td>\n",
       "      <td>Bangalore</td>\n",
       "      <td>285</td>\n",
       "      <td>10818</td>\n",
       "      <td>2163.6</td>\n",
       "      <td>99007</td>\n",
       "    </tr>\n",
       "    <tr>\n",
       "      <th>1</th>\n",
       "      <td>B</td>\n",
       "      <td>23.0</td>\n",
       "      <td>9709303020</td>\n",
       "      <td>Mumbai</td>\n",
       "      <td>434</td>\n",
       "      <td>11506</td>\n",
       "      <td>2301.2</td>\n",
       "      <td>97093</td>\n",
       "    </tr>\n",
       "    <tr>\n",
       "      <th>2</th>\n",
       "      <td>C</td>\n",
       "      <td>22.0</td>\n",
       "      <td>9796840335</td>\n",
       "      <td>Bangalore</td>\n",
       "      <td>416</td>\n",
       "      <td>11506</td>\n",
       "      <td>2301.2</td>\n",
       "      <td>97968</td>\n",
       "    </tr>\n",
       "    <tr>\n",
       "      <th>3</th>\n",
       "      <td>D</td>\n",
       "      <td>47.0</td>\n",
       "      <td>9433821160</td>\n",
       "      <td>Bangalore</td>\n",
       "      <td>189</td>\n",
       "      <td>11506</td>\n",
       "      <td>2301.2</td>\n",
       "      <td>94338</td>\n",
       "    </tr>\n",
       "    <tr>\n",
       "      <th>4</th>\n",
       "      <td>E</td>\n",
       "      <td>33.0</td>\n",
       "      <td>9840448035</td>\n",
       "      <td>Bangalore</td>\n",
       "      <td>117</td>\n",
       "      <td>11506</td>\n",
       "      <td>2301.2</td>\n",
       "      <td>98404</td>\n",
       "    </tr>\n",
       "    <tr>\n",
       "      <th>5</th>\n",
       "      <td>F</td>\n",
       "      <td>37</td>\n",
       "      <td>9626621256</td>\n",
       "      <td>chennai</td>\n",
       "      <td>326</td>\n",
       "      <td>18206</td>\n",
       "      <td>3641.2</td>\n",
       "      <td>96266</td>\n",
       "    </tr>\n",
       "    <tr>\n",
       "      <th>6</th>\n",
       "      <td>G</td>\n",
       "      <td>37</td>\n",
       "      <td>9775317986</td>\n",
       "      <td>hydrabad</td>\n",
       "      <td>326</td>\n",
       "      <td>13755</td>\n",
       "      <td>2751.0</td>\n",
       "      <td>97753</td>\n",
       "    </tr>\n",
       "    <tr>\n",
       "      <th>7</th>\n",
       "      <td>H</td>\n",
       "      <td>37</td>\n",
       "      <td>9798357363</td>\n",
       "      <td>calcatta</td>\n",
       "      <td>326</td>\n",
       "      <td>11506</td>\n",
       "      <td>2301.2</td>\n",
       "      <td>97983</td>\n",
       "    </tr>\n",
       "    <tr>\n",
       "      <th>8</th>\n",
       "      <td>I</td>\n",
       "      <td>37.0</td>\n",
       "      <td>9338865840</td>\n",
       "      <td>pune</td>\n",
       "      <td>487</td>\n",
       "      <td>11339</td>\n",
       "      <td>2267.8</td>\n",
       "      <td>93388</td>\n",
       "    </tr>\n",
       "    <tr>\n",
       "      <th>9</th>\n",
       "      <td>J</td>\n",
       "      <td>50.0</td>\n",
       "      <td>9427086263</td>\n",
       "      <td>Mumbai</td>\n",
       "      <td>265</td>\n",
       "      <td>11506</td>\n",
       "      <td>2301.2</td>\n",
       "      <td>94270</td>\n",
       "    </tr>\n",
       "  </tbody>\n",
       "</table>\n",
       "</div>"
      ],
      "text/plain": [
       "  Name   age   mobile no       city  marks  salary  Unnamed: 6  Unnamed: 7\n",
       "0    A  50.0  9900763290  Bangalore    285   10818      2163.6       99007\n",
       "1    B  23.0  9709303020     Mumbai    434   11506      2301.2       97093\n",
       "2    C  22.0  9796840335  Bangalore    416   11506      2301.2       97968\n",
       "3    D  47.0  9433821160  Bangalore    189   11506      2301.2       94338\n",
       "4    E  33.0  9840448035  Bangalore    117   11506      2301.2       98404\n",
       "5    F    37  9626621256    chennai    326   18206      3641.2       96266\n",
       "6    G    37  9775317986   hydrabad    326   13755      2751.0       97753\n",
       "7    H    37  9798357363   calcatta    326   11506      2301.2       97983\n",
       "8    I  37.0  9338865840       pune    487   11339      2267.8       93388\n",
       "9    J  50.0  9427086263     Mumbai    265   11506      2301.2       94270"
      ]
     },
     "execution_count": 35,
     "metadata": {},
     "output_type": "execute_result"
    }
   ],
   "source": [
    "ad"
   ]
  },
  {
   "cell_type": "code",
   "execution_count": 36,
   "id": "d3e62f51",
   "metadata": {},
   "outputs": [],
   "source": [
    "d2 = ad[0:3]"
   ]
  },
  {
   "cell_type": "code",
   "execution_count": 37,
   "id": "0b644c5b",
   "metadata": {},
   "outputs": [],
   "source": [
    "ad = pd.concat([ad,d2])"
   ]
  },
  {
   "cell_type": "code",
   "execution_count": 38,
   "id": "75ed44b9",
   "metadata": {},
   "outputs": [
    {
     "data": {
      "text/html": [
       "<div>\n",
       "<style scoped>\n",
       "    .dataframe tbody tr th:only-of-type {\n",
       "        vertical-align: middle;\n",
       "    }\n",
       "\n",
       "    .dataframe tbody tr th {\n",
       "        vertical-align: top;\n",
       "    }\n",
       "\n",
       "    .dataframe thead th {\n",
       "        text-align: right;\n",
       "    }\n",
       "</style>\n",
       "<table border=\"1\" class=\"dataframe\">\n",
       "  <thead>\n",
       "    <tr style=\"text-align: right;\">\n",
       "      <th></th>\n",
       "      <th>Name</th>\n",
       "      <th>age</th>\n",
       "      <th>mobile no</th>\n",
       "      <th>city</th>\n",
       "      <th>marks</th>\n",
       "      <th>salary</th>\n",
       "      <th>Unnamed: 6</th>\n",
       "      <th>Unnamed: 7</th>\n",
       "    </tr>\n",
       "  </thead>\n",
       "  <tbody>\n",
       "    <tr>\n",
       "      <th>0</th>\n",
       "      <td>A</td>\n",
       "      <td>50.0</td>\n",
       "      <td>9900763290</td>\n",
       "      <td>Bangalore</td>\n",
       "      <td>285</td>\n",
       "      <td>10818</td>\n",
       "      <td>2163.6</td>\n",
       "      <td>99007</td>\n",
       "    </tr>\n",
       "    <tr>\n",
       "      <th>1</th>\n",
       "      <td>B</td>\n",
       "      <td>23.0</td>\n",
       "      <td>9709303020</td>\n",
       "      <td>Mumbai</td>\n",
       "      <td>434</td>\n",
       "      <td>11506</td>\n",
       "      <td>2301.2</td>\n",
       "      <td>97093</td>\n",
       "    </tr>\n",
       "    <tr>\n",
       "      <th>2</th>\n",
       "      <td>C</td>\n",
       "      <td>22.0</td>\n",
       "      <td>9796840335</td>\n",
       "      <td>Bangalore</td>\n",
       "      <td>416</td>\n",
       "      <td>11506</td>\n",
       "      <td>2301.2</td>\n",
       "      <td>97968</td>\n",
       "    </tr>\n",
       "    <tr>\n",
       "      <th>3</th>\n",
       "      <td>D</td>\n",
       "      <td>47.0</td>\n",
       "      <td>9433821160</td>\n",
       "      <td>Bangalore</td>\n",
       "      <td>189</td>\n",
       "      <td>11506</td>\n",
       "      <td>2301.2</td>\n",
       "      <td>94338</td>\n",
       "    </tr>\n",
       "    <tr>\n",
       "      <th>4</th>\n",
       "      <td>E</td>\n",
       "      <td>33.0</td>\n",
       "      <td>9840448035</td>\n",
       "      <td>Bangalore</td>\n",
       "      <td>117</td>\n",
       "      <td>11506</td>\n",
       "      <td>2301.2</td>\n",
       "      <td>98404</td>\n",
       "    </tr>\n",
       "    <tr>\n",
       "      <th>5</th>\n",
       "      <td>F</td>\n",
       "      <td>37</td>\n",
       "      <td>9626621256</td>\n",
       "      <td>chennai</td>\n",
       "      <td>326</td>\n",
       "      <td>18206</td>\n",
       "      <td>3641.2</td>\n",
       "      <td>96266</td>\n",
       "    </tr>\n",
       "    <tr>\n",
       "      <th>6</th>\n",
       "      <td>G</td>\n",
       "      <td>37</td>\n",
       "      <td>9775317986</td>\n",
       "      <td>hydrabad</td>\n",
       "      <td>326</td>\n",
       "      <td>13755</td>\n",
       "      <td>2751.0</td>\n",
       "      <td>97753</td>\n",
       "    </tr>\n",
       "    <tr>\n",
       "      <th>7</th>\n",
       "      <td>H</td>\n",
       "      <td>37</td>\n",
       "      <td>9798357363</td>\n",
       "      <td>calcatta</td>\n",
       "      <td>326</td>\n",
       "      <td>11506</td>\n",
       "      <td>2301.2</td>\n",
       "      <td>97983</td>\n",
       "    </tr>\n",
       "    <tr>\n",
       "      <th>8</th>\n",
       "      <td>I</td>\n",
       "      <td>37.0</td>\n",
       "      <td>9338865840</td>\n",
       "      <td>pune</td>\n",
       "      <td>487</td>\n",
       "      <td>11339</td>\n",
       "      <td>2267.8</td>\n",
       "      <td>93388</td>\n",
       "    </tr>\n",
       "    <tr>\n",
       "      <th>9</th>\n",
       "      <td>J</td>\n",
       "      <td>50.0</td>\n",
       "      <td>9427086263</td>\n",
       "      <td>Mumbai</td>\n",
       "      <td>265</td>\n",
       "      <td>11506</td>\n",
       "      <td>2301.2</td>\n",
       "      <td>94270</td>\n",
       "    </tr>\n",
       "    <tr>\n",
       "      <th>0</th>\n",
       "      <td>A</td>\n",
       "      <td>50.0</td>\n",
       "      <td>9900763290</td>\n",
       "      <td>Bangalore</td>\n",
       "      <td>285</td>\n",
       "      <td>10818</td>\n",
       "      <td>2163.6</td>\n",
       "      <td>99007</td>\n",
       "    </tr>\n",
       "    <tr>\n",
       "      <th>1</th>\n",
       "      <td>B</td>\n",
       "      <td>23.0</td>\n",
       "      <td>9709303020</td>\n",
       "      <td>Mumbai</td>\n",
       "      <td>434</td>\n",
       "      <td>11506</td>\n",
       "      <td>2301.2</td>\n",
       "      <td>97093</td>\n",
       "    </tr>\n",
       "    <tr>\n",
       "      <th>2</th>\n",
       "      <td>C</td>\n",
       "      <td>22.0</td>\n",
       "      <td>9796840335</td>\n",
       "      <td>Bangalore</td>\n",
       "      <td>416</td>\n",
       "      <td>11506</td>\n",
       "      <td>2301.2</td>\n",
       "      <td>97968</td>\n",
       "    </tr>\n",
       "  </tbody>\n",
       "</table>\n",
       "</div>"
      ],
      "text/plain": [
       "  Name   age   mobile no       city  marks  salary  Unnamed: 6  Unnamed: 7\n",
       "0    A  50.0  9900763290  Bangalore    285   10818      2163.6       99007\n",
       "1    B  23.0  9709303020     Mumbai    434   11506      2301.2       97093\n",
       "2    C  22.0  9796840335  Bangalore    416   11506      2301.2       97968\n",
       "3    D  47.0  9433821160  Bangalore    189   11506      2301.2       94338\n",
       "4    E  33.0  9840448035  Bangalore    117   11506      2301.2       98404\n",
       "5    F    37  9626621256    chennai    326   18206      3641.2       96266\n",
       "6    G    37  9775317986   hydrabad    326   13755      2751.0       97753\n",
       "7    H    37  9798357363   calcatta    326   11506      2301.2       97983\n",
       "8    I  37.0  9338865840       pune    487   11339      2267.8       93388\n",
       "9    J  50.0  9427086263     Mumbai    265   11506      2301.2       94270\n",
       "0    A  50.0  9900763290  Bangalore    285   10818      2163.6       99007\n",
       "1    B  23.0  9709303020     Mumbai    434   11506      2301.2       97093\n",
       "2    C  22.0  9796840335  Bangalore    416   11506      2301.2       97968"
      ]
     },
     "execution_count": 38,
     "metadata": {},
     "output_type": "execute_result"
    }
   ],
   "source": [
    "ad"
   ]
  },
  {
   "cell_type": "code",
   "execution_count": 39,
   "id": "21c527f8",
   "metadata": {
    "collapsed": true
   },
   "outputs": [
    {
     "data": {
      "text/html": [
       "<div>\n",
       "<style scoped>\n",
       "    .dataframe tbody tr th:only-of-type {\n",
       "        vertical-align: middle;\n",
       "    }\n",
       "\n",
       "    .dataframe tbody tr th {\n",
       "        vertical-align: top;\n",
       "    }\n",
       "\n",
       "    .dataframe thead th {\n",
       "        text-align: right;\n",
       "    }\n",
       "</style>\n",
       "<table border=\"1\" class=\"dataframe\">\n",
       "  <thead>\n",
       "    <tr style=\"text-align: right;\">\n",
       "      <th></th>\n",
       "      <th>Name</th>\n",
       "      <th>age</th>\n",
       "      <th>mobile no</th>\n",
       "      <th>city</th>\n",
       "      <th>marks</th>\n",
       "      <th>salary</th>\n",
       "      <th>Unnamed: 6</th>\n",
       "      <th>Unnamed: 7</th>\n",
       "    </tr>\n",
       "  </thead>\n",
       "  <tbody>\n",
       "    <tr>\n",
       "      <th>0</th>\n",
       "      <td>A</td>\n",
       "      <td>50.0</td>\n",
       "      <td>9900763290</td>\n",
       "      <td>Bangalore</td>\n",
       "      <td>285</td>\n",
       "      <td>10818</td>\n",
       "      <td>2163.6</td>\n",
       "      <td>99007</td>\n",
       "    </tr>\n",
       "    <tr>\n",
       "      <th>1</th>\n",
       "      <td>B</td>\n",
       "      <td>23.0</td>\n",
       "      <td>9709303020</td>\n",
       "      <td>Mumbai</td>\n",
       "      <td>434</td>\n",
       "      <td>11506</td>\n",
       "      <td>2301.2</td>\n",
       "      <td>97093</td>\n",
       "    </tr>\n",
       "    <tr>\n",
       "      <th>2</th>\n",
       "      <td>C</td>\n",
       "      <td>22.0</td>\n",
       "      <td>9796840335</td>\n",
       "      <td>Bangalore</td>\n",
       "      <td>416</td>\n",
       "      <td>11506</td>\n",
       "      <td>2301.2</td>\n",
       "      <td>97968</td>\n",
       "    </tr>\n",
       "    <tr>\n",
       "      <th>3</th>\n",
       "      <td>D</td>\n",
       "      <td>47.0</td>\n",
       "      <td>9433821160</td>\n",
       "      <td>Bangalore</td>\n",
       "      <td>189</td>\n",
       "      <td>11506</td>\n",
       "      <td>2301.2</td>\n",
       "      <td>94338</td>\n",
       "    </tr>\n",
       "    <tr>\n",
       "      <th>4</th>\n",
       "      <td>E</td>\n",
       "      <td>33.0</td>\n",
       "      <td>9840448035</td>\n",
       "      <td>Bangalore</td>\n",
       "      <td>117</td>\n",
       "      <td>11506</td>\n",
       "      <td>2301.2</td>\n",
       "      <td>98404</td>\n",
       "    </tr>\n",
       "    <tr>\n",
       "      <th>5</th>\n",
       "      <td>F</td>\n",
       "      <td>37</td>\n",
       "      <td>9626621256</td>\n",
       "      <td>chennai</td>\n",
       "      <td>326</td>\n",
       "      <td>18206</td>\n",
       "      <td>3641.2</td>\n",
       "      <td>96266</td>\n",
       "    </tr>\n",
       "    <tr>\n",
       "      <th>6</th>\n",
       "      <td>G</td>\n",
       "      <td>37</td>\n",
       "      <td>9775317986</td>\n",
       "      <td>hydrabad</td>\n",
       "      <td>326</td>\n",
       "      <td>13755</td>\n",
       "      <td>2751.0</td>\n",
       "      <td>97753</td>\n",
       "    </tr>\n",
       "    <tr>\n",
       "      <th>7</th>\n",
       "      <td>H</td>\n",
       "      <td>37</td>\n",
       "      <td>9798357363</td>\n",
       "      <td>calcatta</td>\n",
       "      <td>326</td>\n",
       "      <td>11506</td>\n",
       "      <td>2301.2</td>\n",
       "      <td>97983</td>\n",
       "    </tr>\n",
       "    <tr>\n",
       "      <th>8</th>\n",
       "      <td>I</td>\n",
       "      <td>37.0</td>\n",
       "      <td>9338865840</td>\n",
       "      <td>pune</td>\n",
       "      <td>487</td>\n",
       "      <td>11339</td>\n",
       "      <td>2267.8</td>\n",
       "      <td>93388</td>\n",
       "    </tr>\n",
       "    <tr>\n",
       "      <th>9</th>\n",
       "      <td>J</td>\n",
       "      <td>50.0</td>\n",
       "      <td>9427086263</td>\n",
       "      <td>Mumbai</td>\n",
       "      <td>265</td>\n",
       "      <td>11506</td>\n",
       "      <td>2301.2</td>\n",
       "      <td>94270</td>\n",
       "    </tr>\n",
       "  </tbody>\n",
       "</table>\n",
       "</div>"
      ],
      "text/plain": [
       "  Name   age   mobile no       city  marks  salary  Unnamed: 6  Unnamed: 7\n",
       "0    A  50.0  9900763290  Bangalore    285   10818      2163.6       99007\n",
       "1    B  23.0  9709303020     Mumbai    434   11506      2301.2       97093\n",
       "2    C  22.0  9796840335  Bangalore    416   11506      2301.2       97968\n",
       "3    D  47.0  9433821160  Bangalore    189   11506      2301.2       94338\n",
       "4    E  33.0  9840448035  Bangalore    117   11506      2301.2       98404\n",
       "5    F    37  9626621256    chennai    326   18206      3641.2       96266\n",
       "6    G    37  9775317986   hydrabad    326   13755      2751.0       97753\n",
       "7    H    37  9798357363   calcatta    326   11506      2301.2       97983\n",
       "8    I  37.0  9338865840       pune    487   11339      2267.8       93388\n",
       "9    J  50.0  9427086263     Mumbai    265   11506      2301.2       94270"
      ]
     },
     "execution_count": 39,
     "metadata": {},
     "output_type": "execute_result"
    }
   ],
   "source": [
    "ad.drop_duplicates()"
   ]
  },
  {
   "cell_type": "code",
   "execution_count": 40,
   "id": "6efa5418",
   "metadata": {},
   "outputs": [
    {
     "data": {
      "text/html": [
       "<div>\n",
       "<style scoped>\n",
       "    .dataframe tbody tr th:only-of-type {\n",
       "        vertical-align: middle;\n",
       "    }\n",
       "\n",
       "    .dataframe tbody tr th {\n",
       "        vertical-align: top;\n",
       "    }\n",
       "\n",
       "    .dataframe thead th {\n",
       "        text-align: right;\n",
       "    }\n",
       "</style>\n",
       "<table border=\"1\" class=\"dataframe\">\n",
       "  <thead>\n",
       "    <tr style=\"text-align: right;\">\n",
       "      <th></th>\n",
       "      <th>Name</th>\n",
       "      <th>age</th>\n",
       "      <th>mobile no</th>\n",
       "      <th>city</th>\n",
       "      <th>marks</th>\n",
       "      <th>salary</th>\n",
       "      <th>Unnamed: 6</th>\n",
       "      <th>Unnamed: 7</th>\n",
       "    </tr>\n",
       "  </thead>\n",
       "  <tbody>\n",
       "    <tr>\n",
       "      <th>0</th>\n",
       "      <td>A</td>\n",
       "      <td>50.0</td>\n",
       "      <td>9900763290</td>\n",
       "      <td>Bangalore</td>\n",
       "      <td>285</td>\n",
       "      <td>10818</td>\n",
       "      <td>2163.6</td>\n",
       "      <td>99007</td>\n",
       "    </tr>\n",
       "    <tr>\n",
       "      <th>1</th>\n",
       "      <td>B</td>\n",
       "      <td>23.0</td>\n",
       "      <td>9709303020</td>\n",
       "      <td>Mumbai</td>\n",
       "      <td>434</td>\n",
       "      <td>11506</td>\n",
       "      <td>2301.2</td>\n",
       "      <td>97093</td>\n",
       "    </tr>\n",
       "    <tr>\n",
       "      <th>2</th>\n",
       "      <td>C</td>\n",
       "      <td>22.0</td>\n",
       "      <td>9796840335</td>\n",
       "      <td>Bangalore</td>\n",
       "      <td>416</td>\n",
       "      <td>11506</td>\n",
       "      <td>2301.2</td>\n",
       "      <td>97968</td>\n",
       "    </tr>\n",
       "    <tr>\n",
       "      <th>3</th>\n",
       "      <td>D</td>\n",
       "      <td>47.0</td>\n",
       "      <td>9433821160</td>\n",
       "      <td>Bangalore</td>\n",
       "      <td>189</td>\n",
       "      <td>11506</td>\n",
       "      <td>2301.2</td>\n",
       "      <td>94338</td>\n",
       "    </tr>\n",
       "    <tr>\n",
       "      <th>4</th>\n",
       "      <td>E</td>\n",
       "      <td>33.0</td>\n",
       "      <td>9840448035</td>\n",
       "      <td>Bangalore</td>\n",
       "      <td>117</td>\n",
       "      <td>11506</td>\n",
       "      <td>2301.2</td>\n",
       "      <td>98404</td>\n",
       "    </tr>\n",
       "  </tbody>\n",
       "</table>\n",
       "</div>"
      ],
      "text/plain": [
       "  Name   age   mobile no       city  marks  salary  Unnamed: 6  Unnamed: 7\n",
       "0    A  50.0  9900763290  Bangalore    285   10818      2163.6       99007\n",
       "1    B  23.0  9709303020     Mumbai    434   11506      2301.2       97093\n",
       "2    C  22.0  9796840335  Bangalore    416   11506      2301.2       97968\n",
       "3    D  47.0  9433821160  Bangalore    189   11506      2301.2       94338\n",
       "4    E  33.0  9840448035  Bangalore    117   11506      2301.2       98404"
      ]
     },
     "execution_count": 40,
     "metadata": {},
     "output_type": "execute_result"
    }
   ],
   "source": [
    "ad[:5]"
   ]
  },
  {
   "cell_type": "code",
   "execution_count": 42,
   "id": "156a7731",
   "metadata": {
    "collapsed": true
   },
   "outputs": [
    {
     "data": {
      "text/html": [
       "<div>\n",
       "<style scoped>\n",
       "    .dataframe tbody tr th:only-of-type {\n",
       "        vertical-align: middle;\n",
       "    }\n",
       "\n",
       "    .dataframe tbody tr th {\n",
       "        vertical-align: top;\n",
       "    }\n",
       "\n",
       "    .dataframe thead th {\n",
       "        text-align: right;\n",
       "    }\n",
       "</style>\n",
       "<table border=\"1\" class=\"dataframe\">\n",
       "  <thead>\n",
       "    <tr style=\"text-align: right;\">\n",
       "      <th></th>\n",
       "      <th>Name</th>\n",
       "      <th>age</th>\n",
       "      <th>mobile no</th>\n",
       "      <th>city</th>\n",
       "      <th>marks</th>\n",
       "      <th>salary</th>\n",
       "      <th>Unnamed: 6</th>\n",
       "      <th>Unnamed: 7</th>\n",
       "    </tr>\n",
       "  </thead>\n",
       "  <tbody>\n",
       "    <tr>\n",
       "      <th>0</th>\n",
       "      <td>A</td>\n",
       "      <td>50.0</td>\n",
       "      <td>9900763290</td>\n",
       "      <td>Bangalore</td>\n",
       "      <td>285</td>\n",
       "      <td>10818</td>\n",
       "      <td>2163.6</td>\n",
       "      <td>99007</td>\n",
       "    </tr>\n",
       "    <tr>\n",
       "      <th>1</th>\n",
       "      <td>B</td>\n",
       "      <td>23.0</td>\n",
       "      <td>9709303020</td>\n",
       "      <td>Mumbai</td>\n",
       "      <td>434</td>\n",
       "      <td>11506</td>\n",
       "      <td>2301.2</td>\n",
       "      <td>97093</td>\n",
       "    </tr>\n",
       "    <tr>\n",
       "      <th>2</th>\n",
       "      <td>C</td>\n",
       "      <td>22.0</td>\n",
       "      <td>9796840335</td>\n",
       "      <td>Bangalore</td>\n",
       "      <td>416</td>\n",
       "      <td>11506</td>\n",
       "      <td>2301.2</td>\n",
       "      <td>97968</td>\n",
       "    </tr>\n",
       "    <tr>\n",
       "      <th>3</th>\n",
       "      <td>D</td>\n",
       "      <td>47.0</td>\n",
       "      <td>9433821160</td>\n",
       "      <td>Bangalore</td>\n",
       "      <td>189</td>\n",
       "      <td>11506</td>\n",
       "      <td>2301.2</td>\n",
       "      <td>94338</td>\n",
       "    </tr>\n",
       "    <tr>\n",
       "      <th>4</th>\n",
       "      <td>E</td>\n",
       "      <td>33.0</td>\n",
       "      <td>9840448035</td>\n",
       "      <td>Bangalore</td>\n",
       "      <td>117</td>\n",
       "      <td>11506</td>\n",
       "      <td>2301.2</td>\n",
       "      <td>98404</td>\n",
       "    </tr>\n",
       "    <tr>\n",
       "      <th>5</th>\n",
       "      <td>F</td>\n",
       "      <td>37</td>\n",
       "      <td>9626621256</td>\n",
       "      <td>chennai</td>\n",
       "      <td>326</td>\n",
       "      <td>18206</td>\n",
       "      <td>3641.2</td>\n",
       "      <td>96266</td>\n",
       "    </tr>\n",
       "    <tr>\n",
       "      <th>6</th>\n",
       "      <td>G</td>\n",
       "      <td>37</td>\n",
       "      <td>9775317986</td>\n",
       "      <td>hydrabad</td>\n",
       "      <td>326</td>\n",
       "      <td>13755</td>\n",
       "      <td>2751.0</td>\n",
       "      <td>97753</td>\n",
       "    </tr>\n",
       "    <tr>\n",
       "      <th>7</th>\n",
       "      <td>H</td>\n",
       "      <td>37</td>\n",
       "      <td>9798357363</td>\n",
       "      <td>calcatta</td>\n",
       "      <td>326</td>\n",
       "      <td>11506</td>\n",
       "      <td>2301.2</td>\n",
       "      <td>97983</td>\n",
       "    </tr>\n",
       "    <tr>\n",
       "      <th>8</th>\n",
       "      <td>I</td>\n",
       "      <td>37.0</td>\n",
       "      <td>9338865840</td>\n",
       "      <td>pune</td>\n",
       "      <td>487</td>\n",
       "      <td>11339</td>\n",
       "      <td>2267.8</td>\n",
       "      <td>93388</td>\n",
       "    </tr>\n",
       "    <tr>\n",
       "      <th>9</th>\n",
       "      <td>J</td>\n",
       "      <td>50.0</td>\n",
       "      <td>9427086263</td>\n",
       "      <td>Mumbai</td>\n",
       "      <td>265</td>\n",
       "      <td>11506</td>\n",
       "      <td>2301.2</td>\n",
       "      <td>94270</td>\n",
       "    </tr>\n",
       "  </tbody>\n",
       "</table>\n",
       "</div>"
      ],
      "text/plain": [
       "  Name   age   mobile no       city  marks  salary  Unnamed: 6  Unnamed: 7\n",
       "0    A  50.0  9900763290  Bangalore    285   10818      2163.6       99007\n",
       "1    B  23.0  9709303020     Mumbai    434   11506      2301.2       97093\n",
       "2    C  22.0  9796840335  Bangalore    416   11506      2301.2       97968\n",
       "3    D  47.0  9433821160  Bangalore    189   11506      2301.2       94338\n",
       "4    E  33.0  9840448035  Bangalore    117   11506      2301.2       98404\n",
       "5    F    37  9626621256    chennai    326   18206      3641.2       96266\n",
       "6    G    37  9775317986   hydrabad    326   13755      2751.0       97753\n",
       "7    H    37  9798357363   calcatta    326   11506      2301.2       97983\n",
       "8    I  37.0  9338865840       pune    487   11339      2267.8       93388\n",
       "9    J  50.0  9427086263     Mumbai    265   11506      2301.2       94270"
      ]
     },
     "execution_count": 42,
     "metadata": {},
     "output_type": "execute_result"
    }
   ],
   "source": [
    "ad.drop_duplicates(['city','Name'])"
   ]
  },
  {
   "cell_type": "code",
   "execution_count": 43,
   "id": "d307c80a",
   "metadata": {
    "collapsed": true
   },
   "outputs": [
    {
     "data": {
      "text/html": [
       "<div>\n",
       "<style scoped>\n",
       "    .dataframe tbody tr th:only-of-type {\n",
       "        vertical-align: middle;\n",
       "    }\n",
       "\n",
       "    .dataframe tbody tr th {\n",
       "        vertical-align: top;\n",
       "    }\n",
       "\n",
       "    .dataframe thead th {\n",
       "        text-align: right;\n",
       "    }\n",
       "</style>\n",
       "<table border=\"1\" class=\"dataframe\">\n",
       "  <thead>\n",
       "    <tr style=\"text-align: right;\">\n",
       "      <th></th>\n",
       "      <th>Name</th>\n",
       "      <th>age</th>\n",
       "      <th>mobile no</th>\n",
       "      <th>city</th>\n",
       "      <th>marks</th>\n",
       "      <th>salary</th>\n",
       "      <th>Unnamed: 6</th>\n",
       "      <th>Unnamed: 7</th>\n",
       "    </tr>\n",
       "  </thead>\n",
       "  <tbody>\n",
       "    <tr>\n",
       "      <th>0</th>\n",
       "      <td>A</td>\n",
       "      <td>50.0</td>\n",
       "      <td>9900763290</td>\n",
       "      <td>Bangalore</td>\n",
       "      <td>285</td>\n",
       "      <td>10818</td>\n",
       "      <td>2163.6</td>\n",
       "      <td>99007</td>\n",
       "    </tr>\n",
       "    <tr>\n",
       "      <th>1</th>\n",
       "      <td>B</td>\n",
       "      <td>23.0</td>\n",
       "      <td>9709303020</td>\n",
       "      <td>Mumbai</td>\n",
       "      <td>434</td>\n",
       "      <td>11506</td>\n",
       "      <td>2301.2</td>\n",
       "      <td>97093</td>\n",
       "    </tr>\n",
       "    <tr>\n",
       "      <th>2</th>\n",
       "      <td>C</td>\n",
       "      <td>22.0</td>\n",
       "      <td>9796840335</td>\n",
       "      <td>Bangalore</td>\n",
       "      <td>416</td>\n",
       "      <td>11506</td>\n",
       "      <td>2301.2</td>\n",
       "      <td>97968</td>\n",
       "    </tr>\n",
       "    <tr>\n",
       "      <th>3</th>\n",
       "      <td>D</td>\n",
       "      <td>47.0</td>\n",
       "      <td>9433821160</td>\n",
       "      <td>Bangalore</td>\n",
       "      <td>189</td>\n",
       "      <td>11506</td>\n",
       "      <td>2301.2</td>\n",
       "      <td>94338</td>\n",
       "    </tr>\n",
       "    <tr>\n",
       "      <th>4</th>\n",
       "      <td>E</td>\n",
       "      <td>33.0</td>\n",
       "      <td>9840448035</td>\n",
       "      <td>Bangalore</td>\n",
       "      <td>117</td>\n",
       "      <td>11506</td>\n",
       "      <td>2301.2</td>\n",
       "      <td>98404</td>\n",
       "    </tr>\n",
       "    <tr>\n",
       "      <th>5</th>\n",
       "      <td>F</td>\n",
       "      <td>37</td>\n",
       "      <td>9626621256</td>\n",
       "      <td>chennai</td>\n",
       "      <td>326</td>\n",
       "      <td>18206</td>\n",
       "      <td>3641.2</td>\n",
       "      <td>96266</td>\n",
       "    </tr>\n",
       "    <tr>\n",
       "      <th>6</th>\n",
       "      <td>G</td>\n",
       "      <td>37</td>\n",
       "      <td>9775317986</td>\n",
       "      <td>hydrabad</td>\n",
       "      <td>326</td>\n",
       "      <td>13755</td>\n",
       "      <td>2751.0</td>\n",
       "      <td>97753</td>\n",
       "    </tr>\n",
       "    <tr>\n",
       "      <th>7</th>\n",
       "      <td>H</td>\n",
       "      <td>37</td>\n",
       "      <td>9798357363</td>\n",
       "      <td>calcatta</td>\n",
       "      <td>326</td>\n",
       "      <td>11506</td>\n",
       "      <td>2301.2</td>\n",
       "      <td>97983</td>\n",
       "    </tr>\n",
       "    <tr>\n",
       "      <th>8</th>\n",
       "      <td>I</td>\n",
       "      <td>37.0</td>\n",
       "      <td>9338865840</td>\n",
       "      <td>pune</td>\n",
       "      <td>487</td>\n",
       "      <td>11339</td>\n",
       "      <td>2267.8</td>\n",
       "      <td>93388</td>\n",
       "    </tr>\n",
       "    <tr>\n",
       "      <th>9</th>\n",
       "      <td>J</td>\n",
       "      <td>50.0</td>\n",
       "      <td>9427086263</td>\n",
       "      <td>Mumbai</td>\n",
       "      <td>265</td>\n",
       "      <td>11506</td>\n",
       "      <td>2301.2</td>\n",
       "      <td>94270</td>\n",
       "    </tr>\n",
       "    <tr>\n",
       "      <th>0</th>\n",
       "      <td>A</td>\n",
       "      <td>50.0</td>\n",
       "      <td>9900763290</td>\n",
       "      <td>Bangalore</td>\n",
       "      <td>285</td>\n",
       "      <td>10818</td>\n",
       "      <td>2163.6</td>\n",
       "      <td>99007</td>\n",
       "    </tr>\n",
       "    <tr>\n",
       "      <th>1</th>\n",
       "      <td>B</td>\n",
       "      <td>23.0</td>\n",
       "      <td>9709303020</td>\n",
       "      <td>Mumbai</td>\n",
       "      <td>434</td>\n",
       "      <td>11506</td>\n",
       "      <td>2301.2</td>\n",
       "      <td>97093</td>\n",
       "    </tr>\n",
       "    <tr>\n",
       "      <th>2</th>\n",
       "      <td>C</td>\n",
       "      <td>22.0</td>\n",
       "      <td>9796840335</td>\n",
       "      <td>Bangalore</td>\n",
       "      <td>416</td>\n",
       "      <td>11506</td>\n",
       "      <td>2301.2</td>\n",
       "      <td>97968</td>\n",
       "    </tr>\n",
       "  </tbody>\n",
       "</table>\n",
       "</div>"
      ],
      "text/plain": [
       "  Name   age   mobile no       city  marks  salary  Unnamed: 6  Unnamed: 7\n",
       "0    A  50.0  9900763290  Bangalore    285   10818      2163.6       99007\n",
       "1    B  23.0  9709303020     Mumbai    434   11506      2301.2       97093\n",
       "2    C  22.0  9796840335  Bangalore    416   11506      2301.2       97968\n",
       "3    D  47.0  9433821160  Bangalore    189   11506      2301.2       94338\n",
       "4    E  33.0  9840448035  Bangalore    117   11506      2301.2       98404\n",
       "5    F    37  9626621256    chennai    326   18206      3641.2       96266\n",
       "6    G    37  9775317986   hydrabad    326   13755      2751.0       97753\n",
       "7    H    37  9798357363   calcatta    326   11506      2301.2       97983\n",
       "8    I  37.0  9338865840       pune    487   11339      2267.8       93388\n",
       "9    J  50.0  9427086263     Mumbai    265   11506      2301.2       94270\n",
       "0    A  50.0  9900763290  Bangalore    285   10818      2163.6       99007\n",
       "1    B  23.0  9709303020     Mumbai    434   11506      2301.2       97093\n",
       "2    C  22.0  9796840335  Bangalore    416   11506      2301.2       97968"
      ]
     },
     "execution_count": 43,
     "metadata": {},
     "output_type": "execute_result"
    }
   ],
   "source": []
  },
  {
   "cell_type": "code",
   "execution_count": 44,
   "id": "21be2dc1",
   "metadata": {},
   "outputs": [],
   "source": [
    "data1 = ad.copy()"
   ]
  },
  {
   "cell_type": "code",
   "execution_count": null,
   "id": "bbd20c54",
   "metadata": {},
   "outputs": [],
   "source": [
    "# Pivot table"
   ]
  },
  {
   "cell_type": "code",
   "execution_count": 45,
   "id": "717ab32f",
   "metadata": {},
   "outputs": [
    {
     "data": {
      "text/html": [
       "<div>\n",
       "<style scoped>\n",
       "    .dataframe tbody tr th:only-of-type {\n",
       "        vertical-align: middle;\n",
       "    }\n",
       "\n",
       "    .dataframe tbody tr th {\n",
       "        vertical-align: top;\n",
       "    }\n",
       "\n",
       "    .dataframe thead th {\n",
       "        text-align: right;\n",
       "    }\n",
       "</style>\n",
       "<table border=\"1\" class=\"dataframe\">\n",
       "  <thead>\n",
       "    <tr style=\"text-align: right;\">\n",
       "      <th></th>\n",
       "      <th>Name</th>\n",
       "      <th>age</th>\n",
       "      <th>mobile no</th>\n",
       "      <th>city</th>\n",
       "      <th>marks</th>\n",
       "      <th>salary</th>\n",
       "      <th>Unnamed: 6</th>\n",
       "      <th>Unnamed: 7</th>\n",
       "    </tr>\n",
       "  </thead>\n",
       "  <tbody>\n",
       "    <tr>\n",
       "      <th>0</th>\n",
       "      <td>A</td>\n",
       "      <td>50.0</td>\n",
       "      <td>9900763290</td>\n",
       "      <td>Bangalore</td>\n",
       "      <td>285</td>\n",
       "      <td>10818</td>\n",
       "      <td>2163.6</td>\n",
       "      <td>99007</td>\n",
       "    </tr>\n",
       "    <tr>\n",
       "      <th>1</th>\n",
       "      <td>B</td>\n",
       "      <td>23.0</td>\n",
       "      <td>9709303020</td>\n",
       "      <td>Mumbai</td>\n",
       "      <td>434</td>\n",
       "      <td>11506</td>\n",
       "      <td>2301.2</td>\n",
       "      <td>97093</td>\n",
       "    </tr>\n",
       "    <tr>\n",
       "      <th>2</th>\n",
       "      <td>C</td>\n",
       "      <td>22.0</td>\n",
       "      <td>9796840335</td>\n",
       "      <td>Bangalore</td>\n",
       "      <td>416</td>\n",
       "      <td>11506</td>\n",
       "      <td>2301.2</td>\n",
       "      <td>97968</td>\n",
       "    </tr>\n",
       "    <tr>\n",
       "      <th>3</th>\n",
       "      <td>D</td>\n",
       "      <td>47.0</td>\n",
       "      <td>9433821160</td>\n",
       "      <td>Bangalore</td>\n",
       "      <td>189</td>\n",
       "      <td>11506</td>\n",
       "      <td>2301.2</td>\n",
       "      <td>94338</td>\n",
       "    </tr>\n",
       "    <tr>\n",
       "      <th>4</th>\n",
       "      <td>E</td>\n",
       "      <td>33.0</td>\n",
       "      <td>9840448035</td>\n",
       "      <td>Bangalore</td>\n",
       "      <td>117</td>\n",
       "      <td>11506</td>\n",
       "      <td>2301.2</td>\n",
       "      <td>98404</td>\n",
       "    </tr>\n",
       "    <tr>\n",
       "      <th>5</th>\n",
       "      <td>F</td>\n",
       "      <td>37</td>\n",
       "      <td>9626621256</td>\n",
       "      <td>chennai</td>\n",
       "      <td>326</td>\n",
       "      <td>18206</td>\n",
       "      <td>3641.2</td>\n",
       "      <td>96266</td>\n",
       "    </tr>\n",
       "    <tr>\n",
       "      <th>6</th>\n",
       "      <td>G</td>\n",
       "      <td>37</td>\n",
       "      <td>9775317986</td>\n",
       "      <td>hydrabad</td>\n",
       "      <td>326</td>\n",
       "      <td>13755</td>\n",
       "      <td>2751.0</td>\n",
       "      <td>97753</td>\n",
       "    </tr>\n",
       "    <tr>\n",
       "      <th>7</th>\n",
       "      <td>H</td>\n",
       "      <td>37</td>\n",
       "      <td>9798357363</td>\n",
       "      <td>calcatta</td>\n",
       "      <td>326</td>\n",
       "      <td>11506</td>\n",
       "      <td>2301.2</td>\n",
       "      <td>97983</td>\n",
       "    </tr>\n",
       "    <tr>\n",
       "      <th>8</th>\n",
       "      <td>I</td>\n",
       "      <td>37.0</td>\n",
       "      <td>9338865840</td>\n",
       "      <td>pune</td>\n",
       "      <td>487</td>\n",
       "      <td>11339</td>\n",
       "      <td>2267.8</td>\n",
       "      <td>93388</td>\n",
       "    </tr>\n",
       "    <tr>\n",
       "      <th>9</th>\n",
       "      <td>J</td>\n",
       "      <td>50.0</td>\n",
       "      <td>9427086263</td>\n",
       "      <td>Mumbai</td>\n",
       "      <td>265</td>\n",
       "      <td>11506</td>\n",
       "      <td>2301.2</td>\n",
       "      <td>94270</td>\n",
       "    </tr>\n",
       "    <tr>\n",
       "      <th>0</th>\n",
       "      <td>A</td>\n",
       "      <td>50.0</td>\n",
       "      <td>9900763290</td>\n",
       "      <td>Bangalore</td>\n",
       "      <td>285</td>\n",
       "      <td>10818</td>\n",
       "      <td>2163.6</td>\n",
       "      <td>99007</td>\n",
       "    </tr>\n",
       "    <tr>\n",
       "      <th>1</th>\n",
       "      <td>B</td>\n",
       "      <td>23.0</td>\n",
       "      <td>9709303020</td>\n",
       "      <td>Mumbai</td>\n",
       "      <td>434</td>\n",
       "      <td>11506</td>\n",
       "      <td>2301.2</td>\n",
       "      <td>97093</td>\n",
       "    </tr>\n",
       "    <tr>\n",
       "      <th>2</th>\n",
       "      <td>C</td>\n",
       "      <td>22.0</td>\n",
       "      <td>9796840335</td>\n",
       "      <td>Bangalore</td>\n",
       "      <td>416</td>\n",
       "      <td>11506</td>\n",
       "      <td>2301.2</td>\n",
       "      <td>97968</td>\n",
       "    </tr>\n",
       "  </tbody>\n",
       "</table>\n",
       "</div>"
      ],
      "text/plain": [
       "  Name   age   mobile no       city  marks  salary  Unnamed: 6  Unnamed: 7\n",
       "0    A  50.0  9900763290  Bangalore    285   10818      2163.6       99007\n",
       "1    B  23.0  9709303020     Mumbai    434   11506      2301.2       97093\n",
       "2    C  22.0  9796840335  Bangalore    416   11506      2301.2       97968\n",
       "3    D  47.0  9433821160  Bangalore    189   11506      2301.2       94338\n",
       "4    E  33.0  9840448035  Bangalore    117   11506      2301.2       98404\n",
       "5    F    37  9626621256    chennai    326   18206      3641.2       96266\n",
       "6    G    37  9775317986   hydrabad    326   13755      2751.0       97753\n",
       "7    H    37  9798357363   calcatta    326   11506      2301.2       97983\n",
       "8    I  37.0  9338865840       pune    487   11339      2267.8       93388\n",
       "9    J  50.0  9427086263     Mumbai    265   11506      2301.2       94270\n",
       "0    A  50.0  9900763290  Bangalore    285   10818      2163.6       99007\n",
       "1    B  23.0  9709303020     Mumbai    434   11506      2301.2       97093\n",
       "2    C  22.0  9796840335  Bangalore    416   11506      2301.2       97968"
      ]
     },
     "execution_count": 45,
     "metadata": {},
     "output_type": "execute_result"
    }
   ],
   "source": [
    "ad"
   ]
  },
  {
   "cell_type": "code",
   "execution_count": 48,
   "id": "8ddfbeee",
   "metadata": {},
   "outputs": [
    {
     "data": {
      "text/plain": [
       "3"
      ]
     },
     "execution_count": 48,
     "metadata": {},
     "output_type": "execute_result"
    }
   ],
   "source": [
    "len(ad[  ad.duplicated()  ])   "
   ]
  },
  {
   "cell_type": "code",
   "execution_count": null,
   "id": "4c810fb2",
   "metadata": {},
   "outputs": [],
   "source": [
    "# interview - duplicate , missing treat"
   ]
  },
  {
   "cell_type": "code",
   "execution_count": 57,
   "id": "9b1eb6d5",
   "metadata": {},
   "outputs": [
    {
     "data": {
      "text/html": [
       "<div>\n",
       "<style scoped>\n",
       "    .dataframe tbody tr th:only-of-type {\n",
       "        vertical-align: middle;\n",
       "    }\n",
       "\n",
       "    .dataframe tbody tr th {\n",
       "        vertical-align: top;\n",
       "    }\n",
       "\n",
       "    .dataframe thead th {\n",
       "        text-align: right;\n",
       "    }\n",
       "</style>\n",
       "<table border=\"1\" class=\"dataframe\">\n",
       "  <thead>\n",
       "    <tr style=\"text-align: right;\">\n",
       "      <th></th>\n",
       "      <th>Name</th>\n",
       "      <th>age</th>\n",
       "      <th>mobile no</th>\n",
       "      <th>city</th>\n",
       "      <th>marks</th>\n",
       "      <th>salary</th>\n",
       "      <th>Unnamed: 6</th>\n",
       "      <th>Unnamed: 7</th>\n",
       "    </tr>\n",
       "  </thead>\n",
       "  <tbody>\n",
       "    <tr>\n",
       "      <th>0</th>\n",
       "      <td>A</td>\n",
       "      <td>50.0</td>\n",
       "      <td>9900763290</td>\n",
       "      <td>Bangalore</td>\n",
       "      <td>285</td>\n",
       "      <td>10818</td>\n",
       "      <td>2163.6</td>\n",
       "      <td>99007</td>\n",
       "    </tr>\n",
       "    <tr>\n",
       "      <th>1</th>\n",
       "      <td>B</td>\n",
       "      <td>23.0</td>\n",
       "      <td>9709303020</td>\n",
       "      <td>Mumbai</td>\n",
       "      <td>434</td>\n",
       "      <td>11506</td>\n",
       "      <td>2301.2</td>\n",
       "      <td>97093</td>\n",
       "    </tr>\n",
       "    <tr>\n",
       "      <th>2</th>\n",
       "      <td>C</td>\n",
       "      <td>22.0</td>\n",
       "      <td>9796840335</td>\n",
       "      <td>Bangalore</td>\n",
       "      <td>416</td>\n",
       "      <td>11506</td>\n",
       "      <td>2301.2</td>\n",
       "      <td>97968</td>\n",
       "    </tr>\n",
       "  </tbody>\n",
       "</table>\n",
       "</div>"
      ],
      "text/plain": [
       "  Name   age   mobile no       city  marks  salary  Unnamed: 6  Unnamed: 7\n",
       "0    A  50.0  9900763290  Bangalore    285   10818      2163.6       99007\n",
       "1    B  23.0  9709303020     Mumbai    434   11506      2301.2       97093\n",
       "2    C  22.0  9796840335  Bangalore    416   11506      2301.2       97968"
      ]
     },
     "execution_count": 57,
     "metadata": {},
     "output_type": "execute_result"
    }
   ],
   "source": [
    "# Pivot table\n",
    "\n",
    "ad[0:3]\n"
   ]
  },
  {
   "cell_type": "code",
   "execution_count": 60,
   "id": "feb8356a",
   "metadata": {},
   "outputs": [
    {
     "name": "stderr",
     "output_type": "stream",
     "text": [
      "C:\\Users\\Admin\\AppData\\Local\\Temp\\ipykernel_15796\\35803648.py:1: FutureWarning: Indexing with multiple keys (implicitly converted to a tuple of keys) will be deprecated, use a list instead.\n",
      "  ad.groupby(['city'],as_index=False)['salary','marks'].sum()\n"
     ]
    },
    {
     "data": {
      "text/html": [
       "<div>\n",
       "<style scoped>\n",
       "    .dataframe tbody tr th:only-of-type {\n",
       "        vertical-align: middle;\n",
       "    }\n",
       "\n",
       "    .dataframe tbody tr th {\n",
       "        vertical-align: top;\n",
       "    }\n",
       "\n",
       "    .dataframe thead th {\n",
       "        text-align: right;\n",
       "    }\n",
       "</style>\n",
       "<table border=\"1\" class=\"dataframe\">\n",
       "  <thead>\n",
       "    <tr style=\"text-align: right;\">\n",
       "      <th></th>\n",
       "      <th>city</th>\n",
       "      <th>salary</th>\n",
       "      <th>marks</th>\n",
       "    </tr>\n",
       "  </thead>\n",
       "  <tbody>\n",
       "    <tr>\n",
       "      <th>0</th>\n",
       "      <td>Bangalore</td>\n",
       "      <td>67660</td>\n",
       "      <td>1708</td>\n",
       "    </tr>\n",
       "    <tr>\n",
       "      <th>1</th>\n",
       "      <td>Mumbai</td>\n",
       "      <td>34518</td>\n",
       "      <td>1133</td>\n",
       "    </tr>\n",
       "    <tr>\n",
       "      <th>2</th>\n",
       "      <td>calcatta</td>\n",
       "      <td>11506</td>\n",
       "      <td>326</td>\n",
       "    </tr>\n",
       "    <tr>\n",
       "      <th>3</th>\n",
       "      <td>chennai</td>\n",
       "      <td>18206</td>\n",
       "      <td>326</td>\n",
       "    </tr>\n",
       "    <tr>\n",
       "      <th>4</th>\n",
       "      <td>hydrabad</td>\n",
       "      <td>13755</td>\n",
       "      <td>326</td>\n",
       "    </tr>\n",
       "    <tr>\n",
       "      <th>5</th>\n",
       "      <td>pune</td>\n",
       "      <td>11339</td>\n",
       "      <td>487</td>\n",
       "    </tr>\n",
       "  </tbody>\n",
       "</table>\n",
       "</div>"
      ],
      "text/plain": [
       "        city  salary  marks\n",
       "0  Bangalore   67660   1708\n",
       "1     Mumbai   34518   1133\n",
       "2   calcatta   11506    326\n",
       "3    chennai   18206    326\n",
       "4   hydrabad   13755    326\n",
       "5       pune   11339    487"
      ]
     },
     "execution_count": 60,
     "metadata": {},
     "output_type": "execute_result"
    }
   ],
   "source": [
    "ad.groupby(['city'],as_index=False)['salary','marks'].sum()"
   ]
  },
  {
   "cell_type": "code",
   "execution_count": 52,
   "id": "ebd144d9",
   "metadata": {
    "collapsed": true
   },
   "outputs": [
    {
     "data": {
      "text/html": [
       "<div>\n",
       "<style scoped>\n",
       "    .dataframe tbody tr th:only-of-type {\n",
       "        vertical-align: middle;\n",
       "    }\n",
       "\n",
       "    .dataframe tbody tr th {\n",
       "        vertical-align: top;\n",
       "    }\n",
       "\n",
       "    .dataframe thead th {\n",
       "        text-align: right;\n",
       "    }\n",
       "</style>\n",
       "<table border=\"1\" class=\"dataframe\">\n",
       "  <thead>\n",
       "    <tr style=\"text-align: right;\">\n",
       "      <th></th>\n",
       "      <th>city</th>\n",
       "      <th>salary</th>\n",
       "    </tr>\n",
       "  </thead>\n",
       "  <tbody>\n",
       "    <tr>\n",
       "      <th>0</th>\n",
       "      <td>Bangalore</td>\n",
       "      <td>11276.666667</td>\n",
       "    </tr>\n",
       "    <tr>\n",
       "      <th>1</th>\n",
       "      <td>Mumbai</td>\n",
       "      <td>11506.000000</td>\n",
       "    </tr>\n",
       "    <tr>\n",
       "      <th>2</th>\n",
       "      <td>calcatta</td>\n",
       "      <td>11506.000000</td>\n",
       "    </tr>\n",
       "    <tr>\n",
       "      <th>3</th>\n",
       "      <td>chennai</td>\n",
       "      <td>18206.000000</td>\n",
       "    </tr>\n",
       "    <tr>\n",
       "      <th>4</th>\n",
       "      <td>hydrabad</td>\n",
       "      <td>13755.000000</td>\n",
       "    </tr>\n",
       "    <tr>\n",
       "      <th>5</th>\n",
       "      <td>pune</td>\n",
       "      <td>11339.000000</td>\n",
       "    </tr>\n",
       "  </tbody>\n",
       "</table>\n",
       "</div>"
      ],
      "text/plain": [
       "        city        salary\n",
       "0  Bangalore  11276.666667\n",
       "1     Mumbai  11506.000000\n",
       "2   calcatta  11506.000000\n",
       "3    chennai  18206.000000\n",
       "4   hydrabad  13755.000000\n",
       "5       pune  11339.000000"
      ]
     },
     "execution_count": 52,
     "metadata": {},
     "output_type": "execute_result"
    }
   ],
   "source": [
    "ad.groupby(['city'],as_index=False)['salary'].mean()"
   ]
  },
  {
   "cell_type": "code",
   "execution_count": 61,
   "id": "ce582686",
   "metadata": {},
   "outputs": [
    {
     "data": {
      "text/html": [
       "<div>\n",
       "<style scoped>\n",
       "    .dataframe tbody tr th:only-of-type {\n",
       "        vertical-align: middle;\n",
       "    }\n",
       "\n",
       "    .dataframe tbody tr th {\n",
       "        vertical-align: top;\n",
       "    }\n",
       "\n",
       "    .dataframe thead th {\n",
       "        text-align: right;\n",
       "    }\n",
       "</style>\n",
       "<table border=\"1\" class=\"dataframe\">\n",
       "  <thead>\n",
       "    <tr style=\"text-align: right;\">\n",
       "      <th></th>\n",
       "      <th>city</th>\n",
       "      <th>salary</th>\n",
       "    </tr>\n",
       "  </thead>\n",
       "  <tbody>\n",
       "    <tr>\n",
       "      <th>0</th>\n",
       "      <td>Bangalore</td>\n",
       "      <td>6</td>\n",
       "    </tr>\n",
       "    <tr>\n",
       "      <th>1</th>\n",
       "      <td>Mumbai</td>\n",
       "      <td>3</td>\n",
       "    </tr>\n",
       "    <tr>\n",
       "      <th>2</th>\n",
       "      <td>calcatta</td>\n",
       "      <td>1</td>\n",
       "    </tr>\n",
       "    <tr>\n",
       "      <th>3</th>\n",
       "      <td>chennai</td>\n",
       "      <td>1</td>\n",
       "    </tr>\n",
       "    <tr>\n",
       "      <th>4</th>\n",
       "      <td>hydrabad</td>\n",
       "      <td>1</td>\n",
       "    </tr>\n",
       "    <tr>\n",
       "      <th>5</th>\n",
       "      <td>pune</td>\n",
       "      <td>1</td>\n",
       "    </tr>\n",
       "  </tbody>\n",
       "</table>\n",
       "</div>"
      ],
      "text/plain": [
       "        city  salary\n",
       "0  Bangalore       6\n",
       "1     Mumbai       3\n",
       "2   calcatta       1\n",
       "3    chennai       1\n",
       "4   hydrabad       1\n",
       "5       pune       1"
      ]
     },
     "execution_count": 61,
     "metadata": {},
     "output_type": "execute_result"
    }
   ],
   "source": [
    "ad.groupby(['city'],as_index=False)['salary'].count()"
   ]
  },
  {
   "cell_type": "code",
   "execution_count": 64,
   "id": "0ab8f1a9",
   "metadata": {},
   "outputs": [],
   "source": [
    "table1 = ad[0:3]"
   ]
  },
  {
   "cell_type": "code",
   "execution_count": 65,
   "id": "5303a085",
   "metadata": {},
   "outputs": [
    {
     "name": "stderr",
     "output_type": "stream",
     "text": [
      "C:\\Users\\Admin\\AppData\\Local\\Temp\\ipykernel_15796\\3907091986.py:1: SettingWithCopyWarning: \n",
      "A value is trying to be set on a copy of a slice from a DataFrame.\n",
      "Try using .loc[row_indexer,col_indexer] = value instead\n",
      "\n",
      "See the caveats in the documentation: https://pandas.pydata.org/pandas-docs/stable/user_guide/indexing.html#returning-a-view-versus-a-copy\n",
      "  table1['customer_id'] = [1,2,3]\n"
     ]
    }
   ],
   "source": [
    "table1['customer_id'] = [1,2,3]"
   ]
  },
  {
   "cell_type": "code",
   "execution_count": 66,
   "id": "910eaa2a",
   "metadata": {},
   "outputs": [
    {
     "data": {
      "text/html": [
       "<div>\n",
       "<style scoped>\n",
       "    .dataframe tbody tr th:only-of-type {\n",
       "        vertical-align: middle;\n",
       "    }\n",
       "\n",
       "    .dataframe tbody tr th {\n",
       "        vertical-align: top;\n",
       "    }\n",
       "\n",
       "    .dataframe thead th {\n",
       "        text-align: right;\n",
       "    }\n",
       "</style>\n",
       "<table border=\"1\" class=\"dataframe\">\n",
       "  <thead>\n",
       "    <tr style=\"text-align: right;\">\n",
       "      <th></th>\n",
       "      <th>Name</th>\n",
       "      <th>age</th>\n",
       "      <th>mobile no</th>\n",
       "      <th>city</th>\n",
       "      <th>marks</th>\n",
       "      <th>salary</th>\n",
       "      <th>Unnamed: 6</th>\n",
       "      <th>Unnamed: 7</th>\n",
       "      <th>customer_id</th>\n",
       "    </tr>\n",
       "  </thead>\n",
       "  <tbody>\n",
       "    <tr>\n",
       "      <th>0</th>\n",
       "      <td>A</td>\n",
       "      <td>50.0</td>\n",
       "      <td>9900763290</td>\n",
       "      <td>Bangalore</td>\n",
       "      <td>285</td>\n",
       "      <td>10818</td>\n",
       "      <td>2163.6</td>\n",
       "      <td>99007</td>\n",
       "      <td>1</td>\n",
       "    </tr>\n",
       "    <tr>\n",
       "      <th>1</th>\n",
       "      <td>B</td>\n",
       "      <td>23.0</td>\n",
       "      <td>9709303020</td>\n",
       "      <td>Mumbai</td>\n",
       "      <td>434</td>\n",
       "      <td>11506</td>\n",
       "      <td>2301.2</td>\n",
       "      <td>97093</td>\n",
       "      <td>2</td>\n",
       "    </tr>\n",
       "    <tr>\n",
       "      <th>2</th>\n",
       "      <td>C</td>\n",
       "      <td>22.0</td>\n",
       "      <td>9796840335</td>\n",
       "      <td>Bangalore</td>\n",
       "      <td>416</td>\n",
       "      <td>11506</td>\n",
       "      <td>2301.2</td>\n",
       "      <td>97968</td>\n",
       "      <td>3</td>\n",
       "    </tr>\n",
       "  </tbody>\n",
       "</table>\n",
       "</div>"
      ],
      "text/plain": [
       "  Name   age   mobile no       city  marks  salary  Unnamed: 6  Unnamed: 7  \\\n",
       "0    A  50.0  9900763290  Bangalore    285   10818      2163.6       99007   \n",
       "1    B  23.0  9709303020     Mumbai    434   11506      2301.2       97093   \n",
       "2    C  22.0  9796840335  Bangalore    416   11506      2301.2       97968   \n",
       "\n",
       "   customer_id  \n",
       "0            1  \n",
       "1            2  \n",
       "2            3  "
      ]
     },
     "execution_count": 66,
     "metadata": {},
     "output_type": "execute_result"
    }
   ],
   "source": [
    "table1"
   ]
  },
  {
   "cell_type": "code",
   "execution_count": 70,
   "id": "b756e0c0",
   "metadata": {},
   "outputs": [],
   "source": [
    "table2 = ad[['city','age']][4:7]"
   ]
  },
  {
   "cell_type": "code",
   "execution_count": 72,
   "id": "c62d72b1",
   "metadata": {},
   "outputs": [],
   "source": [
    "table2['customer_id'] = [2,4,3]"
   ]
  },
  {
   "cell_type": "code",
   "execution_count": 77,
   "id": "a2ef1b5d",
   "metadata": {},
   "outputs": [],
   "source": [
    "table1 = table1.drop(['Unnamed: 6','Unnamed: 7'],axis=1)"
   ]
  },
  {
   "cell_type": "code",
   "execution_count": 78,
   "id": "cb08054d",
   "metadata": {},
   "outputs": [
    {
     "data": {
      "text/html": [
       "<div>\n",
       "<style scoped>\n",
       "    .dataframe tbody tr th:only-of-type {\n",
       "        vertical-align: middle;\n",
       "    }\n",
       "\n",
       "    .dataframe tbody tr th {\n",
       "        vertical-align: top;\n",
       "    }\n",
       "\n",
       "    .dataframe thead th {\n",
       "        text-align: right;\n",
       "    }\n",
       "</style>\n",
       "<table border=\"1\" class=\"dataframe\">\n",
       "  <thead>\n",
       "    <tr style=\"text-align: right;\">\n",
       "      <th></th>\n",
       "      <th>Name</th>\n",
       "      <th>mobile no</th>\n",
       "      <th>marks</th>\n",
       "      <th>salary</th>\n",
       "      <th>customer_id</th>\n",
       "    </tr>\n",
       "  </thead>\n",
       "  <tbody>\n",
       "    <tr>\n",
       "      <th>0</th>\n",
       "      <td>A</td>\n",
       "      <td>9900763290</td>\n",
       "      <td>285</td>\n",
       "      <td>10818</td>\n",
       "      <td>1</td>\n",
       "    </tr>\n",
       "    <tr>\n",
       "      <th>1</th>\n",
       "      <td>B</td>\n",
       "      <td>9709303020</td>\n",
       "      <td>434</td>\n",
       "      <td>11506</td>\n",
       "      <td>2</td>\n",
       "    </tr>\n",
       "    <tr>\n",
       "      <th>2</th>\n",
       "      <td>C</td>\n",
       "      <td>9796840335</td>\n",
       "      <td>416</td>\n",
       "      <td>11506</td>\n",
       "      <td>3</td>\n",
       "    </tr>\n",
       "  </tbody>\n",
       "</table>\n",
       "</div>"
      ],
      "text/plain": [
       "  Name   mobile no  marks  salary  customer_id\n",
       "0    A  9900763290    285   10818            1\n",
       "1    B  9709303020    434   11506            2\n",
       "2    C  9796840335    416   11506            3"
      ]
     },
     "execution_count": 78,
     "metadata": {},
     "output_type": "execute_result"
    }
   ],
   "source": [
    "table1"
   ]
  },
  {
   "cell_type": "code",
   "execution_count": 79,
   "id": "83cd25f2",
   "metadata": {},
   "outputs": [
    {
     "data": {
      "text/html": [
       "<div>\n",
       "<style scoped>\n",
       "    .dataframe tbody tr th:only-of-type {\n",
       "        vertical-align: middle;\n",
       "    }\n",
       "\n",
       "    .dataframe tbody tr th {\n",
       "        vertical-align: top;\n",
       "    }\n",
       "\n",
       "    .dataframe thead th {\n",
       "        text-align: right;\n",
       "    }\n",
       "</style>\n",
       "<table border=\"1\" class=\"dataframe\">\n",
       "  <thead>\n",
       "    <tr style=\"text-align: right;\">\n",
       "      <th></th>\n",
       "      <th>city</th>\n",
       "      <th>age</th>\n",
       "      <th>customer_id</th>\n",
       "    </tr>\n",
       "  </thead>\n",
       "  <tbody>\n",
       "    <tr>\n",
       "      <th>4</th>\n",
       "      <td>Bangalore</td>\n",
       "      <td>33.0</td>\n",
       "      <td>2</td>\n",
       "    </tr>\n",
       "    <tr>\n",
       "      <th>5</th>\n",
       "      <td>chennai</td>\n",
       "      <td>37</td>\n",
       "      <td>4</td>\n",
       "    </tr>\n",
       "    <tr>\n",
       "      <th>6</th>\n",
       "      <td>hydrabad</td>\n",
       "      <td>37</td>\n",
       "      <td>3</td>\n",
       "    </tr>\n",
       "  </tbody>\n",
       "</table>\n",
       "</div>"
      ],
      "text/plain": [
       "        city   age  customer_id\n",
       "4  Bangalore  33.0            2\n",
       "5    chennai    37            4\n",
       "6   hydrabad    37            3"
      ]
     },
     "execution_count": 79,
     "metadata": {},
     "output_type": "execute_result"
    }
   ],
   "source": [
    "table2  - 3    , table1 - 3"
   ]
  },
  {
   "cell_type": "code",
   "execution_count": 81,
   "id": "54191ace",
   "metadata": {},
   "outputs": [],
   "source": [
    "# pkey - customer_id , skey - custoem_id\n",
    "\n",
    "left = pd.merge(table1,table2,how='left',left_on='customer_id',right_on='customer_id')\n"
   ]
  },
  {
   "cell_type": "code",
   "execution_count": 82,
   "id": "95f62a1f",
   "metadata": {},
   "outputs": [
    {
     "data": {
      "text/html": [
       "<div>\n",
       "<style scoped>\n",
       "    .dataframe tbody tr th:only-of-type {\n",
       "        vertical-align: middle;\n",
       "    }\n",
       "\n",
       "    .dataframe tbody tr th {\n",
       "        vertical-align: top;\n",
       "    }\n",
       "\n",
       "    .dataframe thead th {\n",
       "        text-align: right;\n",
       "    }\n",
       "</style>\n",
       "<table border=\"1\" class=\"dataframe\">\n",
       "  <thead>\n",
       "    <tr style=\"text-align: right;\">\n",
       "      <th></th>\n",
       "      <th>Name</th>\n",
       "      <th>mobile no</th>\n",
       "      <th>marks</th>\n",
       "      <th>salary</th>\n",
       "      <th>customer_id</th>\n",
       "      <th>city</th>\n",
       "      <th>age</th>\n",
       "    </tr>\n",
       "  </thead>\n",
       "  <tbody>\n",
       "    <tr>\n",
       "      <th>0</th>\n",
       "      <td>A</td>\n",
       "      <td>9900763290</td>\n",
       "      <td>285</td>\n",
       "      <td>10818</td>\n",
       "      <td>1</td>\n",
       "      <td>NaN</td>\n",
       "      <td>NaN</td>\n",
       "    </tr>\n",
       "    <tr>\n",
       "      <th>1</th>\n",
       "      <td>B</td>\n",
       "      <td>9709303020</td>\n",
       "      <td>434</td>\n",
       "      <td>11506</td>\n",
       "      <td>2</td>\n",
       "      <td>Bangalore</td>\n",
       "      <td>33.0</td>\n",
       "    </tr>\n",
       "    <tr>\n",
       "      <th>2</th>\n",
       "      <td>C</td>\n",
       "      <td>9796840335</td>\n",
       "      <td>416</td>\n",
       "      <td>11506</td>\n",
       "      <td>3</td>\n",
       "      <td>hydrabad</td>\n",
       "      <td>37</td>\n",
       "    </tr>\n",
       "  </tbody>\n",
       "</table>\n",
       "</div>"
      ],
      "text/plain": [
       "  Name   mobile no  marks  salary  customer_id       city   age\n",
       "0    A  9900763290    285   10818            1        NaN   NaN\n",
       "1    B  9709303020    434   11506            2  Bangalore  33.0\n",
       "2    C  9796840335    416   11506            3   hydrabad    37"
      ]
     },
     "execution_count": 82,
     "metadata": {},
     "output_type": "execute_result"
    }
   ],
   "source": [
    "left"
   ]
  },
  {
   "cell_type": "code",
   "execution_count": 83,
   "id": "51d39e70",
   "metadata": {},
   "outputs": [
    {
     "data": {
      "text/html": [
       "<div>\n",
       "<style scoped>\n",
       "    .dataframe tbody tr th:only-of-type {\n",
       "        vertical-align: middle;\n",
       "    }\n",
       "\n",
       "    .dataframe tbody tr th {\n",
       "        vertical-align: top;\n",
       "    }\n",
       "\n",
       "    .dataframe thead th {\n",
       "        text-align: right;\n",
       "    }\n",
       "</style>\n",
       "<table border=\"1\" class=\"dataframe\">\n",
       "  <thead>\n",
       "    <tr style=\"text-align: right;\">\n",
       "      <th></th>\n",
       "      <th>Name</th>\n",
       "      <th>mobile no</th>\n",
       "      <th>marks</th>\n",
       "      <th>salary</th>\n",
       "      <th>customer_id</th>\n",
       "    </tr>\n",
       "  </thead>\n",
       "  <tbody>\n",
       "    <tr>\n",
       "      <th>0</th>\n",
       "      <td>A</td>\n",
       "      <td>9900763290</td>\n",
       "      <td>285</td>\n",
       "      <td>10818</td>\n",
       "      <td>1</td>\n",
       "    </tr>\n",
       "    <tr>\n",
       "      <th>1</th>\n",
       "      <td>B</td>\n",
       "      <td>9709303020</td>\n",
       "      <td>434</td>\n",
       "      <td>11506</td>\n",
       "      <td>2</td>\n",
       "    </tr>\n",
       "    <tr>\n",
       "      <th>2</th>\n",
       "      <td>C</td>\n",
       "      <td>9796840335</td>\n",
       "      <td>416</td>\n",
       "      <td>11506</td>\n",
       "      <td>3</td>\n",
       "    </tr>\n",
       "  </tbody>\n",
       "</table>\n",
       "</div>"
      ],
      "text/plain": [
       "  Name   mobile no  marks  salary  customer_id\n",
       "0    A  9900763290    285   10818            1\n",
       "1    B  9709303020    434   11506            2\n",
       "2    C  9796840335    416   11506            3"
      ]
     },
     "execution_count": 83,
     "metadata": {},
     "output_type": "execute_result"
    }
   ],
   "source": [
    "table1 - 1,2,3"
   ]
  },
  {
   "cell_type": "code",
   "execution_count": 85,
   "id": "4120bc4e",
   "metadata": {},
   "outputs": [],
   "source": [
    "table2['dependend_id'] = table2['customer_id']"
   ]
  },
  {
   "cell_type": "code",
   "execution_count": 86,
   "id": "60b82a3b",
   "metadata": {},
   "outputs": [
    {
     "data": {
      "text/html": [
       "<div>\n",
       "<style scoped>\n",
       "    .dataframe tbody tr th:only-of-type {\n",
       "        vertical-align: middle;\n",
       "    }\n",
       "\n",
       "    .dataframe tbody tr th {\n",
       "        vertical-align: top;\n",
       "    }\n",
       "\n",
       "    .dataframe thead th {\n",
       "        text-align: right;\n",
       "    }\n",
       "</style>\n",
       "<table border=\"1\" class=\"dataframe\">\n",
       "  <thead>\n",
       "    <tr style=\"text-align: right;\">\n",
       "      <th></th>\n",
       "      <th>city</th>\n",
       "      <th>age</th>\n",
       "      <th>customer_id</th>\n",
       "      <th>dependend_id</th>\n",
       "    </tr>\n",
       "  </thead>\n",
       "  <tbody>\n",
       "    <tr>\n",
       "      <th>4</th>\n",
       "      <td>Bangalore</td>\n",
       "      <td>33.0</td>\n",
       "      <td>2</td>\n",
       "      <td>2</td>\n",
       "    </tr>\n",
       "    <tr>\n",
       "      <th>5</th>\n",
       "      <td>chennai</td>\n",
       "      <td>37</td>\n",
       "      <td>4</td>\n",
       "      <td>4</td>\n",
       "    </tr>\n",
       "    <tr>\n",
       "      <th>6</th>\n",
       "      <td>hydrabad</td>\n",
       "      <td>37</td>\n",
       "      <td>3</td>\n",
       "      <td>3</td>\n",
       "    </tr>\n",
       "  </tbody>\n",
       "</table>\n",
       "</div>"
      ],
      "text/plain": [
       "        city   age  customer_id  dependend_id\n",
       "4  Bangalore  33.0            2             2\n",
       "5    chennai    37            4             4\n",
       "6   hydrabad    37            3             3"
      ]
     },
     "execution_count": 86,
     "metadata": {},
     "output_type": "execute_result"
    }
   ],
   "source": [
    "table2"
   ]
  },
  {
   "cell_type": "code",
   "execution_count": 89,
   "id": "6e7d9d8e",
   "metadata": {},
   "outputs": [],
   "source": [
    "\n",
    "right = pd.merge(table1,table2,how='right',left_on='customer_id',right_on='customer_id')"
   ]
  },
  {
   "cell_type": "code",
   "execution_count": 90,
   "id": "767c1b2c",
   "metadata": {},
   "outputs": [
    {
     "data": {
      "text/html": [
       "<div>\n",
       "<style scoped>\n",
       "    .dataframe tbody tr th:only-of-type {\n",
       "        vertical-align: middle;\n",
       "    }\n",
       "\n",
       "    .dataframe tbody tr th {\n",
       "        vertical-align: top;\n",
       "    }\n",
       "\n",
       "    .dataframe thead th {\n",
       "        text-align: right;\n",
       "    }\n",
       "</style>\n",
       "<table border=\"1\" class=\"dataframe\">\n",
       "  <thead>\n",
       "    <tr style=\"text-align: right;\">\n",
       "      <th></th>\n",
       "      <th>Name</th>\n",
       "      <th>mobile no</th>\n",
       "      <th>marks</th>\n",
       "      <th>salary</th>\n",
       "      <th>customer_id</th>\n",
       "      <th>city</th>\n",
       "      <th>age</th>\n",
       "      <th>dependend_id</th>\n",
       "    </tr>\n",
       "  </thead>\n",
       "  <tbody>\n",
       "    <tr>\n",
       "      <th>0</th>\n",
       "      <td>B</td>\n",
       "      <td>9.709303e+09</td>\n",
       "      <td>434.0</td>\n",
       "      <td>11506.0</td>\n",
       "      <td>2</td>\n",
       "      <td>Bangalore</td>\n",
       "      <td>33.0</td>\n",
       "      <td>2</td>\n",
       "    </tr>\n",
       "    <tr>\n",
       "      <th>1</th>\n",
       "      <td>NaN</td>\n",
       "      <td>NaN</td>\n",
       "      <td>NaN</td>\n",
       "      <td>NaN</td>\n",
       "      <td>4</td>\n",
       "      <td>chennai</td>\n",
       "      <td>37</td>\n",
       "      <td>4</td>\n",
       "    </tr>\n",
       "    <tr>\n",
       "      <th>2</th>\n",
       "      <td>C</td>\n",
       "      <td>9.796840e+09</td>\n",
       "      <td>416.0</td>\n",
       "      <td>11506.0</td>\n",
       "      <td>3</td>\n",
       "      <td>hydrabad</td>\n",
       "      <td>37</td>\n",
       "      <td>3</td>\n",
       "    </tr>\n",
       "  </tbody>\n",
       "</table>\n",
       "</div>"
      ],
      "text/plain": [
       "  Name     mobile no  marks   salary  customer_id       city   age  \\\n",
       "0    B  9.709303e+09  434.0  11506.0            2  Bangalore  33.0   \n",
       "1  NaN           NaN    NaN      NaN            4    chennai    37   \n",
       "2    C  9.796840e+09  416.0  11506.0            3   hydrabad    37   \n",
       "\n",
       "   dependend_id  \n",
       "0             2  \n",
       "1             4  \n",
       "2             3  "
      ]
     },
     "execution_count": 90,
     "metadata": {},
     "output_type": "execute_result"
    }
   ],
   "source": [
    "right"
   ]
  },
  {
   "cell_type": "code",
   "execution_count": 91,
   "id": "cafc588c",
   "metadata": {},
   "outputs": [],
   "source": [
    "\n",
    "inner = pd.merge(table1,table2,how='inner',left_on='customer_id',right_on='customer_id')"
   ]
  },
  {
   "cell_type": "code",
   "execution_count": 92,
   "id": "0cecb4fd",
   "metadata": {},
   "outputs": [
    {
     "data": {
      "text/html": [
       "<div>\n",
       "<style scoped>\n",
       "    .dataframe tbody tr th:only-of-type {\n",
       "        vertical-align: middle;\n",
       "    }\n",
       "\n",
       "    .dataframe tbody tr th {\n",
       "        vertical-align: top;\n",
       "    }\n",
       "\n",
       "    .dataframe thead th {\n",
       "        text-align: right;\n",
       "    }\n",
       "</style>\n",
       "<table border=\"1\" class=\"dataframe\">\n",
       "  <thead>\n",
       "    <tr style=\"text-align: right;\">\n",
       "      <th></th>\n",
       "      <th>Name</th>\n",
       "      <th>mobile no</th>\n",
       "      <th>marks</th>\n",
       "      <th>salary</th>\n",
       "      <th>customer_id</th>\n",
       "      <th>city</th>\n",
       "      <th>age</th>\n",
       "      <th>dependend_id</th>\n",
       "    </tr>\n",
       "  </thead>\n",
       "  <tbody>\n",
       "    <tr>\n",
       "      <th>0</th>\n",
       "      <td>B</td>\n",
       "      <td>9709303020</td>\n",
       "      <td>434</td>\n",
       "      <td>11506</td>\n",
       "      <td>2</td>\n",
       "      <td>Bangalore</td>\n",
       "      <td>33.0</td>\n",
       "      <td>2</td>\n",
       "    </tr>\n",
       "    <tr>\n",
       "      <th>1</th>\n",
       "      <td>C</td>\n",
       "      <td>9796840335</td>\n",
       "      <td>416</td>\n",
       "      <td>11506</td>\n",
       "      <td>3</td>\n",
       "      <td>hydrabad</td>\n",
       "      <td>37</td>\n",
       "      <td>3</td>\n",
       "    </tr>\n",
       "  </tbody>\n",
       "</table>\n",
       "</div>"
      ],
      "text/plain": [
       "  Name   mobile no  marks  salary  customer_id       city   age  dependend_id\n",
       "0    B  9709303020    434   11506            2  Bangalore  33.0             2\n",
       "1    C  9796840335    416   11506            3   hydrabad    37             3"
      ]
     },
     "execution_count": 92,
     "metadata": {},
     "output_type": "execute_result"
    }
   ],
   "source": [
    "inner"
   ]
  },
  {
   "cell_type": "code",
   "execution_count": 93,
   "id": "5e95ba3b",
   "metadata": {},
   "outputs": [],
   "source": [
    "outer = pd.merge(table1,table2,how='outer',left_on=['customer_id','city'],right_on=['customer_id','city]')"
   ]
  },
  {
   "cell_type": "code",
   "execution_count": 94,
   "id": "ffc790c4",
   "metadata": {},
   "outputs": [
    {
     "data": {
      "text/html": [
       "<div>\n",
       "<style scoped>\n",
       "    .dataframe tbody tr th:only-of-type {\n",
       "        vertical-align: middle;\n",
       "    }\n",
       "\n",
       "    .dataframe tbody tr th {\n",
       "        vertical-align: top;\n",
       "    }\n",
       "\n",
       "    .dataframe thead th {\n",
       "        text-align: right;\n",
       "    }\n",
       "</style>\n",
       "<table border=\"1\" class=\"dataframe\">\n",
       "  <thead>\n",
       "    <tr style=\"text-align: right;\">\n",
       "      <th></th>\n",
       "      <th>Name</th>\n",
       "      <th>mobile no</th>\n",
       "      <th>marks</th>\n",
       "      <th>salary</th>\n",
       "      <th>customer_id</th>\n",
       "      <th>city</th>\n",
       "      <th>age</th>\n",
       "      <th>dependend_id</th>\n",
       "    </tr>\n",
       "  </thead>\n",
       "  <tbody>\n",
       "    <tr>\n",
       "      <th>0</th>\n",
       "      <td>A</td>\n",
       "      <td>9.900763e+09</td>\n",
       "      <td>285.0</td>\n",
       "      <td>10818.0</td>\n",
       "      <td>1</td>\n",
       "      <td>NaN</td>\n",
       "      <td>NaN</td>\n",
       "      <td>NaN</td>\n",
       "    </tr>\n",
       "    <tr>\n",
       "      <th>1</th>\n",
       "      <td>B</td>\n",
       "      <td>9.709303e+09</td>\n",
       "      <td>434.0</td>\n",
       "      <td>11506.0</td>\n",
       "      <td>2</td>\n",
       "      <td>Bangalore</td>\n",
       "      <td>33.0</td>\n",
       "      <td>2.0</td>\n",
       "    </tr>\n",
       "    <tr>\n",
       "      <th>2</th>\n",
       "      <td>C</td>\n",
       "      <td>9.796840e+09</td>\n",
       "      <td>416.0</td>\n",
       "      <td>11506.0</td>\n",
       "      <td>3</td>\n",
       "      <td>hydrabad</td>\n",
       "      <td>37</td>\n",
       "      <td>3.0</td>\n",
       "    </tr>\n",
       "    <tr>\n",
       "      <th>3</th>\n",
       "      <td>NaN</td>\n",
       "      <td>NaN</td>\n",
       "      <td>NaN</td>\n",
       "      <td>NaN</td>\n",
       "      <td>4</td>\n",
       "      <td>chennai</td>\n",
       "      <td>37</td>\n",
       "      <td>4.0</td>\n",
       "    </tr>\n",
       "  </tbody>\n",
       "</table>\n",
       "</div>"
      ],
      "text/plain": [
       "  Name     mobile no  marks   salary  customer_id       city   age  \\\n",
       "0    A  9.900763e+09  285.0  10818.0            1        NaN   NaN   \n",
       "1    B  9.709303e+09  434.0  11506.0            2  Bangalore  33.0   \n",
       "2    C  9.796840e+09  416.0  11506.0            3   hydrabad    37   \n",
       "3  NaN           NaN    NaN      NaN            4    chennai    37   \n",
       "\n",
       "   dependend_id  \n",
       "0           NaN  \n",
       "1           2.0  \n",
       "2           3.0  \n",
       "3           4.0  "
      ]
     },
     "execution_count": 94,
     "metadata": {},
     "output_type": "execute_result"
    }
   ],
   "source": [
    "outer"
   ]
  },
  {
   "cell_type": "code",
   "execution_count": 97,
   "id": "884c76eb",
   "metadata": {},
   "outputs": [],
   "source": [
    "d1 = ad[0:3]\n",
    "d2 = ad[4:7]"
   ]
  },
  {
   "cell_type": "code",
   "execution_count": 98,
   "id": "378e72a9",
   "metadata": {},
   "outputs": [
    {
     "data": {
      "text/html": [
       "<div>\n",
       "<style scoped>\n",
       "    .dataframe tbody tr th:only-of-type {\n",
       "        vertical-align: middle;\n",
       "    }\n",
       "\n",
       "    .dataframe tbody tr th {\n",
       "        vertical-align: top;\n",
       "    }\n",
       "\n",
       "    .dataframe thead th {\n",
       "        text-align: right;\n",
       "    }\n",
       "</style>\n",
       "<table border=\"1\" class=\"dataframe\">\n",
       "  <thead>\n",
       "    <tr style=\"text-align: right;\">\n",
       "      <th></th>\n",
       "      <th>Name</th>\n",
       "      <th>age</th>\n",
       "      <th>mobile no</th>\n",
       "      <th>city</th>\n",
       "      <th>marks</th>\n",
       "      <th>salary</th>\n",
       "      <th>Unnamed: 6</th>\n",
       "      <th>Unnamed: 7</th>\n",
       "    </tr>\n",
       "  </thead>\n",
       "  <tbody>\n",
       "    <tr>\n",
       "      <th>0</th>\n",
       "      <td>A</td>\n",
       "      <td>50.0</td>\n",
       "      <td>9900763290</td>\n",
       "      <td>Bangalore</td>\n",
       "      <td>285</td>\n",
       "      <td>10818</td>\n",
       "      <td>2163.6</td>\n",
       "      <td>99007</td>\n",
       "    </tr>\n",
       "    <tr>\n",
       "      <th>1</th>\n",
       "      <td>B</td>\n",
       "      <td>23.0</td>\n",
       "      <td>9709303020</td>\n",
       "      <td>Mumbai</td>\n",
       "      <td>434</td>\n",
       "      <td>11506</td>\n",
       "      <td>2301.2</td>\n",
       "      <td>97093</td>\n",
       "    </tr>\n",
       "    <tr>\n",
       "      <th>2</th>\n",
       "      <td>C</td>\n",
       "      <td>22.0</td>\n",
       "      <td>9796840335</td>\n",
       "      <td>Bangalore</td>\n",
       "      <td>416</td>\n",
       "      <td>11506</td>\n",
       "      <td>2301.2</td>\n",
       "      <td>97968</td>\n",
       "    </tr>\n",
       "  </tbody>\n",
       "</table>\n",
       "</div>"
      ],
      "text/plain": [
       "  Name   age   mobile no       city  marks  salary  Unnamed: 6  Unnamed: 7\n",
       "0    A  50.0  9900763290  Bangalore    285   10818      2163.6       99007\n",
       "1    B  23.0  9709303020     Mumbai    434   11506      2301.2       97093\n",
       "2    C  22.0  9796840335  Bangalore    416   11506      2301.2       97968"
      ]
     },
     "execution_count": 98,
     "metadata": {},
     "output_type": "execute_result"
    }
   ],
   "source": [
    "d1"
   ]
  },
  {
   "cell_type": "code",
   "execution_count": 99,
   "id": "9dd2526a",
   "metadata": {},
   "outputs": [
    {
     "data": {
      "text/html": [
       "<div>\n",
       "<style scoped>\n",
       "    .dataframe tbody tr th:only-of-type {\n",
       "        vertical-align: middle;\n",
       "    }\n",
       "\n",
       "    .dataframe tbody tr th {\n",
       "        vertical-align: top;\n",
       "    }\n",
       "\n",
       "    .dataframe thead th {\n",
       "        text-align: right;\n",
       "    }\n",
       "</style>\n",
       "<table border=\"1\" class=\"dataframe\">\n",
       "  <thead>\n",
       "    <tr style=\"text-align: right;\">\n",
       "      <th></th>\n",
       "      <th>Name</th>\n",
       "      <th>age</th>\n",
       "      <th>mobile no</th>\n",
       "      <th>city</th>\n",
       "      <th>marks</th>\n",
       "      <th>salary</th>\n",
       "      <th>Unnamed: 6</th>\n",
       "      <th>Unnamed: 7</th>\n",
       "    </tr>\n",
       "  </thead>\n",
       "  <tbody>\n",
       "    <tr>\n",
       "      <th>4</th>\n",
       "      <td>E</td>\n",
       "      <td>33.0</td>\n",
       "      <td>9840448035</td>\n",
       "      <td>Bangalore</td>\n",
       "      <td>117</td>\n",
       "      <td>11506</td>\n",
       "      <td>2301.2</td>\n",
       "      <td>98404</td>\n",
       "    </tr>\n",
       "    <tr>\n",
       "      <th>5</th>\n",
       "      <td>F</td>\n",
       "      <td>37</td>\n",
       "      <td>9626621256</td>\n",
       "      <td>chennai</td>\n",
       "      <td>326</td>\n",
       "      <td>18206</td>\n",
       "      <td>3641.2</td>\n",
       "      <td>96266</td>\n",
       "    </tr>\n",
       "    <tr>\n",
       "      <th>6</th>\n",
       "      <td>G</td>\n",
       "      <td>37</td>\n",
       "      <td>9775317986</td>\n",
       "      <td>hydrabad</td>\n",
       "      <td>326</td>\n",
       "      <td>13755</td>\n",
       "      <td>2751.0</td>\n",
       "      <td>97753</td>\n",
       "    </tr>\n",
       "  </tbody>\n",
       "</table>\n",
       "</div>"
      ],
      "text/plain": [
       "  Name   age   mobile no       city  marks  salary  Unnamed: 6  Unnamed: 7\n",
       "4    E  33.0  9840448035  Bangalore    117   11506      2301.2       98404\n",
       "5    F    37  9626621256    chennai    326   18206      3641.2       96266\n",
       "6    G    37  9775317986   hydrabad    326   13755      2751.0       97753"
      ]
     },
     "execution_count": 99,
     "metadata": {},
     "output_type": "execute_result"
    }
   ],
   "source": [
    "d2"
   ]
  },
  {
   "cell_type": "code",
   "execution_count": 100,
   "id": "b3f522d5",
   "metadata": {},
   "outputs": [],
   "source": [
    "# ROW WISE - APPEND ,CONCAT\n",
    "\n",
    "result = pd.concat([d1,d2])"
   ]
  },
  {
   "cell_type": "code",
   "execution_count": 101,
   "id": "40deac43",
   "metadata": {},
   "outputs": [
    {
     "data": {
      "text/html": [
       "<div>\n",
       "<style scoped>\n",
       "    .dataframe tbody tr th:only-of-type {\n",
       "        vertical-align: middle;\n",
       "    }\n",
       "\n",
       "    .dataframe tbody tr th {\n",
       "        vertical-align: top;\n",
       "    }\n",
       "\n",
       "    .dataframe thead th {\n",
       "        text-align: right;\n",
       "    }\n",
       "</style>\n",
       "<table border=\"1\" class=\"dataframe\">\n",
       "  <thead>\n",
       "    <tr style=\"text-align: right;\">\n",
       "      <th></th>\n",
       "      <th>Name</th>\n",
       "      <th>age</th>\n",
       "      <th>mobile no</th>\n",
       "      <th>city</th>\n",
       "      <th>marks</th>\n",
       "      <th>salary</th>\n",
       "      <th>Unnamed: 6</th>\n",
       "      <th>Unnamed: 7</th>\n",
       "    </tr>\n",
       "  </thead>\n",
       "  <tbody>\n",
       "    <tr>\n",
       "      <th>0</th>\n",
       "      <td>A</td>\n",
       "      <td>50.0</td>\n",
       "      <td>9900763290</td>\n",
       "      <td>Bangalore</td>\n",
       "      <td>285</td>\n",
       "      <td>10818</td>\n",
       "      <td>2163.6</td>\n",
       "      <td>99007</td>\n",
       "    </tr>\n",
       "    <tr>\n",
       "      <th>1</th>\n",
       "      <td>B</td>\n",
       "      <td>23.0</td>\n",
       "      <td>9709303020</td>\n",
       "      <td>Mumbai</td>\n",
       "      <td>434</td>\n",
       "      <td>11506</td>\n",
       "      <td>2301.2</td>\n",
       "      <td>97093</td>\n",
       "    </tr>\n",
       "    <tr>\n",
       "      <th>2</th>\n",
       "      <td>C</td>\n",
       "      <td>22.0</td>\n",
       "      <td>9796840335</td>\n",
       "      <td>Bangalore</td>\n",
       "      <td>416</td>\n",
       "      <td>11506</td>\n",
       "      <td>2301.2</td>\n",
       "      <td>97968</td>\n",
       "    </tr>\n",
       "    <tr>\n",
       "      <th>4</th>\n",
       "      <td>E</td>\n",
       "      <td>33.0</td>\n",
       "      <td>9840448035</td>\n",
       "      <td>Bangalore</td>\n",
       "      <td>117</td>\n",
       "      <td>11506</td>\n",
       "      <td>2301.2</td>\n",
       "      <td>98404</td>\n",
       "    </tr>\n",
       "    <tr>\n",
       "      <th>5</th>\n",
       "      <td>F</td>\n",
       "      <td>37</td>\n",
       "      <td>9626621256</td>\n",
       "      <td>chennai</td>\n",
       "      <td>326</td>\n",
       "      <td>18206</td>\n",
       "      <td>3641.2</td>\n",
       "      <td>96266</td>\n",
       "    </tr>\n",
       "    <tr>\n",
       "      <th>6</th>\n",
       "      <td>G</td>\n",
       "      <td>37</td>\n",
       "      <td>9775317986</td>\n",
       "      <td>hydrabad</td>\n",
       "      <td>326</td>\n",
       "      <td>13755</td>\n",
       "      <td>2751.0</td>\n",
       "      <td>97753</td>\n",
       "    </tr>\n",
       "  </tbody>\n",
       "</table>\n",
       "</div>"
      ],
      "text/plain": [
       "  Name   age   mobile no       city  marks  salary  Unnamed: 6  Unnamed: 7\n",
       "0    A  50.0  9900763290  Bangalore    285   10818      2163.6       99007\n",
       "1    B  23.0  9709303020     Mumbai    434   11506      2301.2       97093\n",
       "2    C  22.0  9796840335  Bangalore    416   11506      2301.2       97968\n",
       "4    E  33.0  9840448035  Bangalore    117   11506      2301.2       98404\n",
       "5    F    37  9626621256    chennai    326   18206      3641.2       96266\n",
       "6    G    37  9775317986   hydrabad    326   13755      2751.0       97753"
      ]
     },
     "execution_count": 101,
     "metadata": {},
     "output_type": "execute_result"
    }
   ],
   "source": [
    "result"
   ]
  },
  {
   "cell_type": "code",
   "execution_count": 102,
   "id": "8e93b58c",
   "metadata": {},
   "outputs": [
    {
     "data": {
      "text/html": [
       "<div>\n",
       "<style scoped>\n",
       "    .dataframe tbody tr th:only-of-type {\n",
       "        vertical-align: middle;\n",
       "    }\n",
       "\n",
       "    .dataframe tbody tr th {\n",
       "        vertical-align: top;\n",
       "    }\n",
       "\n",
       "    .dataframe thead th {\n",
       "        text-align: right;\n",
       "    }\n",
       "</style>\n",
       "<table border=\"1\" class=\"dataframe\">\n",
       "  <thead>\n",
       "    <tr style=\"text-align: right;\">\n",
       "      <th></th>\n",
       "      <th>Name</th>\n",
       "      <th>age</th>\n",
       "      <th>mobile no</th>\n",
       "      <th>city</th>\n",
       "      <th>marks</th>\n",
       "      <th>salary</th>\n",
       "      <th>Unnamed: 6</th>\n",
       "      <th>Unnamed: 7</th>\n",
       "    </tr>\n",
       "  </thead>\n",
       "  <tbody>\n",
       "    <tr>\n",
       "      <th>0</th>\n",
       "      <td>A</td>\n",
       "      <td>50.0</td>\n",
       "      <td>9900763290</td>\n",
       "      <td>Bangalore</td>\n",
       "      <td>285</td>\n",
       "      <td>10818</td>\n",
       "      <td>2163.6</td>\n",
       "      <td>99007</td>\n",
       "    </tr>\n",
       "    <tr>\n",
       "      <th>1</th>\n",
       "      <td>B</td>\n",
       "      <td>23.0</td>\n",
       "      <td>9709303020</td>\n",
       "      <td>Mumbai</td>\n",
       "      <td>434</td>\n",
       "      <td>11506</td>\n",
       "      <td>2301.2</td>\n",
       "      <td>97093</td>\n",
       "    </tr>\n",
       "    <tr>\n",
       "      <th>2</th>\n",
       "      <td>C</td>\n",
       "      <td>22.0</td>\n",
       "      <td>9796840335</td>\n",
       "      <td>Bangalore</td>\n",
       "      <td>416</td>\n",
       "      <td>11506</td>\n",
       "      <td>2301.2</td>\n",
       "      <td>97968</td>\n",
       "    </tr>\n",
       "  </tbody>\n",
       "</table>\n",
       "</div>"
      ],
      "text/plain": [
       "  Name   age   mobile no       city  marks  salary  Unnamed: 6  Unnamed: 7\n",
       "0    A  50.0  9900763290  Bangalore    285   10818      2163.6       99007\n",
       "1    B  23.0  9709303020     Mumbai    434   11506      2301.2       97093\n",
       "2    C  22.0  9796840335  Bangalore    416   11506      2301.2       97968"
      ]
     },
     "execution_count": 102,
     "metadata": {},
     "output_type": "execute_result"
    }
   ],
   "source": [
    "d1"
   ]
  },
  {
   "cell_type": "code",
   "execution_count": 105,
   "id": "93104493",
   "metadata": {},
   "outputs": [
    {
     "name": "stderr",
     "output_type": "stream",
     "text": [
      "C:\\Users\\Admin\\AppData\\Local\\Temp\\ipykernel_15796\\2968613278.py:1: FutureWarning: The frame.append method is deprecated and will be removed from pandas in a future version. Use pandas.concat instead.\n",
      "  d1.append(d1[0:1])\n"
     ]
    },
    {
     "data": {
      "text/html": [
       "<div>\n",
       "<style scoped>\n",
       "    .dataframe tbody tr th:only-of-type {\n",
       "        vertical-align: middle;\n",
       "    }\n",
       "\n",
       "    .dataframe tbody tr th {\n",
       "        vertical-align: top;\n",
       "    }\n",
       "\n",
       "    .dataframe thead th {\n",
       "        text-align: right;\n",
       "    }\n",
       "</style>\n",
       "<table border=\"1\" class=\"dataframe\">\n",
       "  <thead>\n",
       "    <tr style=\"text-align: right;\">\n",
       "      <th></th>\n",
       "      <th>Name</th>\n",
       "      <th>age</th>\n",
       "      <th>mobile no</th>\n",
       "      <th>city</th>\n",
       "      <th>marks</th>\n",
       "      <th>salary</th>\n",
       "      <th>Unnamed: 6</th>\n",
       "      <th>Unnamed: 7</th>\n",
       "    </tr>\n",
       "  </thead>\n",
       "  <tbody>\n",
       "    <tr>\n",
       "      <th>0</th>\n",
       "      <td>A</td>\n",
       "      <td>50.0</td>\n",
       "      <td>9900763290</td>\n",
       "      <td>Bangalore</td>\n",
       "      <td>285</td>\n",
       "      <td>10818</td>\n",
       "      <td>2163.6</td>\n",
       "      <td>99007</td>\n",
       "    </tr>\n",
       "    <tr>\n",
       "      <th>1</th>\n",
       "      <td>B</td>\n",
       "      <td>23.0</td>\n",
       "      <td>9709303020</td>\n",
       "      <td>Mumbai</td>\n",
       "      <td>434</td>\n",
       "      <td>11506</td>\n",
       "      <td>2301.2</td>\n",
       "      <td>97093</td>\n",
       "    </tr>\n",
       "    <tr>\n",
       "      <th>2</th>\n",
       "      <td>C</td>\n",
       "      <td>22.0</td>\n",
       "      <td>9796840335</td>\n",
       "      <td>Bangalore</td>\n",
       "      <td>416</td>\n",
       "      <td>11506</td>\n",
       "      <td>2301.2</td>\n",
       "      <td>97968</td>\n",
       "    </tr>\n",
       "    <tr>\n",
       "      <th>0</th>\n",
       "      <td>A</td>\n",
       "      <td>50.0</td>\n",
       "      <td>9900763290</td>\n",
       "      <td>Bangalore</td>\n",
       "      <td>285</td>\n",
       "      <td>10818</td>\n",
       "      <td>2163.6</td>\n",
       "      <td>99007</td>\n",
       "    </tr>\n",
       "  </tbody>\n",
       "</table>\n",
       "</div>"
      ],
      "text/plain": [
       "  Name   age   mobile no       city  marks  salary  Unnamed: 6  Unnamed: 7\n",
       "0    A  50.0  9900763290  Bangalore    285   10818      2163.6       99007\n",
       "1    B  23.0  9709303020     Mumbai    434   11506      2301.2       97093\n",
       "2    C  22.0  9796840335  Bangalore    416   11506      2301.2       97968\n",
       "0    A  50.0  9900763290  Bangalore    285   10818      2163.6       99007"
      ]
     },
     "execution_count": 105,
     "metadata": {},
     "output_type": "execute_result"
    }
   ],
   "source": [
    "d1.append(d1[0:1])"
   ]
  },
  {
   "cell_type": "code",
   "execution_count": 107,
   "id": "97b64ef7",
   "metadata": {},
   "outputs": [
    {
     "data": {
      "text/html": [
       "<div>\n",
       "<style scoped>\n",
       "    .dataframe tbody tr th:only-of-type {\n",
       "        vertical-align: middle;\n",
       "    }\n",
       "\n",
       "    .dataframe tbody tr th {\n",
       "        vertical-align: top;\n",
       "    }\n",
       "\n",
       "    .dataframe thead th {\n",
       "        text-align: right;\n",
       "    }\n",
       "</style>\n",
       "<table border=\"1\" class=\"dataframe\">\n",
       "  <thead>\n",
       "    <tr style=\"text-align: right;\">\n",
       "      <th></th>\n",
       "      <th>Name</th>\n",
       "      <th>age</th>\n",
       "      <th>mobile no</th>\n",
       "      <th>city</th>\n",
       "      <th>marks</th>\n",
       "      <th>salary</th>\n",
       "      <th>Unnamed: 6</th>\n",
       "      <th>Unnamed: 7</th>\n",
       "    </tr>\n",
       "  </thead>\n",
       "  <tbody>\n",
       "    <tr>\n",
       "      <th>0</th>\n",
       "      <td>A</td>\n",
       "      <td>50.0</td>\n",
       "      <td>9900763290</td>\n",
       "      <td>Bangalore</td>\n",
       "      <td>285</td>\n",
       "      <td>10818</td>\n",
       "      <td>2163.6</td>\n",
       "      <td>99007</td>\n",
       "    </tr>\n",
       "    <tr>\n",
       "      <th>1</th>\n",
       "      <td>B</td>\n",
       "      <td>23.0</td>\n",
       "      <td>9709303020</td>\n",
       "      <td>Mumbai</td>\n",
       "      <td>434</td>\n",
       "      <td>11506</td>\n",
       "      <td>2301.2</td>\n",
       "      <td>97093</td>\n",
       "    </tr>\n",
       "    <tr>\n",
       "      <th>2</th>\n",
       "      <td>C</td>\n",
       "      <td>22.0</td>\n",
       "      <td>9796840335</td>\n",
       "      <td>Bangalore</td>\n",
       "      <td>416</td>\n",
       "      <td>11506</td>\n",
       "      <td>2301.2</td>\n",
       "      <td>97968</td>\n",
       "    </tr>\n",
       "  </tbody>\n",
       "</table>\n",
       "</div>"
      ],
      "text/plain": [
       "  Name   age   mobile no       city  marks  salary  Unnamed: 6  Unnamed: 7\n",
       "0    A  50.0  9900763290  Bangalore    285   10818      2163.6       99007\n",
       "1    B  23.0  9709303020     Mumbai    434   11506      2301.2       97093\n",
       "2    C  22.0  9796840335  Bangalore    416   11506      2301.2       97968"
      ]
     },
     "execution_count": 107,
     "metadata": {},
     "output_type": "execute_result"
    }
   ],
   "source": [
    "d1"
   ]
  },
  {
   "cell_type": "code",
   "execution_count": 109,
   "id": "ae614b94",
   "metadata": {},
   "outputs": [
    {
     "data": {
      "text/html": [
       "<div>\n",
       "<style scoped>\n",
       "    .dataframe tbody tr th:only-of-type {\n",
       "        vertical-align: middle;\n",
       "    }\n",
       "\n",
       "    .dataframe tbody tr th {\n",
       "        vertical-align: top;\n",
       "    }\n",
       "\n",
       "    .dataframe thead th {\n",
       "        text-align: right;\n",
       "    }\n",
       "</style>\n",
       "<table border=\"1\" class=\"dataframe\">\n",
       "  <thead>\n",
       "    <tr style=\"text-align: right;\">\n",
       "      <th></th>\n",
       "      <th>Name</th>\n",
       "      <th>age</th>\n",
       "      <th>mobile no</th>\n",
       "      <th>city</th>\n",
       "      <th>marks</th>\n",
       "      <th>salary</th>\n",
       "      <th>Unnamed: 6</th>\n",
       "      <th>Unnamed: 7</th>\n",
       "    </tr>\n",
       "  </thead>\n",
       "  <tbody>\n",
       "    <tr>\n",
       "      <th>0</th>\n",
       "      <td>A</td>\n",
       "      <td>50.0</td>\n",
       "      <td>9900763290</td>\n",
       "      <td>Bangalore</td>\n",
       "      <td>285</td>\n",
       "      <td>10818</td>\n",
       "      <td>2163.6</td>\n",
       "      <td>99007</td>\n",
       "    </tr>\n",
       "    <tr>\n",
       "      <th>2</th>\n",
       "      <td>C</td>\n",
       "      <td>22.0</td>\n",
       "      <td>9796840335</td>\n",
       "      <td>Bangalore</td>\n",
       "      <td>416</td>\n",
       "      <td>11506</td>\n",
       "      <td>2301.2</td>\n",
       "      <td>97968</td>\n",
       "    </tr>\n",
       "  </tbody>\n",
       "</table>\n",
       "</div>"
      ],
      "text/plain": [
       "  Name   age   mobile no       city  marks  salary  Unnamed: 6  Unnamed: 7\n",
       "0    A  50.0  9900763290  Bangalore    285   10818      2163.6       99007\n",
       "2    C  22.0  9796840335  Bangalore    416   11506      2301.2       97968"
      ]
     },
     "execution_count": 109,
     "metadata": {},
     "output_type": "execute_result"
    }
   ],
   "source": [
    "d1[ d1['city'] != 'Mumbai' ]"
   ]
  },
  {
   "cell_type": "code",
   "execution_count": 111,
   "id": "3b2cabf0",
   "metadata": {},
   "outputs": [
    {
     "data": {
      "text/html": [
       "<div>\n",
       "<style scoped>\n",
       "    .dataframe tbody tr th:only-of-type {\n",
       "        vertical-align: middle;\n",
       "    }\n",
       "\n",
       "    .dataframe tbody tr th {\n",
       "        vertical-align: top;\n",
       "    }\n",
       "\n",
       "    .dataframe thead th {\n",
       "        text-align: right;\n",
       "    }\n",
       "</style>\n",
       "<table border=\"1\" class=\"dataframe\">\n",
       "  <thead>\n",
       "    <tr style=\"text-align: right;\">\n",
       "      <th></th>\n",
       "      <th>Name</th>\n",
       "      <th>age</th>\n",
       "      <th>mobile no</th>\n",
       "      <th>city</th>\n",
       "      <th>marks</th>\n",
       "      <th>salary</th>\n",
       "      <th>Unnamed: 6</th>\n",
       "      <th>Unnamed: 7</th>\n",
       "    </tr>\n",
       "  </thead>\n",
       "  <tbody>\n",
       "    <tr>\n",
       "      <th>0</th>\n",
       "      <td>A</td>\n",
       "      <td>50.0</td>\n",
       "      <td>9900763290</td>\n",
       "      <td>Bangalore</td>\n",
       "      <td>285</td>\n",
       "      <td>10818</td>\n",
       "      <td>2163.6</td>\n",
       "      <td>99007</td>\n",
       "    </tr>\n",
       "    <tr>\n",
       "      <th>1</th>\n",
       "      <td>B</td>\n",
       "      <td>23.0</td>\n",
       "      <td>9709303020</td>\n",
       "      <td>Mumbai</td>\n",
       "      <td>434</td>\n",
       "      <td>11506</td>\n",
       "      <td>2301.2</td>\n",
       "      <td>97093</td>\n",
       "    </tr>\n",
       "    <tr>\n",
       "      <th>2</th>\n",
       "      <td>C</td>\n",
       "      <td>22.0</td>\n",
       "      <td>9796840335</td>\n",
       "      <td>Bangalore</td>\n",
       "      <td>416</td>\n",
       "      <td>11506</td>\n",
       "      <td>2301.2</td>\n",
       "      <td>97968</td>\n",
       "    </tr>\n",
       "    <tr>\n",
       "      <th>3</th>\n",
       "      <td>D</td>\n",
       "      <td>47.0</td>\n",
       "      <td>9433821160</td>\n",
       "      <td>Bangalore</td>\n",
       "      <td>189</td>\n",
       "      <td>11506</td>\n",
       "      <td>2301.2</td>\n",
       "      <td>94338</td>\n",
       "    </tr>\n",
       "    <tr>\n",
       "      <th>4</th>\n",
       "      <td>E</td>\n",
       "      <td>33.0</td>\n",
       "      <td>9840448035</td>\n",
       "      <td>Bangalore</td>\n",
       "      <td>117</td>\n",
       "      <td>11506</td>\n",
       "      <td>2301.2</td>\n",
       "      <td>98404</td>\n",
       "    </tr>\n",
       "    <tr>\n",
       "      <th>5</th>\n",
       "      <td>F</td>\n",
       "      <td>37</td>\n",
       "      <td>9626621256</td>\n",
       "      <td>chennai</td>\n",
       "      <td>326</td>\n",
       "      <td>18206</td>\n",
       "      <td>3641.2</td>\n",
       "      <td>96266</td>\n",
       "    </tr>\n",
       "    <tr>\n",
       "      <th>6</th>\n",
       "      <td>G</td>\n",
       "      <td>37</td>\n",
       "      <td>9775317986</td>\n",
       "      <td>hydrabad</td>\n",
       "      <td>326</td>\n",
       "      <td>13755</td>\n",
       "      <td>2751.0</td>\n",
       "      <td>97753</td>\n",
       "    </tr>\n",
       "    <tr>\n",
       "      <th>7</th>\n",
       "      <td>H</td>\n",
       "      <td>37</td>\n",
       "      <td>9798357363</td>\n",
       "      <td>calcatta</td>\n",
       "      <td>326</td>\n",
       "      <td>11506</td>\n",
       "      <td>2301.2</td>\n",
       "      <td>97983</td>\n",
       "    </tr>\n",
       "    <tr>\n",
       "      <th>8</th>\n",
       "      <td>I</td>\n",
       "      <td>37.0</td>\n",
       "      <td>9338865840</td>\n",
       "      <td>pune</td>\n",
       "      <td>487</td>\n",
       "      <td>11339</td>\n",
       "      <td>2267.8</td>\n",
       "      <td>93388</td>\n",
       "    </tr>\n",
       "    <tr>\n",
       "      <th>9</th>\n",
       "      <td>J</td>\n",
       "      <td>50.0</td>\n",
       "      <td>9427086263</td>\n",
       "      <td>Mumbai</td>\n",
       "      <td>265</td>\n",
       "      <td>11506</td>\n",
       "      <td>2301.2</td>\n",
       "      <td>94270</td>\n",
       "    </tr>\n",
       "    <tr>\n",
       "      <th>0</th>\n",
       "      <td>A</td>\n",
       "      <td>50.0</td>\n",
       "      <td>9900763290</td>\n",
       "      <td>Bangalore</td>\n",
       "      <td>285</td>\n",
       "      <td>10818</td>\n",
       "      <td>2163.6</td>\n",
       "      <td>99007</td>\n",
       "    </tr>\n",
       "    <tr>\n",
       "      <th>1</th>\n",
       "      <td>B</td>\n",
       "      <td>23.0</td>\n",
       "      <td>9709303020</td>\n",
       "      <td>Mumbai</td>\n",
       "      <td>434</td>\n",
       "      <td>11506</td>\n",
       "      <td>2301.2</td>\n",
       "      <td>97093</td>\n",
       "    </tr>\n",
       "    <tr>\n",
       "      <th>2</th>\n",
       "      <td>C</td>\n",
       "      <td>22.0</td>\n",
       "      <td>9796840335</td>\n",
       "      <td>Bangalore</td>\n",
       "      <td>416</td>\n",
       "      <td>11506</td>\n",
       "      <td>2301.2</td>\n",
       "      <td>97968</td>\n",
       "    </tr>\n",
       "  </tbody>\n",
       "</table>\n",
       "</div>"
      ],
      "text/plain": [
       "  Name   age   mobile no       city  marks  salary  Unnamed: 6  Unnamed: 7\n",
       "0    A  50.0  9900763290  Bangalore    285   10818      2163.6       99007\n",
       "1    B  23.0  9709303020     Mumbai    434   11506      2301.2       97093\n",
       "2    C  22.0  9796840335  Bangalore    416   11506      2301.2       97968\n",
       "3    D  47.0  9433821160  Bangalore    189   11506      2301.2       94338\n",
       "4    E  33.0  9840448035  Bangalore    117   11506      2301.2       98404\n",
       "5    F    37  9626621256    chennai    326   18206      3641.2       96266\n",
       "6    G    37  9775317986   hydrabad    326   13755      2751.0       97753\n",
       "7    H    37  9798357363   calcatta    326   11506      2301.2       97983\n",
       "8    I  37.0  9338865840       pune    487   11339      2267.8       93388\n",
       "9    J  50.0  9427086263     Mumbai    265   11506      2301.2       94270\n",
       "0    A  50.0  9900763290  Bangalore    285   10818      2163.6       99007\n",
       "1    B  23.0  9709303020     Mumbai    434   11506      2301.2       97093\n",
       "2    C  22.0  9796840335  Bangalore    416   11506      2301.2       97968"
      ]
     },
     "execution_count": 111,
     "metadata": {},
     "output_type": "execute_result"
    }
   ],
   "source": [
    "ad"
   ]
  },
  {
   "cell_type": "code",
   "execution_count": 117,
   "id": "8b5c5225",
   "metadata": {},
   "outputs": [
    {
     "data": {
      "text/html": [
       "<div>\n",
       "<style scoped>\n",
       "    .dataframe tbody tr th:only-of-type {\n",
       "        vertical-align: middle;\n",
       "    }\n",
       "\n",
       "    .dataframe tbody tr th {\n",
       "        vertical-align: top;\n",
       "    }\n",
       "\n",
       "    .dataframe thead th {\n",
       "        text-align: right;\n",
       "    }\n",
       "</style>\n",
       "<table border=\"1\" class=\"dataframe\">\n",
       "  <thead>\n",
       "    <tr style=\"text-align: right;\">\n",
       "      <th></th>\n",
       "      <th>Name</th>\n",
       "      <th>age</th>\n",
       "      <th>mobile no</th>\n",
       "      <th>city</th>\n",
       "      <th>marks</th>\n",
       "      <th>salary</th>\n",
       "      <th>Unnamed: 6</th>\n",
       "      <th>Unnamed: 7</th>\n",
       "    </tr>\n",
       "  </thead>\n",
       "  <tbody>\n",
       "    <tr>\n",
       "      <th>5</th>\n",
       "      <td>F</td>\n",
       "      <td>37</td>\n",
       "      <td>9626621256</td>\n",
       "      <td>chennai</td>\n",
       "      <td>326</td>\n",
       "      <td>18206</td>\n",
       "      <td>3641.2</td>\n",
       "      <td>96266</td>\n",
       "    </tr>\n",
       "    <tr>\n",
       "      <th>6</th>\n",
       "      <td>G</td>\n",
       "      <td>37</td>\n",
       "      <td>9775317986</td>\n",
       "      <td>hydrabad</td>\n",
       "      <td>326</td>\n",
       "      <td>13755</td>\n",
       "      <td>2751.0</td>\n",
       "      <td>97753</td>\n",
       "    </tr>\n",
       "    <tr>\n",
       "      <th>7</th>\n",
       "      <td>H</td>\n",
       "      <td>37</td>\n",
       "      <td>9798357363</td>\n",
       "      <td>calcatta</td>\n",
       "      <td>326</td>\n",
       "      <td>11506</td>\n",
       "      <td>2301.2</td>\n",
       "      <td>97983</td>\n",
       "    </tr>\n",
       "    <tr>\n",
       "      <th>8</th>\n",
       "      <td>I</td>\n",
       "      <td>37.0</td>\n",
       "      <td>9338865840</td>\n",
       "      <td>pune</td>\n",
       "      <td>487</td>\n",
       "      <td>11339</td>\n",
       "      <td>2267.8</td>\n",
       "      <td>93388</td>\n",
       "    </tr>\n",
       "  </tbody>\n",
       "</table>\n",
       "</div>"
      ],
      "text/plain": [
       "  Name   age   mobile no      city  marks  salary  Unnamed: 6  Unnamed: 7\n",
       "5    F    37  9626621256   chennai    326   18206      3641.2       96266\n",
       "6    G    37  9775317986  hydrabad    326   13755      2751.0       97753\n",
       "7    H    37  9798357363  calcatta    326   11506      2301.2       97983\n",
       "8    I  37.0  9338865840      pune    487   11339      2267.8       93388"
      ]
     },
     "execution_count": 117,
     "metadata": {},
     "output_type": "execute_result"
    }
   ],
   "source": [
    "ad[ ~ ad['city'].isin(['Bangalore','Mumbai']) ]"
   ]
  },
  {
   "cell_type": "code",
   "execution_count": 118,
   "id": "7b09fd4b",
   "metadata": {},
   "outputs": [
    {
     "data": {
      "text/html": [
       "<div>\n",
       "<style scoped>\n",
       "    .dataframe tbody tr th:only-of-type {\n",
       "        vertical-align: middle;\n",
       "    }\n",
       "\n",
       "    .dataframe tbody tr th {\n",
       "        vertical-align: top;\n",
       "    }\n",
       "\n",
       "    .dataframe thead th {\n",
       "        text-align: right;\n",
       "    }\n",
       "</style>\n",
       "<table border=\"1\" class=\"dataframe\">\n",
       "  <thead>\n",
       "    <tr style=\"text-align: right;\">\n",
       "      <th></th>\n",
       "      <th>Name</th>\n",
       "      <th>mobile no</th>\n",
       "      <th>marks</th>\n",
       "      <th>salary</th>\n",
       "      <th>customer_id</th>\n",
       "    </tr>\n",
       "  </thead>\n",
       "  <tbody>\n",
       "    <tr>\n",
       "      <th>0</th>\n",
       "      <td>A</td>\n",
       "      <td>9900763290</td>\n",
       "      <td>285</td>\n",
       "      <td>10818</td>\n",
       "      <td>1</td>\n",
       "    </tr>\n",
       "    <tr>\n",
       "      <th>1</th>\n",
       "      <td>B</td>\n",
       "      <td>9709303020</td>\n",
       "      <td>434</td>\n",
       "      <td>11506</td>\n",
       "      <td>2</td>\n",
       "    </tr>\n",
       "    <tr>\n",
       "      <th>2</th>\n",
       "      <td>C</td>\n",
       "      <td>9796840335</td>\n",
       "      <td>416</td>\n",
       "      <td>11506</td>\n",
       "      <td>3</td>\n",
       "    </tr>\n",
       "  </tbody>\n",
       "</table>\n",
       "</div>"
      ],
      "text/plain": [
       "  Name   mobile no  marks  salary  customer_id\n",
       "0    A  9900763290    285   10818            1\n",
       "1    B  9709303020    434   11506            2\n",
       "2    C  9796840335    416   11506            3"
      ]
     },
     "execution_count": 118,
     "metadata": {},
     "output_type": "execute_result"
    }
   ],
   "source": [
    "table1"
   ]
  },
  {
   "cell_type": "code",
   "execution_count": 123,
   "id": "3eb054cf",
   "metadata": {},
   "outputs": [],
   "source": [
    "match = table1['customer_id'].unique()"
   ]
  },
  {
   "cell_type": "code",
   "execution_count": 124,
   "id": "89f182dd",
   "metadata": {},
   "outputs": [
    {
     "data": {
      "text/plain": [
       "array([1, 2, 3], dtype=int64)"
      ]
     },
     "execution_count": 124,
     "metadata": {},
     "output_type": "execute_result"
    }
   ],
   "source": [
    "match"
   ]
  },
  {
   "cell_type": "code",
   "execution_count": 126,
   "id": "4f1ccad9",
   "metadata": {},
   "outputs": [
    {
     "data": {
      "text/plain": [
       "4    33.0\n",
       "6      37\n",
       "Name: age, dtype: object"
      ]
     },
     "execution_count": 126,
     "metadata": {},
     "output_type": "execute_result"
    }
   ],
   "source": [
    "table2[ table2['customer_id'].isin(match) ]['age']"
   ]
  },
  {
   "cell_type": "code",
   "execution_count": 129,
   "id": "e76a8234",
   "metadata": {},
   "outputs": [
    {
     "data": {
      "text/plain": [
       "5    37\n",
       "Name: age, dtype: object"
      ]
     },
     "execution_count": 129,
     "metadata": {},
     "output_type": "execute_result"
    }
   ],
   "source": [
    "table2[ ~table2['customer_id'].isin(table1['customer_id']) ]['age']"
   ]
  },
  {
   "cell_type": "code",
   "execution_count": null,
   "id": "e5961d71",
   "metadata": {},
   "outputs": [],
   "source": [
    "# table2 - table1 customer id match - age \n",
    "\n",
    "\n",
    "table2[  table2['customer_id'].isin(table1['cutomer_id']) ]"
   ]
  }
 ],
 "metadata": {
  "kernelspec": {
   "display_name": "Python 3 (ipykernel)",
   "language": "python",
   "name": "python3"
  },
  "language_info": {
   "codemirror_mode": {
    "name": "ipython",
    "version": 3
   },
   "file_extension": ".py",
   "mimetype": "text/x-python",
   "name": "python",
   "nbconvert_exporter": "python",
   "pygments_lexer": "ipython3",
   "version": "3.9.12"
  }
 },
 "nbformat": 4,
 "nbformat_minor": 5
}
