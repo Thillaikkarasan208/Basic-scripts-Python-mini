{
 "cells": [
  {
   "cell_type": "code",
   "execution_count": null,
   "id": "9a6a26e8",
   "metadata": {},
   "outputs": [],
   "source": [
    "python installlation\n",
    "basic syntax\n",
    "library import\n",
    "python data types"
   ]
  },
  {
   "cell_type": "code",
   "execution_count": null,
   "id": "47650465",
   "metadata": {},
   "outputs": [],
   "source": [
    "string basics"
   ]
  },
  {
   "cell_type": "code",
   "execution_count": 1,
   "id": "355629ba",
   "metadata": {},
   "outputs": [],
   "source": [
    "name = \"thillai murali\""
   ]
  },
  {
   "cell_type": "code",
   "execution_count": 2,
   "id": "6e9f80eb",
   "metadata": {},
   "outputs": [
    {
     "data": {
      "text/plain": [
       "str"
      ]
     },
     "execution_count": 2,
     "metadata": {},
     "output_type": "execute_result"
    }
   ],
   "source": [
    "type(name)"
   ]
  },
  {
   "cell_type": "code",
   "execution_count": null,
   "id": "5abfd205",
   "metadata": {},
   "outputs": [],
   "source": [
    "name.TAB button press"
   ]
  },
  {
   "cell_type": "code",
   "execution_count": 22,
   "id": "1938e3d5",
   "metadata": {},
   "outputs": [],
   "source": [
    "desc = \"the metal iron rod is used in the manufacturing assembly line\"\n",
    "        01234"
   ]
  },
  {
   "cell_type": "code",
   "execution_count": 21,
   "id": "2da9d682",
   "metadata": {},
   "outputs": [
    {
     "data": {
      "text/plain": [
       "str"
      ]
     },
     "execution_count": 21,
     "metadata": {},
     "output_type": "execute_result"
    }
   ],
   "source": [
    "type(desc)"
   ]
  },
  {
   "cell_type": "code",
   "execution_count": 23,
   "id": "e041ca38",
   "metadata": {},
   "outputs": [
    {
     "data": {
      "text/plain": [
       "4"
      ]
     },
     "execution_count": 23,
     "metadata": {},
     "output_type": "execute_result"
    }
   ],
   "source": [
    "desc.find('metal')"
   ]
  },
  {
   "cell_type": "code",
   "execution_count": 24,
   "id": "89b52745",
   "metadata": {},
   "outputs": [
    {
     "data": {
      "text/plain": [
       "10"
      ]
     },
     "execution_count": 24,
     "metadata": {},
     "output_type": "execute_result"
    }
   ],
   "source": [
    "desc.find('iron')"
   ]
  },
  {
   "cell_type": "code",
   "execution_count": 3,
   "id": "0d284039",
   "metadata": {},
   "outputs": [
    {
     "data": {
      "text/plain": [
       "'Thillai murali'"
      ]
     },
     "execution_count": 3,
     "metadata": {},
     "output_type": "execute_result"
    }
   ],
   "source": [
    "name.capitalize()     "
   ]
  },
  {
   "cell_type": "code",
   "execution_count": 4,
   "id": "a3d4e17e",
   "metadata": {},
   "outputs": [
    {
     "data": {
      "text/plain": [
       "'thillai murali'"
      ]
     },
     "execution_count": 4,
     "metadata": {},
     "output_type": "execute_result"
    }
   ],
   "source": [
    "name"
   ]
  },
  {
   "cell_type": "code",
   "execution_count": 5,
   "id": "bf4da251",
   "metadata": {},
   "outputs": [
    {
     "data": {
      "text/plain": [
       "'thillai murali'"
      ]
     },
     "execution_count": 5,
     "metadata": {},
     "output_type": "execute_result"
    }
   ],
   "source": [
    "name.casefold()"
   ]
  },
  {
   "cell_type": "code",
   "execution_count": 8,
   "id": "11905deb",
   "metadata": {},
   "outputs": [
    {
     "data": {
      "text/plain": [
       "3"
      ]
     },
     "execution_count": 8,
     "metadata": {},
     "output_type": "execute_result"
    }
   ],
   "source": [
    "name.find('l')"
   ]
  },
  {
   "cell_type": "code",
   "execution_count": null,
   "id": "b1470551",
   "metadata": {},
   "outputs": [],
   "source": [
    "thillai murali\n",
    "0123"
   ]
  },
  {
   "cell_type": "code",
   "execution_count": 9,
   "id": "2ef109b8",
   "metadata": {},
   "outputs": [
    {
     "data": {
      "text/plain": [
       "'thillai murali'"
      ]
     },
     "execution_count": 9,
     "metadata": {},
     "output_type": "execute_result"
    }
   ],
   "source": [
    "name.casefold()"
   ]
  },
  {
   "cell_type": "code",
   "execution_count": 10,
   "id": "7dec1c43",
   "metadata": {},
   "outputs": [
    {
     "data": {
      "text/plain": [
       "True"
      ]
     },
     "execution_count": 10,
     "metadata": {},
     "output_type": "execute_result"
    }
   ],
   "source": [
    "name.islower()"
   ]
  },
  {
   "cell_type": "code",
   "execution_count": 11,
   "id": "78825a26",
   "metadata": {},
   "outputs": [
    {
     "data": {
      "text/plain": [
       "False"
      ]
     },
     "execution_count": 11,
     "metadata": {},
     "output_type": "execute_result"
    }
   ],
   "source": [
    "name.isnumeric()"
   ]
  },
  {
   "cell_type": "code",
   "execution_count": 28,
   "id": "108fe820",
   "metadata": {},
   "outputs": [
    {
     "data": {
      "text/plain": [
       "'thillai murali'"
      ]
     },
     "execution_count": 28,
     "metadata": {},
     "output_type": "execute_result"
    }
   ],
   "source": [
    "name\n",
    "# name.isupper()"
   ]
  },
  {
   "cell_type": "code",
   "execution_count": 25,
   "id": "acffd32f",
   "metadata": {},
   "outputs": [
    {
     "data": {
      "text/plain": [
       "'THILLAI MURALI'"
      ]
     },
     "execution_count": 25,
     "metadata": {},
     "output_type": "execute_result"
    }
   ],
   "source": [
    "name.upper()"
   ]
  },
  {
   "cell_type": "code",
   "execution_count": 44,
   "id": "ae806157",
   "metadata": {},
   "outputs": [
    {
     "data": {
      "text/plain": [
       "'TH'"
      ]
     },
     "execution_count": 44,
     "metadata": {},
     "output_type": "execute_result"
    }
   ],
   "source": [
    "name[0:2].upper()"
   ]
  },
  {
   "cell_type": "code",
   "execution_count": 15,
   "id": "edcf42d2",
   "metadata": {},
   "outputs": [],
   "source": [
    "fname = 'thillai'"
   ]
  },
  {
   "cell_type": "code",
   "execution_count": 16,
   "id": "a01f3343",
   "metadata": {},
   "outputs": [],
   "source": [
    "lname = 'murali'"
   ]
  },
  {
   "cell_type": "code",
   "execution_count": 39,
   "id": "f1e2d1eb",
   "metadata": {},
   "outputs": [
    {
     "data": {
      "text/plain": [
       "'thillaimurali'"
      ]
     },
     "execution_count": 39,
     "metadata": {},
     "output_type": "execute_result"
    }
   ],
   "source": [
    "fname + lname"
   ]
  },
  {
   "cell_type": "code",
   "execution_count": 40,
   "id": "da60647b",
   "metadata": {},
   "outputs": [
    {
     "data": {
      "text/plain": [
       "'thillai murali'"
      ]
     },
     "execution_count": 40,
     "metadata": {},
     "output_type": "execute_result"
    }
   ],
   "source": [
    "fname + ' ' + lname"
   ]
  },
  {
   "cell_type": "code",
   "execution_count": 19,
   "id": "e65a8957",
   "metadata": {},
   "outputs": [
    {
     "data": {
      "text/plain": [
       "'thillai@murali'"
      ]
     },
     "execution_count": 19,
     "metadata": {},
     "output_type": "execute_result"
    }
   ],
   "source": [
    "fname + '@' + lname"
   ]
  },
  {
   "cell_type": "code",
   "execution_count": 29,
   "id": "d2a5e2ca",
   "metadata": {},
   "outputs": [
    {
     "data": {
      "text/plain": [
       "14"
      ]
     },
     "execution_count": 29,
     "metadata": {},
     "output_type": "execute_result"
    }
   ],
   "source": [
    "len(name) - variable name"
   ]
  },
  {
   "cell_type": "code",
   "execution_count": 32,
   "id": "fe55bc51",
   "metadata": {},
   "outputs": [],
   "source": [
    "desc = 'the metal iron metal rod is used in the manufacturing assembly line'"
   ]
  },
  {
   "cell_type": "code",
   "execution_count": 33,
   "id": "316395ab",
   "metadata": {},
   "outputs": [
    {
     "data": {
      "text/plain": [
       "2"
      ]
     },
     "execution_count": 33,
     "metadata": {},
     "output_type": "execute_result"
    }
   ],
   "source": [
    "desc.count('metal')"
   ]
  },
  {
   "cell_type": "code",
   "execution_count": 36,
   "id": "2ecf2bf8",
   "metadata": {},
   "outputs": [
    {
     "data": {
      "text/plain": [
       "67"
      ]
     },
     "execution_count": 36,
     "metadata": {},
     "output_type": "execute_result"
    }
   ],
   "source": [
    "len(desc)"
   ]
  },
  {
   "cell_type": "code",
   "execution_count": 37,
   "id": "579c9faa",
   "metadata": {},
   "outputs": [
    {
     "data": {
      "text/plain": [
       "'the metal iron metal rod is used in the manufacturing assembly line'"
      ]
     },
     "execution_count": 37,
     "metadata": {},
     "output_type": "execute_result"
    }
   ],
   "source": [
    "desc"
   ]
  },
  {
   "cell_type": "code",
   "execution_count": 38,
   "id": "10505ac8",
   "metadata": {},
   "outputs": [
    {
     "data": {
      "text/plain": [
       "2"
      ]
     },
     "execution_count": 38,
     "metadata": {},
     "output_type": "execute_result"
    }
   ],
   "source": [
    "desc.count('metal')"
   ]
  },
  {
   "cell_type": "code",
   "execution_count": null,
   "id": "4beb6e48",
   "metadata": {},
   "outputs": [],
   "source": [
    "len - over all count\n",
    "count - parameter count"
   ]
  },
  {
   "cell_type": "code",
   "execution_count": null,
   "id": "43fd2c04",
   "metadata": {},
   "outputs": [],
   "source": [
    "python conditional sttatements\n",
    "\n",
    "a == b\n",
    "a != b\n",
    "a < b\n",
    "a > b\n",
    "a <= b\n",
    "\n"
   ]
  },
  {
   "cell_type": "code",
   "execution_count": null,
   "id": "dacdce03",
   "metadata": {},
   "outputs": [],
   "source": [
    "syntax\n",
    "\n",
    "if cond:\n",
    "    sttaement  - indent  , indentation ( 4 space)\n",
    "else:\n",
    "    sttatment\n",
    "    \n",
    "a = 5\n",
    "b = 10\n",
    "if cond:\n",
    "    a==b\n",
    "    "
   ]
  },
  {
   "cell_type": "code",
   "execution_count": 45,
   "id": "368fc712",
   "metadata": {},
   "outputs": [
    {
     "name": "stdout",
     "output_type": "stream",
     "text": [
      "a is greater\n"
     ]
    }
   ],
   "source": [
    "a = 10\n",
    "b = 5\n",
    "if a>b:\n",
    "    print(\"a is greater\")\n",
    "else:\n",
    "    print(\"b is greater\")"
   ]
  },
  {
   "cell_type": "code",
   "execution_count": 46,
   "id": "97376ce2",
   "metadata": {},
   "outputs": [
    {
     "name": "stdout",
     "output_type": "stream",
     "text": [
      "b is greater\n"
     ]
    }
   ],
   "source": [
    "a = 5\n",
    "b = 10\n",
    "if a>b:\n",
    "    print(\"a is greater\")\n",
    "else:\n",
    "    print(\"b is greater\")"
   ]
  },
  {
   "cell_type": "code",
   "execution_count": 47,
   "id": "9eed1e2a",
   "metadata": {},
   "outputs": [
    {
     "name": "stdout",
     "output_type": "stream",
     "text": [
      "a and b are same\n"
     ]
    }
   ],
   "source": [
    "a = 5\n",
    "b = 5\n",
    "\n",
    "if a>b:\n",
    "    print(\"a is greater than b\")\n",
    "elif a == b:\n",
    "    print(\"a and b are same\")\n",
    "elif a<b:\n",
    "    print(\"a < b\")\n",
    "    .\n",
    "    .\n",
    "    .\n",
    "    \n",
    "else:\n",
    "    print('b is greater')"
   ]
  },
  {
   "cell_type": "code",
   "execution_count": 52,
   "id": "52df6851",
   "metadata": {},
   "outputs": [
    {
     "name": "stdout",
     "output_type": "stream",
     "text": [
      "cond is failed\n"
     ]
    }
   ],
   "source": [
    "a = 200\n",
    "b = 33\n",
    "c = 500\n",
    "\n",
    "if a>b and c==a:\n",
    "    print(\"both cond are true\")\n",
    "else:\n",
    "    print('cond is failed')\n"
   ]
  },
  {
   "cell_type": "code",
   "execution_count": 50,
   "id": "6f421fb3",
   "metadata": {},
   "outputs": [
    {
     "name": "stdout",
     "output_type": "stream",
     "text": [
      "atleat one cond are true\n"
     ]
    }
   ],
   "source": [
    "if a>b or c==a:\n",
    "    print(\"atleat one cond are true\")\n",
    "else:\n",
    "    print('cond is failed')"
   ]
  },
  {
   "cell_type": "code",
   "execution_count": 53,
   "id": "979e1f88",
   "metadata": {},
   "outputs": [
    {
     "name": "stdout",
     "output_type": "stream",
     "text": [
      "enter ur namerajini\n"
     ]
    }
   ],
   "source": [
    "name = input(\"enter ur name\")"
   ]
  },
  {
   "cell_type": "code",
   "execution_count": 54,
   "id": "8b2b96af",
   "metadata": {},
   "outputs": [
    {
     "data": {
      "text/plain": [
       "'rajini'"
      ]
     },
     "execution_count": 54,
     "metadata": {},
     "output_type": "execute_result"
    }
   ],
   "source": [
    "name"
   ]
  },
  {
   "cell_type": "code",
   "execution_count": 55,
   "id": "4c723ddf",
   "metadata": {},
   "outputs": [
    {
     "data": {
      "text/plain": [
       "str"
      ]
     },
     "execution_count": 55,
     "metadata": {},
     "output_type": "execute_result"
    }
   ],
   "source": [
    "type(name)"
   ]
  },
  {
   "cell_type": "code",
   "execution_count": 59,
   "id": "7904fed2",
   "metadata": {},
   "outputs": [
    {
     "name": "stdout",
     "output_type": "stream",
     "text": [
      "12 14 16 18\n"
     ]
    }
   ],
   "source": [
    "x = input().split()\n"
   ]
  },
  {
   "cell_type": "code",
   "execution_count": 60,
   "id": "a4b55795",
   "metadata": {},
   "outputs": [
    {
     "data": {
      "text/plain": [
       "['12', '14', '16', '18']"
      ]
     },
     "execution_count": 60,
     "metadata": {},
     "output_type": "execute_result"
    }
   ],
   "source": [
    "x"
   ]
  },
  {
   "cell_type": "code",
   "execution_count": 65,
   "id": "a8edbfe4",
   "metadata": {},
   "outputs": [
    {
     "name": "stdout",
     "output_type": "stream",
     "text": [
      "12 14 16 18\n"
     ]
    }
   ],
   "source": [
    "print(' '.join(x))"
   ]
  },
  {
   "cell_type": "code",
   "execution_count": 61,
   "id": "4504e977",
   "metadata": {},
   "outputs": [
    {
     "data": {
      "text/plain": [
       "['12', '14', '16', '18']"
      ]
     },
     "execution_count": 61,
     "metadata": {},
     "output_type": "execute_result"
    }
   ],
   "source": [
    "x"
   ]
  },
  {
   "cell_type": "code",
   "execution_count": 64,
   "id": "4537fc01",
   "metadata": {},
   "outputs": [
    {
     "data": {
      "text/plain": [
       "'12%14%16%18'"
      ]
     },
     "execution_count": 64,
     "metadata": {},
     "output_type": "execute_result"
    }
   ],
   "source": [
    "'%'.join(x)"
   ]
  },
  {
   "cell_type": "code",
   "execution_count": null,
   "id": "4737405d",
   "metadata": {},
   "outputs": [],
   "source": [
    "# Python for loop\n",
    "\n",
    "syntax\n",
    "\n",
    "for i in (python data type):\n",
    "    sttatment\n"
   ]
  },
  {
   "cell_type": "code",
   "execution_count": 70,
   "id": "b73d79a6",
   "metadata": {},
   "outputs": [],
   "source": [
    "lis = ['Tree','wood','fruits',1,2,3]"
   ]
  },
  {
   "cell_type": "code",
   "execution_count": 71,
   "id": "25a519b9",
   "metadata": {},
   "outputs": [
    {
     "data": {
      "text/plain": [
       "['Tree', 'wood', 'fruits', 1, 2, 3]"
      ]
     },
     "execution_count": 71,
     "metadata": {},
     "output_type": "execute_result"
    }
   ],
   "source": [
    "lis"
   ]
  },
  {
   "cell_type": "code",
   "execution_count": 72,
   "id": "e1a4c07f",
   "metadata": {},
   "outputs": [
    {
     "data": {
      "text/plain": [
       "6"
      ]
     },
     "execution_count": 72,
     "metadata": {},
     "output_type": "execute_result"
    }
   ],
   "source": [
    "len(lis)"
   ]
  },
  {
   "cell_type": "code",
   "execution_count": 74,
   "id": "42fe9501",
   "metadata": {},
   "outputs": [
    {
     "name": "stdout",
     "output_type": "stream",
     "text": [
      "Tree\n",
      "wood\n",
      "fruits\n",
      "1\n",
      "2\n",
      "3\n"
     ]
    }
   ],
   "source": [
    "for i in lis:(0,1,2,3,4,5)\n",
    "    print(i)"
   ]
  },
  {
   "cell_type": "code",
   "execution_count": 75,
   "id": "61bd08b0",
   "metadata": {
    "collapsed": true
   },
   "outputs": [
    {
     "name": "stdout",
     "output_type": "stream",
     "text": [
      "0\n",
      "1\n",
      "2\n",
      "3\n",
      "4\n"
     ]
    }
   ],
   "source": [
    "for i in range(0,5):\n",
    "    print(i)"
   ]
  },
  {
   "cell_type": "code",
   "execution_count": 76,
   "id": "4a72e912",
   "metadata": {},
   "outputs": [
    {
     "name": "stdout",
     "output_type": "stream",
     "text": [
      "0\n",
      "1\n",
      "2\n",
      "3\n",
      "4\n"
     ]
    }
   ],
   "source": [
    "for i in range(5):\n",
    "    print(i)"
   ]
  },
  {
   "cell_type": "code",
   "execution_count": 77,
   "id": "1e3916d3",
   "metadata": {
    "collapsed": true
   },
   "outputs": [
    {
     "name": "stdout",
     "output_type": "stream",
     "text": [
      "2\n",
      "3\n",
      "4\n",
      "5\n",
      "6\n",
      "7\n",
      "8\n",
      "9\n",
      "10\n",
      "11\n",
      "12\n",
      "13\n",
      "14\n"
     ]
    }
   ],
   "source": [
    "for i in range(2,15):\n",
    "    print(i)"
   ]
  },
  {
   "cell_type": "code",
   "execution_count": 85,
   "id": "218e0796",
   "metadata": {},
   "outputs": [],
   "source": [
    "# nested loop \n",
    "\n",
    "legends = ['rajini','kamal','vikram']\n",
    "dependents = ['tamil movie1','hindi movie2','telugu']\n"
   ]
  },
  {
   "cell_type": "code",
   "execution_count": 86,
   "id": "3836af28",
   "metadata": {
    "collapsed": true
   },
   "outputs": [
    {
     "name": "stdout",
     "output_type": "stream",
     "text": [
      "rajini tamil movie1\n",
      "rajini hindi movie2\n",
      "rajini telugu\n",
      "kamal tamil movie1\n",
      "kamal hindi movie2\n",
      "kamal telugu\n",
      "vikram tamil movie1\n",
      "vikram hindi movie2\n",
      "vikram telugu\n"
     ]
    }
   ],
   "source": [
    "for x in legends:\n",
    "    for y in dependents:\n",
    "        print(x,y)"
   ]
  },
  {
   "cell_type": "code",
   "execution_count": 87,
   "id": "dce0f186",
   "metadata": {},
   "outputs": [
    {
     "data": {
      "text/plain": [
       "['Tree', 'wood', 'fruits', 1, 2, 3]"
      ]
     },
     "execution_count": 87,
     "metadata": {},
     "output_type": "execute_result"
    }
   ],
   "source": [
    "lis"
   ]
  },
  {
   "cell_type": "code",
   "execution_count": 88,
   "id": "d048f8a0",
   "metadata": {},
   "outputs": [
    {
     "name": "stdout",
     "output_type": "stream",
     "text": [
      "fruits is there in the list\n"
     ]
    }
   ],
   "source": [
    "for i  in lis:\n",
    "    if i == 'fruits':\n",
    "        print(\"fruits is there in the list\")"
   ]
  },
  {
   "cell_type": "code",
   "execution_count": 89,
   "id": "cb1e303d",
   "metadata": {
    "collapsed": true
   },
   "outputs": [
    {
     "name": "stdout",
     "output_type": "stream",
     "text": [
      "1\n",
      "2\n",
      "3\n",
      "4\n",
      "5\n"
     ]
    }
   ],
   "source": [
    "i = 1\n",
    "while i < 6:\n",
    "    print(i) \n",
    "    i = i+1"
   ]
  },
  {
   "cell_type": "code",
   "execution_count": null,
   "id": "139226a1",
   "metadata": {},
   "outputs": [],
   "source": [
    "task:\n",
    "    \n",
    "1.odd number print odd no , even number print(even numer)\n"
   ]
  },
  {
   "cell_type": "code",
   "execution_count": null,
   "id": "0760f3cc",
   "metadata": {},
   "outputs": [],
   "source": [
    "5 print(odd)  , 6 - print(even)   , input -> 1 - 30"
   ]
  },
  {
   "cell_type": "code",
   "execution_count": null,
   "id": "1cacceef",
   "metadata": {},
   "outputs": [],
   "source": [
    "two wheeler drive road\n",
    "\n",
    "1.red   print(stop)\n",
    "2.green  print(go)\n",
    "3.yellow print(ready)\n",
    "\n",
    "quitent , remider \n"
   ]
  },
  {
   "cell_type": "code",
   "execution_count": 90,
   "id": "4e661449",
   "metadata": {
    "collapsed": true
   },
   "outputs": [
    {
     "name": "stdout",
     "output_type": "stream",
     "text": [
      "1 odd\n",
      "2 even\n",
      "3 odd\n",
      "4 even\n",
      "5 odd\n",
      "6 even\n",
      "7 odd\n",
      "8 even\n",
      "9 odd\n",
      "10 even\n",
      "11 odd\n",
      "12 even\n",
      "13 odd\n",
      "14 even\n",
      "15 odd\n",
      "16 even\n",
      "17 odd\n",
      "18 even\n",
      "19 odd\n",
      "20 even\n",
      "21 odd\n",
      "22 even\n",
      "23 odd\n",
      "24 even\n",
      "25 odd\n",
      "26 even\n",
      "27 odd\n",
      "28 even\n",
      "29 odd\n",
      "30 even\n"
     ]
    }
   ],
   "source": [
    "for i in range(1,31):\n",
    "    if i % 2 == 0:                \n",
    "        print(i,\"even\")\n",
    "    else:\n",
    "        print(i,\"odd\")"
   ]
  },
  {
   "cell_type": "code",
   "execution_count": 95,
   "id": "8dedcb13",
   "metadata": {},
   "outputs": [
    {
     "name": "stdout",
     "output_type": "stream",
     "text": [
      "please enter (red, green, yellow): black\n",
      "ready\n"
     ]
    }
   ],
   "source": [
    "a= input(\"please enter (red, green, yellow): \")\n",
    "if a.lower()==\"red\":\n",
    "    print(\"stop\")\n",
    "elif a.lower()==\"green\":\n",
    "    print(\"go\")\n",
    "else:\n",
    "    print(\"ready\")"
   ]
  },
  {
   "cell_type": "code",
   "execution_count": 97,
   "id": "ac2e1f63",
   "metadata": {},
   "outputs": [
    {
     "name": "stdout",
     "output_type": "stream",
     "text": [
      "GreEN\n",
      "go\n"
     ]
    }
   ],
   "source": [
    "n = input()\n",
    "if n.lower() == 'red':\n",
    "    print('stop')\n",
    "elif n.lower() == 'green':\n",
    "    print('go')\n",
    "elif n.lower() == 'yellow':\n",
    "    print('wait')\n",
    "else:\n",
    "    print(\"Enter a valid input next time\")"
   ]
  },
  {
   "cell_type": "code",
   "execution_count": 98,
   "id": "7a809c61",
   "metadata": {},
   "outputs": [
    {
     "data": {
      "text/plain": [
       "0"
      ]
     },
     "execution_count": 98,
     "metadata": {},
     "output_type": "execute_result"
    }
   ],
   "source": [
    "4 % 2 Reminder even odd"
   ]
  },
  {
   "cell_type": "code",
   "execution_count": 104,
   "id": "0b36e1c0",
   "metadata": {},
   "outputs": [
    {
     "name": "stdout",
     "output_type": "stream",
     "text": [
      "even\n"
     ]
    }
   ],
   "source": [
    "n = 6\n",
    "if n % 2==0:\n",
    "    print(\"even\")\n",
    "else:\n",
    "    print(\"odd\")"
   ]
  },
  {
   "cell_type": "code",
   "execution_count": null,
   "id": "28790df0",
   "metadata": {},
   "outputs": [],
   "source": [
    "functions\n",
    "\n",
    "numeric function\n",
    "string funtion"
   ]
  },
  {
   "cell_type": "code",
   "execution_count": 108,
   "id": "a1b5f8d2",
   "metadata": {},
   "outputs": [],
   "source": [
    "name = \"MURALI\""
   ]
  },
  {
   "cell_type": "code",
   "execution_count": 106,
   "id": "0821a2c2",
   "metadata": {},
   "outputs": [
    {
     "data": {
      "text/plain": [
       "'       murali       '"
      ]
     },
     "execution_count": 106,
     "metadata": {},
     "output_type": "execute_result"
    }
   ],
   "source": [
    "name.center(20)"
   ]
  },
  {
   "cell_type": "code",
   "execution_count": 109,
   "id": "4a3901fd",
   "metadata": {},
   "outputs": [
    {
     "data": {
      "text/plain": [
       "'murali'"
      ]
     },
     "execution_count": 109,
     "metadata": {},
     "output_type": "execute_result"
    }
   ],
   "source": [
    "name.casefold() - lower case"
   ]
  },
  {
   "cell_type": "code",
   "execution_count": null,
   "id": "0a98d03d",
   "metadata": {},
   "outputs": [],
   "source": [
    "numeric function"
   ]
  },
  {
   "cell_type": "code",
   "execution_count": 110,
   "id": "e924ab51",
   "metadata": {},
   "outputs": [],
   "source": [
    "import math"
   ]
  },
  {
   "cell_type": "code",
   "execution_count": 111,
   "id": "9704defc",
   "metadata": {},
   "outputs": [
    {
     "data": {
      "text/plain": [
       "60"
      ]
     },
     "execution_count": 111,
     "metadata": {},
     "output_type": "execute_result"
    }
   ],
   "source": [
    "math.lcm(3,4,5)"
   ]
  },
  {
   "cell_type": "code",
   "execution_count": 112,
   "id": "a6a1f412",
   "metadata": {},
   "outputs": [
    {
     "data": {
      "text/plain": [
       "90"
      ]
     },
     "execution_count": 112,
     "metadata": {},
     "output_type": "execute_result"
    }
   ],
   "source": [
    "math.ceil(89.55)"
   ]
  },
  {
   "cell_type": "code",
   "execution_count": 113,
   "id": "d627e917",
   "metadata": {},
   "outputs": [
    {
     "data": {
      "text/plain": [
       "2980.9579870417283"
      ]
     },
     "execution_count": 113,
     "metadata": {},
     "output_type": "execute_result"
    }
   ],
   "source": [
    "math.exp(8)"
   ]
  },
  {
   "cell_type": "code",
   "execution_count": 114,
   "id": "d3c83676",
   "metadata": {},
   "outputs": [
    {
     "data": {
      "text/plain": [
       "4.356708826689592"
      ]
     },
     "execution_count": 114,
     "metadata": {},
     "output_type": "execute_result"
    }
   ],
   "source": [
    "math.log(78)"
   ]
  },
  {
   "cell_type": "code",
   "execution_count": null,
   "id": "0edfbdf3",
   "metadata": {},
   "outputs": [],
   "source": [
    "string fucntion  - lower, upper , casfold , capitl ,....\n",
    "numeric function - log, power, exp , sin , cos , tan , math.funciton, square,sqrt"
   ]
  },
  {
   "cell_type": "code",
   "execution_count": 115,
   "id": "8c9f549f",
   "metadata": {},
   "outputs": [],
   "source": [
    "name = \"abi\""
   ]
  },
  {
   "cell_type": "code",
   "execution_count": 116,
   "id": "35ac7285",
   "metadata": {},
   "outputs": [
    {
     "data": {
      "text/plain": [
       "'abi'"
      ]
     },
     "execution_count": 116,
     "metadata": {},
     "output_type": "execute_result"
    }
   ],
   "source": [
    "name.lower()"
   ]
  },
  {
   "cell_type": "code",
   "execution_count": null,
   "id": "d7c80851",
   "metadata": {},
   "outputs": [],
   "source": []
  },
  {
   "cell_type": "code",
   "execution_count": null,
   "id": "fa43589b",
   "metadata": {},
   "outputs": [],
   "source": []
  },
  {
   "cell_type": "code",
   "execution_count": 117,
   "id": "7874a625",
   "metadata": {},
   "outputs": [
    {
     "data": {
      "text/plain": [
       "'ABI'"
      ]
     },
     "execution_count": 117,
     "metadata": {},
     "output_type": "execute_result"
    }
   ],
   "source": [
    "name.upper()"
   ]
  },
  {
   "cell_type": "code",
   "execution_count": null,
   "id": "87663fa7",
   "metadata": {},
   "outputs": [],
   "source": [
    "customs functions - user willing to create"
   ]
  },
  {
   "cell_type": "code",
   "execution_count": null,
   "id": "088d8f5a",
   "metadata": {},
   "outputs": [],
   "source": [
    "syntax:\n",
    "    \n",
    "    def functionname(p1,p2,...):\n",
    "        statement\n",
    "        return Values\n",
    "    "
   ]
  },
  {
   "cell_type": "code",
   "execution_count": null,
   "id": "4a93ea06",
   "metadata": {},
   "outputs": [],
   "source": [
    "def project(patientid,date,disease):\n",
    "    rules1 - date > 8999 then pateinet next date\n",
    "    rule -> dieseae fever then next symptoms\n",
    "    rule 3-> fever convert jaundice\n",
    "    \n",
    "    return patientid, rules\n",
    "\n",
    "project(23jjfjf,02/04/23,'fever')"
   ]
  },
  {
   "cell_type": "code",
   "execution_count": 118,
   "id": "f99b79b6",
   "metadata": {},
   "outputs": [],
   "source": [
    "def rajini():\n",
    "    x = 3\n",
    "    y = 5\n",
    "    z = x+y\n",
    "    return z"
   ]
  },
  {
   "cell_type": "code",
   "execution_count": 119,
   "id": "e90e5cb6",
   "metadata": {},
   "outputs": [
    {
     "data": {
      "text/plain": [
       "8"
      ]
     },
     "execution_count": 119,
     "metadata": {},
     "output_type": "execute_result"
    }
   ],
   "source": [
    "rajini()"
   ]
  },
  {
   "cell_type": "code",
   "execution_count": 120,
   "id": "ab62e351",
   "metadata": {},
   "outputs": [],
   "source": [
    "def kamal(fname,lname,mname):\n",
    "    res = fname + lname + mname\n",
    "    \n",
    "    return res"
   ]
  },
  {
   "cell_type": "code",
   "execution_count": 121,
   "id": "1e3202ce",
   "metadata": {},
   "outputs": [
    {
     "data": {
      "text/plain": [
       "'guvipython'"
      ]
     },
     "execution_count": 121,
     "metadata": {},
     "output_type": "execute_result"
    }
   ],
   "source": [
    "kamal(\"guvi\",\"python\")"
   ]
  },
  {
   "cell_type": "code",
   "execution_count": 122,
   "id": "6a580986",
   "metadata": {},
   "outputs": [
    {
     "data": {
      "text/plain": [
       "'thillaimurali'"
      ]
     },
     "execution_count": 122,
     "metadata": {},
     "output_type": "execute_result"
    }
   ],
   "source": [
    "kamal(\"thillai\",\"murali\")"
   ]
  },
  {
   "cell_type": "code",
   "execution_count": 123,
   "id": "90cf7d1d",
   "metadata": {},
   "outputs": [
    {
     "data": {
      "text/plain": [
       "'59'"
      ]
     },
     "execution_count": 123,
     "metadata": {},
     "output_type": "execute_result"
    }
   ],
   "source": [
    "kamal(\"5\",\"9\")"
   ]
  },
  {
   "cell_type": "code",
   "execution_count": null,
   "id": "32b603e5",
   "metadata": {},
   "outputs": [],
   "source": [
    "y = a+bx\n",
    "\n",
    "y = 5 + 10x "
   ]
  },
  {
   "cell_type": "code",
   "execution_count": 128,
   "id": "e36f4c4b",
   "metadata": {},
   "outputs": [],
   "source": [
    "def line(a,b,x):\n",
    "    y = a + b * x\n",
    "    return y,a,b"
   ]
  },
  {
   "cell_type": "code",
   "execution_count": 129,
   "id": "0b6b4645",
   "metadata": {},
   "outputs": [
    {
     "data": {
      "text/plain": [
       "((7, 1, 2), (61, 7, 6))"
      ]
     },
     "execution_count": 129,
     "metadata": {},
     "output_type": "execute_result"
    }
   ],
   "source": [
    "line(1,2,3) , line(7,6,9)"
   ]
  },
  {
   "cell_type": "code",
   "execution_count": null,
   "id": "0845f540",
   "metadata": {},
   "outputs": [],
   "source": [
    "task1:\n",
    "\n",
    "    y = 5x2 + 16x + 20"
   ]
  },
  {
   "cell_type": "code",
   "execution_count": 1,
   "id": "0cfebb0f",
   "metadata": {},
   "outputs": [],
   "source": [
    "# import numpy\n",
    "def parabola(x):\n",
    "    y = 5*(x**2)+16*x+20\n",
    "    return y"
   ]
  },
  {
   "cell_type": "code",
   "execution_count": 2,
   "id": "8d8f673e",
   "metadata": {},
   "outputs": [
    {
     "data": {
      "text/plain": [
       "72"
      ]
     },
     "execution_count": 2,
     "metadata": {},
     "output_type": "execute_result"
    }
   ],
   "source": [
    "parabola(2)"
   ]
  },
  {
   "cell_type": "code",
   "execution_count": 143,
   "id": "55cb0a1f",
   "metadata": {},
   "outputs": [],
   "source": [
    "def para(a,x,b,c):\n",
    "    y = a*(x**2)+b*x+c\n",
    "    return y"
   ]
  },
  {
   "cell_type": "code",
   "execution_count": 144,
   "id": "3afda805",
   "metadata": {},
   "outputs": [
    {
     "data": {
      "text/plain": [
       "14"
      ]
     },
     "execution_count": 144,
     "metadata": {},
     "output_type": "execute_result"
    }
   ],
   "source": [
    "para(1,2,3,4)"
   ]
  },
  {
   "cell_type": "code",
   "execution_count": null,
   "id": "30003e15",
   "metadata": {},
   "outputs": [],
   "source": [
    "task 1:\n",
    "    fucntion  education details , 10th mark 300 > gradeb , >400 grade b , < 30 fail"
   ]
  },
  {
   "cell_type": "code",
   "execution_count": null,
   "id": "7d703a1b",
   "metadata": {},
   "outputs": [],
   "source": []
  },
  {
   "cell_type": "code",
   "execution_count": null,
   "id": "e6b4cc6d",
   "metadata": {},
   "outputs": [],
   "source": []
  },
  {
   "cell_type": "code",
   "execution_count": 145,
   "id": "6af46ca6",
   "metadata": {},
   "outputs": [],
   "source": [
    "# Common errors in python"
   ]
  },
  {
   "cell_type": "code",
   "execution_count": 146,
   "id": "76d857ea",
   "metadata": {},
   "outputs": [],
   "source": [
    "x = 8"
   ]
  },
  {
   "cell_type": "code",
   "execution_count": 147,
   "id": "f8a09363",
   "metadata": {},
   "outputs": [
    {
     "data": {
      "text/plain": [
       "8"
      ]
     },
     "execution_count": 147,
     "metadata": {},
     "output_type": "execute_result"
    }
   ],
   "source": [
    "x"
   ]
  },
  {
   "cell_type": "code",
   "execution_count": 149,
   "id": "53397186",
   "metadata": {},
   "outputs": [],
   "source": [
    "z = 9"
   ]
  },
  {
   "cell_type": "code",
   "execution_count": 150,
   "id": "2099a4cc",
   "metadata": {},
   "outputs": [
    {
     "data": {
      "text/plain": [
       "9"
      ]
     },
     "execution_count": 150,
     "metadata": {},
     "output_type": "execute_result"
    }
   ],
   "source": [
    "z"
   ]
  },
  {
   "cell_type": "code",
   "execution_count": 152,
   "id": "87b04dbb",
   "metadata": {},
   "outputs": [
    {
     "ename": "NameError",
     "evalue": "name 'salary' is not defined",
     "output_type": "error",
     "traceback": [
      "\u001b[1;31m---------------------------------------------------------------------------\u001b[0m",
      "\u001b[1;31mNameError\u001b[0m                                 Traceback (most recent call last)",
      "Input \u001b[1;32mIn [152]\u001b[0m, in \u001b[0;36m<cell line: 1>\u001b[1;34m()\u001b[0m\n\u001b[1;32m----> 1\u001b[0m \u001b[43msalary\u001b[49m\n",
      "\u001b[1;31mNameError\u001b[0m: name 'salary' is not defined"
     ]
    }
   ],
   "source": [
    "salary"
   ]
  },
  {
   "cell_type": "code",
   "execution_count": 153,
   "id": "4ab56618",
   "metadata": {},
   "outputs": [
    {
     "ename": "IndentationError",
     "evalue": "expected an indented block (3594652557.py, line 2)",
     "output_type": "error",
     "traceback": [
      "\u001b[1;36m  Input \u001b[1;32mIn [153]\u001b[1;36m\u001b[0m\n\u001b[1;33m    print(\"yes\")\u001b[0m\n\u001b[1;37m    ^\u001b[0m\n\u001b[1;31mIndentationError\u001b[0m\u001b[1;31m:\u001b[0m expected an indented block\n"
     ]
    }
   ],
   "source": [
    "if 2>4:\n",
    "print(\"yes\")"
   ]
  },
  {
   "cell_type": "code",
   "execution_count": 154,
   "id": "a8a06c7a",
   "metadata": {},
   "outputs": [
    {
     "ename": "TypeError",
     "evalue": "unsupported operand type(s) for /: 'str' and 'int'",
     "output_type": "error",
     "traceback": [
      "\u001b[1;31m---------------------------------------------------------------------------\u001b[0m",
      "\u001b[1;31mTypeError\u001b[0m                                 Traceback (most recent call last)",
      "Input \u001b[1;32mIn [154]\u001b[0m, in \u001b[0;36m<cell line: 1>\u001b[1;34m()\u001b[0m\n\u001b[1;32m----> 1\u001b[0m \u001b[38;5;28;01mif\u001b[39;00m \u001b[38;5;124;43m\"\u001b[39;49m\u001b[38;5;124;43mthillai\u001b[39;49m\u001b[38;5;124;43m\"\u001b[39;49m\u001b[38;5;241;43m/\u001b[39;49m\u001b[38;5;241;43m2\u001b[39;49m:\n\u001b[0;32m      2\u001b[0m     \u001b[38;5;28mprint\u001b[39m(\u001b[38;5;124m\"\u001b[39m\u001b[38;5;124myes\u001b[39m\u001b[38;5;124m\"\u001b[39m)\n",
      "\u001b[1;31mTypeError\u001b[0m: unsupported operand type(s) for /: 'str' and 'int'"
     ]
    }
   ],
   "source": [
    "if \"thillai\"/2:\n",
    "    print(\"yes\")"
   ]
  },
  {
   "cell_type": "code",
   "execution_count": 156,
   "id": "85d8c740",
   "metadata": {},
   "outputs": [
    {
     "ename": "SyntaxError",
     "evalue": "invalid syntax (588381360.py, line 1)",
     "output_type": "error",
     "traceback": [
      "\u001b[1;36m  Input \u001b[1;32mIn [156]\u001b[1;36m\u001b[0m\n\u001b[1;33m    iff 4+5:\u001b[0m\n\u001b[1;37m        ^\u001b[0m\n\u001b[1;31mSyntaxError\u001b[0m\u001b[1;31m:\u001b[0m invalid syntax\n"
     ]
    }
   ],
   "source": [
    "iff 4+5:\n",
    "    print(\"yes\")\n",
    "    "
   ]
  },
  {
   "cell_type": "code",
   "execution_count": 158,
   "id": "5929e74f",
   "metadata": {},
   "outputs": [
    {
     "name": "stdout",
     "output_type": "stream",
     "text": [
      "Thillai\n"
     ]
    },
    {
     "ename": "ValueError",
     "evalue": "invalid literal for int() with base 10: 'Thillai'",
     "output_type": "error",
     "traceback": [
      "\u001b[1;31m---------------------------------------------------------------------------\u001b[0m",
      "\u001b[1;31mValueError\u001b[0m                                Traceback (most recent call last)",
      "Input \u001b[1;32mIn [158]\u001b[0m, in \u001b[0;36m<cell line: 1>\u001b[1;34m()\u001b[0m\n\u001b[1;32m----> 1\u001b[0m x \u001b[38;5;241m=\u001b[39m \u001b[38;5;28;43mint\u001b[39;49m\u001b[43m(\u001b[49m\u001b[38;5;28;43minput\u001b[39;49m\u001b[43m(\u001b[49m\u001b[43m)\u001b[49m\u001b[43m)\u001b[49m\n",
      "\u001b[1;31mValueError\u001b[0m: invalid literal for int() with base 10: 'Thillai'"
     ]
    }
   ],
   "source": [
    "x = int(input())"
   ]
  },
  {
   "cell_type": "code",
   "execution_count": null,
   "id": "337ee235",
   "metadata": {},
   "outputs": [],
   "source": [
    "debugging - errors"
   ]
  },
  {
   "cell_type": "markdown",
   "id": "f37f6cd7",
   "metadata": {},
   "source": [
    "# list comprehension"
   ]
  },
  {
   "cell_type": "code",
   "execution_count": 159,
   "id": "e9394a9b",
   "metadata": {},
   "outputs": [],
   "source": [
    "lis = [\"apple\",\"orange\",\"mango\"]"
   ]
  },
  {
   "cell_type": "code",
   "execution_count": 160,
   "id": "d1bfddda",
   "metadata": {},
   "outputs": [
    {
     "data": {
      "text/plain": [
       "'apple'"
      ]
     },
     "execution_count": 160,
     "metadata": {},
     "output_type": "execute_result"
    }
   ],
   "source": [
    "lis[0]"
   ]
  },
  {
   "cell_type": "code",
   "execution_count": 162,
   "id": "9089fad2",
   "metadata": {},
   "outputs": [
    {
     "data": {
      "text/plain": [
       "'orange'"
      ]
     },
     "execution_count": 162,
     "metadata": {},
     "output_type": "execute_result"
    }
   ],
   "source": [
    "lis[1]"
   ]
  },
  {
   "cell_type": "code",
   "execution_count": 163,
   "id": "49b9c1af",
   "metadata": {},
   "outputs": [],
   "source": [
    "surya = [1,2,3,\"ljfsdlf3244\"]"
   ]
  },
  {
   "cell_type": "code",
   "execution_count": 167,
   "id": "9e076c5b",
   "metadata": {},
   "outputs": [
    {
     "data": {
      "text/plain": [
       "[1, 2]"
      ]
     },
     "execution_count": 167,
     "metadata": {},
     "output_type": "execute_result"
    }
   ],
   "source": [
    "surya[0:2]"
   ]
  },
  {
   "cell_type": "code",
   "execution_count": 171,
   "id": "47408c82",
   "metadata": {},
   "outputs": [],
   "source": [
    "surya.extend([6])"
   ]
  },
  {
   "cell_type": "code",
   "execution_count": 172,
   "id": "9a3cd5c0",
   "metadata": {},
   "outputs": [
    {
     "data": {
      "text/plain": [
       "[1, 2, 3, 'ljfsdlf3244', 5, 6]"
      ]
     },
     "execution_count": 172,
     "metadata": {},
     "output_type": "execute_result"
    }
   ],
   "source": [
    "surya"
   ]
  },
  {
   "cell_type": "code",
   "execution_count": 174,
   "id": "d18a9807",
   "metadata": {},
   "outputs": [],
   "source": [
    "surya.append('insert')"
   ]
  },
  {
   "cell_type": "code",
   "execution_count": 175,
   "id": "f48331f4",
   "metadata": {},
   "outputs": [
    {
     "data": {
      "text/plain": [
       "[1, 2, 3, 'ljfsdlf3244', 5, 6, 'insert']"
      ]
     },
     "execution_count": 175,
     "metadata": {},
     "output_type": "execute_result"
    }
   ],
   "source": [
    "surya"
   ]
  },
  {
   "cell_type": "code",
   "execution_count": 176,
   "id": "71135200",
   "metadata": {},
   "outputs": [
    {
     "data": {
      "text/plain": [
       "['apple', 'orange', 'mango']"
      ]
     },
     "execution_count": 176,
     "metadata": {},
     "output_type": "execute_result"
    }
   ],
   "source": [
    "lis"
   ]
  },
  {
   "cell_type": "code",
   "execution_count": 177,
   "id": "89f7779b",
   "metadata": {},
   "outputs": [
    {
     "data": {
      "text/plain": [
       "[1, 2, 3, 'ljfsdlf3244', 5, 6, 'insert']"
      ]
     },
     "execution_count": 177,
     "metadata": {},
     "output_type": "execute_result"
    }
   ],
   "source": [
    "surya"
   ]
  },
  {
   "cell_type": "code",
   "execution_count": 179,
   "id": "9f18bfe0",
   "metadata": {},
   "outputs": [],
   "source": [
    "lis.extend(surya)"
   ]
  },
  {
   "cell_type": "code",
   "execution_count": 180,
   "id": "736abbb0",
   "metadata": {},
   "outputs": [
    {
     "data": {
      "text/plain": [
       "['apple', 'orange', 'mango', 1, 2, 3, 'ljfsdlf3244', 5, 6, 'insert']"
      ]
     },
     "execution_count": 180,
     "metadata": {},
     "output_type": "execute_result"
    }
   ],
   "source": [
    "lis"
   ]
  },
  {
   "cell_type": "code",
   "execution_count": 182,
   "id": "a22d0b49",
   "metadata": {},
   "outputs": [],
   "source": [
    "v = [ \"wheet\",\"rice\",\"grams\" ]"
   ]
  },
  {
   "cell_type": "code",
   "execution_count": 183,
   "id": "c589dedc",
   "metadata": {},
   "outputs": [
    {
     "data": {
      "text/plain": [
       "list"
      ]
     },
     "execution_count": 183,
     "metadata": {},
     "output_type": "execute_result"
    }
   ],
   "source": [
    "type(v)  [    ]"
   ]
  },
  {
   "cell_type": "code",
   "execution_count": null,
   "id": "367a34db",
   "metadata": {},
   "outputs": [],
   "source": [
    "Advantange:\n",
    "    1.more time efficient and space efficeint than loops\n",
    "    2.fewer line of code\n",
    "    3.iteration or looping"
   ]
  },
  {
   "cell_type": "code",
   "execution_count": null,
   "id": "ccf74e0f",
   "metadata": {},
   "outputs": [],
   "source": [
    "syntax of list comprehension:\n",
    "    \n",
    "    newlist = [  expression(element) for element in oldlist if condition  ]"
   ]
  },
  {
   "cell_type": "code",
   "execution_count": 186,
   "id": "1fd7644b",
   "metadata": {},
   "outputs": [],
   "source": [
    "# Even number \n",
    "\n",
    "even = [i for i in range(1,31) if i %2 == 0]\n"
   ]
  },
  {
   "cell_type": "code",
   "execution_count": 187,
   "id": "4ac3b017",
   "metadata": {},
   "outputs": [
    {
     "data": {
      "text/plain": [
       "[2, 4, 6, 8, 10, 12, 14, 16, 18, 20, 22, 24, 26, 28, 30]"
      ]
     },
     "execution_count": 187,
     "metadata": {},
     "output_type": "execute_result"
    }
   ],
   "source": [
    "even"
   ]
  },
  {
   "cell_type": "code",
   "execution_count": 188,
   "id": "1c4e37b1",
   "metadata": {},
   "outputs": [],
   "source": [
    "lis = [ \"even number\" if i %2 ==0 else \"odd number\" for i in range(8)  ]"
   ]
  },
  {
   "cell_type": "code",
   "execution_count": 189,
   "id": "8e60e453",
   "metadata": {},
   "outputs": [
    {
     "data": {
      "text/plain": [
       "['even number',\n",
       " 'odd number',\n",
       " 'even number',\n",
       " 'odd number',\n",
       " 'even number',\n",
       " 'odd number',\n",
       " 'even number',\n",
       " 'odd number']"
      ]
     },
     "execution_count": 189,
     "metadata": {},
     "output_type": "execute_result"
    }
   ],
   "source": [
    "lis"
   ]
  },
  {
   "cell_type": "code",
   "execution_count": 218,
   "id": "1201c0a3",
   "metadata": {},
   "outputs": [],
   "source": [
    "lis1 = [ j for j in range(100)  if j % 5 ==0  if j % 10 ==0 ]"
   ]
  },
  {
   "cell_type": "code",
   "execution_count": 219,
   "id": "3a3c0572",
   "metadata": {},
   "outputs": [
    {
     "data": {
      "text/plain": [
       "[0, 10, 20, 30, 40, 50, 60, 70, 80, 90]"
      ]
     },
     "execution_count": 219,
     "metadata": {},
     "output_type": "execute_result"
    }
   ],
   "source": [
    "lis1"
   ]
  },
  {
   "cell_type": "code",
   "execution_count": 222,
   "id": "36f72eab",
   "metadata": {},
   "outputs": [],
   "source": [
    "new = [ string[::-1]  for string in  ('malayalam','madam','geeks')  ]"
   ]
  },
  {
   "cell_type": "code",
   "execution_count": 224,
   "id": "372dae8f",
   "metadata": {},
   "outputs": [
    {
     "data": {
      "text/plain": [
       "['malayalam', 'madam', 'skeeg']"
      ]
     },
     "execution_count": 224,
     "metadata": {},
     "output_type": "execute_result"
    }
   ],
   "source": [
    "new"
   ]
  },
  {
   "cell_type": "code",
   "execution_count": 225,
   "id": "0e53a646",
   "metadata": {},
   "outputs": [],
   "source": [
    "def parabola(x):\n",
    "    y = 5*(x**2)+16*x+20\n",
    "    return y"
   ]
  },
  {
   "cell_type": "code",
   "execution_count": 226,
   "id": "c316ac16",
   "metadata": {},
   "outputs": [],
   "source": [
    "newlist = [ parabola(i) for i in range(10)]"
   ]
  },
  {
   "cell_type": "code",
   "execution_count": 227,
   "id": "b53df5d0",
   "metadata": {},
   "outputs": [
    {
     "data": {
      "text/plain": [
       "[20, 41, 72, 113, 164, 225, 296, 377, 468, 569]"
      ]
     },
     "execution_count": 227,
     "metadata": {},
     "output_type": "execute_result"
    }
   ],
   "source": [
    "newlist"
   ]
  },
  {
   "cell_type": "code",
   "execution_count": 228,
   "id": "d155da46",
   "metadata": {},
   "outputs": [
    {
     "name": "stdout",
     "output_type": "stream",
     "text": [
      "Time taken for_loop: 0.53\n",
      "Time taken for list_comprehension: 0.44\n"
     ]
    }
   ],
   "source": [
    "# Import required module\n",
    "import time\n",
    "# define function to implement for loop\n",
    "def for_loop(n):\n",
    "\tresult = []\n",
    "\tfor i in range(n):\n",
    "\t\tresult.append(i**2)\n",
    "\treturn result\n",
    "\n",
    "# define function to implement list comprehension\n",
    "def list_comprehension(n):\n",
    "\treturn [i**2 for i in range(n)]\n",
    "# Driver Code\n",
    "# Calculate time taken by for_loop()\n",
    "begin = time.time()\n",
    "for_loop(10**6)\n",
    "end = time.time()\n",
    "\n",
    "# Display time taken by for_loop()\n",
    "print('Time taken for_loop:', round(end-begin, 2))\n",
    "\n",
    "# Calculate time takens by list_comprehension()\n",
    "begin = time.time()\n",
    "list_comprehension(10**6)\n",
    "end = time.time()\n",
    "\n",
    "# Display time taken by for_loop()\n",
    "print('Time taken for list_comprehension:', round(end-begin, 2))\n"
   ]
  },
  {
   "cell_type": "code",
   "execution_count": null,
   "id": "3443873b",
   "metadata": {},
   "outputs": [],
   "source": [
    "def for_loop(n):\n",
    "\tresult = []\n",
    "\tfor i in range(n):\n",
    "\t\tresult.append(i**2)\n",
    "\treturn result\n",
    "\n",
    "def list_comprehension(n):\n",
    "\treturn [i**2 for i in range(n)]\n"
   ]
  },
  {
   "cell_type": "markdown",
   "id": "c237afee",
   "metadata": {},
   "source": [
    "# file handling"
   ]
  },
  {
   "cell_type": "code",
   "execution_count": null,
   "id": "c07ddb73",
   "metadata": {},
   "outputs": [],
   "source": [
    "file handling - how we can read , write , append"
   ]
  },
  {
   "cell_type": "code",
   "execution_count": null,
   "id": "b89930fe",
   "metadata": {},
   "outputs": [],
   "source": [
    "syntax:\n",
    "file = open(filename , mode)"
   ]
  },
  {
   "cell_type": "code",
   "execution_count": null,
   "id": "4ae72895",
   "metadata": {},
   "outputs": [],
   "source": [
    "r- open a existing file ( read)\n",
    "w - open existing file for write purpose (write)\n",
    "a  - open file for appending purpose ( append)"
   ]
  },
  {
   "cell_type": "code",
   "execution_count": 240,
   "id": "14d0cd9f",
   "metadata": {},
   "outputs": [],
   "source": [
    "file = open('sample.txt','r')"
   ]
  },
  {
   "cell_type": "code",
   "execution_count": 242,
   "id": "750f1667",
   "metadata": {},
   "outputs": [
    {
     "data": {
      "text/plain": [
       "<_io.TextIOWrapper name='sample.txt' mode='r' encoding='cp1252'>"
      ]
     },
     "execution_count": 242,
     "metadata": {},
     "output_type": "execute_result"
    }
   ],
   "source": [
    "file"
   ]
  },
  {
   "cell_type": "code",
   "execution_count": 241,
   "id": "8ef7b6c9",
   "metadata": {},
   "outputs": [
    {
     "name": "stdout",
     "output_type": "stream",
     "text": [
      "Name\tage\tmobile no\tcity\tmarks\tsalary\n",
      "A\t50\t9900763290\tBangalore\t285\t10818\n",
      "B\t23\t9709303020\tMumbai\t434\t12344\n",
      "C\t22\t9796840335\tpune\t416\t11506\n",
      "D\t47\t9433821160\tchennai\t189\t15249\n",
      "E\t33\t9840448035\tBangalore\t117\t13072\n",
      "F\t59\t9626621256\tchennai\t326\t18206\n",
      "G\t21\t9775317986\thydrabad\t467\t13755\n",
      "H\t28\t9798357363\tcalcatta\t401\t15539\n",
      "I\t37\t9338865840\tpune\t487\t11339\n",
      "J\t50\t9427086263\tMumbai\t265\t19676\n",
      "\n"
     ]
    }
   ],
   "source": [
    "print(file.read())"
   ]
  },
  {
   "cell_type": "code",
   "execution_count": 238,
   "id": "ee8ff2a5",
   "metadata": {},
   "outputs": [],
   "source": [
    "import os\n",
    "os.chdir('C:\\\\Users\\\\Admin\\\\Desktop\\\\project\\\\BA\\\\week 1')"
   ]
  },
  {
   "cell_type": "code",
   "execution_count": 239,
   "id": "855a5e3b",
   "metadata": {},
   "outputs": [
    {
     "data": {
      "text/plain": [
       "'C:\\\\Users\\\\Admin\\\\Desktop\\\\project\\\\BA\\\\week 1'"
      ]
     },
     "execution_count": 239,
     "metadata": {},
     "output_type": "execute_result"
    }
   ],
   "source": [
    "os.getcwd()"
   ]
  },
  {
   "cell_type": "code",
   "execution_count": null,
   "id": "b75879fa",
   "metadata": {},
   "outputs": [],
   "source": [
    "path define\n",
    "\n",
    "1.r'C:\\Users\\Admin\\Desktop\\project\\BA\\week 1'\n",
    "2.C:\\\\Users\\\\Admin\\\\Desktop\\\\project\\\\BA\\\\week 1\n",
    "3.C:/Users/Admin/Desktop/project/BA/week 1"
   ]
  },
  {
   "cell_type": "code",
   "execution_count": 237,
   "id": "ea956d83",
   "metadata": {},
   "outputs": [
    {
     "name": "stdout",
     "output_type": "stream",
     "text": [
      "Name\tage\tmobile no\tcity\tmarks\tsalary\n",
      "A\t50\t9900763290\tBangalore\t285\t10818\n",
      "B\t23\t9709303020\tMumbai\t434\t12344\n",
      "C\t22\t9796840335\tpune\t416\t11506\n",
      "D\t47\t9433821160\tchennai\t189\t15249\n",
      "E\t33\t9840448035\tBangalore\t117\t13072\n",
      "F\t59\t9626621256\tchennai\t326\t18206\n",
      "G\t21\t9775317986\thydrabad\t467\t13755\n",
      "H\t28\t9798357363\tcalcatta\t401\t15539\n",
      "I\t37\t9338865840\tpune\t487\t11339\n",
      "J\t50\t9427086263\tMumbai\t265\t19676\n",
      "\n"
     ]
    }
   ],
   "source": [
    "print(file.read())"
   ]
  },
  {
   "cell_type": "code",
   "execution_count": null,
   "id": "ffdd5ba9",
   "metadata": {},
   "outputs": [],
   "source": [
    "class and objects"
   ]
  },
  {
   "cell_type": "code",
   "execution_count": null,
   "id": "d816f2ff",
   "metadata": {},
   "outputs": [],
   "source": [
    "syntax:\n",
    "    class classname:\n",
    "        sttatment"
   ]
  },
  {
   "cell_type": "code",
   "execution_count": null,
   "id": "f2906839",
   "metadata": {},
   "outputs": [],
   "source": [
    "steps \n",
    "\n",
    "1.line eqn\n",
    "2.parabola eqn\n",
    "3.string combine"
   ]
  },
  {
   "cell_type": "code",
   "execution_count": null,
   "id": "c1bddc19",
   "metadata": {},
   "outputs": [],
   "source": [
    "class - we can create multiple objects"
   ]
  },
  {
   "cell_type": "code",
   "execution_count": 3,
   "id": "da59b395",
   "metadata": {},
   "outputs": [],
   "source": [
    "# Example\n",
    "\n",
    "class msdhoni:\n",
    "    \n",
    "    def line(a,b,x):\n",
    "        y = a + b*x \n",
    "        return y\n",
    "    def parabola(a,x,b,c):\n",
    "        z = a*(x**2)+b*x+c\n",
    "        return z\n",
    "    def combine(fname,lname):\n",
    "        cc = fname + lname\n",
    "        return cc\n",
    "    \n"
   ]
  },
  {
   "cell_type": "code",
   "execution_count": 8,
   "id": "059fff89",
   "metadata": {},
   "outputs": [
    {
     "data": {
      "text/plain": [
       "7"
      ]
     },
     "execution_count": 8,
     "metadata": {},
     "output_type": "execute_result"
    }
   ],
   "source": [
    "msdhoni.line(1,2,3)"
   ]
  },
  {
   "cell_type": "code",
   "execution_count": 4,
   "id": "c50b740e",
   "metadata": {},
   "outputs": [],
   "source": [
    "rajini = msdhoni"
   ]
  },
  {
   "cell_type": "code",
   "execution_count": 5,
   "id": "5783d723",
   "metadata": {},
   "outputs": [
    {
     "data": {
      "text/plain": [
       "7"
      ]
     },
     "execution_count": 5,
     "metadata": {},
     "output_type": "execute_result"
    }
   ],
   "source": [
    "rajini.line(1,2,3)"
   ]
  },
  {
   "cell_type": "code",
   "execution_count": 6,
   "id": "aff3f846",
   "metadata": {},
   "outputs": [
    {
     "data": {
      "text/plain": [
       "14"
      ]
     },
     "execution_count": 6,
     "metadata": {},
     "output_type": "execute_result"
    }
   ],
   "source": [
    "rajini.parabola(1,2,3,4)"
   ]
  },
  {
   "cell_type": "code",
   "execution_count": 7,
   "id": "e82c7996",
   "metadata": {},
   "outputs": [
    {
     "data": {
      "text/plain": [
       "'thillaimurali'"
      ]
     },
     "execution_count": 7,
     "metadata": {},
     "output_type": "execute_result"
    }
   ],
   "source": [
    "rajini.combine(\"thillai\",\"murali\")"
   ]
  },
  {
   "cell_type": "code",
   "execution_count": null,
   "id": "8a5e32fe",
   "metadata": {},
   "outputs": [],
   "source": []
  },
  {
   "cell_type": "code",
   "execution_count": null,
   "id": "00003bc6",
   "metadata": {},
   "outputs": [],
   "source": [
    "steps \n",
    "\n",
    "1.line eqn   - y = a+bx\n",
    "2.parabola eqn  -> y = ax2+bx+c\n",
    "3.string combine -> fname + lname"
   ]
  },
  {
   "cell_type": "code",
   "execution_count": 12,
   "id": "cd06a4c6",
   "metadata": {},
   "outputs": [],
   "source": [
    "class google:\n",
    "    \n",
    "    def __init__(self,name,age):\n",
    "        self.name = name\n",
    "        self.age = age\n",
    "        \n",
    "    def hello(self):\n",
    "        print(\"myname is \",self.name,self.age)\n",
    "        \n",
    "        ..."
   ]
  },
  {
   "cell_type": "code",
   "execution_count": 13,
   "id": "e2a4a4c9",
   "metadata": {},
   "outputs": [],
   "source": [
    "p = google(\"sachin\",24)"
   ]
  },
  {
   "cell_type": "code",
   "execution_count": 14,
   "id": "86533453",
   "metadata": {},
   "outputs": [
    {
     "name": "stdout",
     "output_type": "stream",
     "text": [
      "myname is  sachin 24\n"
     ]
    }
   ],
   "source": [
    "p.hello()"
   ]
  },
  {
   "cell_type": "code",
   "execution_count": null,
   "id": "e17bb27a",
   "metadata": {},
   "outputs": [],
   "source": [
    "Task 1 :\n",
    "    prime numers 1 to 100 , using for loop or list comprehnsion\n",
    "    create class with your family detail , education , work exp.."
   ]
  },
  {
   "cell_type": "code",
   "execution_count": 15,
   "id": "b156474e",
   "metadata": {},
   "outputs": [],
   "source": [
    "import pickle  (pickling)"
   ]
  },
  {
   "cell_type": "code",
   "execution_count": null,
   "id": "7aece12e",
   "metadata": {},
   "outputs": [],
   "source": [
    "csv , .xlsx - excel document"
   ]
  },
  {
   "cell_type": "code",
   "execution_count": null,
   "id": "b80f86bf",
   "metadata": {},
   "outputs": [],
   "source": [
    ".pkl ( storing a large volume of file in our local )"
   ]
  },
  {
   "cell_type": "code",
   "execution_count": null,
   "id": "3be3040a",
   "metadata": {},
   "outputs": [],
   "source": []
  },
  {
   "cell_type": "markdown",
   "id": "452b7078",
   "metadata": {},
   "source": [
    "# python lambda fucntion "
   ]
  },
  {
   "cell_type": "code",
   "execution_count": null,
   "id": "4cf46209",
   "metadata": {},
   "outputs": [],
   "source": [
    "lambda - anonymoous funciton , opeartion - 1"
   ]
  },
  {
   "cell_type": "code",
   "execution_count": 16,
   "id": "5448cf3a",
   "metadata": {},
   "outputs": [],
   "source": [
    "string = \"python\""
   ]
  },
  {
   "cell_type": "code",
   "execution_count": 18,
   "id": "8c0760da",
   "metadata": {},
   "outputs": [],
   "source": []
  },
  {
   "cell_type": "code",
   "execution_count": 19,
   "id": "b67e537e",
   "metadata": {},
   "outputs": [
    {
     "data": {
      "text/plain": [
       "'PYTHON'"
      ]
     },
     "execution_count": 19,
     "metadata": {},
     "output_type": "execute_result"
    }
   ],
   "source": [
    "upp(string)"
   ]
  },
  {
   "cell_type": "code",
   "execution_count": 20,
   "id": "2e3131de",
   "metadata": {},
   "outputs": [],
   "source": [
    "name = \"thillai\"\n",
    "name22 = \"murali\""
   ]
  },
  {
   "cell_type": "code",
   "execution_count": null,
   "id": "90457e69",
   "metadata": {},
   "outputs": [],
   "source": [
    "upp = lambda x : x.upper()"
   ]
  },
  {
   "cell_type": "code",
   "execution_count": 21,
   "id": "a9ba9ff9",
   "metadata": {},
   "outputs": [
    {
     "data": {
      "text/plain": [
       "'THILLAI'"
      ]
     },
     "execution_count": 21,
     "metadata": {},
     "output_type": "execute_result"
    }
   ],
   "source": [
    "upp(name)"
   ]
  },
  {
   "cell_type": "code",
   "execution_count": 23,
   "id": "21809b1b",
   "metadata": {},
   "outputs": [
    {
     "data": {
      "text/plain": [
       "'MURALI'"
      ]
     },
     "execution_count": 23,
     "metadata": {},
     "output_type": "execute_result"
    }
   ],
   "source": [
    "upp(name22)"
   ]
  },
  {
   "cell_type": "code",
   "execution_count": 24,
   "id": "d0a86f69",
   "metadata": {},
   "outputs": [],
   "source": [
    "max1 = lambda a,b : a if a>b else b"
   ]
  },
  {
   "cell_type": "code",
   "execution_count": 25,
   "id": "fb18e6fe",
   "metadata": {},
   "outputs": [
    {
     "data": {
      "text/plain": [
       "2"
      ]
     },
     "execution_count": 25,
     "metadata": {},
     "output_type": "execute_result"
    }
   ],
   "source": [
    "max1(1,2)"
   ]
  },
  {
   "cell_type": "code",
   "execution_count": 26,
   "id": "25623be3",
   "metadata": {},
   "outputs": [
    {
     "data": {
      "text/plain": [
       "9"
      ]
     },
     "execution_count": 26,
     "metadata": {},
     "output_type": "execute_result"
    }
   ],
   "source": [
    "max1(9,4)"
   ]
  },
  {
   "cell_type": "code",
   "execution_count": null,
   "id": "bf51c808",
   "metadata": {},
   "outputs": [],
   "source": [
    "syntax:\n",
    "    lamba expressio : operation"
   ]
  },
  {
   "cell_type": "code",
   "execution_count": 27,
   "id": "05d2cd1a",
   "metadata": {},
   "outputs": [],
   "source": [
    "li = [5,6,7,88,99]"
   ]
  },
  {
   "cell_type": "code",
   "execution_count": 30,
   "id": "9eb2ea53",
   "metadata": {},
   "outputs": [],
   "source": [
    "xx = list(filter(lambda x:x % 2 ==0,li))"
   ]
  },
  {
   "cell_type": "code",
   "execution_count": 31,
   "id": "f6825e6b",
   "metadata": {},
   "outputs": [
    {
     "data": {
      "text/plain": [
       "[6, 88]"
      ]
     },
     "execution_count": 31,
     "metadata": {},
     "output_type": "execute_result"
    }
   ],
   "source": [
    "xx"
   ]
  },
  {
   "cell_type": "code",
   "execution_count": 32,
   "id": "69527bdb",
   "metadata": {},
   "outputs": [
    {
     "data": {
      "text/plain": [
       "[10, 12, 14, 176, 198]"
      ]
     },
     "execution_count": 32,
     "metadata": {},
     "output_type": "execute_result"
    }
   ],
   "source": [
    "list(map(lambda x:x*2,li))"
   ]
  },
  {
   "cell_type": "code",
   "execution_count": null,
   "id": "abd9b33c",
   "metadata": {},
   "outputs": [],
   "source": []
  }
 ],
 "metadata": {
  "kernelspec": {
   "display_name": "Python 3 (ipykernel)",
   "language": "python",
   "name": "python3"
  },
  "language_info": {
   "codemirror_mode": {
    "name": "ipython",
    "version": 3
   },
   "file_extension": ".py",
   "mimetype": "text/x-python",
   "name": "python",
   "nbconvert_exporter": "python",
   "pygments_lexer": "ipython3",
   "version": "3.9.12"
  }
 },
 "nbformat": 4,
 "nbformat_minor": 5
}
